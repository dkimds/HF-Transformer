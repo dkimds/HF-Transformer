{
	"nbformat": 4,
	"nbformat_minor": 0,
	"metadata": {
		"colab": {
			"provenance": [],
			"gpuType": "T4",
			"include_colab_link": true
		},
		"kernelspec": {
			"name": "python3",
			"display_name": "Python 3"
		},
		"language_info": {
			"name": "python"
		},
		"accelerator": "GPU"
	},
	"cells": [
		{
			"cell_type": "markdown",
			"metadata": {
				"id": "view-in-github",
				"colab_type": "text"
			},
			"source": [
				"<a href=\"https://colab.research.google.com/github/dkimds/HF-Transformer/blob/main/PEFT_prompt_tuning_causal_language_modeling.ipynb\" target=\"_parent\"><img src=\"https://colab.research.google.com/assets/colab-badge.svg\" alt=\"Open In Colab\"/></a>"
			]
		},
		{
			"cell_type": "markdown",
			"source": [
				"# Prompt Tuning casual language modeling 예제 - twitter_complaints 데이터셋\n",
				"## 작성자 : AISchool ([http://aischool.ai/](http://aischool.ai/%ec%98%a8%eb%9d%bc%ec%9d%b8-%ea%b0%95%ec%9d%98-%ec%b9%b4%ed%85%8c%ea%b3%a0%eb%a6%ac/) )\n",
				"## Reference : https://huggingface.co/docs/peft/task_guides/clm-prompt-tuning"
			],
			"metadata": {
				"id": "jqNNW6Li5v2X"
			}
		},
		{
			"cell_type": "markdown",
			"source": [
				"# 필요한 라이브러리 설치"
			],
			"metadata": {
				"id": "_I313S_P5-5p"
			}
		},
		{
			"cell_type": "code",
			"execution_count": null,
			"metadata": {
				"id": "NAegOznYL3TS",
				"colab": {
					"base_uri": "https://localhost:8080/"
				},
				"outputId": "2e7a64f5-6a65-43a4-96d4-608386b98dbc"
			},
			"outputs": [
				{
					"output_type": "stream",
					"name": "stdout",
					"text": [
						"\u001b[2K     \u001b[90m━━━━━━━━━━━━━━━━━━━━━━━━━━━━━━━━━━━━━━━━\u001b[0m \u001b[32m85.6/85.6 kB\u001b[0m \u001b[31m2.6 MB/s\u001b[0m eta \u001b[36m0:00:00\u001b[0m\n",
						"\u001b[2K     \u001b[90m━━━━━━━━━━━━━━━━━━━━━━━━━━━━━━━━━━━━━━━━\u001b[0m \u001b[32m7.7/7.7 MB\u001b[0m \u001b[31m71.1 MB/s\u001b[0m eta \u001b[36m0:00:00\u001b[0m\n",
						"\u001b[2K     \u001b[90m━━━━━━━━━━━━━━━━━━━━━━━━━━━━━━━━━━━━━━\u001b[0m \u001b[32m519.6/519.6 kB\u001b[0m \u001b[31m53.1 MB/s\u001b[0m eta \u001b[36m0:00:00\u001b[0m\n",
						"\u001b[2K     \u001b[90m━━━━━━━━━━━━━━━━━━━━━━━━━━━━━━━━━━━━━━\u001b[0m \u001b[32m258.1/258.1 kB\u001b[0m \u001b[31m28.3 MB/s\u001b[0m eta \u001b[36m0:00:00\u001b[0m\n",
						"\u001b[2K     \u001b[90m━━━━━━━━━━━━━━━━━━━━━━━━━━━━━━━━━━━━━━━━\u001b[0m \u001b[32m1.3/1.3 MB\u001b[0m \u001b[31m76.7 MB/s\u001b[0m eta \u001b[36m0:00:00\u001b[0m\n",
						"\u001b[2K     \u001b[90m━━━━━━━━━━━━━━━━━━━━━━━━━━━━━━━━━━━━━━\u001b[0m \u001b[32m302.0/302.0 kB\u001b[0m \u001b[31m35.4 MB/s\u001b[0m eta \u001b[36m0:00:00\u001b[0m\n",
						"\u001b[2K     \u001b[90m━━━━━━━━━━━━━━━━━━━━━━━━━━━━━━━━━━━━━━━━\u001b[0m \u001b[32m3.8/3.8 MB\u001b[0m \u001b[31m79.9 MB/s\u001b[0m eta \u001b[36m0:00:00\u001b[0m\n",
						"\u001b[2K     \u001b[90m━━━━━━━━━━━━━━━━━━━━━━━━━━━━━━━━━━━━━━\u001b[0m \u001b[32m115.3/115.3 kB\u001b[0m \u001b[31m14.1 MB/s\u001b[0m eta \u001b[36m0:00:00\u001b[0m\n",
						"\u001b[2K     \u001b[90m━━━━━━━━━━━━━━━━━━━━━━━━━━━━━━━━━━━━━━\u001b[0m \u001b[32m194.1/194.1 kB\u001b[0m \u001b[31m23.4 MB/s\u001b[0m eta \u001b[36m0:00:00\u001b[0m\n",
						"\u001b[2K     \u001b[90m━━━━━━━━━━━━━━━━━━━━━━━━━━━━━━━━━━━━━━\u001b[0m \u001b[32m134.8/134.8 kB\u001b[0m \u001b[31m18.5 MB/s\u001b[0m eta \u001b[36m0:00:00\u001b[0m\n",
						"\u001b[2K     \u001b[90m━━━━━━━━━━━━━━━━━━━━━━━━━━━━━━━━━━━━━━\u001b[0m \u001b[32m295.0/295.0 kB\u001b[0m \u001b[31m35.8 MB/s\u001b[0m eta \u001b[36m0:00:00\u001b[0m\n",
						"\u001b[?25h"
					]
				}
			],
			"source": [
				"!pip install -q peft transformers datasets"
			]
		},
		{
			"cell_type": "markdown",
			"source": [
				"# 설정값 지정"
			],
			"metadata": {
				"id": "JabVJIAo6POh"
			}
		},
		{
			"cell_type": "code",
			"source": [
				"from transformers import AutoModelForCausalLM, AutoTokenizer, default_data_collator, get_linear_schedule_with_warmup\n",
				"from peft import get_peft_config, get_peft_model, PromptTuningInit, PromptTuningConfig, TaskType, PeftType\n",
				"import torch\n",
				"from datasets import load_dataset\n",
				"import os\n",
				"from torch.utils.data import DataLoader\n",
				"from tqdm import tqdm\n",
				"\n",
				"device = \"cuda\"\n",
				"model_name_or_path = \"bigscience/bloomz-560m\"\n",
				"tokenizer_name_or_path = \"bigscience/bloomz-560m\"\n",
				"\n",
				"dataset_name = \"twitter_complaints\"\n",
				"text_column = \"Tweet text\"\n",
				"label_column = \"text_label\"\n",
				"max_length = 64\n",
				"lr = 3e-2\n",
				"num_epochs = 50\n",
				"batch_size = 8"
			],
			"metadata": {
				"id": "-PqwBA8YMFCL"
			},
			"execution_count": null,
			"outputs": []
		},
		{
			"cell_type": "markdown",
			"source": [
				"# twitter_complaints 데이터셋 불러오기\n",
				"## (RAFT 데이터셋의 부분집합 데이터셋으로 **트위터 문장이 불평(항의)(complaint)인지 아닌지를 분류**하는 데이터셋입니다.)"
			],
			"metadata": {
				"id": "D--hhdm_6Z-g"
			}
		},
		{
			"cell_type": "code",
			"source": [
				"dataset = load_dataset(\"ought/raft\", dataset_name)\n",
				"dataset[\"train\"][0]"
			],
			"metadata": {
				"colab": {
					"base_uri": "https://localhost:8080/",
					"height": 962,
					"referenced_widgets": [
						"ce19e73a35594eb5a79b82a0122b8a85",
						"c723044e35f344869fdc74154b110f83",
						"1b08e39d717c413a80c4f1afa653392c",
						"6a7a5db5d73942688a42ecb350201b06",
						"04ac3b98d29748458034397083d67acf",
						"2bdf4af724554aa18619ee3e30152bd2",
						"72efe6707db2468d8fbdd46e207392c4",
						"52048bf208ce47b99ceef3b20ae813bd",
						"07e1724d47224ea39e6ad7a3b68d2720",
						"a168f3a3ed5242ec95aeb8ce2c278ce4",
						"5047ebaeec5c4365ad1076b5dae8bae2",
						"832f9532c3e049fcba3d837e114718bf",
						"d5872f6b649c4dd5b761ff80baf8931e",
						"32bebb575a2a422399240bb061b97f84",
						"680f5f260ecd490a8d7a6018c825caf7",
						"38ff4604337c40b5a330534398f045e9",
						"d815f0ff62c34d9c8750cfb8cdd926f6",
						"7f715227523040c0817264bbcfc9b2aa",
						"a1d164874c3147e8ab398bca5cc3b2e1",
						"be979c7a501241ccaa8a5929112f0f41",
						"dc9b5b1665064703bde7dab9578d305a",
						"ed1fb9a91e1d427596ed910b5f143f26",
						"94683e63107447dcab776948f061d85d",
						"8c4ae1c772dc428f97b35affc6161366",
						"9641c938a44f4f70983652f352797548",
						"c9d20de4883d4882bd7bd38d5ee52f1d",
						"f9323e3dd34e413f9679c100739794fe",
						"15f93e2fae2343b7abed00331a429156",
						"bff3f05677824922819cd207dffcd005",
						"7ec4d2556b9c472ba36a0f2dd2a8a7fd",
						"2e1a6e49236e4c64aea8a54b536c1d13",
						"95ab0d3c59ee4b77bab4f9c0db58df73",
						"d24f704b4e3247c594e28bddc87490a6",
						"dc99d7f6e76d4c8e97f8ef99925d428a",
						"7a99501ee3924d41b722fb3d2493f0f7",
						"d7c2dd1f74e047d5a1cdd407ce1b9ee7",
						"8f44506c6e574793ad8836d9af2605da",
						"a09531426e934871925b33093b25dc74",
						"62432245bd994af1b9e444c2ca939b7b",
						"8dfe24e658b74fa8bb682179a8b3cd31",
						"4e27b4f2a7a0459b858bf4b34f4be306",
						"8cc14c1a52a449c4812d4b0d36288b61",
						"da9aaaf9f65b4594b8f929b4f490584c",
						"eeada07ff1554fcdb505d1f6b233fdaa",
						"eaab7fa8e5f44a48853f86650de6afd2",
						"9d95931043f14300bd376c6ae3be23b6",
						"47b96adcea8648e488c10ebc24b6445c",
						"7a6591a0d7e0489e9d397d2a24597cbd",
						"b00ecf09852646949582f730174bc3a2",
						"d63465a2c372481186840056653669af",
						"54912d5532f94611a331da5acc14e43e",
						"3e43ff8061984f19bd63de580a13b371",
						"a0463d5bc17544cf8cd5a9e88df32fd4",
						"b166343f0ac140099b30e2b4021b78d1",
						"534f0453ccee4a68a5019e1ebc3d96a7",
						"5fbafc5567104405a8bb6bd2abe9f54a",
						"7b0124bb6fc0452ca8be527f7e98a799",
						"693a1efb69694504a0ee2e8132e99c76",
						"7451181d1b914d4cb29af364708f214d",
						"05466e91d151456187cc243063f1b0a1",
						"ee4568051c4940fa8f98af105e886c70",
						"d6e5160c997e4f61b0be0203d1103b61",
						"12e67219f7eb45f082c92e8f539fd797",
						"4489620aa64c40b69cecd3bff8437bd9",
						"f81dfa0c663c4a54bc6789ae38f40121",
						"63bf0ecc57cb42d3a8bc272d0535a904",
						"20f1c897eb9340ff9125284bddc4a70e",
						"1941aa2ac6244aa0b30ccc8e20299903",
						"151483100862426aaf35fa1b0ebbf3a8",
						"89c55c426fb549a9ba7cd9931c65eca2",
						"bab260f7d898474baeda570e9739a2c2",
						"b83506c673ff4a10bbb3c01285107b4f",
						"b333d5b5fd89493687e8c77accd084dc",
						"915aa055d54f4067937c961940716386",
						"09b6e8d58cd4444c9a3448bf1bb310f4",
						"e931c934e8dd489999e1b9d65348ead5",
						"f4e2e1b6f1584c18be22b103d74e8238",
						"7cecfb5c996843619ddffedd81d3fb63",
						"2af8817bbf694f13b89044009f6b3253",
						"b4404148504b4323a9b2bc8d1ce6c0c3",
						"bda8fa4d5702470cadfbad3062da2ffa",
						"0249e3da2d514e0aaa574f715bf965c5",
						"b553ff8e9c0e41d0aa0807ecf65e4337",
						"a8c9552d04d94a21bffd2acf623bf98c",
						"fc3980a7bfbb4c7faede1a65a9e6590b",
						"03f596fe0c7e4acd924fde149feaef9c",
						"0bf67e3a35b34ad7bd72b44586a4c997",
						"4463d882bfb942918afec9731e4dbfbd",
						"0fd5a8fe4f0d40849d4f88c7ad174490",
						"c65f9d58968a48fb9354004d709c71d9",
						"df2b14960bd0495e900b135be70304ab",
						"1cd2c5d2cdc14710b994037ea524fb6f",
						"594936046cc943c8b8ecdb8eae6877ee",
						"d78e860c5b9d4cd99faf5a51b55f4d72",
						"e6889a6c128f41eba3c6693900930e0e",
						"1b342f4e0bf240dca3daf8662b22b62f",
						"9bd2309718a344888e6104f8fee36a57",
						"7f9d797164ee4f259a6569d6b93fabd2",
						"07e9df9ad5e94d55bbfd33bd05d5f0e3",
						"b5a6808527164b3096c14011af04f59b",
						"c32db28570d94ceba1c665980e4a6af3",
						"6e8db81738334099970857fbc13863fe",
						"a8a1e98a8fd848e3a404c32d66cc455d",
						"697bd78d19d141ca8887f94efe1d5e86",
						"eef4a553d0d3499c84adab1386bd5f93",
						"0d825e34f6cd4e7c88ee799e511c16c3",
						"789fb41d875c47a48e1da7b6ef5f8c5e",
						"106a4f51d52f4eae875b588484a70082",
						"3bf323c2906149fca4b1de9535e78867",
						"0cc77006a5ab4b9c963acacd097734bd",
						"d44e975cf89b4012852363138ec65204",
						"da74715243f4466a87827d40ab61d4a2",
						"2e185ed0f766425ba15eb02d73c476de",
						"9985aa85d7e549328075a34c3676cae9",
						"ce9fbd2e4458405c9cebba1c20e85ad2",
						"08d4af7adcea454dbabbc1dec1fc2e46",
						"324a8c3771af45e6a9b4de76d350a9b1",
						"67f01b1090094957bf6a0d421a970d70",
						"99003802c74c4606a956ac692d36d564",
						"4ecf153836a1456bb25c8e6d8dbb316f",
						"276f4ccc98014dbdbc935251be132dc4",
						"9346108ca695460e8b4885665bd4cbc7",
						"15b28d2d2c0b449d99bbd5e9ae7d2a0c",
						"8654660d708e49a3975f821cb01e0530",
						"e35e518f37f744f1bd3d812187f4071d",
						"84517787ae2f4ffe8e752a8d3e4801e2",
						"02033f92444945acb1b13a32d71a92d4",
						"5e005b511ad24f83a5a520c5bbff11b6",
						"38f629d61a5e40d89d993afaa4073b3f",
						"389cf56351a844dba841f039c1c77ad3",
						"79834bfb472d4118a31c22ddedb1cd30",
						"ca7f052c22864f18b214e7e594bddf0b",
						"351492fbdf9b4a72ab8e208d2938f710",
						"888279d91e1e4941a3dfb271dca4ec68",
						"ee75ce332c6d4513a20a70d093a19075",
						"08d6ba79b8d34b0382e28a5dbfd4b0eb",
						"b288621f13e1495eb7f2b1db53e82b54",
						"6cfa32d1c61749d0af25bc286ac5764e",
						"644dd7c92e2b4e5dbe6800a4e79535c2",
						"4153ce20ee35480c881422b24f49468a",
						"389478a6eb6d45a580419518dd62e495",
						"432c6785e4274957948a8678f228992d",
						"e1e6049d45b7497890480ac1d58723c2",
						"ad7339bdab334008bc58c4b24c99c2e9",
						"f08abf0b517b41bb81c24a9ab3b083a4",
						"657c72c38ff3485fa2f1a92e014facd9",
						"a240e2a4018c4175b1de654865dcc950",
						"95604d879a434fafaf22571a04d99890",
						"76e13d6455194009bcf9c7078d3ed199",
						"9dc8f58644c4421d84a250cb7e475310",
						"e8fb0cfb5e4d433ba1b8f3193b862b26",
						"3383cc9b9b204a51a3ac6608617d363c",
						"e53d85440dd841338e9b953a16e2dfd6",
						"11d14e0fdbb64784aaa235ac87837c27",
						"1ca8a1143b0b40ba91f6ba363dce0329",
						"d3a9d7d8aa0f4bdf94bcd51634db1939",
						"33e0c7e40f7443948a3af9c365d2c098",
						"16d8a6da7e2b4c25a1e95fe757c005b0",
						"bf7a823b0e524e38a9778004bc379851",
						"fad24cc02ff343dd8b6945851245668e",
						"aaa4959dc009466fa299805a7b39c28c",
						"80013ab9cb9a4daa98d78889d2ee24e9",
						"75231ff1d79649668c1becd8df6329b4",
						"fd01d125995e45bf8c2628db0731f80f",
						"04bce73deb1341af99ef5fbf8fd6ad06",
						"eff9c9bca8dd43029209215656e4d480",
						"ec3b7908346046ddaf942c3e42c3a515",
						"4377f38fb75b4e8f9a0a34f5e050e2eb",
						"3a76ede6bcf74be0bd315b248644821f",
						"99bf2bb3a5fb419598447230b207fa2f",
						"85116d53803647b580210bc50f42d87a",
						"6b368aedc3ec4e29b650ac6e96c5a81d",
						"2fd607565334462fb27bd61325c545a2",
						"c7bfd2dd7f594b7a9804cb51ea0b05f1",
						"bb1e00d1836e48109a5897f02ca1ec20",
						"17a45e23dff541c086a1bccdbbca2dcb",
						"02708c478fd944189707e46316b0e215",
						"90c29bc650424849ae32da19d9379d45",
						"852b5a67993a41d792f328b466160096",
						"af380ba762274632b7913bd2745ff01f",
						"aa485af8c30947c49f23603dd0391d4c",
						"b1d3490e8ab84541941610b3e537b78e",
						"f247ad7e5a3d4d45b138e7781e2375e9",
						"a464627717db42be94cf3ff971a3538f",
						"d9597f8ed5c546b49fd13bf45c3e84b4",
						"cae35477fdfe439c804057c885ec9222",
						"b1503ab04a204f529208c4b4b74fe8bf",
						"77fb120eba574c8e94c3c291dd3d8950",
						"ef5e9b510c864159961ad7da3d06b129",
						"13eaead93b514d1bb9657e9cb3d77c5d",
						"05bd9fe4d74243f199a29f763c82546a",
						"d7c10b2a89fd41958e1a56247136c643",
						"605e4c7223374da3aff602d7eb232eec",
						"fad6f94fa1ec4bbd8a7ca2d2225d2b7c",
						"31f3d0822cb241c9b2ace7212dd94dd6",
						"611ef3a2595f46bbba638d9d93a10085",
						"d27fcc7abe1e4e41a25ec9077e156705",
						"b12494fcd3c547c986e48337b4de14d6",
						"00798e72c2aa41b2beeba4bcd0a8f137",
						"5ee8401e27a5437b8ffc8477306f6a5c",
						"e147be9d53924201aff7ba5cb3df74ff",
						"a0a44fec69b84d3fa67af2bfaee21550",
						"92c51197d2364c37a2e591e0571a77c6",
						"b497478f488e43cf98d21fa5377c132a",
						"5453b1de3ebf4403b85fd94519fcb6b6",
						"8c808c9da4b946e4be16ec75f80d6778",
						"e03ce94b22df4435995ef073dfd9fb2c",
						"4b5503938f5a4b48be79bdce54f8cab5",
						"2522afd6776248f1b897d65482e4521c",
						"8b8615e7ee5247e9b2d8b3076391bae5",
						"276e522593864c6db19e46812669c3e4",
						"2fd3dfca639547438fccc2712f8b7a69",
						"2ded767ebc3b4358b7ba359a8d6f330e",
						"7e5f24d75da341a983c59f7eff891210",
						"2c2e26ae8889469bad2c191a8305c184",
						"1678ff1d50f446bcb5fdf4e7040e96d2",
						"8fcfdf5714d44e648243e44d0c01b21c",
						"69fa59992ff349ffb155767bc8119168",
						"f49c4a5b4c6043eab8e4009b6c1bae05",
						"78d3bfd40c614462ae56105f2686fb4c",
						"53f60cd4fcef452c8cbc27461b6bf3ed",
						"bc98c9254fbc45298b4e0653dee889c0",
						"05fef5607b8a45168a70d0f1d9141c46",
						"f2be231456854b09a31c4839d415c09c",
						"8addc4e069b94e3f9e1854e856c1853b",
						"42c1656a6489418b99de7de237a953c0",
						"1e51d05ad9bc4d23a833ae62facef094",
						"5ab7a8e204434e4cb9153db24a709201",
						"eef5af70b08542e08bbcc427bb92ae7d",
						"ae1d2bc3e8134628b8eab9efd7227c73",
						"6356ae71e6104b18b787b509c54246e7",
						"ccddd04363f542adadf80b60758e3af0",
						"98967fe69831432d860e730ae3515d61",
						"43cf252066b54077b00c003285ba73a7",
						"37efc4e08edc4395a15a582321838f01",
						"aa163a8270b24262a4a8ab742213edf2",
						"d9f55598d0034f9aa7df959f55997eb4",
						"811d7bd5cfc24ae385ecfeb9e618ef4f",
						"6d735825c4fa47a59beb4fa6d0a6b74a",
						"433950f4da1340e2a2fa12beab3fec3c",
						"f040d834610e4a1c84765b82eda270e5",
						"22cf3eb58dd14457b7a6ac6250c08573",
						"f92190d0f6ee441dbc3562790cec2106",
						"bb48ad3bcec34bc7838de6865c9d7069",
						"461f8a00e56d4e85a924e01d274f7295",
						"0d14601a6cc74ee9a9f74e118515e6e1",
						"68244257dc12401c98be505e3331000f",
						"ddb9f7ec71fc42289287fe45aeb51ea4",
						"3387b848c5a94857b800e25b71745598",
						"e830f40fcad440c8a66ff9fbfa6ef940",
						"e00e7ccb1dc142a8b9aec5d90416ffdc",
						"f630c81fdcd54c3da25c7dbaca80dbb5",
						"9d771dcc7ad7453694d252514d6df07e",
						"40f84dbd781b45a89e44844186295cf5",
						"3fe6a63579fb406084991d4ce16c7d6a",
						"3f977173c03b468394050dcbfeac8172",
						"8485c2b4a69d412e8b6a713cf8d4c1df",
						"973822e719ec401da45067a9e6d75c19",
						"38f7d6d850394b81b4b5ef2b9f72697a",
						"548a0cd2ec4845af9403dc0b518d6851",
						"c245f2da3b894bed9b38556991247e8b",
						"974dbfb53ce8429a8a3d76b950916eb6",
						"ec7519bbffbf4e3d91065d7d1f90982f",
						"41441653417940d4a42192356334667b",
						"53f88addba6b481dbef380607386dc6e",
						"5e1252c5c831415b9101338771ff31db",
						"2e087748012c45c09c52d93fca19a3ce",
						"58a9c206de88484bbb97d87f178ca885",
						"a6b2de52a01b483b8a8d7752b77321cd",
						"a2e17b0cf55d4d24807c0469d79bb483",
						"43c83cfe2ee348f998d6a6e66cd3c9c3",
						"35e4cec3ceb34eadb1a9727714ffc28f",
						"a98d88c54b2d4088a20eec130ec3e6bf",
						"0a6a7dca4cc4455096d632417efa6b17",
						"7ec8bef04bbf4115820f9b6aafa98447",
						"69b78afc211c470eb6dbd3e08835bc40",
						"fc4b392d05a9475b9d83d943f82bb06c",
						"4b9ae73369cd458d939486ac3538cadc",
						"a3afefc8b59d44f49907587aecfd5141",
						"2870ba1cde864916852f3e4f719d4383",
						"1529a33d5c8c4a77b845dbcfc48de3fb",
						"cdf157efb987490892ef6272b0aeddf6",
						"9f9c38b5512c4d1580249fd4cf9e5db8",
						"c10d8935df1743e9be63ab16421279f0",
						"bdf4baaa276c4eb4aaf5ba5f0ff1580b",
						"ff4a4344ccde40aabfe74ac55a47413e",
						"a01f747e553d4d708f30ad7173d35ac8",
						"e9cd5698433f4f2a95183cc6b0798d17",
						"57f064c7c62c4faa9e6a13b0d02344c2",
						"887aaffb41934e01ba4779dff4c8007a",
						"f81ba30cf23c4d4f84f007c8f8ac9cbf",
						"2ba99e7efd704fec9a9482a101d4dd4c",
						"a20070e3c11c48e6aa19778b6bd9de5b",
						"e8212e03acce4092994994e9edaf17db",
						"9d7dcbfc7c8d46059f5614671607db3f",
						"6abb8ef09249424a88fb8febf9267ddd",
						"34bd6b10f5d64af393bb0526934dde26",
						"a24c991fa6cf4b0c94c323464ea70689",
						"07c17c86861546c8b0b2a7ed9e808cdb",
						"ae2c6e6d257344c09919f44d36b6df96",
						"bee32a5994b946dea63536fd04d55c1c",
						"98dec21978a1408ba699ec3d2ef69b90",
						"206c26bd43c74e8eadb16bec68fe76d1",
						"ea1e9372ed5541bda72f0266cee5d2e2",
						"4b879d489ec943f0bd3976923b2c74b7",
						"c4e3739f474d480b99aeedaa0a56f84d",
						"c27104504a1648fd9bd52cf4af7662d3",
						"474a9239efb44f17bf580fe27d62fe11",
						"9523747385eb4fd5be42166a59925111",
						"fa978bba8dec4b0dbf2f33c518947716",
						"5f88091397c94e199a14622a1a0b42de",
						"98c064f3785b4a15b16a676a6f2382c5",
						"911f48b33e3a47fea4d86555f5311284",
						"f1e29268dd6c477ebaae0bc48cfbefdf",
						"a926db2494bb4b16ac9a07c0e2cfe5dc",
						"a440caa5ec71497d8bba0d6113f70534",
						"766c9546ff9e40df8c58d2a3f404fe81",
						"4cb60484e5c243ae9e38addf16ca1d2a",
						"a411dfaf6262412d9ccb17b8a39f8128"
					]
				},
				"id": "FnhUkFTrMx_1",
				"outputId": "0bbd2b7f-3f0c-4227-b2b6-cc4da84c78ab"
			},
			"execution_count": null,
			"outputs": [
				{
					"output_type": "display_data",
					"data": {
						"text/plain": [
							"Downloading builder script:   0%|          | 0.00/11.9k [00:00<?, ?B/s]"
						],
						"application/vnd.jupyter.widget-view+json": {
							"version_major": 2,
							"version_minor": 0,
							"model_id": "ce19e73a35594eb5a79b82a0122b8a85"
						}
					},
					"metadata": {}
				},
				{
					"output_type": "display_data",
					"data": {
						"text/plain": [
							"Downloading metadata:   0%|          | 0.00/56.1k [00:00<?, ?B/s]"
						],
						"application/vnd.jupyter.widget-view+json": {
							"version_major": 2,
							"version_minor": 0,
							"model_id": "832f9532c3e049fcba3d837e114718bf"
						}
					},
					"metadata": {}
				},
				{
					"output_type": "display_data",
					"data": {
						"text/plain": [
							"Downloading readme:   0%|          | 0.00/15.2k [00:00<?, ?B/s]"
						],
						"application/vnd.jupyter.widget-view+json": {
							"version_major": 2,
							"version_minor": 0,
							"model_id": "94683e63107447dcab776948f061d85d"
						}
					},
					"metadata": {}
				},
				{
					"output_type": "display_data",
					"data": {
						"text/plain": [
							"Downloading data files:   0%|          | 0/11 [00:00<?, ?it/s]"
						],
						"application/vnd.jupyter.widget-view+json": {
							"version_major": 2,
							"version_minor": 0,
							"model_id": "dc99d7f6e76d4c8e97f8ef99925d428a"
						}
					},
					"metadata": {}
				},
				{
					"output_type": "display_data",
					"data": {
						"text/plain": [
							"Downloading data:   0%|          | 0.00/7.79k [00:00<?, ?B/s]"
						],
						"application/vnd.jupyter.widget-view+json": {
							"version_major": 2,
							"version_minor": 0,
							"model_id": "eaab7fa8e5f44a48853f86650de6afd2"
						}
					},
					"metadata": {}
				},
				{
					"output_type": "display_data",
					"data": {
						"text/plain": [
							"Downloading data:   0%|          | 0.00/662k [00:00<?, ?B/s]"
						],
						"application/vnd.jupyter.widget-view+json": {
							"version_major": 2,
							"version_minor": 0,
							"model_id": "5fbafc5567104405a8bb6bd2abe9f54a"
						}
					},
					"metadata": {}
				},
				{
					"output_type": "display_data",
					"data": {
						"text/plain": [
							"Downloading data:   0%|          | 0.00/3.91k [00:00<?, ?B/s]"
						],
						"application/vnd.jupyter.widget-view+json": {
							"version_major": 2,
							"version_minor": 0,
							"model_id": "20f1c897eb9340ff9125284bddc4a70e"
						}
					},
					"metadata": {}
				},
				{
					"output_type": "display_data",
					"data": {
						"text/plain": [
							"Downloading data:   0%|          | 0.00/327k [00:00<?, ?B/s]"
						],
						"application/vnd.jupyter.widget-view+json": {
							"version_major": 2,
							"version_minor": 0,
							"model_id": "7cecfb5c996843619ddffedd81d3fb63"
						}
					},
					"metadata": {}
				},
				{
					"output_type": "display_data",
					"data": {
						"text/plain": [
							"Downloading data:   0%|          | 0.00/11.5k [00:00<?, ?B/s]"
						],
						"application/vnd.jupyter.widget-view+json": {
							"version_major": 2,
							"version_minor": 0,
							"model_id": "0fd5a8fe4f0d40849d4f88c7ad174490"
						}
					},
					"metadata": {}
				},
				{
					"output_type": "display_data",
					"data": {
						"text/plain": [
							"Downloading data:   0%|          | 0.00/917k [00:00<?, ?B/s]"
						],
						"application/vnd.jupyter.widget-view+json": {
							"version_major": 2,
							"version_minor": 0,
							"model_id": "b5a6808527164b3096c14011af04f59b"
						}
					},
					"metadata": {}
				},
				{
					"output_type": "display_data",
					"data": {
						"text/plain": [
							"Downloading data:   0%|          | 0.00/54.8k [00:00<?, ?B/s]"
						],
						"application/vnd.jupyter.widget-view+json": {
							"version_major": 2,
							"version_minor": 0,
							"model_id": "d44e975cf89b4012852363138ec65204"
						}
					},
					"metadata": {}
				},
				{
					"output_type": "display_data",
					"data": {
						"text/plain": [
							"Downloading data:   0%|          | 0.00/1.59M [00:00<?, ?B/s]"
						],
						"application/vnd.jupyter.widget-view+json": {
							"version_major": 2,
							"version_minor": 0,
							"model_id": "9346108ca695460e8b4885665bd4cbc7"
						}
					},
					"metadata": {}
				},
				{
					"output_type": "display_data",
					"data": {
						"text/plain": [
							"Downloading data:   0%|          | 0.00/70.0k [00:00<?, ?B/s]"
						],
						"application/vnd.jupyter.widget-view+json": {
							"version_major": 2,
							"version_minor": 0,
							"model_id": "351492fbdf9b4a72ab8e208d2938f710"
						}
					},
					"metadata": {}
				},
				{
					"output_type": "display_data",
					"data": {
						"text/plain": [
							"Downloading data:   0%|          | 0.00/196k [00:00<?, ?B/s]"
						],
						"application/vnd.jupyter.widget-view+json": {
							"version_major": 2,
							"version_minor": 0,
							"model_id": "ad7339bdab334008bc58c4b24c99c2e9"
						}
					},
					"metadata": {}
				},
				{
					"output_type": "display_data",
					"data": {
						"text/plain": [
							"Downloading data:   0%|          | 0.00/7.58k [00:00<?, ?B/s]"
						],
						"application/vnd.jupyter.widget-view+json": {
							"version_major": 2,
							"version_minor": 0,
							"model_id": "1ca8a1143b0b40ba91f6ba363dce0329"
						}
					},
					"metadata": {}
				},
				{
					"output_type": "display_data",
					"data": {
						"text/plain": [
							"Downloading data:   0%|          | 0.00/412k [00:00<?, ?B/s]"
						],
						"application/vnd.jupyter.widget-view+json": {
							"version_major": 2,
							"version_minor": 0,
							"model_id": "eff9c9bca8dd43029209215656e4d480"
						}
					},
					"metadata": {}
				},
				{
					"output_type": "display_data",
					"data": {
						"text/plain": [
							"Downloading data:   0%|          | 0.00/52.5k [00:00<?, ?B/s]"
						],
						"application/vnd.jupyter.widget-view+json": {
							"version_major": 2,
							"version_minor": 0,
							"model_id": "02708c478fd944189707e46316b0e215"
						}
					},
					"metadata": {}
				},
				{
					"output_type": "display_data",
					"data": {
						"text/plain": [
							"Downloading data:   0%|          | 0.00/2.31M [00:00<?, ?B/s]"
						],
						"application/vnd.jupyter.widget-view+json": {
							"version_major": 2,
							"version_minor": 0,
							"model_id": "77fb120eba574c8e94c3c291dd3d8950"
						}
					},
					"metadata": {}
				},
				{
					"output_type": "display_data",
					"data": {
						"text/plain": [
							"Downloading data:   0%|          | 0.00/201k [00:00<?, ?B/s]"
						],
						"application/vnd.jupyter.widget-view+json": {
							"version_major": 2,
							"version_minor": 0,
							"model_id": "00798e72c2aa41b2beeba4bcd0a8f137"
						}
					},
					"metadata": {}
				},
				{
					"output_type": "display_data",
					"data": {
						"text/plain": [
							"Downloading data:   0%|          | 0.00/2.09M [00:00<?, ?B/s]"
						],
						"application/vnd.jupyter.widget-view+json": {
							"version_major": 2,
							"version_minor": 0,
							"model_id": "8b8615e7ee5247e9b2d8b3076391bae5"
						}
					},
					"metadata": {}
				},
				{
					"output_type": "display_data",
					"data": {
						"text/plain": [
							"Downloading data:   0%|          | 0.00/7.64k [00:00<?, ?B/s]"
						],
						"application/vnd.jupyter.widget-view+json": {
							"version_major": 2,
							"version_minor": 0,
							"model_id": "53f60cd4fcef452c8cbc27461b6bf3ed"
						}
					},
					"metadata": {}
				},
				{
					"output_type": "display_data",
					"data": {
						"text/plain": [
							"Downloading data:   0%|          | 0.00/412k [00:00<?, ?B/s]"
						],
						"application/vnd.jupyter.widget-view+json": {
							"version_major": 2,
							"version_minor": 0,
							"model_id": "ccddd04363f542adadf80b60758e3af0"
						}
					},
					"metadata": {}
				},
				{
					"output_type": "display_data",
					"data": {
						"text/plain": [
							"Downloading data:   0%|          | 0.00/5.38k [00:00<?, ?B/s]"
						],
						"application/vnd.jupyter.widget-view+json": {
							"version_major": 2,
							"version_minor": 0,
							"model_id": "f92190d0f6ee441dbc3562790cec2106"
						}
					},
					"metadata": {}
				},
				{
					"output_type": "display_data",
					"data": {
						"text/plain": [
							"Downloading data:   0%|          | 0.00/336k [00:00<?, ?B/s]"
						],
						"application/vnd.jupyter.widget-view+json": {
							"version_major": 2,
							"version_minor": 0,
							"model_id": "40f84dbd781b45a89e44844186295cf5"
						}
					},
					"metadata": {}
				},
				{
					"output_type": "display_data",
					"data": {
						"text/plain": [
							"Downloading data:   0%|          | 0.00/8.12k [00:00<?, ?B/s]"
						],
						"application/vnd.jupyter.widget-view+json": {
							"version_major": 2,
							"version_minor": 0,
							"model_id": "53f88addba6b481dbef380607386dc6e"
						}
					},
					"metadata": {}
				},
				{
					"output_type": "display_data",
					"data": {
						"text/plain": [
							"Downloading data:   0%|          | 0.00/68.5k [00:00<?, ?B/s]"
						],
						"application/vnd.jupyter.widget-view+json": {
							"version_major": 2,
							"version_minor": 0,
							"model_id": "69b78afc211c470eb6dbd3e08835bc40"
						}
					},
					"metadata": {}
				},
				{
					"output_type": "display_data",
					"data": {
						"text/plain": [
							"Extracting data files:   0%|          | 0/11 [00:00<?, ?it/s]"
						],
						"application/vnd.jupyter.widget-view+json": {
							"version_major": 2,
							"version_minor": 0,
							"model_id": "a01f747e553d4d708f30ad7173d35ac8"
						}
					},
					"metadata": {}
				},
				{
					"output_type": "display_data",
					"data": {
						"text/plain": [
							"Generating train split:   0%|          | 0/50 [00:00<?, ? examples/s]"
						],
						"application/vnd.jupyter.widget-view+json": {
							"version_major": 2,
							"version_minor": 0,
							"model_id": "a24c991fa6cf4b0c94c323464ea70689"
						}
					},
					"metadata": {}
				},
				{
					"output_type": "display_data",
					"data": {
						"text/plain": [
							"Generating test split:   0%|          | 0/3399 [00:00<?, ? examples/s]"
						],
						"application/vnd.jupyter.widget-view+json": {
							"version_major": 2,
							"version_minor": 0,
							"model_id": "9523747385eb4fd5be42166a59925111"
						}
					},
					"metadata": {}
				},
				{
					"output_type": "execute_result",
					"data": {
						"text/plain": [
							"{'Tweet text': '@HMRCcustomers No this is my first job', 'ID': 0, 'Label': 2}"
						]
					},
					"metadata": {},
					"execution_count": 3
				}
			]
		},
		{
			"cell_type": "code",
			"source": [
				"classes = [k.replace(\"_\", \" \") for k in dataset[\"train\"].features[\"Label\"].names]\n",
				"dataset = dataset.map(\n",
				"    lambda x: {\"text_label\": [classes[label] for label in x[\"Label\"]]},\n",
				"    batched=True,\n",
				"    num_proc=1,\n",
				")\n",
				"dataset[\"train\"][0]"
			],
			"metadata": {
				"colab": {
					"base_uri": "https://localhost:8080/",
					"height": 149,
					"referenced_widgets": [
						"bf77aedbc602451cb34e429556de1a49",
						"d13762363cc74b55bf84215aa69d9506",
						"70e040a29f144215a6e223a9145c653f",
						"5047f64b07144e10a200f5bc051d0c2d",
						"d6e76bfa888e45c59e756f35a39210c9",
						"65e54c50ba2747c6b0215a107f6d4fd5",
						"c56797e2386542f3849452f9656b2eeb",
						"2ba957171a8944e88a07fe7f6d72b638",
						"7550a5365b264b068f6d0be92c50eea5",
						"2af1795d4c0e4b1e88927f8998bb49ed",
						"ef7db069bace4435a49317cf8d5c1a98",
						"385419bd35864021a7aea449ec5a93dc",
						"52c7106c605e4526a2bfdfaccb5e046c",
						"4f7909533d00499eb2ae43185ee7e2de",
						"62aafc35d64845939cf15b5aa30d8551",
						"9591466c14e64be28a86a43114bbfbf0",
						"645c3cf0f6f34b0ead3f5569917d9097",
						"36c6673b12054ddaaa3bf38f81596363",
						"3faa660d2b5c4ccca5ad126527562bd6",
						"ffd521ffe4384b9eba06ce348e5d5da0",
						"6ddefc4d59324697b0f1bf383008f0cd",
						"407c5b629cef4ac380b9b08c9bfda02d"
					]
				},
				"id": "tsCHBt4MYUD7",
				"outputId": "100e2bb4-11c6-4d19-f6d1-09427c2a4c4f"
			},
			"execution_count": null,
			"outputs": [
				{
					"output_type": "display_data",
					"data": {
						"text/plain": [
							"Map:   0%|          | 0/50 [00:00<?, ? examples/s]"
						],
						"application/vnd.jupyter.widget-view+json": {
							"version_major": 2,
							"version_minor": 0,
							"model_id": "bf77aedbc602451cb34e429556de1a49"
						}
					},
					"metadata": {}
				},
				{
					"output_type": "display_data",
					"data": {
						"text/plain": [
							"Map:   0%|          | 0/3399 [00:00<?, ? examples/s]"
						],
						"application/vnd.jupyter.widget-view+json": {
							"version_major": 2,
							"version_minor": 0,
							"model_id": "385419bd35864021a7aea449ec5a93dc"
						}
					},
					"metadata": {}
				},
				{
					"output_type": "execute_result",
					"data": {
						"text/plain": [
							"{'Tweet text': '@HMRCcustomers No this is my first job',\n",
							" 'ID': 0,\n",
							" 'Label': 2,\n",
							" 'text_label': 'no complaint'}"
						]
					},
					"metadata": {},
					"execution_count": 4
				}
			]
		},
		{
			"cell_type": "code",
			"source": [
				"dataset[\"train\"][2]"
			],
			"metadata": {
				"colab": {
					"base_uri": "https://localhost:8080/"
				},
				"id": "Lf5pb9DLv_us",
				"outputId": "206e640f-4399-4fd2-920f-9edb66d0457c"
			},
			"execution_count": null,
			"outputs": [
				{
					"output_type": "execute_result",
					"data": {
						"text/plain": [
							"{'Tweet text': \"If I can't get my 3rd pair of @beatsbydre powerbeats to work today I'm doneski man. This is a slap in my balls. Your next @Bose @BoseService\",\n",
							" 'ID': 2,\n",
							" 'Label': 1,\n",
							" 'text_label': 'complaint'}"
						]
					},
					"metadata": {},
					"execution_count": 5
				}
			]
		},
		{
			"cell_type": "markdown",
			"source": [
				"# Tokenizer 불러오기 & 데이터셋 전처리"
			],
			"metadata": {
				"id": "SMyzGxLK8vAh"
			}
		},
		{
			"cell_type": "code",
			"source": [
				"tokenizer = AutoTokenizer.from_pretrained(model_name_or_path)\n",
				"if tokenizer.pad_token_id is None:\n",
				"    tokenizer.pad_token_id = tokenizer.eos_token_id"
			],
			"metadata": {
				"id": "UdNPA8l-Nc2q",
				"colab": {
					"base_uri": "https://localhost:8080/",
					"height": 113,
					"referenced_widgets": [
						"d452ef53d18946e09f248d0dc4abec0a",
						"a08b760ec5964ae39fe8588635a3fd53",
						"d770c9d8e6224789bf37a04ac69a1a57",
						"b75e376c30c4495ca773ea64e1e99315",
						"79cea7b58d4f418eae53901c6508f224",
						"00a72e3c8eb94e4e92ff5ec1c14364f0",
						"b329126b4ea14fad92ba611b2ea3ddc6",
						"b8ddf353f3a149b9be41283b0f29ea00",
						"eff3e95af39644ac9f83532df83545fa",
						"5009c5e6d8b248a5b8ed230f21aaec11",
						"4d42a47739c244e798c4a20c07723b75",
						"55518965b8024c3da8618d50f3027164",
						"f1a6aa0c96d54a198cfb83f68966e155",
						"ee75725f379d4bd59dea321347cea141",
						"80b839185b874f2ca1d83cafcdf6980b",
						"7d161c8bb8574f03ac7b1bcb5a227761",
						"85502a718a954786b6846d3812d9e059",
						"bb696eec4d8b47c4bfaee3eef62fcaea",
						"1a4bb41a9d834fbbaeccbb7c3795e2c2",
						"f148a2f38ac745caa753f5ade7a22c5c",
						"a786d497a3904fe081e1c9ce05b35cc9",
						"73d60fdd72b24a9c951798b0b8938f82",
						"7c24e6c49a334ef493b447a4aa1fe860",
						"288152a9723d4ab99ab3d46fdf0afeab",
						"86dd255a4e51486eb0876808b39522fd",
						"be7a75fb1a054088a35af0e51865c47c",
						"fbbd64a097114611882cc54721e542ad",
						"2d156cd5c6bf43feb1330c989ef5bd09",
						"67afe379805148259dff9b572db44145",
						"f24402e61cc34ad2ab2f5ec77aa1bf10",
						"6d28758058b4462891c24ba332f376ed",
						"84f77725365f4e87ad13755ce3c12a69",
						"dbcfbaa2c57e43eda16a14dfe630a211"
					]
				},
				"outputId": "6f09fe86-3a09-4478-b76a-a6b88ab035ec"
			},
			"execution_count": null,
			"outputs": [
				{
					"output_type": "display_data",
					"data": {
						"text/plain": [
							"Downloading (…)okenizer_config.json:   0%|          | 0.00/222 [00:00<?, ?B/s]"
						],
						"application/vnd.jupyter.widget-view+json": {
							"version_major": 2,
							"version_minor": 0,
							"model_id": "d452ef53d18946e09f248d0dc4abec0a"
						}
					},
					"metadata": {}
				},
				{
					"output_type": "display_data",
					"data": {
						"text/plain": [
							"Downloading tokenizer.json:   0%|          | 0.00/14.5M [00:00<?, ?B/s]"
						],
						"application/vnd.jupyter.widget-view+json": {
							"version_major": 2,
							"version_minor": 0,
							"model_id": "55518965b8024c3da8618d50f3027164"
						}
					},
					"metadata": {}
				},
				{
					"output_type": "display_data",
					"data": {
						"text/plain": [
							"Downloading (…)cial_tokens_map.json:   0%|          | 0.00/85.0 [00:00<?, ?B/s]"
						],
						"application/vnd.jupyter.widget-view+json": {
							"version_major": 2,
							"version_minor": 0,
							"model_id": "7c24e6c49a334ef493b447a4aa1fe860"
						}
					},
					"metadata": {}
				}
			]
		},
		{
			"cell_type": "code",
			"source": [
				"def preprocess_function(examples):\n",
				"    batch_size = len(examples[text_column])\n",
				"    inputs = [f\"{text_column} : {x} Label : \" for x in examples[text_column]]\n",
				"    targets = [str(x) for x in examples[label_column]]\n",
				"    model_inputs = tokenizer(inputs)\n",
				"    labels = tokenizer(targets)\n",
				"\n",
				"    for i in range(batch_size):\n",
				"        sample_input_ids = model_inputs[\"input_ids\"][i]\n",
				"        label_input_ids = labels[\"input_ids\"][i] + [tokenizer.pad_token_id]\n",
				"        #print(i, sample_input_ids, label_input_ids)\n",
				"        model_inputs[\"input_ids\"][i] = sample_input_ids + label_input_ids\n",
				"        labels[\"input_ids\"][i] = [-100] * len(sample_input_ids) + label_input_ids\n",
				"        model_inputs[\"attention_mask\"][i] = [1] * len(model_inputs[\"input_ids\"][i])\n",
				"    #print(model_inputs)\n",
				"\n",
				"    for i in range(batch_size):\n",
				"        sample_input_ids = model_inputs[\"input_ids\"][i]\n",
				"        label_input_ids = labels[\"input_ids\"][i]\n",
				"        model_inputs[\"input_ids\"][i] = [tokenizer.pad_token_id] * (\n",
				"            max_length - len(sample_input_ids)\n",
				"        ) + sample_input_ids\n",
				"        model_inputs[\"attention_mask\"][i] = [0] * (max_length - len(sample_input_ids)) + model_inputs[\n",
				"            \"attention_mask\"\n",
				"        ][i]\n",
				"        labels[\"input_ids\"][i] = [-100] * (max_length - len(sample_input_ids)) + label_input_ids\n",
				"        model_inputs[\"input_ids\"][i] = torch.tensor(model_inputs[\"input_ids\"][i][:max_length])\n",
				"        model_inputs[\"attention_mask\"][i] = torch.tensor(model_inputs[\"attention_mask\"][i][:max_length])\n",
				"        labels[\"input_ids\"][i] = torch.tensor(labels[\"input_ids\"][i][:max_length])\n",
				"\n",
				"    model_inputs[\"labels\"] = labels[\"input_ids\"]\n",
				"\n",
				"    return model_inputs"
			],
			"metadata": {
				"id": "P3t2s1_9RZH2"
			},
			"execution_count": null,
			"outputs": []
		},
		{
			"cell_type": "code",
			"source": [
				"processed_datasets = dataset.map(\n",
				"    preprocess_function,\n",
				"    batched=True,\n",
				"    num_proc=1,\n",
				"    remove_columns=dataset[\"train\"].column_names,\n",
				"    load_from_cache_file=False,\n",
				"    desc=\"Running tokenizer on dataset\",\n",
				")"
			],
			"metadata": {
				"colab": {
					"base_uri": "https://localhost:8080/",
					"height": 81,
					"referenced_widgets": [
						"dc15b633816e49beaef4bf18b76c92e3",
						"b78fa9833b584bb6a4614810c981dee3",
						"c7746674aab745aa8fa5668d8249a2c6",
						"f9541287d34d455b92e204940e7194b4",
						"2347c09ee8e147ba81c93d6b96e3cb9c",
						"9c3fd78c5d4b42b09a516e3bd4bc8d0f",
						"be916aee26a34132a0ab13fc92474def",
						"9d1e862c6ebf4aee9092979320b92f55",
						"b082978234104e7e814fff3b63665dd4",
						"3715e07ff98848699ff60f00f713837d",
						"0f04bc0702f84efeacab68c86be40624",
						"43601978a9144bfa89eb4f43d7bf26c4",
						"336facf864f348dfb05fd502156f15ac",
						"51cca0d20eb64224b1fcffe71b359bc7",
						"4a1b639da8de44928f394e3b0cd23b72",
						"c0434347d4214ba881baf99ecd10e12a",
						"b938a0a2750847c9829e240095802253",
						"593fe8ac1c7d4f3fbfdccd22b8eeb75f",
						"61a89c7a7d9a41cbb7e01d277b0c0280",
						"7ff7b89f9ee249fbbdeb760ec90cfb42",
						"af913ec5ddff4ffca781efe6be9026a2",
						"34ca5d6be681474cb210157329c8cacd"
					]
				},
				"id": "NayJ977yYo2Q",
				"outputId": "413d7547-799d-45d9-aa99-0a24873e4f77"
			},
			"execution_count": null,
			"outputs": [
				{
					"output_type": "display_data",
					"data": {
						"text/plain": [
							"Running tokenizer on dataset:   0%|          | 0/50 [00:00<?, ? examples/s]"
						],
						"application/vnd.jupyter.widget-view+json": {
							"version_major": 2,
							"version_minor": 0,
							"model_id": "dc15b633816e49beaef4bf18b76c92e3"
						}
					},
					"metadata": {}
				},
				{
					"output_type": "display_data",
					"data": {
						"text/plain": [
							"Running tokenizer on dataset:   0%|          | 0/3399 [00:00<?, ? examples/s]"
						],
						"application/vnd.jupyter.widget-view+json": {
							"version_major": 2,
							"version_minor": 0,
							"model_id": "43601978a9144bfa89eb4f43d7bf26c4"
						}
					},
					"metadata": {}
				}
			]
		},
		{
			"cell_type": "code",
			"source": [
				"train_dataset = processed_datasets[\"train\"]\n",
				"eval_dataset = processed_datasets[\"test\"]\n",
				"\n",
				"train_dataloader = DataLoader(\n",
				"    train_dataset, shuffle=True, collate_fn=default_data_collator, batch_size=batch_size, pin_memory=True\n",
				")\n",
				"eval_dataloader = DataLoader(eval_dataset, collate_fn=default_data_collator, batch_size=batch_size, pin_memory=True)"
			],
			"metadata": {
				"id": "Pg1O4bqWwwy4"
			},
			"execution_count": null,
			"outputs": []
		},
		{
			"cell_type": "markdown",
			"source": [
				"# PEFT 모델 설정"
			],
			"metadata": {
				"id": "klItQpwr_bjp"
			}
		},
		{
			"cell_type": "code",
			"source": [
				"# PEFT를 이용한 PromtTuning 설정\n",
				"peft_config = PromptTuningConfig(\n",
				"    task_type=TaskType.CAUSAL_LM,\n",
				"    prompt_tuning_init=PromptTuningInit.TEXT,\n",
				"    num_virtual_tokens=8,\n",
				"    prompt_tuning_init_text=\"Classify if the tweet is a complaint or not:\",\n",
				"    tokenizer_name_or_path=model_name_or_path,\n",
				")"
			],
			"metadata": {
				"id": "DS3jj7IR4dqG"
			},
			"execution_count": null,
			"outputs": []
		},
		{
			"cell_type": "markdown",
			"source": [
				"# Prompt Tuning 기법으로 인해 전체 모델의 0.0014%의 파라미터만 Fine-Tuning에 사용"
			],
			"metadata": {
				"id": "oAmTJ4geY8aO"
			}
		},
		{
			"cell_type": "code",
			"source": [
				"model = AutoModelForCausalLM.from_pretrained(model_name_or_path)\n",
				"model = get_peft_model(model, peft_config)\n",
				"model.print_trainable_parameters()"
			],
			"metadata": {
				"id": "lDvc3H-WM_09",
				"colab": {
					"base_uri": "https://localhost:8080/",
					"height": 115,
					"referenced_widgets": [
						"dd531de2db6f4f36a284cf4f1f92ee80",
						"f259779e34e4462aaec5626dfb46f9aa",
						"560dff7a090044668ad7cc02bf65d369",
						"180222c526a745478f8eccc26c427927",
						"170da0ba6d1a45debb30f8fa73e2611c",
						"4aea96607ecd4867ac5018848837e715",
						"7f65c9d0384a46c888fe822d6c5303d1",
						"7a745fb9b1624d899ea0b82509b6eb2c",
						"8b0f4719722a4f7a8c9b926e2988741a",
						"43a282f19bfd4c9cbf4c2b66142b85a4",
						"7d834a2aa4dc4856bcae5a52b908a3bc",
						"ca448ceb696b49f0810239041b5d4071",
						"c464e7927e40488d8f2ac330a58f7203",
						"86b5c1eb614b424992333c9795df797d",
						"1f197b2c810f403aa059271a33bbb5ec",
						"aff2f9c0649f4875a1c2e2056c175536",
						"577966772d7043e49cc2271966af6714",
						"f6075cd035ca4b30b11f5dc66afa0199",
						"af5a5b464104489f862dc7c4cc5c7bad",
						"4c063f0f01584bcf9d6e64616c5c20bd",
						"df81625b46974c06ab63e684d2c2a2e4",
						"7f8b761a49744be792fde75fd54e2096"
					]
				},
				"outputId": "4edd4380-2c8b-48ab-8f3a-c07bc74f6dca"
			},
			"execution_count": null,
			"outputs": [
				{
					"output_type": "display_data",
					"data": {
						"text/plain": [
							"Downloading (…)lve/main/config.json:   0%|          | 0.00/715 [00:00<?, ?B/s]"
						],
						"application/vnd.jupyter.widget-view+json": {
							"version_major": 2,
							"version_minor": 0,
							"model_id": "dd531de2db6f4f36a284cf4f1f92ee80"
						}
					},
					"metadata": {}
				},
				{
					"output_type": "display_data",
					"data": {
						"text/plain": [
							"Downloading model.safetensors:   0%|          | 0.00/1.12G [00:00<?, ?B/s]"
						],
						"application/vnd.jupyter.widget-view+json": {
							"version_major": 2,
							"version_minor": 0,
							"model_id": "ca448ceb696b49f0810239041b5d4071"
						}
					},
					"metadata": {}
				},
				{
					"output_type": "stream",
					"name": "stdout",
					"text": [
						"trainable params: 8,192 || all params: 559,222,784 || trainable%: 0.0014648902430985358\n",
						"None\n"
					]
				}
			]
		},
		{
			"cell_type": "markdown",
			"source": [
				"# Training 시작"
			],
			"metadata": {
				"id": "shg4WLpj_6_m"
			}
		},
		{
			"cell_type": "code",
			"source": [
				"optimizer = torch.optim.AdamW(model.parameters(), lr=lr)\n",
				"lr_scheduler = get_linear_schedule_with_warmup(\n",
				"    optimizer=optimizer,\n",
				"    num_warmup_steps=0,\n",
				"    num_training_steps=(len(train_dataloader) * num_epochs),\n",
				")"
			],
			"metadata": {
				"id": "ukEYmp76NGjF"
			},
			"execution_count": null,
			"outputs": []
		},
		{
			"cell_type": "code",
			"source": [
				"model = model.to(device)\n",
				"\n",
				"for epoch in range(num_epochs):\n",
				"    model.train()\n",
				"    total_loss = 0\n",
				"    for step, batch in enumerate(tqdm(train_dataloader)):\n",
				"        batch = {k: v.to(device) for k, v in batch.items()}\n",
				"        outputs = model(**batch)\n",
				"        loss = outputs.loss\n",
				"        total_loss += loss.detach().float()\n",
				"        loss.backward()\n",
				"        optimizer.step()\n",
				"        lr_scheduler.step()\n",
				"        optimizer.zero_grad()\n",
				"\n",
				"    model.eval()\n",
				"    eval_loss = 0\n",
				"    eval_preds = []\n",
				"    for step, batch in enumerate(tqdm(eval_dataloader)):\n",
				"        batch = {k: v.to(device) for k, v in batch.items()}\n",
				"        with torch.no_grad():\n",
				"            outputs = model(**batch)\n",
				"        loss = outputs.loss\n",
				"        eval_loss += loss.detach().float()\n",
				"        eval_preds.extend(\n",
				"            tokenizer.batch_decode(torch.argmax(outputs.logits, -1).detach().cpu().numpy(), skip_special_tokens=True)\n",
				"        )\n",
				"\n",
				"    eval_epoch_loss = eval_loss / len(eval_dataloader)\n",
				"    eval_ppl = torch.exp(eval_epoch_loss)\n",
				"    train_epoch_loss = total_loss / len(train_dataloader)\n",
				"    train_ppl = torch.exp(train_epoch_loss)\n",
				"    print(f\"{epoch=}: {train_ppl=} {train_epoch_loss=} {eval_ppl=} {eval_epoch_loss=}\")"
			],
			"metadata": {
				"colab": {
					"base_uri": "https://localhost:8080/"
				},
				"id": "IQPJQ405I_tC",
				"outputId": "a1749f97-b1a4-466a-f9e7-26950bb44d68"
			},
			"execution_count": null,
			"outputs": [
				{
					"output_type": "stream",
					"name": "stderr",
					"text": [
						"100%|██████████| 7/7 [00:02<00:00,  2.49it/s]\n",
						"100%|██████████| 425/425 [01:36<00:00,  4.40it/s]\n"
					]
				},
				{
					"output_type": "stream",
					"name": "stdout",
					"text": [
						"epoch=0: train_ppl=tensor(2059.7417, device='cuda:0') train_epoch_loss=tensor(7.6303, device='cuda:0') eval_ppl=tensor(8556.2119, device='cuda:0') eval_epoch_loss=tensor(9.0544, device='cuda:0')\n"
					]
				},
				{
					"output_type": "stream",
					"name": "stderr",
					"text": [
						"100%|██████████| 7/7 [00:02<00:00,  2.51it/s]\n",
						"100%|██████████| 425/425 [01:36<00:00,  4.42it/s]\n"
					]
				},
				{
					"output_type": "stream",
					"name": "stdout",
					"text": [
						"epoch=1: train_ppl=tensor(690.9486, device='cuda:0') train_epoch_loss=tensor(6.5381, device='cuda:0') eval_ppl=tensor(12580.6328, device='cuda:0') eval_epoch_loss=tensor(9.4399, device='cuda:0')\n"
					]
				},
				{
					"output_type": "stream",
					"name": "stderr",
					"text": [
						"100%|██████████| 7/7 [00:02<00:00,  2.51it/s]\n",
						"100%|██████████| 425/425 [01:36<00:00,  4.40it/s]\n"
					]
				},
				{
					"output_type": "stream",
					"name": "stdout",
					"text": [
						"epoch=2: train_ppl=tensor(308.6529, device='cuda:0') train_epoch_loss=tensor(5.7322, device='cuda:0') eval_ppl=tensor(27791.3496, device='cuda:0') eval_epoch_loss=tensor(10.2325, device='cuda:0')\n"
					]
				},
				{
					"output_type": "stream",
					"name": "stderr",
					"text": [
						"100%|██████████| 7/7 [00:02<00:00,  2.50it/s]\n",
						"100%|██████████| 425/425 [01:37<00:00,  4.38it/s]\n"
					]
				},
				{
					"output_type": "stream",
					"name": "stdout",
					"text": [
						"epoch=3: train_ppl=tensor(236.3864, device='cuda:0') train_epoch_loss=tensor(5.4655, device='cuda:0') eval_ppl=tensor(26815.6270, device='cuda:0') eval_epoch_loss=tensor(10.1967, device='cuda:0')\n"
					]
				},
				{
					"output_type": "stream",
					"name": "stderr",
					"text": [
						"100%|██████████| 7/7 [00:02<00:00,  2.50it/s]\n",
						"100%|██████████| 425/425 [01:36<00:00,  4.41it/s]\n"
					]
				},
				{
					"output_type": "stream",
					"name": "stdout",
					"text": [
						"epoch=4: train_ppl=tensor(185.9102, device='cuda:0') train_epoch_loss=tensor(5.2253, device='cuda:0') eval_ppl=tensor(17514.1152, device='cuda:0') eval_epoch_loss=tensor(9.7708, device='cuda:0')\n"
					]
				},
				{
					"output_type": "stream",
					"name": "stderr",
					"text": [
						"100%|██████████| 7/7 [00:02<00:00,  2.50it/s]\n",
						"100%|██████████| 425/425 [01:36<00:00,  4.41it/s]\n"
					]
				},
				{
					"output_type": "stream",
					"name": "stdout",
					"text": [
						"epoch=5: train_ppl=tensor(159.2835, device='cuda:0') train_epoch_loss=tensor(5.0707, device='cuda:0') eval_ppl=tensor(14410.6904, device='cuda:0') eval_epoch_loss=tensor(9.5757, device='cuda:0')\n"
					]
				},
				{
					"output_type": "stream",
					"name": "stderr",
					"text": [
						"100%|██████████| 7/7 [00:02<00:00,  2.51it/s]\n",
						"100%|██████████| 425/425 [01:36<00:00,  4.42it/s]\n"
					]
				},
				{
					"output_type": "stream",
					"name": "stdout",
					"text": [
						"epoch=6: train_ppl=tensor(128.4691, device='cuda:0') train_epoch_loss=tensor(4.8557, device='cuda:0') eval_ppl=tensor(17034.0645, device='cuda:0') eval_epoch_loss=tensor(9.7430, device='cuda:0')\n"
					]
				},
				{
					"output_type": "stream",
					"name": "stderr",
					"text": [
						"100%|██████████| 7/7 [00:02<00:00,  2.50it/s]\n",
						"100%|██████████| 425/425 [01:36<00:00,  4.42it/s]\n"
					]
				},
				{
					"output_type": "stream",
					"name": "stdout",
					"text": [
						"epoch=7: train_ppl=tensor(108.0896, device='cuda:0') train_epoch_loss=tensor(4.6830, device='cuda:0') eval_ppl=tensor(27300.3262, device='cuda:0') eval_epoch_loss=tensor(10.2147, device='cuda:0')\n"
					]
				},
				{
					"output_type": "stream",
					"name": "stderr",
					"text": [
						"100%|██████████| 7/7 [00:02<00:00,  2.51it/s]\n",
						"100%|██████████| 425/425 [01:36<00:00,  4.42it/s]\n"
					]
				},
				{
					"output_type": "stream",
					"name": "stdout",
					"text": [
						"epoch=8: train_ppl=tensor(94.7368, device='cuda:0') train_epoch_loss=tensor(4.5511, device='cuda:0') eval_ppl=tensor(28767.2129, device='cuda:0') eval_epoch_loss=tensor(10.2670, device='cuda:0')\n"
					]
				},
				{
					"output_type": "stream",
					"name": "stderr",
					"text": [
						"100%|██████████| 7/7 [00:02<00:00,  2.50it/s]\n",
						"100%|██████████| 425/425 [01:36<00:00,  4.42it/s]\n"
					]
				},
				{
					"output_type": "stream",
					"name": "stdout",
					"text": [
						"epoch=9: train_ppl=tensor(78.2781, device='cuda:0') train_epoch_loss=tensor(4.3603, device='cuda:0') eval_ppl=tensor(35694.9414, device='cuda:0') eval_epoch_loss=tensor(10.4828, device='cuda:0')\n"
					]
				},
				{
					"output_type": "stream",
					"name": "stderr",
					"text": [
						"100%|██████████| 7/7 [00:02<00:00,  2.50it/s]\n",
						"100%|██████████| 425/425 [01:36<00:00,  4.39it/s]\n"
					]
				},
				{
					"output_type": "stream",
					"name": "stdout",
					"text": [
						"epoch=10: train_ppl=tensor(68.4159, device='cuda:0') train_epoch_loss=tensor(4.2256, device='cuda:0') eval_ppl=tensor(58183.1289, device='cuda:0') eval_epoch_loss=tensor(10.9714, device='cuda:0')\n"
					]
				},
				{
					"output_type": "stream",
					"name": "stderr",
					"text": [
						"100%|██████████| 7/7 [00:02<00:00,  2.51it/s]\n",
						"100%|██████████| 425/425 [01:36<00:00,  4.41it/s]\n"
					]
				},
				{
					"output_type": "stream",
					"name": "stdout",
					"text": [
						"epoch=11: train_ppl=tensor(64.6535, device='cuda:0') train_epoch_loss=tensor(4.1690, device='cuda:0') eval_ppl=tensor(50365.4531, device='cuda:0') eval_epoch_loss=tensor(10.8271, device='cuda:0')\n"
					]
				},
				{
					"output_type": "stream",
					"name": "stderr",
					"text": [
						"100%|██████████| 7/7 [00:02<00:00,  2.51it/s]\n",
						"100%|██████████| 425/425 [01:36<00:00,  4.40it/s]\n"
					]
				},
				{
					"output_type": "stream",
					"name": "stdout",
					"text": [
						"epoch=12: train_ppl=tensor(56.4860, device='cuda:0') train_epoch_loss=tensor(4.0340, device='cuda:0') eval_ppl=tensor(40949.1250, device='cuda:0') eval_epoch_loss=tensor(10.6201, device='cuda:0')\n"
					]
				},
				{
					"output_type": "stream",
					"name": "stderr",
					"text": [
						"100%|██████████| 7/7 [00:02<00:00,  2.50it/s]\n",
						"100%|██████████| 425/425 [01:36<00:00,  4.41it/s]\n"
					]
				},
				{
					"output_type": "stream",
					"name": "stdout",
					"text": [
						"epoch=13: train_ppl=tensor(43.7890, device='cuda:0') train_epoch_loss=tensor(3.7794, device='cuda:0') eval_ppl=tensor(83591.4375, device='cuda:0') eval_epoch_loss=tensor(11.3337, device='cuda:0')\n"
					]
				},
				{
					"output_type": "stream",
					"name": "stderr",
					"text": [
						"100%|██████████| 7/7 [00:02<00:00,  2.51it/s]\n",
						"100%|██████████| 425/425 [01:36<00:00,  4.42it/s]\n"
					]
				},
				{
					"output_type": "stream",
					"name": "stdout",
					"text": [
						"epoch=14: train_ppl=tensor(42.4434, device='cuda:0') train_epoch_loss=tensor(3.7482, device='cuda:0') eval_ppl=tensor(86774.9922, device='cuda:0') eval_epoch_loss=tensor(11.3711, device='cuda:0')\n"
					]
				},
				{
					"output_type": "stream",
					"name": "stderr",
					"text": [
						"100%|██████████| 7/7 [00:02<00:00,  2.51it/s]\n",
						"100%|██████████| 425/425 [01:36<00:00,  4.42it/s]\n"
					]
				},
				{
					"output_type": "stream",
					"name": "stdout",
					"text": [
						"epoch=15: train_ppl=tensor(33.2696, device='cuda:0') train_epoch_loss=tensor(3.5046, device='cuda:0') eval_ppl=tensor(126370.9453, device='cuda:0') eval_epoch_loss=tensor(11.7470, device='cuda:0')\n"
					]
				},
				{
					"output_type": "stream",
					"name": "stderr",
					"text": [
						"100%|██████████| 7/7 [00:02<00:00,  2.51it/s]\n",
						"100%|██████████| 425/425 [01:36<00:00,  4.42it/s]\n"
					]
				},
				{
					"output_type": "stream",
					"name": "stdout",
					"text": [
						"epoch=16: train_ppl=tensor(29.5151, device='cuda:0') train_epoch_loss=tensor(3.3849, device='cuda:0') eval_ppl=tensor(112429.3516, device='cuda:0') eval_epoch_loss=tensor(11.6301, device='cuda:0')\n"
					]
				},
				{
					"output_type": "stream",
					"name": "stderr",
					"text": [
						"100%|██████████| 7/7 [00:02<00:00,  2.50it/s]\n",
						"100%|██████████| 425/425 [01:36<00:00,  4.41it/s]\n"
					]
				},
				{
					"output_type": "stream",
					"name": "stdout",
					"text": [
						"epoch=17: train_ppl=tensor(28.0043, device='cuda:0') train_epoch_loss=tensor(3.3324, device='cuda:0') eval_ppl=tensor(149120.7812, device='cuda:0') eval_epoch_loss=tensor(11.9125, device='cuda:0')\n"
					]
				},
				{
					"output_type": "stream",
					"name": "stderr",
					"text": [
						"100%|██████████| 7/7 [00:02<00:00,  2.51it/s]\n",
						"100%|██████████| 425/425 [01:37<00:00,  4.37it/s]\n"
					]
				},
				{
					"output_type": "stream",
					"name": "stdout",
					"text": [
						"epoch=18: train_ppl=tensor(24.7092, device='cuda:0') train_epoch_loss=tensor(3.2072, device='cuda:0') eval_ppl=tensor(220053.3438, device='cuda:0') eval_epoch_loss=tensor(12.3016, device='cuda:0')\n"
					]
				},
				{
					"output_type": "stream",
					"name": "stderr",
					"text": [
						"100%|██████████| 7/7 [00:02<00:00,  2.50it/s]\n",
						"100%|██████████| 425/425 [01:36<00:00,  4.40it/s]\n"
					]
				},
				{
					"output_type": "stream",
					"name": "stdout",
					"text": [
						"epoch=19: train_ppl=tensor(21.4494, device='cuda:0') train_epoch_loss=tensor(3.0657, device='cuda:0') eval_ppl=tensor(333289.0312, device='cuda:0') eval_epoch_loss=tensor(12.7168, device='cuda:0')\n"
					]
				},
				{
					"output_type": "stream",
					"name": "stderr",
					"text": [
						"100%|██████████| 7/7 [00:02<00:00,  2.50it/s]\n",
						"100%|██████████| 425/425 [01:36<00:00,  4.40it/s]\n"
					]
				},
				{
					"output_type": "stream",
					"name": "stdout",
					"text": [
						"epoch=20: train_ppl=tensor(18.7471, device='cuda:0') train_epoch_loss=tensor(2.9310, device='cuda:0') eval_ppl=tensor(316358.6562, device='cuda:0') eval_epoch_loss=tensor(12.6646, device='cuda:0')\n"
					]
				},
				{
					"output_type": "stream",
					"name": "stderr",
					"text": [
						"100%|██████████| 7/7 [00:02<00:00,  2.51it/s]\n",
						"100%|██████████| 425/425 [01:36<00:00,  4.39it/s]\n"
					]
				},
				{
					"output_type": "stream",
					"name": "stdout",
					"text": [
						"epoch=21: train_ppl=tensor(16.1639, device='cuda:0') train_epoch_loss=tensor(2.7828, device='cuda:0') eval_ppl=tensor(242699.6719, device='cuda:0') eval_epoch_loss=tensor(12.3996, device='cuda:0')\n"
					]
				},
				{
					"output_type": "stream",
					"name": "stderr",
					"text": [
						"100%|██████████| 7/7 [00:02<00:00,  2.51it/s]\n",
						"100%|██████████| 425/425 [01:35<00:00,  4.43it/s]\n"
					]
				},
				{
					"output_type": "stream",
					"name": "stdout",
					"text": [
						"epoch=22: train_ppl=tensor(17.9585, device='cuda:0') train_epoch_loss=tensor(2.8881, device='cuda:0') eval_ppl=tensor(469053.3125, device='cuda:0') eval_epoch_loss=tensor(13.0585, device='cuda:0')\n"
					]
				},
				{
					"output_type": "stream",
					"name": "stderr",
					"text": [
						"100%|██████████| 7/7 [00:02<00:00,  2.51it/s]\n",
						"100%|██████████| 425/425 [01:36<00:00,  4.42it/s]\n"
					]
				},
				{
					"output_type": "stream",
					"name": "stdout",
					"text": [
						"epoch=23: train_ppl=tensor(14.0372, device='cuda:0') train_epoch_loss=tensor(2.6417, device='cuda:0') eval_ppl=tensor(283532.8438, device='cuda:0') eval_epoch_loss=tensor(12.5551, device='cuda:0')\n"
					]
				},
				{
					"output_type": "stream",
					"name": "stderr",
					"text": [
						"100%|██████████| 7/7 [00:02<00:00,  2.51it/s]\n",
						"100%|██████████| 425/425 [01:36<00:00,  4.41it/s]\n"
					]
				},
				{
					"output_type": "stream",
					"name": "stdout",
					"text": [
						"epoch=24: train_ppl=tensor(11.1421, device='cuda:0') train_epoch_loss=tensor(2.4107, device='cuda:0') eval_ppl=tensor(519726.2188, device='cuda:0') eval_epoch_loss=tensor(13.1611, device='cuda:0')\n"
					]
				},
				{
					"output_type": "stream",
					"name": "stderr",
					"text": [
						"100%|██████████| 7/7 [00:02<00:00,  2.50it/s]\n",
						"100%|██████████| 425/425 [01:36<00:00,  4.41it/s]\n"
					]
				},
				{
					"output_type": "stream",
					"name": "stdout",
					"text": [
						"epoch=25: train_ppl=tensor(9.4393, device='cuda:0') train_epoch_loss=tensor(2.2449, device='cuda:0') eval_ppl=tensor(512009.3125, device='cuda:0') eval_epoch_loss=tensor(13.1461, device='cuda:0')\n"
					]
				},
				{
					"output_type": "stream",
					"name": "stderr",
					"text": [
						"100%|██████████| 7/7 [00:02<00:00,  2.50it/s]\n",
						"100%|██████████| 425/425 [01:36<00:00,  4.40it/s]\n"
					]
				},
				{
					"output_type": "stream",
					"name": "stdout",
					"text": [
						"epoch=26: train_ppl=tensor(7.6802, device='cuda:0') train_epoch_loss=tensor(2.0386, device='cuda:0') eval_ppl=tensor(491032.7500, device='cuda:0') eval_epoch_loss=tensor(13.1043, device='cuda:0')\n"
					]
				},
				{
					"output_type": "stream",
					"name": "stderr",
					"text": [
						"100%|██████████| 7/7 [00:02<00:00,  2.51it/s]\n",
						"100%|██████████| 425/425 [01:36<00:00,  4.41it/s]\n"
					]
				},
				{
					"output_type": "stream",
					"name": "stdout",
					"text": [
						"epoch=27: train_ppl=tensor(7.2856, device='cuda:0') train_epoch_loss=tensor(1.9859, device='cuda:0') eval_ppl=tensor(478664.5625, device='cuda:0') eval_epoch_loss=tensor(13.0788, device='cuda:0')\n"
					]
				},
				{
					"output_type": "stream",
					"name": "stderr",
					"text": [
						"100%|██████████| 7/7 [00:02<00:00,  2.51it/s]\n",
						"100%|██████████| 425/425 [01:36<00:00,  4.42it/s]\n"
					]
				},
				{
					"output_type": "stream",
					"name": "stdout",
					"text": [
						"epoch=28: train_ppl=tensor(6.4072, device='cuda:0') train_epoch_loss=tensor(1.8574, device='cuda:0') eval_ppl=tensor(459021.7188, device='cuda:0') eval_epoch_loss=tensor(13.0369, device='cuda:0')\n"
					]
				},
				{
					"output_type": "stream",
					"name": "stderr",
					"text": [
						"100%|██████████| 7/7 [00:02<00:00,  2.51it/s]\n",
						"100%|██████████| 425/425 [01:36<00:00,  4.41it/s]\n"
					]
				},
				{
					"output_type": "stream",
					"name": "stdout",
					"text": [
						"epoch=29: train_ppl=tensor(5.2546, device='cuda:0') train_epoch_loss=tensor(1.6591, device='cuda:0') eval_ppl=tensor(371672.9062, device='cuda:0') eval_epoch_loss=tensor(12.8258, device='cuda:0')\n"
					]
				},
				{
					"output_type": "stream",
					"name": "stderr",
					"text": [
						"100%|██████████| 7/7 [00:02<00:00,  2.50it/s]\n",
						"100%|██████████| 425/425 [01:36<00:00,  4.40it/s]\n"
					]
				},
				{
					"output_type": "stream",
					"name": "stdout",
					"text": [
						"epoch=30: train_ppl=tensor(4.9356, device='cuda:0') train_epoch_loss=tensor(1.5965, device='cuda:0') eval_ppl=tensor(432527.7500, device='cuda:0') eval_epoch_loss=tensor(12.9774, device='cuda:0')\n"
					]
				},
				{
					"output_type": "stream",
					"name": "stderr",
					"text": [
						"100%|██████████| 7/7 [00:02<00:00,  2.50it/s]\n",
						"100%|██████████| 425/425 [01:36<00:00,  4.41it/s]\n"
					]
				},
				{
					"output_type": "stream",
					"name": "stdout",
					"text": [
						"epoch=31: train_ppl=tensor(4.3033, device='cuda:0') train_epoch_loss=tensor(1.4594, device='cuda:0') eval_ppl=tensor(344054.1250, device='cuda:0') eval_epoch_loss=tensor(12.7486, device='cuda:0')\n"
					]
				},
				{
					"output_type": "stream",
					"name": "stderr",
					"text": [
						"100%|██████████| 7/7 [00:02<00:00,  2.51it/s]\n",
						"100%|██████████| 425/425 [01:36<00:00,  4.41it/s]\n"
					]
				},
				{
					"output_type": "stream",
					"name": "stdout",
					"text": [
						"epoch=32: train_ppl=tensor(3.9079, device='cuda:0') train_epoch_loss=tensor(1.3630, device='cuda:0') eval_ppl=tensor(371710.1250, device='cuda:0') eval_epoch_loss=tensor(12.8259, device='cuda:0')\n"
					]
				},
				{
					"output_type": "stream",
					"name": "stderr",
					"text": [
						"100%|██████████| 7/7 [00:02<00:00,  2.51it/s]\n",
						"100%|██████████| 425/425 [01:36<00:00,  4.42it/s]\n"
					]
				},
				{
					"output_type": "stream",
					"name": "stdout",
					"text": [
						"epoch=33: train_ppl=tensor(3.7960, device='cuda:0') train_epoch_loss=tensor(1.3339, device='cuda:0') eval_ppl=tensor(352521.5938, device='cuda:0') eval_epoch_loss=tensor(12.7729, device='cuda:0')\n"
					]
				},
				{
					"output_type": "stream",
					"name": "stderr",
					"text": [
						"100%|██████████| 7/7 [00:02<00:00,  2.51it/s]\n",
						"100%|██████████| 425/425 [01:36<00:00,  4.42it/s]\n"
					]
				},
				{
					"output_type": "stream",
					"name": "stdout",
					"text": [
						"epoch=34: train_ppl=tensor(3.1931, device='cuda:0') train_epoch_loss=tensor(1.1610, device='cuda:0') eval_ppl=tensor(282432.5625, device='cuda:0') eval_epoch_loss=tensor(12.5512, device='cuda:0')\n"
					]
				},
				{
					"output_type": "stream",
					"name": "stderr",
					"text": [
						"100%|██████████| 7/7 [00:02<00:00,  2.51it/s]\n",
						"100%|██████████| 425/425 [01:36<00:00,  4.41it/s]\n"
					]
				},
				{
					"output_type": "stream",
					"name": "stdout",
					"text": [
						"epoch=35: train_ppl=tensor(3.0365, device='cuda:0') train_epoch_loss=tensor(1.1107, device='cuda:0') eval_ppl=tensor(302547.1250, device='cuda:0') eval_epoch_loss=tensor(12.6200, device='cuda:0')\n"
					]
				},
				{
					"output_type": "stream",
					"name": "stderr",
					"text": [
						"100%|██████████| 7/7 [00:02<00:00,  2.50it/s]\n",
						"100%|██████████| 425/425 [01:36<00:00,  4.42it/s]\n"
					]
				},
				{
					"output_type": "stream",
					"name": "stdout",
					"text": [
						"epoch=36: train_ppl=tensor(2.7839, device='cuda:0') train_epoch_loss=tensor(1.0239, device='cuda:0') eval_ppl=tensor(335179.2188, device='cuda:0') eval_epoch_loss=tensor(12.7224, device='cuda:0')\n"
					]
				},
				{
					"output_type": "stream",
					"name": "stderr",
					"text": [
						"100%|██████████| 7/7 [00:02<00:00,  2.50it/s]\n",
						"100%|██████████| 425/425 [01:36<00:00,  4.41it/s]\n"
					]
				},
				{
					"output_type": "stream",
					"name": "stdout",
					"text": [
						"epoch=37: train_ppl=tensor(2.7187, device='cuda:0') train_epoch_loss=tensor(1.0002, device='cuda:0') eval_ppl=tensor(328425.2500, device='cuda:0') eval_epoch_loss=tensor(12.7021, device='cuda:0')\n"
					]
				},
				{
					"output_type": "stream",
					"name": "stderr",
					"text": [
						"100%|██████████| 7/7 [00:02<00:00,  2.51it/s]\n",
						"100%|██████████| 425/425 [01:36<00:00,  4.42it/s]\n"
					]
				},
				{
					"output_type": "stream",
					"name": "stdout",
					"text": [
						"epoch=38: train_ppl=tensor(2.6141, device='cuda:0') train_epoch_loss=tensor(0.9609, device='cuda:0') eval_ppl=tensor(322126.3750, device='cuda:0') eval_epoch_loss=tensor(12.6827, device='cuda:0')\n"
					]
				},
				{
					"output_type": "stream",
					"name": "stderr",
					"text": [
						"100%|██████████| 7/7 [00:02<00:00,  2.51it/s]\n",
						"100%|██████████| 425/425 [01:36<00:00,  4.41it/s]\n"
					]
				},
				{
					"output_type": "stream",
					"name": "stdout",
					"text": [
						"epoch=39: train_ppl=tensor(2.4062, device='cuda:0') train_epoch_loss=tensor(0.8780, device='cuda:0') eval_ppl=tensor(332872.9375, device='cuda:0') eval_epoch_loss=tensor(12.7155, device='cuda:0')\n"
					]
				},
				{
					"output_type": "stream",
					"name": "stderr",
					"text": [
						"100%|██████████| 7/7 [00:02<00:00,  2.51it/s]\n",
						"100%|██████████| 425/425 [01:36<00:00,  4.38it/s]\n"
					]
				},
				{
					"output_type": "stream",
					"name": "stdout",
					"text": [
						"epoch=40: train_ppl=tensor(2.3543, device='cuda:0') train_epoch_loss=tensor(0.8562, device='cuda:0') eval_ppl=tensor(341375.0312, device='cuda:0') eval_epoch_loss=tensor(12.7407, device='cuda:0')\n"
					]
				},
				{
					"output_type": "stream",
					"name": "stderr",
					"text": [
						"100%|██████████| 7/7 [00:02<00:00,  2.47it/s]\n",
						"100%|██████████| 425/425 [01:36<00:00,  4.40it/s]\n"
					]
				},
				{
					"output_type": "stream",
					"name": "stdout",
					"text": [
						"epoch=41: train_ppl=tensor(2.3224, device='cuda:0') train_epoch_loss=tensor(0.8426, device='cuda:0') eval_ppl=tensor(367089.9062, device='cuda:0') eval_epoch_loss=tensor(12.8134, device='cuda:0')\n"
					]
				},
				{
					"output_type": "stream",
					"name": "stderr",
					"text": [
						"100%|██████████| 7/7 [00:02<00:00,  2.51it/s]\n",
						"100%|██████████| 425/425 [01:36<00:00,  4.41it/s]\n"
					]
				},
				{
					"output_type": "stream",
					"name": "stdout",
					"text": [
						"epoch=42: train_ppl=tensor(2.2298, device='cuda:0') train_epoch_loss=tensor(0.8019, device='cuda:0') eval_ppl=tensor(388235.5938, device='cuda:0') eval_epoch_loss=tensor(12.8694, device='cuda:0')\n"
					]
				},
				{
					"output_type": "stream",
					"name": "stderr",
					"text": [
						"100%|██████████| 7/7 [00:02<00:00,  2.50it/s]\n",
						"100%|██████████| 425/425 [01:36<00:00,  4.41it/s]\n"
					]
				},
				{
					"output_type": "stream",
					"name": "stdout",
					"text": [
						"epoch=43: train_ppl=tensor(2.1543, device='cuda:0') train_epoch_loss=tensor(0.7674, device='cuda:0') eval_ppl=tensor(354245.0938, device='cuda:0') eval_epoch_loss=tensor(12.7777, device='cuda:0')\n"
					]
				},
				{
					"output_type": "stream",
					"name": "stderr",
					"text": [
						"100%|██████████| 7/7 [00:02<00:00,  2.51it/s]\n",
						"100%|██████████| 425/425 [01:36<00:00,  4.41it/s]\n"
					]
				},
				{
					"output_type": "stream",
					"name": "stdout",
					"text": [
						"epoch=44: train_ppl=tensor(2.1531, device='cuda:0') train_epoch_loss=tensor(0.7669, device='cuda:0') eval_ppl=tensor(361945.0625, device='cuda:0') eval_epoch_loss=tensor(12.7992, device='cuda:0')\n"
					]
				},
				{
					"output_type": "stream",
					"name": "stderr",
					"text": [
						"100%|██████████| 7/7 [00:02<00:00,  2.51it/s]\n",
						"100%|██████████| 425/425 [01:36<00:00,  4.41it/s]\n"
					]
				},
				{
					"output_type": "stream",
					"name": "stdout",
					"text": [
						"epoch=45: train_ppl=tensor(2.1970, device='cuda:0') train_epoch_loss=tensor(0.7871, device='cuda:0') eval_ppl=tensor(361945.0625, device='cuda:0') eval_epoch_loss=tensor(12.7992, device='cuda:0')\n"
					]
				},
				{
					"output_type": "stream",
					"name": "stderr",
					"text": [
						"100%|██████████| 7/7 [00:02<00:00,  2.50it/s]\n",
						"100%|██████████| 425/425 [01:36<00:00,  4.40it/s]\n"
					]
				},
				{
					"output_type": "stream",
					"name": "stdout",
					"text": [
						"epoch=46: train_ppl=tensor(2.1247, device='cuda:0') train_epoch_loss=tensor(0.7536, device='cuda:0') eval_ppl=tensor(361945.0625, device='cuda:0') eval_epoch_loss=tensor(12.7992, device='cuda:0')\n"
					]
				},
				{
					"output_type": "stream",
					"name": "stderr",
					"text": [
						"100%|██████████| 7/7 [00:02<00:00,  2.50it/s]\n",
						"100%|██████████| 425/425 [01:36<00:00,  4.42it/s]\n"
					]
				},
				{
					"output_type": "stream",
					"name": "stdout",
					"text": [
						"epoch=47: train_ppl=tensor(2.1371, device='cuda:0') train_epoch_loss=tensor(0.7595, device='cuda:0') eval_ppl=tensor(361945.0625, device='cuda:0') eval_epoch_loss=tensor(12.7992, device='cuda:0')\n"
					]
				},
				{
					"output_type": "stream",
					"name": "stderr",
					"text": [
						"100%|██████████| 7/7 [00:02<00:00,  2.50it/s]\n",
						"100%|██████████| 425/425 [01:36<00:00,  4.41it/s]\n"
					]
				},
				{
					"output_type": "stream",
					"name": "stdout",
					"text": [
						"epoch=48: train_ppl=tensor(2.1454, device='cuda:0') train_epoch_loss=tensor(0.7633, device='cuda:0') eval_ppl=tensor(361945.0625, device='cuda:0') eval_epoch_loss=tensor(12.7992, device='cuda:0')\n"
					]
				},
				{
					"output_type": "stream",
					"name": "stderr",
					"text": [
						"100%|██████████| 7/7 [00:02<00:00,  2.50it/s]\n",
						"100%|██████████| 425/425 [01:36<00:00,  4.41it/s]"
					]
				},
				{
					"output_type": "stream",
					"name": "stdout",
					"text": [
						"epoch=49: train_ppl=tensor(2.1386, device='cuda:0') train_epoch_loss=tensor(0.7601, device='cuda:0') eval_ppl=tensor(361945.0625, device='cuda:0') eval_epoch_loss=tensor(12.7992, device='cuda:0')\n"
					]
				},
				{
					"output_type": "stream",
					"name": "stderr",
					"text": [
						"\n"
					]
				}
			]
		},
		{
			"cell_type": "markdown",
			"source": [
				"# 학습이 끝난 모델을 sample text에 대한 Inference"
			],
			"metadata": {
				"id": "NF1CMIIPZHB2"
			}
		},
		{
			"cell_type": "code",
			"source": [
				"inputs = tokenizer(\n",
				"    f'{text_column} : {\"@nationalgridus I have no water and the bill is current and paid. Can you do something about this?\"} Label : ',\n",
				"    return_tensors=\"pt\",\n",
				")"
			],
			"metadata": {
				"id": "5a9QJydYNITc"
			},
			"execution_count": null,
			"outputs": []
		},
		{
			"cell_type": "code",
			"source": [
				"model.to(device)\n",
				"\n",
				"with torch.no_grad():\n",
				"    inputs = {k: v.to(device) for k, v in inputs.items()}\n",
				"    outputs = model.generate(\n",
				"        input_ids=inputs[\"input_ids\"], attention_mask=inputs[\"attention_mask\"], max_new_tokens=10, eos_token_id=3\n",
				"    )\n",
				"    print(tokenizer.batch_decode(outputs.detach().cpu().numpy(), skip_special_tokens=True))"
			],
			"metadata": {
				"colab": {
					"base_uri": "https://localhost:8080/"
				},
				"id": "8mzmC4UnZCxX",
				"outputId": "4fd9a922-7031-4103-ea73-190787c444c6"
			},
			"execution_count": null,
			"outputs": [
				{
					"output_type": "stream",
					"name": "stdout",
					"text": [
						"['Tweet text : @nationalgridus I have no water and the bill is current and paid. Can you do something about this? Label : complaint']\n"
					]
				}
			]
		},
		{
			"cell_type": "code",
			"source": [],
			"metadata": {
				"id": "MJL4OcteoSi5"
			},
			"execution_count": null,
			"outputs": []
		}
	]
}