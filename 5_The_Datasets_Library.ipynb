{
  "cells": [
    {
      "cell_type": "markdown",
      "metadata": {
        "id": "view-in-github",
        "colab_type": "text"
      },
      "source": [
        "<a href=\"https://colab.research.google.com/github/dkimds/HF-Transformer/blob/main/5_The_Datasets_Library.ipynb\" target=\"_parent\"><img src=\"https://colab.research.google.com/assets/colab-badge.svg\" alt=\"Open In Colab\"/></a>"
      ]
    },
    {
      "cell_type": "markdown",
      "metadata": {
        "id": "Tf5RfVbglRT8"
      },
      "source": [
        "# The Datasets Library"
      ]
    },
    {
      "cell_type": "code",
      "execution_count": null,
      "metadata": {
        "colab": {
          "base_uri": "https://localhost:8080/"
        },
        "id": "C43951jg0htj",
        "outputId": "5944fcfd-3d0c-45d4-f762-14c79b860283"
      },
      "outputs": [
        {
          "output_type": "stream",
          "name": "stdout",
          "text": [
            "Looking in indexes: https://pypi.org/simple, https://us-python.pkg.dev/colab-wheels/public/simple/\n",
            "Collecting datasets\n",
            "  Downloading datasets-2.12.0-py3-none-any.whl (474 kB)\n",
            "\u001b[2K     \u001b[90m━━━━━━━━━━━━━━━━━━━━━━━━━━━━━━━━━━━━━━\u001b[0m \u001b[32m474.6/474.6 kB\u001b[0m \u001b[31m34.0 MB/s\u001b[0m eta \u001b[36m0:00:00\u001b[0m\n",
            "\u001b[?25hCollecting evaluate\n",
            "  Downloading evaluate-0.4.0-py3-none-any.whl (81 kB)\n",
            "\u001b[2K     \u001b[90m━━━━━━━━━━━━━━━━━━━━━━━━━━━━━━━━━━━━━━━━\u001b[0m \u001b[32m81.4/81.4 kB\u001b[0m \u001b[31m12.5 MB/s\u001b[0m eta \u001b[36m0:00:00\u001b[0m\n",
            "\u001b[?25hCollecting transformers[sentencepice]\n",
            "  Downloading transformers-4.29.2-py3-none-any.whl (7.1 MB)\n",
            "\u001b[2K     \u001b[90m━━━━━━━━━━━━━━━━━━━━━━━━━━━━━━━━━━━━━━━━\u001b[0m \u001b[32m7.1/7.1 MB\u001b[0m \u001b[31m109.2 MB/s\u001b[0m eta \u001b[36m0:00:00\u001b[0m\n",
            "\u001b[?25hRequirement already satisfied: numpy>=1.17 in /usr/local/lib/python3.10/dist-packages (from datasets) (1.22.4)\n",
            "Requirement already satisfied: pyarrow>=8.0.0 in /usr/local/lib/python3.10/dist-packages (from datasets) (9.0.0)\n",
            "Collecting dill<0.3.7,>=0.3.0 (from datasets)\n",
            "  Downloading dill-0.3.6-py3-none-any.whl (110 kB)\n",
            "\u001b[2K     \u001b[90m━━━━━━━━━━━━━━━━━━━━━━━━━━━━━━━━━━━━━━\u001b[0m \u001b[32m110.5/110.5 kB\u001b[0m \u001b[31m16.5 MB/s\u001b[0m eta \u001b[36m0:00:00\u001b[0m\n",
            "\u001b[?25hRequirement already satisfied: pandas in /usr/local/lib/python3.10/dist-packages (from datasets) (1.5.3)\n",
            "Requirement already satisfied: requests>=2.19.0 in /usr/local/lib/python3.10/dist-packages (from datasets) (2.27.1)\n",
            "Requirement already satisfied: tqdm>=4.62.1 in /usr/local/lib/python3.10/dist-packages (from datasets) (4.65.0)\n",
            "Collecting xxhash (from datasets)\n",
            "  Downloading xxhash-3.2.0-cp310-cp310-manylinux_2_17_x86_64.manylinux2014_x86_64.whl (212 kB)\n",
            "\u001b[2K     \u001b[90m━━━━━━━━━━━━━━━━━━━━━━━━━━━━━━━━━━━━━━\u001b[0m \u001b[32m212.5/212.5 kB\u001b[0m \u001b[31m22.6 MB/s\u001b[0m eta \u001b[36m0:00:00\u001b[0m\n",
            "\u001b[?25hCollecting multiprocess (from datasets)\n",
            "  Downloading multiprocess-0.70.14-py310-none-any.whl (134 kB)\n",
            "\u001b[2K     \u001b[90m━━━━━━━━━━━━━━━━━━━━━━━━━━━━━━━━━━━━━━\u001b[0m \u001b[32m134.3/134.3 kB\u001b[0m \u001b[31m21.6 MB/s\u001b[0m eta \u001b[36m0:00:00\u001b[0m\n",
            "\u001b[?25hRequirement already satisfied: fsspec[http]>=2021.11.1 in /usr/local/lib/python3.10/dist-packages (from datasets) (2023.4.0)\n",
            "Collecting aiohttp (from datasets)\n",
            "  Downloading aiohttp-3.8.4-cp310-cp310-manylinux_2_17_x86_64.manylinux2014_x86_64.whl (1.0 MB)\n",
            "\u001b[2K     \u001b[90m━━━━━━━━━━━━━━━━━━━━━━━━━━━━━━━━━━━━━━━━\u001b[0m \u001b[32m1.0/1.0 MB\u001b[0m \u001b[31m75.3 MB/s\u001b[0m eta \u001b[36m0:00:00\u001b[0m\n",
            "\u001b[?25hCollecting huggingface-hub<1.0.0,>=0.11.0 (from datasets)\n",
            "  Downloading huggingface_hub-0.14.1-py3-none-any.whl (224 kB)\n",
            "\u001b[2K     \u001b[90m━━━━━━━━━━━━━━━━━━━━━━━━━━━━━━━━━━━━━━\u001b[0m \u001b[32m224.5/224.5 kB\u001b[0m \u001b[31m30.5 MB/s\u001b[0m eta \u001b[36m0:00:00\u001b[0m\n",
            "\u001b[?25hRequirement already satisfied: packaging in /usr/local/lib/python3.10/dist-packages (from datasets) (23.1)\n",
            "Collecting responses<0.19 (from datasets)\n",
            "  Downloading responses-0.18.0-py3-none-any.whl (38 kB)\n",
            "Requirement already satisfied: pyyaml>=5.1 in /usr/local/lib/python3.10/dist-packages (from datasets) (6.0)\n",
            "\u001b[33mWARNING: transformers 4.29.2 does not provide the extra 'sentencepice'\u001b[0m\u001b[33m\n",
            "\u001b[0mRequirement already satisfied: filelock in /usr/local/lib/python3.10/dist-packages (from transformers[sentencepice]) (3.12.0)\n",
            "Requirement already satisfied: regex!=2019.12.17 in /usr/local/lib/python3.10/dist-packages (from transformers[sentencepice]) (2022.10.31)\n",
            "Collecting tokenizers!=0.11.3,<0.14,>=0.11.1 (from transformers[sentencepice])\n",
            "  Downloading tokenizers-0.13.3-cp310-cp310-manylinux_2_17_x86_64.manylinux2014_x86_64.whl (7.8 MB)\n",
            "\u001b[2K     \u001b[90m━━━━━━━━━━━━━━━━━━━━━━━━━━━━━━━━━━━━━━━━\u001b[0m \u001b[32m7.8/7.8 MB\u001b[0m \u001b[31m93.4 MB/s\u001b[0m eta \u001b[36m0:00:00\u001b[0m\n",
            "\u001b[?25hRequirement already satisfied: attrs>=17.3.0 in /usr/local/lib/python3.10/dist-packages (from aiohttp->datasets) (23.1.0)\n",
            "Requirement already satisfied: charset-normalizer<4.0,>=2.0 in /usr/local/lib/python3.10/dist-packages (from aiohttp->datasets) (2.0.12)\n",
            "Collecting multidict<7.0,>=4.5 (from aiohttp->datasets)\n",
            "  Downloading multidict-6.0.4-cp310-cp310-manylinux_2_17_x86_64.manylinux2014_x86_64.whl (114 kB)\n",
            "\u001b[2K     \u001b[90m━━━━━━━━━━━━━━━━━━━━━━━━━━━━━━━━━━━━━━\u001b[0m \u001b[32m114.5/114.5 kB\u001b[0m \u001b[31m15.9 MB/s\u001b[0m eta \u001b[36m0:00:00\u001b[0m\n",
            "\u001b[?25hCollecting async-timeout<5.0,>=4.0.0a3 (from aiohttp->datasets)\n",
            "  Downloading async_timeout-4.0.2-py3-none-any.whl (5.8 kB)\n",
            "Collecting yarl<2.0,>=1.0 (from aiohttp->datasets)\n",
            "  Downloading yarl-1.9.2-cp310-cp310-manylinux_2_17_x86_64.manylinux2014_x86_64.whl (268 kB)\n",
            "\u001b[2K     \u001b[90m━━━━━━━━━━━━━━━━━━━━━━━━━━━━━━━━━━━━━━\u001b[0m \u001b[32m268.8/268.8 kB\u001b[0m \u001b[31m37.3 MB/s\u001b[0m eta \u001b[36m0:00:00\u001b[0m\n",
            "\u001b[?25hCollecting frozenlist>=1.1.1 (from aiohttp->datasets)\n",
            "  Downloading frozenlist-1.3.3-cp310-cp310-manylinux_2_5_x86_64.manylinux1_x86_64.manylinux_2_17_x86_64.manylinux2014_x86_64.whl (149 kB)\n",
            "\u001b[2K     \u001b[90m━━━━━━━━━━━━━━━━━━━━━━━━━━━━━━━━━━━━━━\u001b[0m \u001b[32m149.6/149.6 kB\u001b[0m \u001b[31m20.3 MB/s\u001b[0m eta \u001b[36m0:00:00\u001b[0m\n",
            "\u001b[?25hCollecting aiosignal>=1.1.2 (from aiohttp->datasets)\n",
            "  Downloading aiosignal-1.3.1-py3-none-any.whl (7.6 kB)\n",
            "Requirement already satisfied: typing-extensions>=3.7.4.3 in /usr/local/lib/python3.10/dist-packages (from huggingface-hub<1.0.0,>=0.11.0->datasets) (4.5.0)\n",
            "Requirement already satisfied: urllib3<1.27,>=1.21.1 in /usr/local/lib/python3.10/dist-packages (from requests>=2.19.0->datasets) (1.26.15)\n",
            "Requirement already satisfied: certifi>=2017.4.17 in /usr/local/lib/python3.10/dist-packages (from requests>=2.19.0->datasets) (2022.12.7)\n",
            "Requirement already satisfied: idna<4,>=2.5 in /usr/local/lib/python3.10/dist-packages (from requests>=2.19.0->datasets) (3.4)\n",
            "Requirement already satisfied: python-dateutil>=2.8.1 in /usr/local/lib/python3.10/dist-packages (from pandas->datasets) (2.8.2)\n",
            "Requirement already satisfied: pytz>=2020.1 in /usr/local/lib/python3.10/dist-packages (from pandas->datasets) (2022.7.1)\n",
            "Requirement already satisfied: six>=1.5 in /usr/local/lib/python3.10/dist-packages (from python-dateutil>=2.8.1->pandas->datasets) (1.16.0)\n",
            "Installing collected packages: tokenizers, xxhash, multidict, frozenlist, dill, async-timeout, yarl, responses, multiprocess, huggingface-hub, aiosignal, transformers, aiohttp, datasets, evaluate\n",
            "Successfully installed aiohttp-3.8.4 aiosignal-1.3.1 async-timeout-4.0.2 datasets-2.12.0 dill-0.3.6 evaluate-0.4.0 frozenlist-1.3.3 huggingface-hub-0.14.1 multidict-6.0.4 multiprocess-0.70.14 responses-0.18.0 tokenizers-0.13.3 transformers-4.29.2 xxhash-3.2.0 yarl-1.9.2\n"
          ]
        }
      ],
      "source": [
        "!pip install datasets evaluate transformers[sentencepice]"
      ]
    },
    {
      "cell_type": "markdown",
      "metadata": {
        "id": "OErzXTNu0xEN"
      },
      "source": [
        "## What if my datasets isn't on the Hub?"
      ]
    },
    {
      "cell_type": "code",
      "execution_count": null,
      "metadata": {
        "colab": {
          "base_uri": "https://localhost:8080/"
        },
        "id": "tDLrxy6W1Wjd",
        "outputId": "a210dc1d-cc06-452b-e72c-9955d8c20e0e"
      },
      "outputs": [
        {
          "output_type": "stream",
          "name": "stdout",
          "text": [
            "--2023-05-18 05:04:36--  https://github.com/crux82/squad-it/raw/master/SQuAD_it-train.json.gz\n",
            "Resolving github.com (github.com)... 20.205.243.166\n",
            "Connecting to github.com (github.com)|20.205.243.166|:443... connected.\n",
            "HTTP request sent, awaiting response... 302 Found\n",
            "Location: https://raw.githubusercontent.com/crux82/squad-it/master/SQuAD_it-train.json.gz [following]\n",
            "--2023-05-18 05:04:36--  https://raw.githubusercontent.com/crux82/squad-it/master/SQuAD_it-train.json.gz\n",
            "Resolving raw.githubusercontent.com (raw.githubusercontent.com)... 185.199.108.133, 185.199.109.133, 185.199.110.133, ...\n",
            "Connecting to raw.githubusercontent.com (raw.githubusercontent.com)|185.199.108.133|:443... connected.\n",
            "HTTP request sent, awaiting response... 200 OK\n",
            "Length: 7725286 (7.4M) [application/octet-stream]\n",
            "Saving to: ‘SQuAD_it-train.json.gz’\n",
            "\n",
            "SQuAD_it-train.json 100%[===================>]   7.37M  --.-KB/s    in 0.02s   \n",
            "\n",
            "2023-05-18 05:04:37 (363 MB/s) - ‘SQuAD_it-train.json.gz’ saved [7725286/7725286]\n",
            "\n",
            "--2023-05-18 05:04:37--  https://github.com/crux82/squad-it/raw/master/SQuAD_it-test.json.gz\n",
            "Resolving github.com (github.com)... 20.205.243.166\n",
            "Connecting to github.com (github.com)|20.205.243.166|:443... connected.\n",
            "HTTP request sent, awaiting response... 302 Found\n",
            "Location: https://raw.githubusercontent.com/crux82/squad-it/master/SQuAD_it-test.json.gz [following]\n",
            "--2023-05-18 05:04:37--  https://raw.githubusercontent.com/crux82/squad-it/master/SQuAD_it-test.json.gz\n",
            "Resolving raw.githubusercontent.com (raw.githubusercontent.com)... 185.199.110.133, 185.199.109.133, 185.199.108.133, ...\n",
            "Connecting to raw.githubusercontent.com (raw.githubusercontent.com)|185.199.110.133|:443... connected.\n",
            "HTTP request sent, awaiting response... 200 OK\n",
            "Length: 1051245 (1.0M) [application/octet-stream]\n",
            "Saving to: ‘SQuAD_it-test.json.gz’\n",
            "\n",
            "SQuAD_it-test.json. 100%[===================>]   1.00M  --.-KB/s    in 0.01s   \n",
            "\n",
            "2023-05-18 05:04:38 (70.0 MB/s) - ‘SQuAD_it-test.json.gz’ saved [1051245/1051245]\n",
            "\n"
          ]
        }
      ],
      "source": [
        "!wget https://github.com/crux82/squad-it/raw/master/SQuAD_it-train.json.gz\n",
        "!wget https://github.com/crux82/squad-it/raw/master/SQuAD_it-test.json.gz"
      ]
    },
    {
      "cell_type": "code",
      "execution_count": null,
      "metadata": {
        "colab": {
          "base_uri": "https://localhost:8080/"
        },
        "id": "rWoCyRoK1ogh",
        "outputId": "4b27bdf7-3ee0-47f1-a007-a3cb34784cda"
      },
      "outputs": [
        {
          "output_type": "stream",
          "name": "stdout",
          "text": [
            "SQuAD_it-test.json.gz:\t 87.5% -- created SQuAD_it-test.json\n",
            "SQuAD_it-train.json.gz:\t 82.3% -- created SQuAD_it-train.json\n"
          ]
        }
      ],
      "source": [
        "!gzip -dkv SQuAD_it-*.json.gz"
      ]
    },
    {
      "cell_type": "code",
      "execution_count": null,
      "metadata": {
        "colab": {
          "base_uri": "https://localhost:8080/",
          "referenced_widgets": [
            "051bd94e82544de3832377f2d9167358",
            "cad6ae0e2df84694b8639d23e3e6030d",
            "e87faceb89cc4fa0963e4e0e00780aae",
            "ed7695ebc0594a4395a280351d600e15"
          ]
        },
        "id": "kYzTqT-a1xrN",
        "outputId": "1f745260-9dc0-402a-fab6-465450d02322"
      },
      "outputs": [
        {
          "output_type": "stream",
          "name": "stdout",
          "text": [
            "Downloading and preparing dataset json/default to /root/.cache/huggingface/datasets/json/default-0314b5bd869fb58e/0.0.0/e347ab1c932092252e717ff3f949105a4dd28b27e842dd53157d2f72e276c2e4...\n"
          ]
        },
        {
          "output_type": "display_data",
          "data": {
            "text/plain": [
              "Downloading data files:   0%|          | 0/1 [00:00<?, ?it/s]"
            ],
            "application/vnd.jupyter.widget-view+json": {
              "version_major": 2,
              "version_minor": 0,
              "model_id": "051bd94e82544de3832377f2d9167358"
            }
          },
          "metadata": {}
        },
        {
          "output_type": "display_data",
          "data": {
            "text/plain": [
              "Extracting data files:   0%|          | 0/1 [00:00<?, ?it/s]"
            ],
            "application/vnd.jupyter.widget-view+json": {
              "version_major": 2,
              "version_minor": 0,
              "model_id": "cad6ae0e2df84694b8639d23e3e6030d"
            }
          },
          "metadata": {}
        },
        {
          "output_type": "display_data",
          "data": {
            "text/plain": [
              "Generating train split: 0 examples [00:00, ? examples/s]"
            ],
            "application/vnd.jupyter.widget-view+json": {
              "version_major": 2,
              "version_minor": 0,
              "model_id": "e87faceb89cc4fa0963e4e0e00780aae"
            }
          },
          "metadata": {}
        },
        {
          "output_type": "stream",
          "name": "stdout",
          "text": [
            "Dataset json downloaded and prepared to /root/.cache/huggingface/datasets/json/default-0314b5bd869fb58e/0.0.0/e347ab1c932092252e717ff3f949105a4dd28b27e842dd53157d2f72e276c2e4. Subsequent calls will reuse this data.\n"
          ]
        },
        {
          "output_type": "display_data",
          "data": {
            "text/plain": [
              "  0%|          | 0/1 [00:00<?, ?it/s]"
            ],
            "application/vnd.jupyter.widget-view+json": {
              "version_major": 2,
              "version_minor": 0,
              "model_id": "ed7695ebc0594a4395a280351d600e15"
            }
          },
          "metadata": {}
        }
      ],
      "source": [
        "from datasets import load_dataset\n",
        "\n",
        "squad_it_dataset = load_dataset(\"json\", data_files=\"SQuAD_it-train.json\", field=\"data\")"
      ]
    },
    {
      "cell_type": "code",
      "execution_count": null,
      "metadata": {
        "colab": {
          "base_uri": "https://localhost:8080/"
        },
        "id": "PBmh1hNZ2565",
        "outputId": "a436efcb-0e34-4dd5-edb0-7184475a93d1"
      },
      "outputs": [
        {
          "output_type": "execute_result",
          "data": {
            "text/plain": [
              "DatasetDict({\n",
              "    train: Dataset({\n",
              "        features: ['paragraphs', 'title'],\n",
              "        num_rows: 442\n",
              "    })\n",
              "})"
            ]
          },
          "metadata": {},
          "execution_count": 17
        }
      ],
      "source": [
        "squad_it_dataset"
      ]
    },
    {
      "cell_type": "code",
      "execution_count": null,
      "metadata": {
        "colab": {
          "base_uri": "https://localhost:8080/"
        },
        "id": "WSTQAl0x2-Ev",
        "outputId": "42bf4b8d-3645-4a62-9c1b-f598fce3ee05"
      },
      "outputs": [
        {
          "output_type": "execute_result",
          "data": {
            "text/plain": [
              "{'paragraphs': [{'context': \"Il terremoto del Sichuan del 2008 o il terremoto del Gran Sichuan, misurato a 8.0 Ms e 7.9 Mw, e si è verificato alle 02:28:01 PM China Standard Time all' epicentro (06:28:01 UTC) il 12 maggio nella provincia del Sichuan, ha ucciso 69.197 persone e lasciato 18.222 dispersi.\",\n",
              "   'qas': [{'answers': [{'answer_start': 29, 'text': '2008'}],\n",
              "     'id': '56cdca7862d2951400fa6826',\n",
              "     'question': 'In quale anno si è verificato il terremoto nel Sichuan?'},\n",
              "    {'answers': [{'answer_start': 232, 'text': '69.197'}],\n",
              "     'id': '56cdca7862d2951400fa6828',\n",
              "     'question': 'Quante persone sono state uccise come risultato?'},\n",
              "    {'answers': [{'answer_start': 29, 'text': '2008'}],\n",
              "     'id': '56d4f9902ccc5a1400d833c0',\n",
              "     'question': 'Quale anno ha avuto luogo il terremoto del Sichuan?'},\n",
              "    {'answers': [{'answer_start': 78, 'text': '8.0 Ms e 7.9 Mw'}],\n",
              "     'id': '56d4f9902ccc5a1400d833c1',\n",
              "     'question': 'Che cosa ha fatto la misura di sisma?'},\n",
              "    {'answers': [{'answer_start': 183, 'text': '12 maggio'}],\n",
              "     'id': '56d4f9902ccc5a1400d833c2',\n",
              "     'question': 'Che giorno si è verificato il terremoto?'},\n",
              "    {'answers': [{'answer_start': 118,\n",
              "       'text': '02:28:01 PM China Standard Time'}],\n",
              "     'id': '56d4f9902ccc5a1400d833c3',\n",
              "     'question': 'Che ora del giorno è accaduto il terremoto?'},\n",
              "    {'answers': [{'answer_start': 232, 'text': '69.197'}],\n",
              "     'id': '56d4f9902ccc5a1400d833c4',\n",
              "     'question': 'Quante persone sono morte?'}]},\n",
              "  {'context': 'E\\' noto anche come terremoto di Wenchuan (Cinese:????; pinyin: Wènchu? n dà dìzhèn; letteralmente:\"Grande terremoto di Wenchuan\"), dopo l\\' ubicazione dell\\' epicentro del terremoto, Wenchuan County, Sichuan. L\\' epicentro era di 80 chilometri (50 miglia) ad ovest nord-ovest di Chengdu, capoluogo di provincia, con una profondità focale di 19 km (12 miglia). Il terremoto ha colpito anche i paesi vicini e lontani da Pechino e Shanghai-1.500 km (930 mi) e 1.700 km (1.060 mi) di distanza, dove gli edifici adibiti a uffici hanno oscillato con il tremore. Forti scosse di assestamento, un po\\' superiori alla magnitudo 6, hanno continuato a colpire l\\' area anche mesi dopo il sisma principale, causando nuove vittime e danni.',\n",
              "   'qas': [{'answers': [{'answer_start': 415, 'text': 'Pechino e Shanghai'}],\n",
              "     'id': '56cdcb2c62d2951400fa6830',\n",
              "     'question': 'Quali città lontane in altri paesi potrebbero sentire il terremoto?'},\n",
              "    {'answers': [{'answer_start': 338, 'text': '19 km'}],\n",
              "     'id': '56cdcb2c62d2951400fa6833',\n",
              "     'question': 'Qual è stata la profondità focale del terremoto?'},\n",
              "    {'answers': [{'answer_start': 659, 'text': 'mesi dopo'}],\n",
              "     'id': '56cdcb2c62d2951400fa6834',\n",
              "     'question': 'Quanto tempo dopo il terremoto si sono sentite le scosse di assestamento?'},\n",
              "    {'answers': [{'answer_start': 181, 'text': 'Wenchuan County, Sichuan'}],\n",
              "     'id': '56d4fb6f2ccc5a1400d833d5',\n",
              "     'question': \"Dov' era l' epicentro del terremoto?\"},\n",
              "    {'answers': [{'answer_start': 227, 'text': '80 chilometri'}],\n",
              "     'id': '56d4fb6f2ccc5a1400d833d6',\n",
              "     'question': 'Quanto lontano era da Chengdu?'},\n",
              "    {'answers': [{'answer_start': 338, 'text': '19 km'}],\n",
              "     'id': '56d4fb6f2ccc5a1400d833d7',\n",
              "     'question': 'Qual era la profondità focale del sisma?'}]},\n",
              "  {'context': \"I dati ufficiali (al 21 luglio 2008 ore 12:00 CST) hanno dichiarato che 69.197 sono stati confermati morti, di cui 68.636 nella provincia del Sichuan e 374.176 feriti, di cui 18.222 scomparsi. Il terremoto ha lasciato circa 4,8 milioni di senzatetto, anche se il numero potrebbe raggiungere gli 11 milioni. Circa 15 milioni di persone vivevano nell' area colpita. E' stato il terremoto più mortale per colpire la Cina dopo il terremoto di Tangshan 1976, che ha ucciso almeno 240.000 persone, e il più forte del paese dal terremoto di Chayu 1950, che ha registrato a 8,5 sulla scala di magnitudo Richter. E' il 21° terremoto più morto di tutti i tempi. Il 6 novembre 2008, il governo centrale ha annunciato che avrebbe speso 1 trilione di RMB (circa 146,5 miliardi di dollari USA) nei prossimi tre anni per ricostruire le aree devastate dal terremoto, come parte del programma cinese di stimolo economico.\",\n",
              "   'qas': [{'answers': [{'answer_start': 72, 'text': '69.197'}],\n",
              "     'id': '56cdcbb762d2951400fa683a',\n",
              "     'question': 'Quante persone sono state confermate morte?'},\n",
              "    {'answers': [{'answer_start': 115, 'text': '68.636'}],\n",
              "     'id': '56cdcbb762d2951400fa683b',\n",
              "     'question': 'Quanti morti sono stati confermati solo nella provincia del Sichuan?'},\n",
              "    {'answers': [{'answer_start': 224, 'text': '4,8 milioni'}],\n",
              "     'id': '56cdcbb762d2951400fa683c',\n",
              "     'question': 'Quante persone sono rimaste senza tetto a causa del terremoto?'},\n",
              "    {'answers': [{'answer_start': 313, 'text': '15 milioni'}],\n",
              "     'id': '56cdcbb762d2951400fa683d',\n",
              "     'question': 'Quante persone hanno vissuto nella zona colpita?'},\n",
              "    {'answers': [{'answer_start': 724, 'text': '1 trilione di RMB'}],\n",
              "     'id': '56cdcbb762d2951400fa683e',\n",
              "     'question': 'Quanto denaro è stato destinato alla ricostruzione di aree devastate?'},\n",
              "    {'answers': [{'answer_start': 115, 'text': '68.636'}],\n",
              "     'id': '56d4fca52ccc5a1400d833de',\n",
              "     'question': 'Quante persone sono morte nella provincia del Sichuan?'},\n",
              "    {'answers': [{'answer_start': 152, 'text': '374.176'}],\n",
              "     'id': '56d4fca52ccc5a1400d833df',\n",
              "     'question': 'Quanti sono stati feriti nel Sichuan?'},\n",
              "    {'answers': [{'answer_start': 175, 'text': '18.222'}],\n",
              "     'id': '56d4fca52ccc5a1400d833e0',\n",
              "     'question': 'Quante persone sono elencate come scomparse?'},\n",
              "    {'answers': [{'answer_start': 224, 'text': '4,8 milioni'}],\n",
              "     'id': '56d4fca52ccc5a1400d833e1',\n",
              "     'question': 'Quante persone sono senzatetto a causa del terremoto?'},\n",
              "    {'answers': [{'answer_start': 295, 'text': '11 milioni'}],\n",
              "     'id': '56d4fca52ccc5a1400d833e2',\n",
              "     'question': 'Quanto potrebbe arrivare il numero dei senzatetto?'}]},\n",
              "  {'context': \"Il terremoto ha avuto una magnitudine di 8,0 Ms e 7,9 Mw. L' epicentro è stato in Wenchuan County, Ngawa Tibetano e Prefettura Autonoma di Qiang, 80 km ad ovest / nord-ovest del capoluogo di provincia di Chengdu, con il suo tremore principale che si verifica alle 14:28:01.42 China Standard Time (06:28:01.42 UTC), il 12 maggio 2008 della durata di circa 2 minuti, nel terremoto quasi l' 80% degli edifici sono stati distrutti.\",\n",
              "   'qas': [{'answers': [{'answer_start': 355, 'text': '2 minuti'}],\n",
              "     'id': '56cdcc5562d2951400fa6847',\n",
              "     'question': 'Quanto tempo è durato il terremoto?'},\n",
              "    {'answers': [{'answer_start': 388, 'text': '80%'}],\n",
              "     'id': '56cdcc5562d2951400fa6848',\n",
              "     'question': 'Quale percentuale di edifici è stata distrutta?'},\n",
              "    {'answers': [{'answer_start': 41, 'text': '8,0 Ms e 7,9 Mw'}],\n",
              "     'id': '56d4fe332ccc5a1400d833e8',\n",
              "     'question': 'Qual era la magnitudo del terremoto?'},\n",
              "    {'answers': [{'answer_start': 355, 'text': '2 minuti'}],\n",
              "     'id': '56d4fe332ccc5a1400d833eb',\n",
              "     'question': 'Quanto tempo è durato il tremore principale?'},\n",
              "    {'answers': [{'answer_start': 379, 'text': \"quasi l' 80%\"}],\n",
              "     'id': '56d4fe332ccc5a1400d833ec',\n",
              "     'question': 'Quale percentuale di edifici è stata distrutta durante il sisma?'}]},\n",
              "  {'context': \"Secondo uno studio della China Earthquake Administration (CEA), il terremoto si è verificato lungo la faglia Longmenshan, una struttura di spinta lungo il confine della piastra Indo-Australiana e placca eurasiatica. Le attività sismiche si sono concentrate sulla sua frattura media (nota come frattura Yingxiu-Beichuan). La rottura è durata quasi 120 sec, con la maggior parte dell' energia rilasciata nei primi 80 sec. Partendo da Wenchuan, la rottura si propagò ad una velocità media di 3,1 chilometri al secondo 49° verso nord-est, rompendosi per un totale di circa 300 km. Lo spostamento massimo ammontava a 9 metri. Il fuoco era più profondo di 10 km.\",\n",
              "   'qas': [{'answers': [{'answer_start': 347, 'text': '120 sec'}],\n",
              "     'id': '56cdccd962d2951400fa6850',\n",
              "     'question': 'Quanto tempo ha durato la rottura?'},\n",
              "    {'answers': [{'answer_start': 650, 'text': '10 km'}],\n",
              "     'id': '56cdccd962d2951400fa6852',\n",
              "     'question': 'Quanto è stato profondo il centro del terremoto?'},\n",
              "    {'answers': [{'answer_start': 293, 'text': 'frattura Yingxiu-Beichuan'}],\n",
              "     'id': '56d5005d2ccc5a1400d833f4',\n",
              "     'question': 'Su quale frattura ha messo a fuoco il terremoto?'},\n",
              "    {'answers': [{'answer_start': 612, 'text': '9 metri'}],\n",
              "     'id': '56d5005d2ccc5a1400d833f6',\n",
              "     'question': 'Qual è stato lo sfollamento più causato dal terremoto?'}]},\n",
              "  {'context': 'Yazhou Zhoukan, con sede in Malesia, ha condotto un\\' intervista con l\\' ex ricercatore presso il China Seismological Bureau Geng Qingguo (??), in cui Geng ha sostenuto che un rapporto scritto riservato è stato inviato all\\' Ufficio sismologico di Stato il 30 aprile 2008, avvertendo circa il possibile verificarsi di un terremoto significativo nella regione della prefettura di Ngawa del Sichuan intorno all\\' 8 maggio, con una gamma di 10 giorni prima o dopo il terremoto. Il Geng, pur riconoscendo che la predizione del terremoto era ampiamente considerata problematica dalla comunità scientifica, credeva che \"più grande è il terremoto, più facile è prevedere\". Geng aveva a lungo tentato di stabilire una correlazione tra il verificarsi di siccità e terremoti; Premier Zhou Enlai ha riferito che ha preso interesse nel lavoro di Geng. La teoria di correlazione siccità-terra terremoto di Geng è stata pubblicata per la prima volta nel 1972, e ha detto di aver pronosticato con successo i terremoti di Haicheng 1975 e 1976 Tangshan. Lo stesso articolo di Yazhou Zhoukan ha sottolineato le difficoltà intrinseche associate alla previsione dei terremoti.',\n",
              "   'qas': [{'answers': [{'answer_start': 936, 'text': '1972'}],\n",
              "     'id': '56cdce0b62d2951400fa685b',\n",
              "     'question': 'Quando è stata rilasciata la teoria di correlazione siccità-terra terremoto di Geng?'},\n",
              "    {'answers': [{'answer_start': 394, 'text': \"intorno all' 8 maggio\"}],\n",
              "     'id': '56d67a8d1c8504140094714f',\n",
              "     'question': 'Qual era il tempo previsto per il terremoto?'},\n",
              "    {'answers': [{'answer_start': 741, 'text': 'siccità'}],\n",
              "     'id': '56d67a8d1c85041400947150',\n",
              "     'question': 'Che cosa ha cercato Geng a lungo di stabilire come rapporto con i terremoti?'}]},\n",
              "  {'context': 'In uno studio dell\\' USGS (United States Geological Survey) i modelli preliminari di rottura del terremoto hanno indicato uno spostamento fino a 9 metri lungo un guasto lungo circa 240 km di lunghezza e 20 km di profondità. Il terremoto ha generato deformazioni della superficie superiori a 3 metri e ha aumentato lo stress (e la probabilità che si verifichino eventi futuri) alle estremità nord-orientale e sud-occidentale del guasto. Il 20 maggio, il sismologo dell\\' USGS Tom Parsons ha avvertito che c\\' è \"alto rischio\" di una grave scossa di assestamento M>7 nelle prossime settimane o mesi.',\n",
              "   'qas': [{'answers': [{'answer_start': 137, 'text': 'fino a 9 metri'}],\n",
              "     'id': '56cdcebe62d2951400fa6862',\n",
              "     'question': 'Quanto è stato grande lo spostamento?'},\n",
              "    {'answers': [{'answer_start': 473, 'text': 'Tom Parsons'}],\n",
              "     'id': '56cdcebe62d2951400fa6866',\n",
              "     'question': \"Chi ha prima messo in guardia da possibili attività sismiche nell' area?\"},\n",
              "    {'answers': [{'answer_start': 144, 'text': '9 metri'}],\n",
              "     'id': '56d5027a9d1b871400ae05e1',\n",
              "     'question': \"Che cosa ha mostrato il Geological Survey degli Stati Uniti come l' entità dello spostamento?\"},\n",
              "    {'answers': [{'answer_start': 202, 'text': '20 km di profondità'}],\n",
              "     'id': '56d5027a9d1b871400ae05e3',\n",
              "     'question': 'Quanto è profondo il guasto?'},\n",
              "    {'answers': [{'answer_start': 508, 'text': 'alto rischio'}],\n",
              "     'id': '56d5027a9d1b871400ae05e5',\n",
              "     'question': 'Che cosa ha considerato Tom Parsons come il fattore di rischio per forti terremoti futuri?'}]},\n",
              "  {'context': 'Sismologo giapponese Yuji Yagi Yuji Yagi presso l\\' Università di Tsukuba ha detto che il terremoto si è verificato in due fasi:\"Il 155 miglia Longmenshan Fault tore in due sezioni, il primo uno strappo di circa sette metri, seguita da un secondo che ha tosato quattro metri\". I suoi dati hanno anche mostrato che il terremoto è durato circa due minuti e ha rilasciato 30 volte l\\' energia del grande terremoto di Hanshin del 1995 in Giappone, che ha ucciso oltre 6.000 persone. Egli ha sottolineato che la scarsità dell\\' epicentro e la densità di popolazione hanno notevolmente aumentato la gravità del terremoto. Teruyuki Kato, un sismologo dell\\' Università di Tokyo, ha detto che le onde sismiche del terremoto hanno percorso una lunga distanza senza perdere il loro potere a causa della fermezza del terreno nella Cina centrale.',\n",
              "   'qas': [{'answers': [{'answer_start': 115, 'text': 'in due fasi'}],\n",
              "     'id': '56d504539d1b871400ae05eb',\n",
              "     'question': 'Come ha fatto Yuji Yagi a dire che il terremoto è successo?'},\n",
              "    {'answers': [{'answer_start': 142, 'text': 'Longmenshan Fault'}],\n",
              "     'id': '56d504539d1b871400ae05ec',\n",
              "     'question': 'Che errore si è verificato in due luoghi?'},\n",
              "    {'answers': [{'answer_start': 368, 'text': '30 volte'}],\n",
              "     'id': '56d504539d1b871400ae05ee',\n",
              "     'question': 'Quanta più energia di quella prodotta dal terremoto del 1995 in Giappone?'},\n",
              "    {'answers': [{'answer_start': 789, 'text': 'fermezza del terreno'}],\n",
              "     'id': '56d504539d1b871400ae05ef',\n",
              "     'question': 'Perché le onde sismiche hanno viaggiato finora?'}]},\n",
              "  {'context': 'Tra 64 e 104 scosse di assestamento importanti, di magnitudo compresa tra 4,0 e 6,1, sono state registrate entro 72 ore dal sisma principale. Secondo i conteggi ufficiali cinesi,\"alle ore 12:00 CST, 6 novembre 2008 c\\' erano state 42.719 scariche post-shock totali, di cui 246 variavano da 4,0 SM a 4,9 SM, 34 da 5,0 MS a 5,9 MS, e 8 da 6,0 Ms a 6,4 MS; l\\' urto post-shock più forte misurato 6,4 MS.\" L\\' ultima scossa post-shock superiore a M6 si è verificato il 5 agosto.',\n",
              "   'qas': [{'answers': [{'answer_start': 0, 'text': 'Tra 64 e 104'}],\n",
              "     'id': '56cdd08862d2951400fa6894',\n",
              "     'question': 'Quante sono state le scosse di assestamento?'},\n",
              "    {'answers': [{'answer_start': 107,\n",
              "       'text': 'entro 72 ore dal sisma principale'}],\n",
              "     'id': '56cdd08862d2951400fa6896',\n",
              "     'question': 'Quando sono state registrate le scosse di assestamento?'},\n",
              "    {'answers': [{'answer_start': 0, 'text': 'Tra 64 e 104'}],\n",
              "     'id': '56d505f99d1b871400ae05f5',\n",
              "     'question': 'Quante sono state le scosse di assestamento entro 72 ore?'},\n",
              "    {'answers': [{'answer_start': 230, 'text': '42.719'}],\n",
              "     'id': '56d505f99d1b871400ae05f6',\n",
              "     'question': 'Che cosa dicono i cinesi è il numero totale di shock dopo il terremoto?'},\n",
              "    {'answers': [{'answer_start': 272, 'text': '246'}],\n",
              "     'id': '56d505f99d1b871400ae05f8',\n",
              "     'question': 'In quale data si sono verificate le scosse di assestamento più recenti superiori a 6 SM?'}]},\n",
              "  {'context': '(Il terremoto della sig. ra 6.1 del 30 agosto 2008 nel Sichuan meridionale non faceva parte di questa serie perché è stato causato da una diversa colpa.',\n",
              "   'qas': [{'answers': [{'answer_start': 55, 'text': 'Sichuan meridionale'}],\n",
              "     'id': '56cdd10962d2951400fa68a0',\n",
              "     'question': 'Dove si è verificato il terremoto?'},\n",
              "    {'answers': [{'answer_start': 55, 'text': 'Sichuan meridionale'}],\n",
              "     'id': '56cdd10962d2951400fa68a2',\n",
              "     'question': \"Dov' era il terremoto del 30 agosto 2008?\"},\n",
              "    {'answers': [{'answer_start': 20, 'text': 'sig'}],\n",
              "     'id': '56d507269d1b871400ae05ff',\n",
              "     'question': 'Qual era la grandezza del terremoto del Sichuan meridionale?'}]},\n",
              "  {'context': 'La mappa dell\\' intensità sismica pubblicata dal CEA dopo aver rilevato 500.000 km2 dell\\' area colpita mostra una liedu massima di XI sulla scala di intensità sismica cinese (CSIS), descritta come \"molto distruttiva\" sulla scala macrosismica europea (EMS) da cui il CSIS ha tratto riferimento. (USGS, utilizzando la scala di intensità Mercalli modificata (CC), collocava anche l\\' intensità massima a XI,\"molto disastrosa\". Due strisce sud-ovest-nord-est di liedu XI sono centrate intorno a Yingxiu, Wenchuan (la città più vicina all\\' epicentro del terremoto principale) e Beichuan (la città ripetutamente colpita da forti scosse di assestamento tra cui una che registra MS 6.1 il 1 agosto 2008), entrambe nella provincia del Sichuan, occupando un totale di 2.419 km2. La zona Yingxiu liedu-XI è lunga circa 66 km e larga 20 km lungo Wenchuan-Dujiangyan-Pengzhou; la zona Beichuan liedu-XI è lunga circa 82 km e larga 15 km lungo An County-Beichuan-Pingwu. L\\' area con liedu X (comparabile a X su EMS,\"distruttivo\" e X su MM,\"disastroso\") ha una superficie di 3.144 km2.',\n",
              "   'qas': [{'answers': [{'answer_start': 48, 'text': 'CEA'}],\n",
              "     'id': '56cdd21562d2951400fa68b0',\n",
              "     'question': \"Chi ha pubblicato la mappa dell' intensità dei terremoti?\"},\n",
              "    {'answers': [{'answer_start': 130, 'text': 'XI'}],\n",
              "     'id': '56cdd21562d2951400fa68b2',\n",
              "     'question': 'A quale intensità è stata scalata?'},\n",
              "    {'answers': [{'answer_start': 489, 'text': 'Yingxiu, Wenchuan'}],\n",
              "     'id': '56d5098a9d1b871400ae0609',\n",
              "     'question': \"Quale città era più vicina all' epicentro principale?\"}]},\n",
              "  {'context': \"Il sistema Longmen Shan Fault System si trova al confine orientale dell' altopiano tibetano e contiene diversi difetti. Questo terremoto ha rotto almeno due strutture imbricate in Longmen Shan Fault System, vale a dire il Fault Beichuan e il Guanxian-Anxian Fault. Nell' area epicentrale, lo slittamento medio in Fault Beichuan era di circa 3,5 metri (11 ft) verticale, di 3,5 metri (11 ft) orizzontale parallelo al guasto, e di 4,8 metri (16 ft) orizzontale-pendicolare al guasto. Nell' area di circa 30 chilometri (19 miglia) a nord-est dell' epicentro, lo scivolamento superficiale su Beichuan Fault è stato quasi esclusivamente dextral strike-slip fino a circa 3 metri, mentre lo scivolamento medio in Guanxian-Anxian Fault è stato di circa 2 metri verticali (6 ft 7 in) e 2,3 metri (7 ft 7 in) orizzontali. il confine orientale dell' altopiano tibetano.\",\n",
              "   'qas': [{'answers': [{'answer_start': 665, 'text': '3 metri'}],\n",
              "     'id': '56cdd4d762d2951400fa68cd',\n",
              "     'question': 'Quanto è stato grande lo slip 30 km a nord-est del guasto?'},\n",
              "    {'answers': [{'answer_start': 745, 'text': '2 metri'}],\n",
              "     'id': '56cdd4d762d2951400fa68ce',\n",
              "     'question': 'Qual è stato lo slittamento verticale media sul Guanxian-Anxian errore?'},\n",
              "    {'answers': [{'answer_start': 777, 'text': '2,3 metri'}],\n",
              "     'id': '56cdd4d762d2951400fa68cf',\n",
              "     'question': 'Che cosa è stato lo slittamento orizzontale media sul Guanxian-Anxian errore?'},\n",
              "    {'answers': [{'answer_start': 73, 'text': 'altopiano tibetano'}],\n",
              "     'id': '56cdd4d762d2951400fa68d0',\n",
              "     'question': 'Dove si trova il guasto dello shan Longmen?'},\n",
              "    {'answers': [{'answer_start': 3,\n",
              "       'text': 'sistema Longmen Shan Fault System'}],\n",
              "     'id': '56d516439d1b871400ae0611',\n",
              "     'question': 'Dove sono i guasti Beichuan e Guanxian-Ansia?'},\n",
              "    {'answers': [{'answer_start': 341, 'text': '3,5 metri'}],\n",
              "     'id': '56d516439d1b871400ae0612',\n",
              "     'question': 'Qual è stato lo slittamento verticale medio nel difetto di Beichaun?'},\n",
              "    {'answers': [{'answer_start': 341, 'text': '3,5 metri'}],\n",
              "     'id': '56d516439d1b871400ae0613',\n",
              "     'question': \"Qual è stato lo slittamento orizzontale nel Fault Beichuan all' epicentro?\"},\n",
              "    {'answers': [{'answer_start': 429, 'text': '4,8 metri'}],\n",
              "     'id': '56d516439d1b871400ae0614',\n",
              "     'question': 'Qual è stato lo slittamento orizzontale perpendicolare al guasto?'}]},\n",
              "  {'context': 'Gli edifici per uffici nel distretto finanziario di Shanghai, tra cui la Jin Mao Tower e la Hong Kong New World Tower, sono stati evacuati. Un receptionist al Tibet Hotel di Chengdu ha detto che le cose erano \"calme\" dopo che l\\' hotel ha evacuato i suoi ospiti. Nel frattempo, i lavoratori di uno stabilimento Ford nel Sichuan sono stati evacuati per circa 10 minuti. L\\' aeroporto internazionale di Chengdu Shuangliu è stato chiuso e la torre di controllo e il controllo radar regionale sono stati evacuati. Un volo di SilkAir è stato deviato e atterrato a Kunming. Cathay Pacific ha ritardato entrambe le tratte del suo quadruplo quotidiano Hong Kong a Londra a causa di questa perturbazione dei servizi di traffico aereo. Chengdu Shuangliu Aeroporto riaperto più tardi la sera del 12 maggio, offrendo un servizio limitato come l\\' aeroporto ha cominciato ad essere utilizzato come una zona di sosta per le operazioni di soccorso.',\n",
              "   'qas': [{'answers': [{'answer_start': 210, 'text': 'calm'}],\n",
              "     'id': '56cdd63a62d2951400fa68d7',\n",
              "     'question': \"Come ha descritto un receptionist l' atmosfera dopo l' evacuazione?\"},\n",
              "    {'answers': [{'answer_start': 357, 'text': '10 minuti'}],\n",
              "     'id': '56cdd63a62d2951400fa68d8',\n",
              "     'question': 'Per quanto tempo sono stati evacuati i lavoratori di Ford Plant?'},\n",
              "    {'answers': [{'answer_start': 371,\n",
              "       'text': 'aeroporto internazionale di Chengdu Shuangliu'}],\n",
              "     'id': '56cdd63a62d2951400fa68d9',\n",
              "     'question': 'Quale aeroporto è stato chiuso?'},\n",
              "    {'answers': [{'answer_start': 783, 'text': '12 maggio'}],\n",
              "     'id': '56cdd63a62d2951400fa68da',\n",
              "     'question': \"Quando è stato riaperto l' aeroporto?\"},\n",
              "    {'answers': [{'answer_start': 907, 'text': 'operazioni di soccorso'}],\n",
              "     'id': '56d5185a9d1b871400ae061d',\n",
              "     'question': \"A cosa servivano l' aeroporto per fare tappa?\"}]},\n",
              "  {'context': \"Reporter a Chengdu hanno detto che hanno visto crepe sulle pareti di alcuni edifici residenziali nelle zone del centro, ma nessun edificio è crollato. Molti uffici di Pechino torri ufficio sono stati evacuati, tra cui l' edificio che ospita gli uffici dei media per gli organizzatori delle Olimpiadi estive 2008. Nessuna delle sedi olimpiche sono state danneggiate. Nel frattempo, un treno cargo che trasportava 13 cisterne a benzina deragliato nella contea di Hui, Gansu, e prese fuoco dopo che la ferrovia era stata distorta.\",\n",
              "   'qas': [{'answers': [{'answer_start': 9, 'text': 'a Chengdu'}],\n",
              "     'id': '56cddec762d2951400fa692c',\n",
              "     'question': 'Dove hanno detto i giornalisti che hanno visto crepe sulle pareti di alcuni edifici?'},\n",
              "    {'answers': [{'answer_start': 167, 'text': 'Pechino'}],\n",
              "     'id': '56cddec762d2951400fa692d',\n",
              "     'question': 'Dove sono state evacuate le torri degli uffici?'},\n",
              "    {'answers': [{'answer_start': 47, 'text': 'crepe sulle pareti'}],\n",
              "     'id': '56d519a82593cc1400307a6b',\n",
              "     'question': 'Cosa è stato riportato in Chengdu?'}]},\n",
              "  {'context': \"Tutte le autostrade in Wenchuan, e altri in tutta la provincia, sono stati danneggiati, con conseguente ritardo di arrivo delle truppe di soccorso. Nella contea di Beichuan, l' 80% degli edifici è crollato secondo Xinhua News. Nella città di Shifang, il crollo di due impianti chimici ha portato alla fuoriuscita di circa 80 tonnellate di ammoniaca liquida, con centinaia di persone segnalate sepolte. Nella città di Dujiangyan, a sud-est dell' epicentro, un' intera scuola è crollata con 900 studenti sepolti e meno di 60 sopravvissuti. La Juyuan Middle School, dove sono stati sepolti molti adolescenti, è stata scavata da civili e gru. Dujiangyan è la sede del Dujiangyan Irrigation System, un antico progetto di deviazione dell' acqua che è ancora in uso ed è un patrimonio mondiale dell' UNESCO. La famosa bocca di pesce del progetto è stata incrinata, ma non gravemente danneggiata altrimenti.\",\n",
              "   'qas': [{'answers': [{'answer_start': 0, 'text': 'Tutte le autostrade'}],\n",
              "     'id': '56cddf9e62d2951400fa6934',\n",
              "     'question': 'Quante autostrade che conducono a Wenchuan sono state danneggiate?'},\n",
              "    {'answers': [{'answer_start': 177, 'text': '80%'}],\n",
              "     'id': '56cddf9e62d2951400fa6936',\n",
              "     'question': \"Quale percentuale dell' edificio è crollata a Beichuan?\"},\n",
              "    {'answers': [{'answer_start': 417, 'text': 'Dujiangyan'}],\n",
              "     'id': '56cddf9e62d2951400fa6937',\n",
              "     'question': 'Dove sono crollati due impianti chimici?'},\n",
              "    {'answers': [{'answer_start': 520, 'text': '60'}],\n",
              "     'id': '56cddf9e62d2951400fa6938',\n",
              "     'question': 'Quanti studenti su 900 nella scuola sono sopravvissuti al crollo?'},\n",
              "    {'answers': [{'answer_start': 0, 'text': 'Tutte le autostrade'}],\n",
              "     'id': '56d51b832593cc1400307a75',\n",
              "     'question': 'Quali autostrade di Wenchuan sono state danneggiate?'},\n",
              "    {'answers': [{'answer_start': 177, 'text': '80%'}],\n",
              "     'id': '56d51b832593cc1400307a77',\n",
              "     'question': 'Quanti edifici di Beichuan sono crollati?'},\n",
              "    {'answers': [{'answer_start': 264, 'text': 'due impianti chimici'}],\n",
              "     'id': '56d51b832593cc1400307a78',\n",
              "     'question': 'Quale ammoniaca liquida fuoriuscita a Shifang?'},\n",
              "    {'answers': [{'answer_start': 512, 'text': 'meno di 60'}],\n",
              "     'id': '56d51b832593cc1400307a79',\n",
              "     'question': 'Quanti dei 900 studenti sepolti in un crollo scolastico Dujiangyan sono sopravvissuti?'}]},\n",
              "  {'context': 'Sia la borsa valori di Shanghai che la Shenzhen Stock Exchange hanno sospeso il commercio di società con sede nella Cina sudoccidentale. Il rame è aumentato a causa delle speculazioni che la produzione nel sud-ovest della Cina potrebbe essere influenzata, e i prezzi del petrolio è sceso a fronte di speculazioni che la domanda dalla Cina sarebbe scesa.',\n",
              "   'qas': [{'answers': [{'answer_start': 116, 'text': 'Cina sudoccidentale'}],\n",
              "     'id': '56cddfff62d2951400fa693f',\n",
              "     'question': 'Dove si sono basati gli scambi?'},\n",
              "    {'answers': [{'answer_start': 140, 'text': 'rame'}],\n",
              "     'id': '56cddfff62d2951400fa6940',\n",
              "     'question': 'Quale metallo è aumentato di valore?'},\n",
              "    {'answers': [{'answer_start': 275, 'text': 'olio'}],\n",
              "     'id': '56cddfff62d2951400fa6941',\n",
              "     'question': 'Quale risorsa naturale è diminuita di valore?'},\n",
              "    {'answers': [{'answer_start': 116, 'text': 'Cina sudoccidentale'}],\n",
              "     'id': '56d51d272593cc1400307a80',\n",
              "     'question': 'Dove si trovavano le società che avevano sospeso il loro commercio di azioni?'},\n",
              "    {'answers': [{'answer_start': 140, 'text': 'rame'}],\n",
              "     'id': '56d51d272593cc1400307a81',\n",
              "     'question': 'Quale metallo è aumentato a causa della speculazione?'},\n",
              "    {'answers': [{'answer_start': 39, 'text': 'Shenzhen Stock Exchange'}],\n",
              "     'id': '56d51d272593cc1400307a83',\n",
              "     'question': 'Oltre alla borsa valori di Shanghai, quale altra borsa sospesa negoziazione di titoli azionari sud-ovest della Cina?'}]},\n",
              "  {'context': \"Immediatamente dopo l' evento sismico, le telecomunicazioni mobili e terrestri sono state tagliate verso l' area colpita e quella circostante, con tutte le capacità internet tagliate anche verso l' area del Sichuan. Elementi di telecomunicazioni sono stati ripristinati dal governo pezzo per pezzo nel corso dei prossimi mesi come la situazione nella provincia del Sichuan gradualmente migliorata. Alla fine, una manciata di importanti siti web di notizie e media sono stati resi accessibili online nella regione, anche se con pagine web drammaticamente ridotte.\",\n",
              "   'qas': [{'answers': [{'answer_start': 165, 'text': 'internet'}],\n",
              "     'id': '56cde07662d2951400fa6947',\n",
              "     'question': \"Quali capacità sono state tagliate all' intera area del Sichuan?\"},\n",
              "    {'answers': [{'answer_start': 321, 'text': 'mesi'}],\n",
              "     'id': '56cde07662d2951400fa6948',\n",
              "     'question': 'Quanto tempo ci è voluto per ripristinare queste capacità?'},\n",
              "    {'answers': [{'answer_start': 42, 'text': 'telecomunicazioni'}],\n",
              "     'id': '56d51ea52593cc1400307a89',\n",
              "     'question': 'Cosa è stato tagliato dopo il terremoto?'},\n",
              "    {'answers': [{'answer_start': 436, 'text': 'siti web di notizie e media'}],\n",
              "     'id': '56d51ea52593cc1400307a8c',\n",
              "     'question': \"Quali servizi internet sono diminuiti nell' area?\"}]},\n",
              "  {'context': \"China Mobile ha avuto più di 2.300 stazioni base sospese a causa di interruzione dell' alimentazione o grave congestione del traffico delle telecomunicazioni. Metà delle comunicazioni wireless sono andate perse nella provincia del Sichuan. Il servizio di China Unicom a Wenchuan e in quattro contee vicine è stato interrotto, con più di 700 torri sospese.\",\n",
              "   'qas': [{'answers': [{'answer_start': 29, 'text': '2.300'}],\n",
              "     'id': '56cde11f62d2951400fa694c',\n",
              "     'question': 'Quante stazioni base sono state sospese?'},\n",
              "    {'answers': [{'answer_start': 29, 'text': '2.300'}],\n",
              "     'id': '56d5202a2593cc1400307a93',\n",
              "     'question': 'Quante stazioni base China Mobile hanno smesso di funzionare?'},\n",
              "    {'answers': [{'answer_start': 109, 'text': 'congestione del traffico'}],\n",
              "     'id': '56d5202a2593cc1400307a94',\n",
              "     'question': \"Oltre all' interruzione dell' alimentazione, cosa ha causato la sospensione delle telecomunicazioni?\"},\n",
              "    {'answers': [{'answer_start': 159, 'text': 'Metà'}],\n",
              "     'id': '56d5202a2593cc1400307a95',\n",
              "     'question': 'Quante comunicazioni wireless sono fallite nel Sichuan?'},\n",
              "    {'answers': [{'answer_start': 255, 'text': 'China Unicom'}],\n",
              "     'id': '56d5202a2593cc1400307a96',\n",
              "     'question': 'Chi servizio a Wenchuan è stato interrotto?'},\n",
              "    {'answers': [{'answer_start': 337, 'text': '700'}],\n",
              "     'id': '56d5202a2593cc1400307a97',\n",
              "     'question': 'Quante torri di China Unicom sono state tagliate?'}]},\n",
              "  {'context': \"Inizialmente, i funzionari non erano in grado di contattare la Wolong National Nature Reserve, sede di circa 280 panda giganti. Tuttavia, il Ministero degli Esteri in seguito ha detto che un gruppo di 31 turisti britannici che visitano la riserva Wolong Panda nella zona colpita dal terremoto ha restituito sicuro e indenne a Chengdu. Tuttavia, il benessere di un numero ancora maggiore di panda nelle vicine riserve del panda è rimasto sconosciuto. Cinque guardie di sicurezza della riserva sono state uccise dal terremoto. Sei panda sono fuggiti dopo che i loro recinti sono stati danneggiati. Entro il 20 maggio, due panda presso la riserva sono stati trovati per essere feriti, mentre la ricerca è continuata per altri due panda adulti che è andato perduto dopo il terremoto. Al 28 maggio 2008 mancava ancora un panda. Il panda mancante è stato poi trovato morto sotto le macerie di un recinto. Mao Mao Mao Mao, nove anni, madre di cinque anni nel centro di allevamento, è stata scoperta lunedì, il suo corpo schiacciato da un muro nel suo recinto. I detentori di panda e altri lavoratori hanno messo i suoi resti in una piccola cassa di legno e l' hanno seppellita fuori dal centro di allevamento.\",\n",
              "   'qas': [{'answers': [{'answer_start': 103, 'text': 'circa 280'}],\n",
              "     'id': '56cde1f462d2951400fa695f',\n",
              "     'question': 'Quanti panda vivono nella riserva?'},\n",
              "    {'answers': [{'answer_start': 201, 'text': '31'}],\n",
              "     'id': '56cde1f462d2951400fa6960',\n",
              "     'question': 'Quanti visitatori britannici della Riserva hanno lasciato illeso?'},\n",
              "    {'answers': [{'answer_start': 109, 'text': '2'}],\n",
              "     'id': '56cde1f462d2951400fa6961',\n",
              "     'question': 'Quanti panda sono stati feriti?'},\n",
              "    {'answers': [{'answer_start': 63,\n",
              "       'text': 'Wolong National Nature Reserve'}],\n",
              "     'id': '56d521ee2593cc1400307a9d',\n",
              "     'question': 'Quale centro naturalistico è stato tagliato?'},\n",
              "    {'answers': [{'answer_start': 525, 'text': 'Sei'}],\n",
              "     'id': '56d521ee2593cc1400307a9f',\n",
              "     'question': 'Quanti panda sono fuggiti dalla riserva?'},\n",
              "    {'answers': [{'answer_start': 450, 'text': 'cinque'}],\n",
              "     'id': '56d521ee2593cc1400307aa0',\n",
              "     'question': 'Quante guardie di sicurezza sono morte nella riserva?'},\n",
              "    {'answers': [{'answer_start': 899, 'text': 'Mao Mao Mao'}],\n",
              "     'id': '56d521ee2593cc1400307aa1',\n",
              "     'question': 'Quale famoso panda è stato ucciso sotto le macerie?'}]},\n",
              "  {'context': \"La centrale idroelettrica Zipingpu (semplificata cinese:????; tradizionale cinese:??????) situata a 20 km ad est dell' epicentro è stata danneggiata. Da una recente ispezione è emerso che il danno era meno grave di quanto inizialmente temuto e resta strutturalmente stabile e sicuro. Il serbatoio di Tulong a monte rischia di crollare. Circa 2.000 soldati sono stati assegnati a Zipingpu, cercando di liberare la pressione attraverso lo sfioratore. In totale sono state segnalate 391 dighe, per la maggior parte di piccole dimensioni, danneggiate dal sisma.\",\n",
              "   'qas': [{'answers': [{'answer_start': 342, 'text': '2.000'}],\n",
              "     'id': '56cde29b62d2951400fa696b',\n",
              "     'question': 'Quante truppe sono state assegnate a Zipingpu?'},\n",
              "    {'answers': [{'answer_start': 480, 'text': '391'}],\n",
              "     'id': '56cde29b62d2951400fa696c',\n",
              "     'question': 'Quante dighe sono state danneggiate?'},\n",
              "    {'answers': [{'answer_start': 100, 'text': '20 km'}],\n",
              "     'id': '56d523bd2593cc1400307aa8',\n",
              "     'question': \"Quanto era vicina all' epicentro la centrale elettrica?\"},\n",
              "    {'answers': [{'answer_start': 201, 'text': 'meno grave'}],\n",
              "     'id': '56d523bd2593cc1400307aa9',\n",
              "     'question': 'Che cosa è emerso da una recente ispezione sui danni alla centrale?'},\n",
              "    {'answers': [{'answer_start': 480, 'text': '391'}],\n",
              "     'id': '56d523bd2593cc1400307aab',\n",
              "     'question': 'Qual è il numero totale di dighe danneggiate?'}]},\n",
              "  {'context': \"Secondo i funzionari di Stato cinesi, il terremoto ha causato 69.180 morti conosciute tra cui 68.636 nella provincia del Sichuan; 18.498 persone sono elencate come scomparse, e 374.176 feriti, ma queste cifre possono ulteriormente aumentare con l' arrivo di più rapporti.\",\n",
              "   'qas': [{'answers': [{'answer_start': 94, 'text': '68.636'}],\n",
              "     'id': '56cde34662d2951400fa6973',\n",
              "     'question': 'Quanti decessi sono stati segnalati solo nella provincia del Sichuan?'},\n",
              "    {'answers': [{'answer_start': 130, 'text': '18.498'}],\n",
              "     'id': '56cde34662d2951400fa6974',\n",
              "     'question': \"Quante persone sono state inserite nell' elenco come scomparse?\"},\n",
              "    {'answers': [{'answer_start': 177, 'text': '374.176'}],\n",
              "     'id': '56cde34662d2951400fa6975',\n",
              "     'question': 'Quante persone sono rimaste ferite?'},\n",
              "    {'answers': [{'answer_start': 94, 'text': '68.636'}],\n",
              "     'id': '56d525192593cc1400307ab1',\n",
              "     'question': 'Quanti morti nel Sichuan?'},\n",
              "    {'answers': [{'answer_start': 62, 'text': '69.180'}],\n",
              "     'id': '56d525192593cc1400307ab2',\n",
              "     'question': 'Qual è il conteggio totale dei morti noti causati dal terremoto?'},\n",
              "    {'answers': [{'answer_start': 130, 'text': '18.498'}],\n",
              "     'id': '56d525192593cc1400307ab3',\n",
              "     'question': 'Qual è il numero di persone scomparse?'},\n",
              "    {'answers': [{'answer_start': 177, 'text': '374.176'}],\n",
              "     'id': '56d525192593cc1400307ab4',\n",
              "     'question': 'Quante persone sono rimaste ferite?'}]},\n",
              "  {'context': \"Una squadra di soccorso ha riportato solo 2.300 sopravvissuti della città di Yingxiu nella contea di Wenchuan, su una popolazione totale di circa 9.000 abitanti. Da 3.000 a 5.000 persone sono state uccise nella sola contea di Beichuan, nel Sichuan; nello stesso luogo, 10.000 persone sono rimaste ferite e l' 80% degli edifici sono stati distrutti. L' antica sede della contea di Beichuan è stata abbandonata e conservata come parte del Beichuan Earthquake Museum. Otto scuole sono state abbattute nel Dujiangyan. Un cinquantaseienne è stato ucciso a Dujiangyan durante un tentativo di salvataggio sulla Lingyanshan Ropeway, dove a causa del terremoto 11 turisti taiwanesi erano rimasti intrappolati all' interno di funivie dal 13 maggio. Un ragazzo di 4 anni di nome Zhu Shaowei (cinese tradizionale:???; cinese semplificato:???; pinyin: Zh? Shàowéi) è stato ucciso anche a Mianzhu City quando una casa è crollata su di lui e un altro è stato segnalato perduto.\",\n",
              "   'qas': [{'answers': [{'answer_start': 42, 'text': '2.300'}],\n",
              "     'id': '56ceb9c4aab44d1400b8892b',\n",
              "     'question': 'Quanti sopravvissuti ci sono stati da Yingxiu?'},\n",
              "    {'answers': [{'answer_start': 146, 'text': '9.000'}],\n",
              "     'id': '56ceb9c4aab44d1400b8892d',\n",
              "     'question': 'Quante persone in totale vivevano a Yingxiu?'},\n",
              "    {'answers': [{'answer_start': 162, 'text': 'Da 3.000 a 5.000'}],\n",
              "     'id': '56ceb9c4aab44d1400b8892e',\n",
              "     'question': 'Quante persone sono state uccise nella contea di Beichuan?'},\n",
              "    {'answers': [{'answer_start': 269, 'text': '10.000'}],\n",
              "     'id': '56ceb9c4aab44d1400b8892f',\n",
              "     'question': 'Quante persone sono rimaste ferite nella contea di Beichuan?'},\n",
              "    {'answers': [{'answer_start': 42, 'text': '2.300'}],\n",
              "     'id': '56d5307f2593cc1400307abb',\n",
              "     'question': \"Quanti sopravvissuti c' erano nella città di Yingxiu?\"},\n",
              "    {'answers': [{'answer_start': 140, 'text': 'circa 9.000'}],\n",
              "     'id': '56d5307f2593cc1400307abc',\n",
              "     'question': 'Qual era la popolazione precedente di Yingxiu?'},\n",
              "    {'answers': [{'answer_start': 162, 'text': 'Da 3.000 a 5.000'}],\n",
              "     'id': '56d5307f2593cc1400307abd',\n",
              "     'question': 'Quanti residenti sono stati uccisi nella contea di Beichuan?'},\n",
              "    {'answers': [{'answer_start': 269, 'text': '10.000'}],\n",
              "     'id': '56d5307f2593cc1400307abe',\n",
              "     'question': 'Quanto è stato grande il numero di feriti nella contea di Beichuan?'},\n",
              "    {'answers': [{'answer_start': 465, 'text': 'Otto scuole'}],\n",
              "     'id': '56d5307f2593cc1400307abf',\n",
              "     'question': 'Qual è il numero di scuole crollate in Dujiangyan?'}]},\n",
              "  {'context': 'Gli esperti sottolineano che il terremoto ha colpito un\\' area in gran parte trascurata e non toccata dall\\' ascesa economica della Cina. L\\' assistenza sanitaria è carente nelle zone interne come il Sichuan, il che mette in evidenza il crescente divario tra gli abitanti urbani prosperi e le popolazioni rurali in difficoltà. Vice Ministro della Sanità Gao Qiang ha detto ai giornalisti a Pechino che il \"sistema sanitario pubblico in Cina è insufficiente\".',\n",
              "   'qas': [{'answers': [{'answer_start': 351, 'text': 'Gao Qiang'}],\n",
              "     'id': '56ceba72aab44d1400b88936',\n",
              "     'question': 'Chi era il Vice Ministro della Salute?'},\n",
              "    {'answers': [{'answer_start': 176, 'text': 'zone interne'}],\n",
              "     'id': '56d5324d2593cc1400307ac6',\n",
              "     'question': \"Dove è povera l' assistenza sanitaria in Cina?\"},\n",
              "    {'answers': [{'answer_start': 440, 'text': 'insufficiente'}],\n",
              "     'id': '56d5324d2593cc1400307ac7',\n",
              "     'question': 'Che cosa ha chiamato il Vice Ministro della Salute il sistema sanitario pubblico in Cina?'}]},\n",
              "  {'context': 'In termini di feriti scolastici, migliaia di bambini sono morti a causa di costruzioni scadenti. A Mianyang City, sette scuole sono crollate, seppellendo almeno 1.700 persone. Almeno 7.000 edifici scolastici in tutta la provincia sono crollati. Altri 700 studenti sono stati sepolti in una scuola di Hanwang. Alla scuola elementare Juyuan sono morti almeno 600 studenti e personale. Fino a 1.300 bambini e insegnanti sono morti alla Beichuan Middle School.',\n",
              "   'qas': [{'answers': [{'answer_start': 33, 'text': 'migliaia'}],\n",
              "     'id': '56cebae8aab44d1400b8893d',\n",
              "     'question': 'Quanti bambini sono morti a causa di costruzioni scadenti?'},\n",
              "    {'answers': [{'answer_start': 114, 'text': 'sette'}],\n",
              "     'id': '56cebae8aab44d1400b8893e',\n",
              "     'question': 'Quante scuole sono crollate a Mianyang City?'},\n",
              "    {'answers': [{'answer_start': 161, 'text': '1.700'}],\n",
              "     'id': '56cebae8aab44d1400b8893f',\n",
              "     'question': 'Quante persone sono state sepolte nelle scuole crollate?'},\n",
              "    {'answers': [{'answer_start': 183, 'text': '7.000'}],\n",
              "     'id': '56cebae8aab44d1400b88940',\n",
              "     'question': 'Quanti edifici scolastici sono crollati in provincia?'},\n",
              "    {'answers': [{'answer_start': 163, 'text': '700'}],\n",
              "     'id': '56cebae8aab44d1400b88941',\n",
              "     'question': 'Quanti studenti sono stati sepolti in una scuola di Hanwang?'},\n",
              "    {'answers': [{'answer_start': 114, 'text': 'sette'}],\n",
              "     'id': '56d533a52593cc1400307ad0',\n",
              "     'question': 'Quante scuole sono crollate a Mianyang City?'},\n",
              "    {'answers': [{'answer_start': 183, 'text': '7.000'}],\n",
              "     'id': '56d533a52593cc1400307ad1',\n",
              "     'question': 'Quanti edifici scolastici sono caduti in tutta la provincia?'},\n",
              "    {'answers': [{'answer_start': 357, 'text': '600'}],\n",
              "     'id': '56d533a52593cc1400307ad2',\n",
              "     'question': 'Quanti sono stati uccisi alla scuola elementare di Juyuan?'}]},\n",
              "  {'context': \"I dettagli delle vittime scolastiche sono stati oggetto di indagini non governative dal dicembre 2008 da parte di volontari, tra cui l' artista e architetto Ai Weiwei, che dal marzo 2009 ha costantemente pubblicato aggiornamenti sul suo blog. Il conteggio ufficiale degli studenti uccisi nel terremoto è stato rilasciato solo il 7 maggio 2009, quasi un anno dopo il terremoto. Secondo l' agenzia di stampa statale Xinhua, il terremoto ha ucciso 5.335 studenti e lasciato altri 546 bambini disabili. All' indomani del terremoto, il governo cinese ha dichiarato che i genitori che avevano perso i loro soli figli avrebbero ricevuto cure gratuite da cliniche di fertilità per invertire vasectomie e legature tubarie condotte dalle autorità di pianificazione familiare.\",\n",
              "   'qas': [{'answers': [{'answer_start': 88, 'text': 'dicembre 2008'}],\n",
              "     'id': '56cebb71aab44d1400b88951',\n",
              "     'question': \"Quando si è svolta un' indagine in seguito a incidenti scolastici?\"},\n",
              "    {'answers': [{'answer_start': 329, 'text': '7 maggio 2009'}],\n",
              "     'id': '56cebb71aab44d1400b88952',\n",
              "     'question': 'Quando è stato rilasciato il conteggio ufficiale degli studenti uccisi nel terremoto?'},\n",
              "    {'answers': [{'answer_start': 445, 'text': '5.335'}],\n",
              "     'id': '56cebb71aab44d1400b88953',\n",
              "     'question': 'Quanti studenti sono stati uccisi a Xinhua?'},\n",
              "    {'answers': [{'answer_start': 477, 'text': '546'}],\n",
              "     'id': '56cebb71aab44d1400b88954',\n",
              "     'question': 'Quanti studenti sono stati disabili a Xinhua?'},\n",
              "    {'answers': [{'answer_start': 329, 'text': '7 maggio 2009'}],\n",
              "     'id': '56d5357b2593cc1400307ad9',\n",
              "     'question': 'Qual è stata la data in cui è stato rilasciato il numero ufficiale degli studenti uccisi nel terremoto?'},\n",
              "    {'answers': [{'answer_start': 157, 'text': 'Ai Weiwei'}],\n",
              "     'id': '56d5357b2593cc1400307ada',\n",
              "     'question': 'Chi ha tenuto un blog sui decessi scolastici?'},\n",
              "    {'answers': [{'answer_start': 445, 'text': '5.335'}],\n",
              "     'id': '56d5357b2593cc1400307adb',\n",
              "     'question': 'Qual è il numero totale di bambini che hanno perso la scuola?'},\n",
              "    {'answers': [{'answer_start': 477, 'text': '546'}],\n",
              "     'id': '56d5357b2593cc1400307adc',\n",
              "     'question': 'Quanti bambini sono disabili?'},\n",
              "    {'answers': [{'answer_start': 647, 'text': 'cliniche di fertilità'}],\n",
              "     'id': '56d5357b2593cc1400307add',\n",
              "     'question': 'Dove ha deciso il governo cinese che i genitori che avevano perso i figli potessero farsi curare gratuitamente?'}]},\n",
              "  {'context': \"Il terremoto ha lasciato almeno 5 milioni di persone senza alloggio, anche se il numero potrebbe raggiungere gli 11 milioni. Milioni di animali da allevamento e una notevole quantità di agricoltura sono stati distrutti, tra cui 12,5 milioni di animali, principalmente uccelli. Nella provincia del Sichuan sono morti un milione di suini su un totale di 60 milioni. Catastrophe modeling firm AIR Worldwide ha riportato stime ufficiali delle perdite degli assicuratori pari a 1 miliardo di dollari USA dal terremoto; i danni totali stimati superano i 20 miliardi di dollari USA. Valorizza Chengdu, all' epoca con una popolazione urbana di 4,5 milioni di persone, a circa 115 miliardi di dollari, con solo una piccola parte coperta da assicurazioni.\",\n",
              "   'qas': [{'answers': [{'answer_start': 32, 'text': '5 milioni'}],\n",
              "     'id': '56cebbdeaab44d1400b88959',\n",
              "     'question': 'Quante persone sono rimaste senza alloggio?'},\n",
              "    {'answers': [{'answer_start': 113, 'text': '11 milioni'}],\n",
              "     'id': '56cebbdeaab44d1400b8895a',\n",
              "     'question': 'Quante persone potrebbero essere potenzialmente senza alloggio?'},\n",
              "    {'answers': [{'answer_start': 228, 'text': '12,5 milioni'}],\n",
              "     'id': '56cebbdeaab44d1400b8895b',\n",
              "     'question': 'Quanti animali sono stati uccisi?'},\n",
              "    {'answers': [{'answer_start': 113, 'text': '11 milioni'}],\n",
              "     'id': '56d5372f2593cc1400307ae4',\n",
              "     'question': 'Quante persone potrebbero effettivamente essere senzatetto?'},\n",
              "    {'answers': [{'answer_start': 228, 'text': '12,5 milioni di animali'}],\n",
              "     'id': '56d5372f2593cc1400307ae5',\n",
              "     'question': 'Quanto bestiame è andato perduto?'},\n",
              "    {'answers': [{'answer_start': 316, 'text': 'un milione'}],\n",
              "     'id': '56d5372f2593cc1400307ae6',\n",
              "     'question': 'Quanti maiali sono morti a causa del terremoto nel Sichuan?'}]},\n",
              "  {'context': 'Reginald DesRoches, professore di ingegneria civile e ambientale presso la Georgia Tech, ha sottolineato che i danni massicci di proprietà e case nella zona sismica sono dovuti al fatto che la Cina ha creato un adeguato codice di progettazione sismica solo dopo il devastante terremoto di Tangshan del 1976. DesRoches ha detto:\"Se gli edifici fossero più vecchi e costruiti prima di quel terremoto del 1976, è probabile che non siano stati costruiti per un\\' adeguata forza sismica\".',\n",
              "   'qas': [{'answers': [{'answer_start': 0, 'text': 'Reginald DesRoches'}],\n",
              "     'id': '56cebcb4aab44d1400b88963',\n",
              "     'question': 'Chi era professore di ingegneria civile e ambientale alla Georgia Tech?'},\n",
              "    {'answers': [{'answer_start': 20,\n",
              "       'text': 'professore di ingegneria civile e ambientale'}],\n",
              "     'id': '56d538bc2593cc1400307aed',\n",
              "     'question': 'Qual è la professione di Reginald DesRoches?'},\n",
              "    {'answers': [{'answer_start': 302, 'text': '1976'}],\n",
              "     'id': '56d538bc2593cc1400307aee',\n",
              "     'question': \"Quando la Cina ha creato un codice di progettazione sismica per l' edilizia?\"},\n",
              "    {'answers': [{'answer_start': 276, 'text': 'terremoto di Tangshan'}],\n",
              "     'id': '56d538bc2593cc1400307aef',\n",
              "     'question': \"Che catastrofe li ha spinti a fare un codice di progettazione dell' edificio /.?\"}]},\n",
              "  {'context': \"Nei giorni successivi al disastro, un team internazionale di ingegneri è stato inviato nella regione per effettuare un' indagine preliminare dettagliata sugli edifici danneggiati. I loro risultati mostrano una varietà di ragioni per cui molte costruzioni non sono riuscite a resistere al terremoto.\",\n",
              "   'qas': []},\n",
              "  {'context': 'Le notizie di cronaca indicano che i villaggi rurali più poveri sono stati colpiti più duramente. Swaminathan Krishnan, assistente professore di ingegneria civile e geofisica presso il California Institute of Technology ha dichiarato:\"Il terremoto si è verificato nella parte rurale della Cina. Probabilmente, molti degli edifici sono stati appena costruiti; non sono stati progettati, per così dire. Swaminathan Krishnan ha aggiunto:\"In Cina ci sono norme edilizie molto forti, che si occupano di terremoto e problemi di progettazione sismica.',\n",
              "   'qas': [{'answers': [{'answer_start': 98, 'text': 'Swaminathan Krishnan'}],\n",
              "     'id': '56cebd8aaab44d1400b88978',\n",
              "     'question': 'Chi era professore assistente di ingegneria civile e geofisica presso il California Institute of Technology?'},\n",
              "    {'answers': [{'answer_start': 270, 'text': 'parte rurale'}],\n",
              "     'id': '56d53bf82593cc1400307afd',\n",
              "     'question': 'In quale parte della Cina si è verificato il terremoto?'}]},\n",
              "  {'context': 'Anche con le cinque città più grandi del Sichuan che subiscono solo danni di modesta entità a causa del terremoto, alcune stime della perdita economica superano i 75 miliardi di dollari, rendendo il terremoto uno dei disastri naturali più costosi della storia cinese.',\n",
              "   'qas': [{'answers': [{'answer_start': 163,\n",
              "       'text': '75 miliardi di dollari'}],\n",
              "     'id': '56cebdd0aab44d1400b8897f',\n",
              "     'question': 'Qual è la stima della perdita economica del terremoto?'},\n",
              "    {'answers': [{'answer_start': 163, 'text': '75 miliardi di dollari'}],\n",
              "     'id': '56d53d9a2593cc1400307b08',\n",
              "     'question': 'Qual è la stima delle perdite economiche?'},\n",
              "    {'answers': [{'answer_start': 253, 'text': 'storia cinese'}],\n",
              "     'id': '56d53d9a2593cc1400307b09',\n",
              "     'question': 'Chi è questo uno dei disastri più costosi della storia di?'},\n",
              "    {'answers': [{'answer_start': 13, 'text': 'cinque città più grandi'}],\n",
              "     'id': '56d53d9a2593cc1400307b0a',\n",
              "     'question': 'Quali città del Sichuan hanno subito danni minori?'}]},\n",
              "  {'context': \"Forti scosse di assestamento hanno continuato a colpire anche mesi dopo il terremoto principale. Il 25 maggio, una scossa di assestamento di 6.0 Mw (6.4 Ms secondo CEA) ha colpito a nord-est dell' epicentro del terremoto originale, nella contea di Qingchuan, Sichuan, causando otto morti, 1000 feriti e distruggendo migliaia di edifici. Il 27 maggio, due scosse di assestamento, una 5.2 Mw nella contea di Qingchuan e una 5.7 Mw nella contea di Ningqiang, Shaanxi, hanno portato al crollo di oltre 420.000 case e feriti 63 persone. La stessa area ha sofferto due scosse di assestamento più di 5,6 e 6,0 Ms (5,8 e 5,5 Mw, rispettivamente, secondo USGS) il 23 luglio, con conseguente 1 decesso, 6 feriti gravi, crollo di centinaia di case e danni chilometri di autostrade. Pingwu County e Beichuan County, Sichuan, anche a nord-est di Wenchuan e vicino all' epicentro di un terremoto della sig. ra 7.2 nel 1976, subì un terremoto di 6.1 Ms aftershock (5.7 Mw secondo l' USGS) il 1 agosto 1; ha causato 2 morti, 345 feriti, crollo di 707 case, danni a oltre 1.000 case, e bloccato 25 chilometri (16 mi) di strade di campagna.\",\n",
              "   'qas': [{'answers': [{'answer_start': 141, 'text': '6.0 Mw'}],\n",
              "     'id': '56d540072593cc1400307b0f',\n",
              "     'question': 'Quanto è stata forte la scossa di assestamento del 25 maggio nella contea di Qingchuan?'},\n",
              "    {'answers': [{'answer_start': 289, 'text': '1000'}],\n",
              "     'id': '56d540072593cc1400307b10',\n",
              "     'question': 'Quante persone sono rimaste ferite durante la scossa di assestamento del 25 maggio?'},\n",
              "    {'answers': [{'answer_start': 520, 'text': '63'}],\n",
              "     'id': '56d540072593cc1400307b12',\n",
              "     'question': 'Durante il 27 maggio scosse di assestamento, quante persone sono rimaste ferite?'},\n",
              "    {'answers': [{'answer_start': 248, 'text': 'Qingchuan, Sichuan'}],\n",
              "     'id': '56d540072593cc1400307b13',\n",
              "     'question': \"Dov' è stata la scossa di assestamento del 5 agosto che ha causato ampie frane di collina?\"}]},\n",
              "  {'context': 'Vice governatore esecutivo Wei Hong Wei ha confermato il 21 novembre 2008 che più di 90.000 persone in totale erano morti o dispersi nel terremoto. Ha dichiarato che 200.000 case sono state ricostruite e 685.000 sono in fase di ricostruzione, ma 1,94 milioni di famiglie sono ancora prive di ricovero permanente. Sono state ricostruite 1.300 scuole, con il trasferimento iniziale di 25 città, tra cui Beichuan e Wenchuan, due delle aree più devastate. Il governo ha speso 441 miliardi di dollari per gli sforzi di soccorso e ricostruzione.',\n",
              "   'qas': [{'answers': [{'answer_start': 27, 'text': 'Wei Hong'}],\n",
              "     'id': '56cebef6aab44d1400b88997',\n",
              "     'question': 'Chi era il vice governatore esecutivo?'},\n",
              "    {'answers': [{'answer_start': 166, 'text': '200.000'}],\n",
              "     'id': '56cebef6aab44d1400b88999',\n",
              "     'question': 'Quante case sono state ricostruite?'},\n",
              "    {'answers': [{'answer_start': 336, 'text': '1.300'}],\n",
              "     'id': '56cebef6aab44d1400b8899b',\n",
              "     'question': 'Quante scuole sono state ricostruite?'},\n",
              "    {'answers': [{'answer_start': 27, 'text': 'Wei Hong'}],\n",
              "     'id': '56d548552593cc1400307b19',\n",
              "     'question': 'Chi ha parlato dei morti e dei dispersi il 21 novembre 2008?'},\n",
              "    {'answers': [{'answer_start': 85, 'text': '90.000'}],\n",
              "     'id': '56d548552593cc1400307b1a',\n",
              "     'question': 'Quante persone hanno detto Wei Hong che erano morte o mancanti?'},\n",
              "    {'answers': [{'answer_start': 166, 'text': '200.000'}],\n",
              "     'id': '56d548552593cc1400307b1b',\n",
              "     'question': 'Quante case sono state ricostruite?'},\n",
              "    {'answers': [{'answer_start': 204, 'text': '685.000'}],\n",
              "     'id': '56d548552593cc1400307b1c',\n",
              "     'question': 'Quante case erano ancora in costruzione?'}]},\n",
              "  {'context': \"Il segretario generale e presidente Hu Jintao ha annunciato che la risposta alle catastrofi sarà rapida. A soli 90 minuti dal terremoto, il premier Wen Jiabao, che ha una formazione accademica in geomeccanica, ha volato nella zona del terremoto per sorvegliare i lavori di salvataggio. Poco dopo, il Ministero della Salute ha detto che aveva inviato dieci squadre mediche di emergenza a Wenchuan County. Lo stesso giorno, il comando militare della regione militare di Chengdu ha inviato 50.000 soldati e polizia armata per aiutare con il lavoro di soccorso in caso di catastrofe nella contea di Wenchuan. Tuttavia, a causa del terreno accidentato e della vicinanza dell' epicentro del sisma, i soldati hanno avuto molte difficoltà ad ottenere aiuto nelle regioni rurali della provincia.\",\n",
              "   'qas': [{'answers': [{'answer_start': 137,\n",
              "       'text': 'il premier Wen Jiabao'}],\n",
              "     'id': '56cebf6aaab44d1400b889a1',\n",
              "     'question': \"Chi ha volato nella zona sismica 90 minuti dopo l' urto?\"},\n",
              "    {'answers': [{'answer_start': 196, 'text': 'geomeccanica'}],\n",
              "     'id': '56cebf6aaab44d1400b889a2',\n",
              "     'question': \"In cosa c' era il background di Premier Wen Jiabao?\"},\n",
              "    {'answers': [{'answer_start': 261, 'text': 'i lavori di salvataggio'}],\n",
              "     'id': '56cebf6aaab44d1400b889a3',\n",
              "     'question': 'Che cosa ha supervisionato Jiabao nella regione?'},\n",
              "    {'answers': [{'answer_start': 487, 'text': '50.000'}],\n",
              "     'id': '56cebf6aaab44d1400b889a4',\n",
              "     'question': 'Quante truppe sono state inviate dai militari Chengdu?'},\n",
              "    {'answers': [{'answer_start': 350, 'text': 'dieci'}],\n",
              "     'id': '56d54a582593cc1400307b25',\n",
              "     'question': 'Quante squadre mediche sono state inviate nella contea di Wenchuan?'},\n",
              "    {'answers': [{'answer_start': 487, 'text': '50.000'}],\n",
              "     'id': '56d54a582593cc1400307b26',\n",
              "     'question': 'Quante truppe sono state inviate nella zona per operazioni di soccorso?'}]},\n",
              "  {'context': 'La Commissione nazionale di soccorso in caso di catastrofe ha avviato un \"piano di emergenza di II livello\", che copre la categoria più grave di catastrofi naturali. Il piano è salito al livello I alle 22:15 CST, 12 maggio.',\n",
              "   'qas': [{'answers': [{'answer_start': 197,\n",
              "       'text': 'alle 22:15 CST, 12 maggio'}],\n",
              "     'id': '56cebfcaaab44d1400b889ab',\n",
              "     'question': 'Quando è salito il piano al livello I?'},\n",
              "    {'answers': [{'answer_start': 132, 'text': 'più grave'}],\n",
              "     'id': '56d54bc82593cc1400307b2e',\n",
              "     'question': \"Quale classe di catastrofi è un' emergenza di livello II?\"},\n",
              "    {'answers': [{'answer_start': 3,\n",
              "       'text': 'Commissione nazionale di soccorso in caso di catastrofe'}],\n",
              "     'id': '56d54bc82593cc1400307b30',\n",
              "     'question': 'Quale dipartimento ha avviato il piano di emergenza?'}]},\n",
              "  {'context': \"Un' équipe di soccorso in caso di terremoto di 184 persone (composta da 12 persone dell' Ufficio sismologico di Stato, 150 del Comando dell' Area militare di Pechino e 22 dell' Ospedale Generale della Polizia Armata) ha lasciato Pechino dall' aeroporto di Nanyuan alla fine del 12 maggio in due aerei da trasporto militare per raggiungere la contea di Wenchuan.\",\n",
              "   'qas': [{'answers': [{'answer_start': 47, 'text': '184'}],\n",
              "     'id': '56cec033aab44d1400b889af',\n",
              "     'question': 'Quante persone erano nel team di soccorso in caso di terremoto?'},\n",
              "    {'answers': [{'answer_start': 72, 'text': '12'}],\n",
              "     'id': '56cec033aab44d1400b889b0',\n",
              "     'question': \"Quante squadre di soccorso provenivano dall' Ufficio sismologico di Stato?\"},\n",
              "    {'answers': [{'answer_start': 119, 'text': '150'}],\n",
              "     'id': '56cec033aab44d1400b889b1',\n",
              "     'question': 'Quanti membri della squadra erano militari?'},\n",
              "    {'answers': [{'answer_start': 168, 'text': '22'}],\n",
              "     'id': '56cec033aab44d1400b889b2',\n",
              "     'question': 'Quanti membri della squadra provenivano dalla polizia?'},\n",
              "    {'answers': [{'answer_start': 47, 'text': '184'}],\n",
              "     'id': '56d5d41b1c85041400946e0d',\n",
              "     'question': 'Quante persone costituivano la squadra di soccorso?'},\n",
              "    {'answers': [{'answer_start': 119, 'text': '150'}],\n",
              "     'id': '56d5d41b1c85041400946e0e',\n",
              "     'question': \"Quanti soldati provenivano dall' esercito di Pechino?\"},\n",
              "    {'answers': [{'answer_start': 177,\n",
              "       'text': 'Ospedale Generale della Polizia Armata'}],\n",
              "     'id': '56d5d41b1c85041400946e0f',\n",
              "     'question': 'Da dove provengono 22 della squadra di soccorso?'}]},\n",
              "  {'context': 'Nel China Digital Times un articolo riporta un\\' analisi approfondita da parte di un presunto ingegnere edile cinese conosciuto online come \"Book Blade\" (??), che ha dichiarato: un\\' analisi approfondita da parte di un presunto ingegnere edile cinese.',\n",
              "   'qas': [{'answers': [{'answer_start': 140, 'text': 'Book Blade'}],\n",
              "     'id': '56cec11faab44d1400b889c8',\n",
              "     'question': \"Dov' è stato riportato un articolo sullo scandalo?\"},\n",
              "    {'answers': [{'answer_start': 4, 'text': 'China Digital Times'}],\n",
              "     'id': '56d64d231c85041400947089',\n",
              "     'question': 'Qual è stato il nome della persona che ha pubblicato un rapporto nel China Digital Times?'}]},\n",
              "  {'context': 'In occasione della Festa dei bambini, il 1° giugno 2008, molti genitori si sono recati sulle macerie delle scuole per piangere i loro figli. I bambini sopravvissuti, che vivevano per lo più in centri di soccorso, hanno compiuto cerimonie che hanno segnato il giorno speciale, ma anche riconosciuto il terremoto.',\n",
              "   'qas': [{'answers': [{'answer_start': 19, 'text': 'Festa dei bambini'}],\n",
              "     'id': '56cec174aab44d1400b889cb',\n",
              "     'question': 'Che cosa è stato chiamato 1 giugno 2008?'}]},\n",
              "  {'context': \"Le imprese statali centrali hanno donato complessivamente più di 48,6 milioni di dollari. China National Petroleum Corp e Sinopec ha donato 10 milioni di yuan ciascuno per l' area del disastro.\",\n",
              "   'qas': [{'answers': [{'answer_start': 140, 'text': '10 milioni di yuan'}],\n",
              "     'id': '56cec1ffaab44d1400b889de',\n",
              "     'question': 'Quanto ha donato China National Petroleum Corp e Sinopec?'},\n",
              "    {'answers': [{'answer_start': 65, 'text': '48,6 milioni'}],\n",
              "     'id': '56d6647b1c850414009470ed',\n",
              "     'question': 'Quanto hanno donato le imprese statali centrali?'},\n",
              "    {'answers': [{'answer_start': 140, 'text': '10 milioni di yuan ciascuno'}],\n",
              "     'id': '56d6647b1c850414009470ee',\n",
              "     'question': 'Quanto ha donato China National Petroleum e Sinopec?'}]},\n",
              "  {'context': \"Il 16 maggio la Cina ha dichiarato di aver ricevuto anche 457 milioni di dollari in donazioni di denaro e beni per gli sforzi di salvataggio finora compiuti, compresi 83 milioni di dollari provenienti da 19 paesi e quattro organizzazioni internazionali. L' Arabia Saudita è stata il principale donatore di aiuti alla Cina, fornendo quasi 40.000.000 di euro in assistenza finanziaria e altri 8.000.000 di euro di materiale di soccorso.\",\n",
              "   'qas': [{'answers': [{'answer_start': 58,\n",
              "       'text': '457 milioni di dollari'}],\n",
              "     'id': '56cec2a1aab44d1400b889e1',\n",
              "     'question': 'Quanto ha ricevuto la Cina in denaro e beni donati?'},\n",
              "    {'answers': [{'answer_start': 204, 'text': '19 paesi'}],\n",
              "     'id': '56cec2a1aab44d1400b889e2',\n",
              "     'question': 'Quanti paesi hanno donato?'},\n",
              "    {'answers': [{'answer_start': 215, 'text': 'quattro'}],\n",
              "     'id': '56cec2a1aab44d1400b889e3',\n",
              "     'question': 'Quante organizzazioni internazionali hanno donato?'},\n",
              "    {'answers': [{'answer_start': 257, 'text': 'Arabia Saudita'}],\n",
              "     'id': '56cec2a1aab44d1400b889e4',\n",
              "     'question': 'Quale paese è stato il maggiore donatore di aiuti alla Cina?'},\n",
              "    {'answers': [{'answer_start': 167, 'text': '83 milioni'}],\n",
              "     'id': '56d6696d1c850414009470fb',\n",
              "     'question': 'Quanto denaro è stato donato da fonti straniere?'},\n",
              "    {'answers': [{'answer_start': 257, 'text': 'Arabia Saudita'}],\n",
              "     'id': '56d6696d1c850414009470fc',\n",
              "     'question': 'Quale paese è stato il maggiore donatore di aiuti alla Cina?'},\n",
              "    {'answers': [{'answer_start': 215, 'text': 'quattro'}],\n",
              "     'id': '56d6696d1c850414009470fe',\n",
              "     'question': 'Quante organizzazioni internazionali hanno fatto donazioni?'}]},\n",
              "  {'context': 'Nel 2008, il Consiglio di Stato ha stabilito un piano di sostegno alla controparte????????? Il piano è quello di organizzare 19 province orientali e centrali e municipalitie per aiutare 18 contee, su \"una provincia a una contea interessata\" base. Il piano ha una durata di 3 anni, e costa non meno dell\\' uno per cento del bilancio della provincia o del comune. un piano di sostegno di contropartita.',\n",
              "   'qas': [{'answers': [{'answer_start': 273, 'text': '3 anni'}],\n",
              "     'id': '56d66f3e1c85041400947117',\n",
              "     'question': 'Quanto dura il piano?'},\n",
              "    {'answers': [{'answer_start': 304, 'text': 'uno per cento'}],\n",
              "     'id': '56d66f3e1c85041400947118',\n",
              "     'question': 'Qual è il costo per il bilancio della provincia?'}]},\n",
              "  {'context': 'Un articolo in Science suggerisce che la costruzione e il riempimento della diga di Zipingpu potrebbe aver innescato il terremoto. L\\' ingegnere capo del Sichuan Geology and Mineral Bureau ha detto che lo spostamento improvviso di una grande quantità d\\' acqua nella regione avrebbe potuto allentare la tensione tra i due lati del guasto, permettendo loro di allontanarsi, e avrebbe potuto aumentare la pressione diretta su di esso, causando una violenta rottura. L\\' effetto è stato \"25 volte più\" dello stress naturale del movimento tettonico di un anno. Il governo aveva ignorato gli avvertimenti relativi a tanti progetti di dighe su larga scala in un\\' area sismicamente attiva. Ai ricercatori è stato negato l\\' accesso ai dati sismologici e geologici per esaminare ulteriormente la causa del terremoto.',\n",
              "   'qas': [{'answers': [{'answer_start': 554, 'text': 'Il governo'}],\n",
              "     'id': '56d677f31c85041400947145',\n",
              "     'question': 'Chi ha ignorato gli avvertimenti sulle dighe nella zona?'},\n",
              "    {'answers': [{'answer_start': 713,\n",
              "       'text': 'accesso ai dati sismologici e geologici'}],\n",
              "     'id': '56d677f31c85041400947147',\n",
              "     'question': 'Che cosa sono stati negati ai ricercatori?'}]},\n",
              "  {'context': 'Il terremoto ha inoltre offerto ai ricercatori l\\' opportunità di aggiornare i dati per modellare le previsioni future. Utilizzando i dati dell\\' osservatorio geomagnetico Intermagnet Lanzhou, i geologi Lazo Pekevski della Ss. Cyril e Methodius University di Skopje in Macedonia e Strachimir Mavrodiev dell\\' Accademia bulgara delle Scienze hanno cercato di stabilire un \"metodo di previsione temporale\" attraverso la raccolta di statistiche sul geomagnetismo con potenziale gravitazionale delle maree. Utilizzando questo metodo, si diceva che avessero previsto il tempo del terremoto del Sichuan del 2008 con una precisione di ± 1 giorno. Lo stesso studio, tuttavia, riconosce la limitazione dei modelli di previsione dei terremoti e non menziona che la localizzazione del sisma potrebbe essere accuratamente prevista.',\n",
              "   'qas': [{'answers': [{'answer_start': 559,\n",
              "       'text': 'il tempo del terremoto del Sichuan del 2008'}],\n",
              "     'id': '56cec484aab44d1400b88a09',\n",
              "     'question': 'Cosa prevedevano i professori?'},\n",
              "    {'answers': [{'answer_start': 427, 'text': 'statistiche'}],\n",
              "     'id': '56d675ed1c8504140094713d',\n",
              "     'question': 'Cosa hanno raccolto per usare questo metodo?'}]},\n",
              "  {'context': 'In una conferenza stampa tenuta dall\\' Ufficio informazioni del Consiglio di Stato il giorno dopo il terremoto, il geologo Zhang Xiaodong, vice direttore del CEA Seismic Monitoring Network Center, ha ribadito che la previsione del terremoto era un problema globale, nel senso che non esistono metodi comprovati, e che nessuna notifica di previsione è stata ricevuta prima del terremoto. Il sismologo Gary Gibson dell\\' Università di Monash University in Australia ha detto a Deutsche Presse-Agentur che anche lui non vedeva nulla che potesse essere considerato come aver \"previsto\" l\\' accadimento del terremoto.',\n",
              "   'qas': [{'answers': [{'answer_start': 279,\n",
              "       'text': 'non esistono metodi comprovati'}],\n",
              "     'id': '56d674591c85041400947133',\n",
              "     'question': 'Che cosa credono molti geologi nella previsione dei terremoti?'},\n",
              "    {'answers': [{'answer_start': 317,\n",
              "       'text': 'nessuna notifica di previsione'}],\n",
              "     'id': '56d674591c85041400947135',\n",
              "     'question': 'Cosa è stato ricevuto prima del terremoto?'}]},\n",
              "  {'context': \"Nel 2002, il geologo cinese Chen Xuezhong ha pubblicato uno studio di analisi del rischio sismico in cui è giunto alla conclusione che a partire dal 2003, l' attenzione dovrebbe essere prestata alla possibilità di un terremoto con una magnitudo superiore a 7,0 che si verifica nella regione del Sichuan. Ha basato il suo studio sulla correlazione statistica. Che il Sichuan è un' area sismicamente attiva è stata discussa per anni prima del terremoto, anche se pochi studi indicano una data e un' ora specifiche.\",\n",
              "   'qas': [{'answers': [{'answer_start': 0, 'text': 'Nel 2002'}],\n",
              "     'id': '56cec548aab44d1400b88a13',\n",
              "     'question': \"Quando è stata pubblicata l' analisi del rischio sismico?\"},\n",
              "    {'answers': [{'answer_start': 28, 'text': 'Chen Xuezhong'}],\n",
              "     'id': '56cec548aab44d1400b88a14',\n",
              "     'question': \"Chi ha pubblicato l' analisi del rischio sismico?\"},\n",
              "    {'answers': [{'answer_start': 28, 'text': 'Chen Xuezhong'}],\n",
              "     'id': '56d672d21c85041400947129',\n",
              "     'question': 'Chi ha pubblicato uno studio di analisi del rischio sismico?'},\n",
              "    {'answers': [{'answer_start': 4, 'text': '2002'}],\n",
              "     'id': '56d672d21c8504140094712a',\n",
              "     'question': 'In quale anno Chen Xuezhong ha pubblicato uno studio sul terremoto?'}]},\n",
              "  {'context': 'Il terremoto è stato il peggiore a colpire l\\' area del Sichuan in oltre 30 anni. A seguito del terremoto, esperti e il pubblico in generale hanno chiesto informazioni per sapere se il terremoto avrebbe potuto essere previsto in anticipo e se lo studio delle statistiche relative al terremoto avrebbe potuto portare a una migliore previsione dei terremoti in futuro. La predizione del terremoto non è ancora una scienza consolidata; non c\\' era consenso all\\' interno della comunità scientifica sul fatto che la \"previsione\" del terremoto sia possibile.',\n",
              "   'qas': [{'answers': [{'answer_start': 66, 'text': 'oltre 30 anni'}],\n",
              "     'id': '56cec5d1aab44d1400b88a23',\n",
              "     'question': 'Da quanto tempo si è verificato un terremoto di simile entità?'},\n",
              "    {'answers': [{'answer_start': 72, 'text': '30 anni'}],\n",
              "     'id': '56d6713f1c8504140094711f',\n",
              "     'question': \"Da quanto tempo da quando l' area del Sichuan ha subito un grave terremoto?\"},\n",
              "    {'answers': [{'answer_start': 258, 'text': 'statistiche'}],\n",
              "     'id': '56d6713f1c85041400947122',\n",
              "     'question': 'La gente voleva sapere se lo studio di quale matematica poteva produrre previsioni migliori?'}]},\n",
              "  {'context': 'Molte squadre di soccorso, tra cui quella del Taipei Fire Department di Taiwan, sono state segnalate pronte ad unirsi allo sforzo di salvataggio nel Sichuan già mercoledì. Tuttavia, la Croce Rossa Società della Cina ha detto che (il 13 maggio)\"è stato scomodo attualmente a causa del problema del traffico alle zone più colpite più vicino all\\' epicentro\". La Società della Croce Rossa Cinese ha anche dichiarato che le zone disastrate hanno bisogno di tende, forniture mediche, acqua potabile e cibo; tuttavia ha raccomandato di donare denaro invece di altri oggetti, in quanto non era stato possibile raggiungere strade completamente danneggiate o luoghi che sono stati bloccati da frane. Le frane minacciavano continuamente il progresso di un gruppo di ricerca e salvataggio di 80 uomini, ognuno dei quali trasportava circa 40 kg di materiale di soccorso, provenienti da una brigata motorizzata di fanteria sotto il comandante Yang Wenyao, mentre cercavano di raggiungere il villaggio etnicamente tibetano di Sier ad un\\' altezza di 4000 m sul livello del mare nella contea di Pingwu.',\n",
              "   'qas': [{'answers': [{'answer_start': 683, 'text': 'frane'}],\n",
              "     'id': '56d5db271c85041400946e42',\n",
              "     'question': 'Quale problema ha continuato ad impedire alle squadre di soccorso di raggiungere le zone colpite?'}]},\n",
              "  {'context': \"Le piogge e gli smottamenti persistenti nella contea di Wenchuan e nella zona vicina hanno gravemente influenzato gli sforzi di salvataggio. All' inizio delle operazioni di soccorso, il 12 maggio, sono stati impiegati 20 elicotteri per la fornitura di cibo, acqua e aiuti d' emergenza, nonché per l' evacuazione dei feriti e la ricognizione delle aree colpite dal terremoto. A partire dalle 17:37 CST del 13 maggio, un totale di oltre 15.600 soldati e riservisti della milizia della regione militare di Chengdu si erano uniti alla forza di soccorso nelle zone gravemente colpite. Un comandante ha riferito da Yingxiu Town, Wenchuan, che sono stati trovati circa 3.000 sopravvissuti, mentre lo stato degli altri abitanti (circa 9.000) è rimasto poco chiaro. I 1.300 soccorritori raggiunsero l' epicentro e 300 truppe pioniere raggiunsero la sede di Wenchuan a circa 23:30 CST. Entro le 12:17 CST, 14 maggio 2008, la comunicazione nella sede di Wenchuan è stata in parte ripresa. Il pomeriggio del 14 maggio, 15 operazioni speciali 15 truppe, insieme con le forniture di soccorso e attrezzature di comunicazione, paracadutati in inaccessibile Mao County, a nord-est di Wenchuan.\",\n",
              "   'qas': [{'answers': [{'answer_start': 218, 'text': '20'}],\n",
              "     'id': '56cec79caab44d1400b88a34',\n",
              "     'question': 'Quanti elicotteri sono stati impiegati?'},\n",
              "    {'answers': [{'answer_start': 435, 'text': '15.600'}],\n",
              "     'id': '56cec79caab44d1400b88a35',\n",
              "     'question': 'Quanti riservisti delle milizie si sono uniti agli sforzi di salvataggio?'},\n",
              "    {'answers': [{'answer_start': 656, 'text': 'circa 3.000'}],\n",
              "     'id': '56cec79caab44d1400b88a36',\n",
              "     'question': 'Quanti sopravvissuti sono stati trovati?'},\n",
              "    {'answers': [{'answer_start': 435, 'text': '15'}],\n",
              "     'id': '56cec79caab44d1400b88a37',\n",
              "     'question': 'Quante truppe paracadute nella contea di Mao?'},\n",
              "    {'answers': [{'answer_start': 218, 'text': '20'}],\n",
              "     'id': '56d5ecf21c85041400946e5b',\n",
              "     'question': 'Quanti elicotteri sono stati inviati per fornire aiuti alle zone colpite?'},\n",
              "    {'answers': [{'answer_start': 435, 'text': '15.600'}],\n",
              "     'id': '56d5ecf21c85041400946e5c',\n",
              "     'question': 'Entro il 13 maggio, quante truppe erano state aggiunte agli sforzi di salvataggio?'},\n",
              "    {'answers': [{'answer_start': 656, 'text': 'circa 3.000'}],\n",
              "     'id': '56d5ecf21c85041400946e5d',\n",
              "     'question': 'Come sono state segnalate le persone sopravvissute nella città di Yingxiu?'},\n",
              "    {'answers': [{'answer_start': 721, 'text': 'circa 9.000'}],\n",
              "     'id': '56d5ecf21c85041400946e5e',\n",
              "     'question': 'Quante persone a Yingxiu erano ancora sconosciute?'}]},\n",
              "  {'context': \"Il 15 maggio, il premier Wen Jiabao ha ordinato lo spiegamento di altri 90 elicotteri, di cui 60 forniti dal PLAAF e 30 forniti dall' industria dell' aviazione civile, portando così il numero totale di aeromobili impiegati nelle operazioni di soccorso dall' aviazione civile, dall' esercito e dall' aviazione civile a oltre 150, il che ha portato alla più grande operazione di non combattimento nella storia dell' Esercito popolare di liberazione.\",\n",
              "   'qas': [{'answers': [{'answer_start': 94, 'text': '60'}],\n",
              "     'id': '56cec801aab44d1400b88a3e',\n",
              "     'question': 'Quanti elicotteri sono stati forniti dal PLAAF?'},\n",
              "    {'answers': [{'answer_start': 117, 'text': '30'}],\n",
              "     'id': '56cec801aab44d1400b88a3f',\n",
              "     'question': \"Quanti elicotteri sarebbero stati forniti dall' industria dell' aviazione civile?\"},\n",
              "    {'answers': [{'answer_start': 318, 'text': 'oltre 150'}],\n",
              "     'id': '56cec801aab44d1400b88a40',\n",
              "     'question': \"Quanti aerei c' erano in totale?\"},\n",
              "    {'answers': [{'answer_start': 318, 'text': 'oltre 150'}],\n",
              "     'id': '56d60cd01c85041400946eea',\n",
              "     'question': \"Qual è il numero totale di aeromobili utilizzati nell' operazione di soccorso?\"},\n",
              "    {'answers': [{'answer_start': 94, 'text': '60'}],\n",
              "     'id': '56d60cd01c85041400946eec',\n",
              "     'question': 'Quanti elicotteri provenivano dal PLAAF?'},\n",
              "    {'answers': [{'answer_start': 134,\n",
              "       'text': \"industria dell' aviazione civile\"}],\n",
              "     'id': '56d60cd01c85041400946eed',\n",
              "     'question': 'Chi ha fornito gli altri 30 elicotteri?'}]},\n",
              "  {'context': \"Pechino ha accettato l' aiuto della Fondazione Tzu Chi di Taiwan alla fine del 13 maggio. Tzu Chi è stata la prima forza al di fuori della Repubblica Popolare Cinese a partecipare allo sforzo di salvataggio. La Cina ha dichiarato di voler accettare con gratitudine l' aiuto internazionale per far fronte al terremoto.\",\n",
              "   'qas': [{'answers': [{'answer_start': 36, 'text': 'Fondazione Tzu Chi'}],\n",
              "     'id': '56cec88baab44d1400b88a45',\n",
              "     'question': 'Quale Fondazione ha voluto aiutare Pechino?'},\n",
              "    {'answers': [{'answer_start': 58, 'text': 'Taiwan'}],\n",
              "     'id': '56cec88baab44d1400b88a46',\n",
              "     'question': \"Dov' era la fondazione?\"},\n",
              "    {'answers': [{'answer_start': 36, 'text': 'Fondazione Tzu Chi'}],\n",
              "     'id': '56d60ddf1c85041400946ef5',\n",
              "     'question': \"Qual è stato il primo gruppo di fuori della Cina a partecipare all' operazione di soccorso?\"},\n",
              "    {'answers': [{'answer_start': 268, 'text': 'aiuto internazionale'}],\n",
              "     'id': '56d60ddf1c85041400946ef6',\n",
              "     'question': 'Che cosa ha detto la Cina di accettare?'}]},\n",
              "  {'context': \"Un volo merci charter diretto è stato effettuato dalla China Airlines da Taiwan Taoyuan International Airport all' aeroporto internazionale di Chengdu Shuangliu, che ha inviato circa 100 tonnellate di forniture di soccorso donate dalla Fondazione Tzu Chi e dalla Croce Rossa di Taiwan alle zone colpite. È stata chiesta l' approvazione delle autorità cinesi della Cina continentale e il volo charter è partito da Taipei alle 17:00 CST, il 15 maggio e è arrivato a Chengdu entro le 20:30 CST. Una squadra di soccorso della Croce Rossa di Taiwan avrebbe dovuto partire da Taipei con un volo charter diretto di Mandarin Airlines verso Chengdu alle 15:00 CST del 16 maggio.\",\n",
              "   'qas': [{'answers': [{'answer_start': 55, 'text': 'China Airlines'}],\n",
              "     'id': '56cec8e2aab44d1400b88a55',\n",
              "     'question': 'Chi ha effettuato un volo cargo charter diretto?'},\n",
              "    {'answers': [{'answer_start': 439, 'text': '15 maggio'}],\n",
              "     'id': '56cec8e2aab44d1400b88a57',\n",
              "     'question': 'Quale data di partenza del volo cargo?'},\n",
              "    {'answers': [{'answer_start': 659, 'text': '16 maggio'}],\n",
              "     'id': '56cec8e2aab44d1400b88a58',\n",
              "     'question': 'Quando è partita una squadra di soccorso?'},\n",
              "    {'answers': [{'answer_start': 73,\n",
              "       'text': 'Taiwan Taoyuan International Airport'}],\n",
              "     'id': '56d613011c85041400946efd',\n",
              "     'question': 'Da quale aeroporto parte il volo charter?'},\n",
              "    {'answers': [{'answer_start': 143, 'text': 'Chengdu'}],\n",
              "     'id': '56d613011c85041400946efe',\n",
              "     'question': 'Dove è avvenuto il volo charter da Taiwan?'},\n",
              "    {'answers': [{'answer_start': 496, 'text': 'squadra di soccorso'}],\n",
              "     'id': '56d613011c85041400946eff',\n",
              "     'question': 'Che cosa ha lasciato il team della Croce Rossa a Taipei il 16 maggio Chengdu?'}]},\n",
              "  {'context': \"Il 16 maggio, i gruppi di soccorso provenienti da Corea del Sud, Giappone, Singapore, Russia e Taiwan sono arrivati per unirsi allo sforzo di salvataggio. Gli Stati Uniti hanno condiviso con le autorità cinesi alcune delle sue immagini satellitari delle zone colpite dal terremoto. Durante il fine settimana, gli Stati Uniti hanno inviato in Cina due forniture di trasporto dell' aeronautica militare C-17 degli Stati Uniti, tra cui tende e generatori. Xinhua ha riferito 135.000 truppe cinesi e medici sono stati coinvolti nello sforzo di salvataggio in 58 contee e città. immagini satellitari delle aree colpite dal terremoto.\",\n",
              "   'qas': [{'answers': [{'answer_start': 472, 'text': '135.000'}],\n",
              "     'id': '56cec9e1aab44d1400b88a63',\n",
              "     'question': 'Quante truppe cinesi sono state coinvolte negli sforzi di salvataggio?'},\n",
              "    {'answers': [{'answer_start': 3, 'text': '16 maggio'}],\n",
              "     'id': '56cec9e1aab44d1400b88a65',\n",
              "     'question': 'Quando sono arrivati in Cina gruppi provenienti dalla Corea del Sud, dal Giappone e da altri paesi?'},\n",
              "    {'answers': [{'answer_start': 227, 'text': 'immagini satellitari'}],\n",
              "     'id': '56d61a451c85041400946f10',\n",
              "     'question': 'Che cosa ha condiviso gli Stati Uniti con la Cina?'},\n",
              "    {'answers': [{'answer_start': 433, 'text': 'tende e generatori'}],\n",
              "     'id': '56d61a451c85041400946f11',\n",
              "     'question': \"Cosa è stato incluso nelle forniture dell' aeronautica militare C-17?\"},\n",
              "    {'answers': [{'answer_start': 472, 'text': '135.000'}],\n",
              "     'id': '56d61a451c85041400946f13',\n",
              "     'question': 'Quante truppe e medici cinesi sono stati coinvolti negli sforzi di soccorso?'}]},\n",
              "  {'context': \"Internet è stato ampiamente utilizzato per trasmettere informazioni a sostegno degli sforzi di salvataggio e recupero. Ad esempio, l' agenzia di stampa ufficiale Xinhua ha istituito un centro online di richiesta di soccorso per trovare gli angoli ciechi del disaster recovery. Dopo aver saputo che gli elicotteri di soccorso avevano avuto difficoltà ad atterrare nell' area dell' epicentro di Wenchuan, uno studente ha proposto un punto di atterraggio online ed è stato scelto come primo touchdown per gli elicotteri[non in citazione dato]. I volontari hanno anche creato diversi siti web per aiutare a memorizzare le informazioni di contatto per le vittime e gli sfollati. Il 31 maggio, un elicottero di salvataggio che trasportava sopravvissuti al terremoto e membri dell' equipaggio si è schiantato a causa della nebbia e delle turbolenze nella contea di Wenchuan. Nessuno è sopravvissuto.\",\n",
              "   'qas': [{'answers': [{'answer_start': 0, 'text': 'Internet'}],\n",
              "     'id': '56ceccc7aab44d1400b88a7d',\n",
              "     'question': 'Che cosa è stato ampiamente utilizzato per trasmettere informazioni a sostegno degli sforzi di salvataggio e recupero?'},\n",
              "    {'answers': [{'answer_start': 228,\n",
              "       'text': 'trovare gli angoli ciechi del disaster recovery'}],\n",
              "     'id': '56ceccc7aab44d1400b88a7f',\n",
              "     'question': 'Qual era lo scopo di questo centro di richiesta di soccorso online?'},\n",
              "    {'answers': [{'answer_start': 393, 'text': 'Wenchuan'}],\n",
              "     'id': '56ceccc7aab44d1400b88a80',\n",
              "     'question': 'Dove hanno avuto difficoltà di atterraggio gli elicotteri di soccorso?'},\n",
              "    {'answers': [{'answer_start': 0, 'text': 'Internet'}],\n",
              "     'id': '56d61c4e1c85041400946f1a',\n",
              "     'question': 'Che cosa è stato utilizzato come aiuto alle comunicazioni negli sforzi di soccorso?'},\n",
              "    {'answers': [{'answer_start': 403, 'text': 'uno studente'}],\n",
              "     'id': '56d61c4e1c85041400946f1c',\n",
              "     'question': \"Quale persona ha suggerito un atterraggio per elicotteri vicino all' epicentro?\"},\n",
              "    {'answers': [{'answer_start': 618, 'text': 'informazioni di contatto'}],\n",
              "     'id': '56d61c4e1c85041400946f1d',\n",
              "     'question': 'Che tipo di informazioni sono state create sui siti web da archiviare?'}]},\n",
              "  {'context': \"Il 12 maggio 2009, la Cina ha celebrato il primo anniversario del terremoto con un momento di silenzio mentre le persone in tutta la nazione ricordavano i morti. Il governo ha anche aperto l' accesso alle rovine sigillate della sede della contea del Beichuan per tre giorni, dopo di che sarà congelato in tempo come un museo reliquia terremoto di stato, per ricordare alla gente del disastro terribile. Ci sono stati anche diversi concerti in tutto il paese per raccogliere fondi per i sopravvissuti al terremoto.\",\n",
              "   'qas': [{'answers': [{'answer_start': 80,\n",
              "       'text': 'un momento di silenzio'}],\n",
              "     'id': '56cecd53aab44d1400b88a88',\n",
              "     'question': \"Cosa è stato fatto per l' anniversario?\"},\n",
              "    {'answers': [{'answer_start': 263, 'text': 'tre giorni'}],\n",
              "     'id': '56cecd53aab44d1400b88a8a',\n",
              "     'question': 'Per quanto tempo è stato aperto?'},\n",
              "    {'answers': [{'answer_start': 80, 'text': 'un momento di silenzio'}],\n",
              "     'id': '56d66b221c85041400947103',\n",
              "     'question': 'Che cosa ha fatto la Cina per celebrare il primo anniversario del terremoto?'},\n",
              "    {'answers': [{'answer_start': 423, 'text': 'diversi concerti'}],\n",
              "     'id': '56d66b221c85041400947105',\n",
              "     'question': 'Che tipo di evento è stato dato per raccogliere fondi per i sopravvissuti al terremoto?'}]},\n",
              "  {'context': 'A seguito del terremoto, le donazioni sono state effettuate da persone provenienti da tutta la Cina continentale, con cabine allestite nelle scuole, presso le banche e nelle vicinanze di distributori di benzina. La gente ha anche donato sangue, con conseguente secondo Xinhua lungo line-up Xinhua nella maggior parte delle principali città cinesi. Molti donato attraverso messaggi di testo sui telefoni cellulari per i conti istituiti da China Unicom e China Mobile 16 maggio, il governo cinese aveva stanziato un totale di 772 milioni di dollari per il terremoto di soccorso finora, in forte aumento da $ 159 milioni di dollari dal 14 maggio sangue.',\n",
              "   'qas': [{'answers': [{'answer_start': 230, 'text': 'donato sangue'}],\n",
              "     'id': '56d666041c850414009470f1',\n",
              "     'question': 'Che cosa ha causato le lunghe linee nella maggior parte delle grandi città?'},\n",
              "    {'answers': [{'answer_start': 118, 'text': 'cabine'}],\n",
              "     'id': '56d666041c850414009470f2',\n",
              "     'question': 'Quali sono state le premesse cinesi per raccogliere donazioni?'},\n",
              "    {'answers': [{'answer_start': 524, 'text': '772 milioni di dollari'}],\n",
              "     'id': '56d666041c850414009470f4',\n",
              "     'question': 'Quanto aveva designato il governo cinese entro il 16 maggio?'}]},\n",
              "  {'context': 'La Società Croce Rossa della Cina ha volato 557 tende e 2.500 trapunte del valore di 788.000 yuan (113.000 dollari USA) nella contea di Wenchuan. La Fondazione Amity ha già iniziato i lavori di soccorso nella regione e ha stanziato 143.000 USD per i soccorsi in caso di catastrofe. Il ministero degli Affari civili del Sichuan ha dichiarato di aver fornito 30.000 tende per i senzatetto rimasti senza tetto.',\n",
              "   'qas': [{'answers': [{'answer_start': 44, 'text': '557'}],\n",
              "     'id': '56cece5caab44d1400b88a9b',\n",
              "     'question': 'Quante tende sono state volate nella regione?'},\n",
              "    {'answers': [{'answer_start': 56, 'text': '2.500'}],\n",
              "     'id': '56cece5caab44d1400b88a9c',\n",
              "     'question': 'Quanti trapunte sono state volate nella regione?'},\n",
              "    {'answers': [{'answer_start': 85, 'text': '788.000 yuan'}],\n",
              "     'id': '56cece5caab44d1400b88a9d',\n",
              "     'question': 'Quanto valevano entrambe le forniture?'},\n",
              "    {'answers': [{'answer_start': 357, 'text': '30.000'}],\n",
              "     'id': '56cece5caab44d1400b88a9f',\n",
              "     'question': 'Quante tende ha fornito il ministero del Sichuan ai senzatetto?'},\n",
              "    {'answers': [{'answer_start': 357, 'text': '30.000'}],\n",
              "     'id': '56d663b11c850414009470e5',\n",
              "     'question': 'Quante tende ha fornito il Ministero degli Affari del Sichuan?'},\n",
              "    {'answers': [{'answer_start': 146, 'text': 'La Fondazione Amity'}],\n",
              "     'id': '56d663b11c850414009470e7',\n",
              "     'question': 'Quali fondamenta avevano già iniziato i lavori di soccorso nella zona?'}]},\n",
              "  {'context': 'Il governo centrale stima che oltre 7.000 aule scolastiche non adeguatamente attrezzate siano crollate in seguito al terremoto. Da allora i cittadini cinesi hanno inventato una frase di cattura:\"tofu-dregs schoolhouses\" (Cinese:?????), per fingere sia la qualità che la quantità di queste costruzioni inferiori che hanno ucciso così tanti bambini in età scolare. A causa della politica del figlio unico, molte famiglie hanno perso l\\' unico figlio quando le scuole della regione sono crollate durante il terremoto. Di conseguenza, i funzionari provinciali e locali del Sichuan hanno abolito la restrizione per le famiglie il cui unico bambino è stato ucciso o gravemente ferito in seguito al disastro. I cosiddetti \"bambini illegali\" di età inferiore ai 18 anni possono essere registrati come sostituti legali dei loro fratelli morti; se il bambino morto fosse illegale, non si applicherebbero ulteriori sanzioni pecuniarie. Il rimborso non sarebbe tuttavia offerto per le ammende già riscosse.',\n",
              "   'qas': [{'answers': [{'answer_start': 36, 'text': '7.000'}],\n",
              "     'id': '56cecf68aab44d1400b88ab7',\n",
              "     'question': 'Quante aule scolastiche sono crollate nel terremoto?'},\n",
              "    {'answers': [{'answer_start': 195, 'text': 'tofu-dregs schoolhouses'}],\n",
              "     'id': '56cecf68aab44d1400b88ab8',\n",
              "     'question': \"Quale frase d' insieme è stata inventata a seguito del crollo delle scuole?\"},\n",
              "    {'answers': [{'answer_start': 195, 'text': 'tofu-dregs schoolhouses'}],\n",
              "     'id': '56d64a821c85041400947077',\n",
              "     'question': 'Che cosa ha iniziato la cittadinanza a chiamare questo tipo di scuole?'}]},\n",
              "  {'context': 'La sera del 18 maggio, il CCTV-1 ha ospitato un programma speciale di quattro ore chiamato The Giving of Love (cinese semplificato:???; cinese tradizionale:????), ospitato da regolari del Gala di Capodanno CCTV e dall\\' ancora di copertura 24 ore su 24 Bai Yansong. Vi hanno partecipato una vasta gamma di personaggi dello spettacolo, letterari, commerciali e politici provenienti dalla Cina continentale, Hong Kong, Singapore e Taiwan. Le donazioni della serata sono ammontate a 1,5 miliardi di yuan cinese (~208 milioni di dollari USA). Tra le donazioni, la TVCC ha dato il maggior contributo aziendale a ¥50 milioni. Quasi contemporaneamente a Taiwan, un programma tematico simile era in onda ospitato dal presidente in carica Ma Ying-jeou. A giugno, l\\' attore di Hong Kong Jackie Chan, che ha donato 1,57 milioni di dollari alle vittime, ha realizzato un video musicale insieme ad altri artisti intitolato \"Promise\"; la canzone è stata composta da Andy Lau. L\\' Artistes 512 Fund Raising Campaign, una maratona di raccolta fondi della durata di 8 ore, si è tenuta il 1° giugno a Hong Kong, alla quale hanno partecipato circa 200 musicisti e celebrità della Sinosfera. A Singapore, MediaCorp Channel 8 ha ospitato un programma dal vivo?? programma di quattro ore chiamato Il dono dell\\' amore.',\n",
              "   'qas': [{'answers': [{'answer_start': 252, 'text': 'Bai Yansong'}],\n",
              "     'id': '56cecff4aab44d1400b88abe',\n",
              "     'question': 'Quanto erano grandi le donazioni del programma?'},\n",
              "    {'answers': [{'answer_start': 803, 'text': '1,57 milioni di dollari'}],\n",
              "     'id': '56cecff4aab44d1400b88abf',\n",
              "     'question': 'Quanto ha donato Jackie Chan per sostenere?'},\n",
              "    {'answers': [{'answer_start': 1273, 'text': \"Il dono dell' amore\"}],\n",
              "     'id': '56cecff4aab44d1400b88ac1',\n",
              "     'question': 'Qual era il programma che CCTV-1 ha ospitato?'},\n",
              "    {'answers': [{'answer_start': 91, 'text': 'The Giving of Love'}],\n",
              "     'id': '56d6477c1c85041400947065',\n",
              "     'question': 'Quali sono state le donazioni totali per il programma?'},\n",
              "    {'answers': [{'answer_start': 26, 'text': 'CCTV'}],\n",
              "     'id': '56d6477c1c85041400947066',\n",
              "     'question': 'Quale azienda ha dato il massimo?'},\n",
              "    {'answers': [{'answer_start': 803, 'text': '1,57 milioni'}],\n",
              "     'id': '56d6477c1c85041400947067',\n",
              "     'question': \"Quanto ha donato l' attore Jackie Chan?\"}]},\n",
              "  {'context': 'Gli sforzi di salvataggio compiuti dal governo cinese sono stati elogiati dai media occidentali, soprattutto in confronto al blocco degli aiuti stranieri da parte del Myanmar durante il ciclone Nargis, nonché ai precedenti risultati della Cina durante il terremoto di Tangshan del 1976. L\\' apertura della Cina durante la copertura mediatica del terremoto del Sichuan ha portato un professore presso l\\' Università di Pechino a dire:\"Questa è la prima volta[che] i media cinesi sono stati all\\' altezza degli standard internazionali\". Los Angeles Times ha elogiato la copertura mediatica della Cina del terremoto di essere \"democratico\".',\n",
              "   'qas': [{'answers': [{'answer_start': 138, 'text': 'aiuti stranieri'}],\n",
              "     'id': '56d61fc11c85041400946f24',\n",
              "     'question': 'Che cosa ha fatto blocco Myanmar dopo Cyclone Nargis?'},\n",
              "    {'answers': [{'answer_start': 532, 'text': 'Los Angeles Times'}],\n",
              "     'id': '56d61fc11c85041400946f26',\n",
              "     'question': 'Chi ha elogiato la copertura mediatica cinese come democratica?'}]},\n",
              "  {'context': 'A causa del terremoto di magnitudo 7,9 e delle numerose forti scosse di assestamento, molti fiumi sono stati bloccati da grandi frane, che hanno portato alla formazione di \"laghi di sisma\" dietro le ostruzioni; queste enormi quantità d\\' acqua si stavano accumulando ad un ritmo molto elevato dietro le dighe naturali di frane e si temeva che le ostruzioni sarebbero infine crollate sotto il peso della massa d\\' acqua sempre crescente, potenzialmente mettendo a repentaglio la vita di milioni di persone. Al 27 maggio 2008,34 laghi si erano formati a causa del terremoto che bloccava i detriti e arginava i fiumi, e si stimava che 28 di essi fossero ancora potenzialmente pericolosi per la popolazione locale. Gli interi villaggi hanno dovuto essere evacuati a causa delle conseguenti inondazioni.',\n",
              "   'qas': [{'answers': [{'answer_start': 522, 'text': '34'}],\n",
              "     'id': '56cedd7daab44d1400b88b50',\n",
              "     'question': 'Quanti laghi di tremito si sono formati?'},\n",
              "    {'answers': [{'answer_start': 630, 'text': '28'}],\n",
              "     'id': '56cedd7daab44d1400b88b51',\n",
              "     'question': 'Quanti laghi costituivano un pericolo per le persone?'},\n",
              "    {'answers': [{'answer_start': 121, 'text': 'grandi frane'}],\n",
              "     'id': '56d624261c85041400946f2d',\n",
              "     'question': 'Che cosa ha bloccato molti dei fiumi della zona?'},\n",
              "    {'answers': [{'answer_start': 522, 'text': '34'}],\n",
              "     'id': '56d624261c85041400946f2f',\n",
              "     'question': 'A partire dal 27 maggio quanti laghi sismici si erano formati dietro i detriti di frane?'},\n",
              "    {'answers': [{'answer_start': 713, 'text': 'interi villaggi'}],\n",
              "     'id': '56d624261c85041400946f30',\n",
              "     'question': 'Che cosa doveva essere evacuato a causa di un potenziale allagamento?'}]},\n",
              "  {'context': \"Il più precario di questi ciarlatani era quello che si trovava nel terreno estremamente difficile del Monte Tangjia nella contea di Beichuan, Sichuan, accessibile solo a piedi o in aereo; un elicottero di sollevamento pesante Mi-26T appartenente alla China Flying Dragon Special Aviation Company è stato utilizzato per portare pesanti trattori movimento terra nella zona colpita. Questa operazione è stata accoppiata con il lavoro svolto da elicotteri PLAAF Mi-17 portando in corpi di ingegneria PLA, specialisti di esplosivi e altro personale per unire 1.200 soldati che sono arrivati sul posto a piedi. Cinque tonnellate di combustibile per azionare il macchinario sono state trasportate in aria fino al sito, dove è stata costruita una saracinesca per consentire lo scarico sicuro dell' acqua di strozzatura. A valle, più di 200.000 persone sono state evacuate dal Mianyang entro il 1 giugno in previsione dello scoppio della diga.\",\n",
              "   'qas': [{'answers': [{'answer_start': 102,\n",
              "       'text': 'Monte Tangjia nella contea di Beichuan, Sichuan'}],\n",
              "     'id': '56ceddf6aab44d1400b88b67',\n",
              "     'question': 'Dove si trovava il lago più precario?'},\n",
              "    {'answers': [{'answer_start': 335, 'text': 'trattori'}],\n",
              "     'id': '56ceddf6aab44d1400b88b69',\n",
              "     'question': 'Quali macchine sono state trasportate in aereo?'},\n",
              "    {'answers': [{'answer_start': 828, 'text': '200.000'}],\n",
              "     'id': '56ceddf6aab44d1400b88b6b',\n",
              "     'question': 'Quante persone sono state evacuate a valle?'},\n",
              "    {'answers': [{'answer_start': 912, 'text': 'lo scoppio della diga'}],\n",
              "     'id': '56d62b0f1c85041400946f5e',\n",
              "     'question': \"Qual è stata la paura che ha causato l' evacuazione di 200.000 persone dal Mianyang?\"},\n",
              "    {'answers': [{'answer_start': 102, 'text': 'Monte Tangjia'}],\n",
              "     'id': '56d62b0f1c85041400946f5f',\n",
              "     'question': 'Dove si trovava il peggio dei laghi sismici?'},\n",
              "    {'answers': [{'answer_start': 122, 'text': 'contea di Beichuan, Sichuan'}],\n",
              "     'id': '56d62b0f1c85041400946f60',\n",
              "     'question': 'Dove si trova il monte Tangjia?'},\n",
              "    {'answers': [{'answer_start': 554, 'text': '1.200'}],\n",
              "     'id': '56d62b0f1c85041400946f62',\n",
              "     'question': 'Quanti soldati hanno dovuto recarsi nella zona a piedi?'}]},\n",
              "  {'context': 'Il Consiglio di Stato ha dichiarato un periodo di tre giorni di lutto nazionale per le vittime del terremoto a partire dal 19 maggio 2008, la bandiera nazionale della RPC e le bandiere regionali di Hong Kong e Macao regioni amministrative speciali ha volato a metà albero. Era la prima volta che un periodo di lutto nazionale era stato dichiarato per qualcosa di diverso dalla morte di un leader statale, e molti lo hanno definito la più grande manifestazione di lutto dalla morte di Mao Zedong. Alle 14:28 CST 28 il 19 maggio 2008, una settimana dopo il terremoto, il pubblico cinese ha tenuto un momento di silenzio. La gente taceva per tre minuti mentre la difesa aerea, la polizia e le sirene antincendio, e le corna di veicoli, navi e treni suonavano. Anche le auto e i camion sulle strade di Pechino si sono fermati. La gente spontaneamente scoppiò in allegria \"Zhongguo jiayou\"! (Vai, Cina!) e \"Sichuan jiayou\" (Let\\'s go, Sichuan!).',\n",
              "   'qas': [{'answers': [{'answer_start': 547, 'text': 'dopo'}],\n",
              "     'id': '56cede78aab44d1400b88b7c',\n",
              "     'question': 'Chi ha dichiarato il lutto?'},\n",
              "    {'answers': [{'answer_start': 64, 'text': 'lutto nazionale'}],\n",
              "     'id': '56d62ce51c85041400946f7a',\n",
              "     'question': 'Che cosa ha dichiarato il Consiglio di Stato?'},\n",
              "    {'answers': [{'answer_start': 484, 'text': 'Mao Zedong'}],\n",
              "     'id': '56d62ce51c85041400946f7b',\n",
              "     'question': 'Questa è stata la più grande manifestazione di lutto dalla morte di chi?'},\n",
              "    {'answers': [{'answer_start': 123, 'text': '19 maggio 2008'}],\n",
              "     'id': '56d62ce51c85041400946f7c',\n",
              "     'question': 'Quando i cinesi hanno avuto un momento di silenzio?'},\n",
              "    {'answers': [{'answer_start': 39, 'text': 'periodo di tre giorni'}],\n",
              "     'id': '56d62ce51c85041400946f7e',\n",
              "     'question': 'Quanto tempo è durato il lutto nazionale per le vittime del terremoto?'}]},\n",
              "  {'context': \"Il Comitato Organizzatore di Ningbo del comitato organizzatore della torcia olimpica di Pechino ha annunciato che la staffetta, prevista per svolgersi a Ningbo durante la mattinata nazionale, sarebbe stata sospesa per la durata del periodo di lutto. Il percorso della torcia attraverso il paese è stato ridimensionato, e c' è stato un minuto di silenzio quando la tappa successiva ha iniziato nella città di Ruijin, Jiangxi il mercoledì dopo il terremoto.\",\n",
              "   'qas': [{'answers': [{'answer_start': 29, 'text': 'Ningbo'}],\n",
              "     'id': '56cedecdaab44d1400b88b8e',\n",
              "     'question': \"Dov' era previsto il relè?\"},\n",
              "    {'answers': [{'answer_start': 151, 'text': 'a Ningbo'}],\n",
              "     'id': '56d62e501c85041400946f95',\n",
              "     'question': 'Dove doveva avvenire il relè della torcia?'},\n",
              "    {'answers': [{'answer_start': 250, 'text': 'Il percorso'}],\n",
              "     'id': '56d62e501c85041400946f96',\n",
              "     'question': 'Quale parte del relè ha cambiato?'},\n",
              "    {'answers': [{'answer_start': 408, 'text': 'Ruijin, Jiangxi'}],\n",
              "     'id': '56d62e501c85041400946f97',\n",
              "     'question': \"Dove c' era un minuto di silenzio durante la staffetta?\"}]},\n",
              "  {'context': 'Molti siti web hanno convertito la loro home page in bianco e nero; Sina. com e Sohu, i principali portali internet, hanno limitato le loro homepage alle notizie e rimosso tutte le pubblicità. I siti web cinesi di condivisione video Youku e Tudou hanno mostrato uno sfondo nero e collocato più video che mostrano filmati di terremoto e reportage di notizie. La versione cinese di MSN, cn. msn. com, mostrava anche annunci pubblicitari sul terremoto e gli sforzi di soccorso.',\n",
              "   'qas': []},\n",
              "  {'context': \"Ye Zhiping, il preside della scuola media di Sangzao a Sangzao, una delle più grandi della Contea di An, ha ricevuto il merito di un' azione proattiva che ha risparmiato la vita a tutti i 2.323 alunni presenti quando si è verificato il terremoto. Nel corso di un triennio che si è concluso nel 2007, ha seguito un' importante revisione della sua scuola. Durante quel periodo ha ottenuto più di 400.000 yuan (US$60.000) dal dipartimento di istruzione contea, denaro usato per ampliare e rafforzare i pilastri di cemento e la ringhiera balcone di tutti e quattro i piani della sua scuola, così come fissare i pavimenti in cemento.\",\n",
              "   'qas': [{'answers': [{'answer_start': 0, 'text': 'Ye Zhiping'}],\n",
              "     'id': '56cee003aab44d1400b88bb1',\n",
              "     'question': 'Chi era il preside della scuola media di Sangzao?'},\n",
              "    {'answers': [{'answer_start': 188, 'text': '2.323'}],\n",
              "     'id': '56cee003aab44d1400b88bb3',\n",
              "     'question': 'Quanti studenti hanno frequentato la scuola?'},\n",
              "    {'answers': [{'answer_start': 394, 'text': '400.000 yuan'}],\n",
              "     'id': '56cee003aab44d1400b88bb5',\n",
              "     'question': 'Quanto denaro è stato utilizzato per rafforzare la costruzione della scuola?'},\n",
              "    {'answers': [{'answer_start': 0, 'text': 'Ye Zhiping'}],\n",
              "     'id': '56d64f7c1c85041400947095',\n",
              "     'question': 'Quale direttore scolastico ha rafforzato la sua scuola?'},\n",
              "    {'answers': [{'answer_start': 45, 'text': 'Sangzao'}],\n",
              "     'id': '56d64f7c1c85041400947097',\n",
              "     'question': \"Dov' è la scuola media di Sangzao?\"}]},\n",
              "  {'context': \"Tuttavia, Reuters ha riferito nel mese di giugno che, ad oggi, i pubblici ministeri cinesi hanno aderito a un' indagine ufficiale in dieci scuole crollato durante il devastante terremoto di maggio per ottenere materiale di prima mano della qualità delle costruzioni nelle scuole crollato, avviare indagini preliminari e prepararsi per eventuali indagini sulla criminalità professionale. È stato inoltre riferito che, dopo il terremoto del mese scorso, si sarebbero dovuti effettuare controlli di sicurezza nelle scuole di tutta la Cina.\",\n",
              "   'qas': [{'answers': [{'answer_start': 483,\n",
              "       'text': 'controlli di sicurezza'}],\n",
              "     'id': '56cee069aab44d1400b88bbd',\n",
              "     'question': 'Cosa doveva essere fatto nelle scuole dopo il sisma?'},\n",
              "    {'answers': [{'answer_start': 360, 'text': 'criminalità professionale'}],\n",
              "     'id': '56d658061c850414009470a8',\n",
              "     'question': 'Quali indagini stanno conducendo i pubblici ministeri?'},\n",
              "    {'answers': [{'answer_start': 512, 'text': 'scuole di tutta la Cina'}],\n",
              "     'id': '56d658061c850414009470a9',\n",
              "     'question': 'Dove saranno i cinesi ad effettuare i controlli di sicurezza?'},\n",
              "    {'answers': [{'answer_start': 10, 'text': 'Reuters'}],\n",
              "     'id': '56d658061c850414009470aa',\n",
              "     'question': 'Quale gruppo ha riferito che i pubblici ministeri cinesi sono stati coinvolti nelle indagini sui crolli della scuola?'}]},\n",
              "  {'context': 'Il New York Times ha riferito che \"funzionari di governo a Pechino e Sichuan hanno detto che stanno indagando sui crolli. Riconoscendo la debolezza dei codici edilizi nelle campagne, il 27 maggio la Commissione nazionale per lo sviluppo e la riforma ha dichiarato di aver elaborato un emendamento per migliorare gli standard di costruzione delle scuole elementari e medie nelle zone rurali. Gli esperti stanno rivedendo il progetto, ha detto la commissione. Per limitare le proteste, i funzionari hanno spinto i genitori a firmare un documento che vietava loro di organizzare proteste in cambio di denaro, ma alcuni che si rifiutavano di firmare sono stati minacciati. Gli importi dei pagamenti variavano da scuola a scuola, ma erano all\\' incirca gli stessi. Ad Hanwang, ai genitori è stato offerto un pacchetto del valore di 8.800 USD in contanti e una pensione per genitore di quasi 5.600 USD.',\n",
              "   'qas': [{'answers': [{'answer_start': 462, 'text': 'limitare le proteste'}],\n",
              "     'id': '56d65a4b1c850414009470b0',\n",
              "     'question': 'Cosa stanno cercando di fare i funzionari per protestare i genitori?'},\n",
              "    {'answers': [{'answer_start': 598, 'text': 'denaro'}],\n",
              "     'id': '56d65a4b1c850414009470b1',\n",
              "     'question': 'Quali sono i funzionari che offrono ai genitori in cambio di proteste?'}]},\n",
              "  {'context': 'Oltre ai genitori, Liu Shaokun (???), un insegnante di scuola del Sichuan, è stato arrestato il 25 giugno 2008 per \"diffondere voci e distruggere l\\' ordine sociale\" sul terremoto del Sichuan. La famiglia di Liu è stato poi detto che egli è stato indagato su sospetto del reato di istigazione alla sovversione. Liu aveva viaggiato per lo Shifang, scattato foto di edifici scolastici crollati, e metterli online. Aveva anche espresso la sua rabbia per \"gli edifici scadenti tofu-dregs\" (?????) in un\\' intervista ai media. Gli è stato ordinato di servire un anno di rieducazione attraverso il lavoro (RTL). Secondo l\\' organizzazione per i diritti umani in Cina, Liu è stato rilasciato per scontare la sua condanna RTL al di fuori del campo di lavoro.',\n",
              "   'qas': [{'answers': [{'answer_start': 19, 'text': 'Liu Shaokun'}],\n",
              "     'id': '56cee14aaab44d1400b88bcb',\n",
              "     'question': 'Chi era un insegnante di scuola del Sichuan?'},\n",
              "    {'answers': [{'answer_start': 271,\n",
              "       'text': 'reato di istigazione alla sovversione'}],\n",
              "     'id': '56d65c671c850414009470ba',\n",
              "     'question': 'Perché è stato indagato?'},\n",
              "    {'answers': [{'answer_start': 394, 'text': 'metterli online'}],\n",
              "     'id': '56d65c671c850414009470bb',\n",
              "     'question': 'Che cosa ha fatto Liu Shankun con le foto che ha scattato delle scuole crollate?'},\n",
              "    {'answers': [{'answer_start': 492, 'text': \"in un' intervista ai media\"}],\n",
              "     'id': '56d65c671c850414009470bc',\n",
              "     'question': 'Dove ha definito gli edifici scolastici scadenti?'},\n",
              "    {'answers': [{'answer_start': 552, 'text': 'un anno di rieducazione'}],\n",
              "     'id': '56d65c671c850414009470bd',\n",
              "     'question': 'Qual era la sua punizione assegnata?'}]},\n",
              "  {'context': 'Nel gennaio 2010, il giornale inglese con sede a Hong Kong The Standard ha riferito che lo scrittore Tan Zuoren ha tentato di documentare la costruzione scadente che potrebbe aver portato a massicce vittime nelle scuole, è stato condannato in prigione apparentemente per la sua scrittura di un articolo nel 2007 a sostegno del movimento pro-democrazia nel 1989.',\n",
              "   'qas': [{'answers': [{'answer_start': 303, 'text': 'nel 2007'}],\n",
              "     'id': '56cee1e4aab44d1400b88be0',\n",
              "     'question': 'Quando è avvenuta la condanna?'},\n",
              "    {'answers': [{'answer_start': 4, 'text': 'gennaio 2010'}],\n",
              "     'id': '56cee1e4aab44d1400b88be1',\n",
              "     'question': \"Quando è stato pubblicato l' articolo sul caso?\"}]},\n",
              "  {'context': \"A causa della magnitudo del terremoto e dell' attenzione mediatica sulla Cina, le nazioni e le organizzazioni straniere hanno risposto immediatamente al disastro offrendo condoglianze e assistenza. Il 14 maggio, l' UNICEF ha riferito che la Cina ha chiesto formalmente il sostegno della comunità internazionale per rispondere ai bisogni delle famiglie colpite.\",\n",
              "   'qas': [{'answers': [{'answer_start': 234,\n",
              "       'text': 'che la Cina ha chiesto formalmente il sostegno della comunità internazionale'}],\n",
              "     'id': '56cee23caab44d1400b88be6',\n",
              "     'question': \"Che cosa ha riferito l' UNICEF?\"},\n",
              "    {'answers': [{'answer_start': 171, 'text': 'condoglianze e assistenza'}],\n",
              "     'id': '56d660e91c850414009470d3',\n",
              "     'question': 'Che cosa hanno offerto alla Cina le nazioni straniere a causa della gravità del terremoto?'},\n",
              "    {'answers': [{'answer_start': 201, 'text': '14 maggio'}],\n",
              "     'id': '56d660e91c850414009470d4',\n",
              "     'question': 'Quando ha chiesto formalmente aiuto alla comunità internazionale?'},\n",
              "    {'answers': [{'answer_start': 215, 'text': 'UNICEF'}],\n",
              "     'id': '56d660e91c850414009470d5',\n",
              "     'question': 'Quale organizzazione ha riferito che la Cina ha chiesto aiuto?'}]},\n",
              "  {'context': \"Entro il 14 maggio, il Ministero degli Affari civili ha dichiarato che 10,7 miliardi di yuan (circa 1,5 miliardi di dollari) era stato donato dal pubblico cinese. Houston Rockets centro Yao Ming, una delle icone sportive più popolari del paese, ha dato $214.000 e $71.000 alla Società Croce Rossa della Cina. L' associazione ha inoltre raccolto un totale di 26 milioni di dollari in donazioni finora raccolte. Anche altre multinazionali situate in Cina hanno annunciato ingenti donazioni.\",\n",
              "   'qas': [{'answers': [{'answer_start': 358,\n",
              "       'text': '26 milioni di dollari'}],\n",
              "     'id': '56cee294aab44d1400b88bed',\n",
              "     'question': 'Quanto ha raccolto la Croce Rossa in donazioni?'},\n",
              "    {'answers': [{'answer_start': 71, 'text': '10,7 miliardi di yuan'}],\n",
              "     'id': '56d6622d1c850414009470db',\n",
              "     'question': 'Quanto denaro era stato donato entro il 14 maggio?'},\n",
              "    {'answers': [{'answer_start': 186, 'text': 'Yao Ming'}],\n",
              "     'id': '56d6622d1c850414009470dd',\n",
              "     'question': 'Quale famoso giocatore di basket ha fatto due grandi donazioni alla crisi?'},\n",
              "    {'answers': [{'answer_start': 358, 'text': '26 milioni'}],\n",
              "     'id': '56d6622d1c850414009470de',\n",
              "     'question': 'Quanto ha raccolto la Società della Croce Rossa?'}]},\n",
              "  {'context': 'Francis Marcus della Federazione Internazionale della Croce Rossa ha elogiato lo sforzo cinese di salvataggio come \"veloce e molto efficiente\" a Pechino martedì. Ma ha aggiunto che la portata del disastro era tale che \"non possiamo aspettarci che il governo possa fare tutto e gestire ogni aspetto delle necessità\". L\\' economista ha osservato che la Cina ha reagito al disastro \"rapidamente e con un\\' insolita apertura\", contrastandola con la risposta segreta della Birmania al ciclone Nargis, che ha devastato il paese 10 giorni prima del terremoto.',\n",
              "   'qas': [{'answers': [{'answer_start': 410, 'text': 'apertura'}],\n",
              "     'id': '56d614dd1c85041400946f07',\n",
              "     'question': 'Quale atteggiamento atipico ha mostrato la Cina?'},\n",
              "    {'answers': [{'answer_start': 520, 'text': '10 giorni'}],\n",
              "     'id': '56d614dd1c85041400946f09',\n",
              "     'question': 'Quanto tempo prima del terremoto il ciclone Nargis colpì la Birmania?'},\n",
              "    {'answers': [{'answer_start': 21,\n",
              "       'text': 'Federazione Internazionale della Croce Rossa'}],\n",
              "     'id': '56d614dd1c85041400946f0a',\n",
              "     'question': 'Quale organizzazione ha rappresentato Francesco Marco?'}]},\n",
              "  {'context': 'Tutte le emittenti televisive della Cina continentale (insieme ad alcune stazioni di Hong Kong e delle comunità espatriate) hanno cancellato tutti i programmi programmati regolarmente, hanno mostrato il loro logo in scala di grigi e hanno sostituito i programmi cancellati con filmati dal vivo del CCTV-1 per più giorni dopo il terremoto. Anche i canali televisivi a pagamento (come il canale V) sono stati sospesi.',\n",
              "   'qas': [{'answers': [{'answer_start': 298, 'text': 'CCTV-1'}],\n",
              "     'id': '56d646091c8504140094705e',\n",
              "     'question': 'Qual è stata la fonte dei feed live?'}]},\n",
              "  {'context': \"Sebbene il governo cinese sia stato inizialmente elogiato per la sua risposta al terremoto (soprattutto rispetto al blocco degli aiuti da parte della giunta militare di governo del Myanmar durante il ciclone Nargis), ha poi visto un' erosione della fiducia nello scandalo della costruzione scolastica.\",\n",
              "   'qas': [{'answers': [{'answer_start': 181, 'text': 'Myanmar'}],\n",
              "     'id': '56d6488e1c8504140094706f',\n",
              "     'question': 'Quale governo ha bloccato gli aiuti dopo il ciclone Nargis?'},\n",
              "    {'answers': [{'answer_start': 263,\n",
              "       'text': 'scandalo della costruzione scolastica'}],\n",
              "     'id': '56d6488e1c85041400947070',\n",
              "     'question': \"Su quale scandalo ha perso nell' opinione pubblica il governo cinese?\"},\n",
              "    {'answers': [{'answer_start': 69, 'text': 'risposta al terremoto'}],\n",
              "     'id': '56d6488e1c85041400947071',\n",
              "     'question': 'A cosa è stato lodato per la prima volta il governo cinese?'}]},\n",
              "  {'context': \"Il 29 maggio 2008, i funzionari governativi hanno iniziato a ispezionare le rovine di migliaia di scuole crollate, alla ricerca di indizi sul perché si sono sgretolate. Migliaia di genitori in tutta la provincia hanno accusato funzionari locali e costruttori di tagliare angoli nella costruzione della scuola, citando che dopo il terremoto altri edifici vicini sono stati poco danneggiati. All' indomani del terremoto, molti governi locali hanno promesso di indagare formalmente sui crolli della scuola, ma a partire dal 17 luglio 2008 in tutto il Sichuan, i genitori di bambini perduti nelle scuole crollate si sono lamentati di non aver ancora ricevuto alcuna segnalazione. Funzionari locali li ha esortati a non protestare, ma i genitori hanno dimostrato e chiesto un' indagine. Inoltre, i censori hanno scoraggiato la pubblicazione sui media di storie di scuole costruite in modo inadeguato e vi è stato un incidente in cui la polizia ha allontanato i manifestanti.\",\n",
              "   'qas': []},\n",
              "  {'context': 'Il AP ha riferito che \"I media controllati dallo Stato ha ampiamente ignorato la questione, apparentemente sotto le istruzioni dell\\' ufficio di propaganda. Genitori e volontari che hanno interrogato le autorità sono stati detenuti e minacciati.',\n",
              "   'qas': [{'answers': [{'answer_start': 25,\n",
              "       'text': 'media controllati dallo Stato'}],\n",
              "     'id': '56d650911c8504140094709f',\n",
              "     'question': 'Chi ha ignorato la questione della scuola?'},\n",
              "    {'answers': [{'answer_start': 0, 'text': 'Il AP'}],\n",
              "     'id': '56d650911c850414009470a2',\n",
              "     'question': 'Quale fonte mediatica ha riferito che ciò accade?'}]},\n",
              "  {'context': 'Il 15 maggio 2008 Geoffery York del Globeandmail. com ha riferito che gli edifici di costruzione scadente sono comunemente chiamati \"edifici tofu\" perché i costruttori tagliano gli angoli sostituendo barre d\\' acciaio con fili di ferro sottili per il rinforzo del calcestruzzo, utilizzando cemento di qualità inferiore, se ce ne sono, e utilizzando meno mattoni di quanto dovrebbero.',\n",
              "   'qas': []},\n",
              "  {'context': \"Rimangono tuttavia ancora delle domande, in quanto alcuni funzionari di governo corrotti non sono ancora stati consegnati alla giustizia, mentre le numerose famiglie che hanno perso l' unico figlio, cercano ancora di ottenere un risarcimento e di rendere giustizia a quanto era accaduto. Secondo il Times, molti genitori sono stati avvertiti dal governo di non mettere in scena una protesta sotto la minaccia dell' arresto.\",\n",
              "   'qas': []}],\n",
              " 'title': 'Terremoto del Sichuan del 2008'}"
            ]
          },
          "metadata": {},
          "execution_count": 18
        }
      ],
      "source": [
        "squad_it_dataset[\"train\"][0]"
      ]
    },
    {
      "cell_type": "code",
      "execution_count": null,
      "metadata": {
        "colab": {
          "base_uri": "https://localhost:8080/",
          "referenced_widgets": [
            "d04c68c772804087a90bd2ab0b44bf05",
            "c7459af0113e4cfdb3a2587c1c72920d",
            "fa6c73d0fb564975bff644ce0e47c2ba",
            "833e2577b43f4265a7c6d67def973a48",
            "f1a0cad327b84e5985691c07049f501d"
          ]
        },
        "id": "kTmcgOVb3Q6k",
        "outputId": "a5aef759-33e6-439e-8ae6-9f28c5176ddb"
      },
      "outputs": [
        {
          "output_type": "stream",
          "name": "stdout",
          "text": [
            "Downloading and preparing dataset json/default to /root/.cache/huggingface/datasets/json/default-86571532a15b5a6a/0.0.0/e347ab1c932092252e717ff3f949105a4dd28b27e842dd53157d2f72e276c2e4...\n"
          ]
        },
        {
          "output_type": "display_data",
          "data": {
            "text/plain": [
              "Downloading data files:   0%|          | 0/2 [00:00<?, ?it/s]"
            ],
            "application/vnd.jupyter.widget-view+json": {
              "version_major": 2,
              "version_minor": 0,
              "model_id": "d04c68c772804087a90bd2ab0b44bf05"
            }
          },
          "metadata": {}
        },
        {
          "output_type": "display_data",
          "data": {
            "text/plain": [
              "Extracting data files:   0%|          | 0/2 [00:00<?, ?it/s]"
            ],
            "application/vnd.jupyter.widget-view+json": {
              "version_major": 2,
              "version_minor": 0,
              "model_id": "c7459af0113e4cfdb3a2587c1c72920d"
            }
          },
          "metadata": {}
        },
        {
          "output_type": "display_data",
          "data": {
            "text/plain": [
              "Generating train split: 0 examples [00:00, ? examples/s]"
            ],
            "application/vnd.jupyter.widget-view+json": {
              "version_major": 2,
              "version_minor": 0,
              "model_id": "fa6c73d0fb564975bff644ce0e47c2ba"
            }
          },
          "metadata": {}
        },
        {
          "output_type": "display_data",
          "data": {
            "text/plain": [
              "Generating test split: 0 examples [00:00, ? examples/s]"
            ],
            "application/vnd.jupyter.widget-view+json": {
              "version_major": 2,
              "version_minor": 0,
              "model_id": "833e2577b43f4265a7c6d67def973a48"
            }
          },
          "metadata": {}
        },
        {
          "output_type": "stream",
          "name": "stdout",
          "text": [
            "Dataset json downloaded and prepared to /root/.cache/huggingface/datasets/json/default-86571532a15b5a6a/0.0.0/e347ab1c932092252e717ff3f949105a4dd28b27e842dd53157d2f72e276c2e4. Subsequent calls will reuse this data.\n"
          ]
        },
        {
          "output_type": "display_data",
          "data": {
            "text/plain": [
              "  0%|          | 0/2 [00:00<?, ?it/s]"
            ],
            "application/vnd.jupyter.widget-view+json": {
              "version_major": 2,
              "version_minor": 0,
              "model_id": "f1a0cad327b84e5985691c07049f501d"
            }
          },
          "metadata": {}
        },
        {
          "output_type": "execute_result",
          "data": {
            "text/plain": [
              "DatasetDict({\n",
              "    train: Dataset({\n",
              "        features: ['paragraphs', 'title'],\n",
              "        num_rows: 442\n",
              "    })\n",
              "    test: Dataset({\n",
              "        features: ['paragraphs', 'title'],\n",
              "        num_rows: 48\n",
              "    })\n",
              "})"
            ]
          },
          "metadata": {},
          "execution_count": 19
        }
      ],
      "source": [
        "data_files = {\"train\": \"SQuAD_it-train.json\", \"test\": \"SQuAD_it-test.json\"}\n",
        "squad_it_dataset = load_dataset(\"json\", data_files=data_files, field=\"data\")\n",
        "squad_it_dataset"
      ]
    },
    {
      "cell_type": "code",
      "execution_count": null,
      "metadata": {
        "colab": {
          "base_uri": "https://localhost:8080/",
          "referenced_widgets": [
            "67823dffa1b74630928b084b7ca6a1d7",
            "597fea841b4f4b5191cead77f69d0e83",
            "16da88d02ca3487cae6979547ace6fbd",
            "9ef9c6a3cb094b53a33a0de817200aba",
            "ed1cd317c1244c7c8c940a8e8d11b3ab"
          ]
        },
        "id": "7u1JfSRi5kSJ",
        "outputId": "5b74d1b7-d8c5-42c1-b503-026f1e373492"
      },
      "outputs": [
        {
          "output_type": "stream",
          "name": "stdout",
          "text": [
            "Downloading and preparing dataset json/default to /root/.cache/huggingface/datasets/json/default-0249678e4e9560cc/0.0.0/e347ab1c932092252e717ff3f949105a4dd28b27e842dd53157d2f72e276c2e4...\n"
          ]
        },
        {
          "output_type": "display_data",
          "data": {
            "text/plain": [
              "Downloading data files:   0%|          | 0/2 [00:00<?, ?it/s]"
            ],
            "application/vnd.jupyter.widget-view+json": {
              "version_major": 2,
              "version_minor": 0,
              "model_id": "67823dffa1b74630928b084b7ca6a1d7"
            }
          },
          "metadata": {}
        },
        {
          "output_type": "display_data",
          "data": {
            "text/plain": [
              "Extracting data files:   0%|          | 0/2 [00:00<?, ?it/s]"
            ],
            "application/vnd.jupyter.widget-view+json": {
              "version_major": 2,
              "version_minor": 0,
              "model_id": "597fea841b4f4b5191cead77f69d0e83"
            }
          },
          "metadata": {}
        },
        {
          "output_type": "display_data",
          "data": {
            "text/plain": [
              "Generating train split: 0 examples [00:00, ? examples/s]"
            ],
            "application/vnd.jupyter.widget-view+json": {
              "version_major": 2,
              "version_minor": 0,
              "model_id": "16da88d02ca3487cae6979547ace6fbd"
            }
          },
          "metadata": {}
        },
        {
          "output_type": "display_data",
          "data": {
            "text/plain": [
              "Generating test split: 0 examples [00:00, ? examples/s]"
            ],
            "application/vnd.jupyter.widget-view+json": {
              "version_major": 2,
              "version_minor": 0,
              "model_id": "9ef9c6a3cb094b53a33a0de817200aba"
            }
          },
          "metadata": {}
        },
        {
          "output_type": "stream",
          "name": "stdout",
          "text": [
            "Dataset json downloaded and prepared to /root/.cache/huggingface/datasets/json/default-0249678e4e9560cc/0.0.0/e347ab1c932092252e717ff3f949105a4dd28b27e842dd53157d2f72e276c2e4. Subsequent calls will reuse this data.\n"
          ]
        },
        {
          "output_type": "display_data",
          "data": {
            "text/plain": [
              "  0%|          | 0/2 [00:00<?, ?it/s]"
            ],
            "application/vnd.jupyter.widget-view+json": {
              "version_major": 2,
              "version_minor": 0,
              "model_id": "ed1cd317c1244c7c8c940a8e8d11b3ab"
            }
          },
          "metadata": {}
        }
      ],
      "source": [
        "data_files = {\"train\": \"SQuAD_it-train.json.gz\", \"test\": \"SQuAD_it-test.json.gz\"}\n",
        "squad_it_dataset = load_dataset(\"json\", data_files=data_files, field=\"data\")"
      ]
    },
    {
      "cell_type": "code",
      "execution_count": null,
      "metadata": {
        "colab": {
          "base_uri": "https://localhost:8080/",
          "referenced_widgets": [
            "8ca99dcdc4234064be40f8e848e7d3a4",
            "0ba0660633174f72a1bf91e05c3594ad",
            "78502af299484485ab901dca3e761007",
            "97faa20bad6a491ebd0324bef7b065fe",
            "14d193936f8f4b4c99aa457e86d16da9",
            "c7d7ee4f2a8e4f4eb6e5577209e85efb",
            "01d0de68adb945a3a81b9f7007cc5cf5"
          ]
        },
        "id": "Yyj-mz9U8JCl",
        "outputId": "c4e558ef-0677-4c3d-a5cf-d92e854bd8cc"
      },
      "outputs": [
        {
          "output_type": "stream",
          "name": "stdout",
          "text": [
            "Downloading and preparing dataset json/default to /root/.cache/huggingface/datasets/json/default-57dcee3ea6992346/0.0.0/e347ab1c932092252e717ff3f949105a4dd28b27e842dd53157d2f72e276c2e4...\n"
          ]
        },
        {
          "output_type": "display_data",
          "data": {
            "text/plain": [
              "Downloading data files:   0%|          | 0/2 [00:00<?, ?it/s]"
            ],
            "application/vnd.jupyter.widget-view+json": {
              "version_major": 2,
              "version_minor": 0,
              "model_id": "8ca99dcdc4234064be40f8e848e7d3a4"
            }
          },
          "metadata": {}
        },
        {
          "output_type": "display_data",
          "data": {
            "text/plain": [
              "Downloading data:   0%|          | 0.00/7.73M [00:00<?, ?B/s]"
            ],
            "application/vnd.jupyter.widget-view+json": {
              "version_major": 2,
              "version_minor": 0,
              "model_id": "0ba0660633174f72a1bf91e05c3594ad"
            }
          },
          "metadata": {}
        },
        {
          "output_type": "display_data",
          "data": {
            "text/plain": [
              "Downloading data:   0%|          | 0.00/1.05M [00:00<?, ?B/s]"
            ],
            "application/vnd.jupyter.widget-view+json": {
              "version_major": 2,
              "version_minor": 0,
              "model_id": "78502af299484485ab901dca3e761007"
            }
          },
          "metadata": {}
        },
        {
          "output_type": "display_data",
          "data": {
            "text/plain": [
              "Extracting data files:   0%|          | 0/2 [00:00<?, ?it/s]"
            ],
            "application/vnd.jupyter.widget-view+json": {
              "version_major": 2,
              "version_minor": 0,
              "model_id": "97faa20bad6a491ebd0324bef7b065fe"
            }
          },
          "metadata": {}
        },
        {
          "output_type": "display_data",
          "data": {
            "text/plain": [
              "Generating train split: 0 examples [00:00, ? examples/s]"
            ],
            "application/vnd.jupyter.widget-view+json": {
              "version_major": 2,
              "version_minor": 0,
              "model_id": "14d193936f8f4b4c99aa457e86d16da9"
            }
          },
          "metadata": {}
        },
        {
          "output_type": "display_data",
          "data": {
            "text/plain": [
              "Generating test split: 0 examples [00:00, ? examples/s]"
            ],
            "application/vnd.jupyter.widget-view+json": {
              "version_major": 2,
              "version_minor": 0,
              "model_id": "c7d7ee4f2a8e4f4eb6e5577209e85efb"
            }
          },
          "metadata": {}
        },
        {
          "output_type": "stream",
          "name": "stdout",
          "text": [
            "Dataset json downloaded and prepared to /root/.cache/huggingface/datasets/json/default-57dcee3ea6992346/0.0.0/e347ab1c932092252e717ff3f949105a4dd28b27e842dd53157d2f72e276c2e4. Subsequent calls will reuse this data.\n"
          ]
        },
        {
          "output_type": "display_data",
          "data": {
            "text/plain": [
              "  0%|          | 0/2 [00:00<?, ?it/s]"
            ],
            "application/vnd.jupyter.widget-view+json": {
              "version_major": 2,
              "version_minor": 0,
              "model_id": "01d0de68adb945a3a81b9f7007cc5cf5"
            }
          },
          "metadata": {}
        }
      ],
      "source": [
        "url = \"https://github.com/crux82/squad-it/raw/master/\"\n",
        "data_files = {\n",
        "    \"train\": url + \"SQuAD_it-train.json.gz\",\n",
        "    \"test\": url + \"SQuAD_it-test.json.gz\",\n",
        "}\n",
        "squad_it_dataset = load_dataset(\"json\", data_files=data_files, field=\"data\")"
      ]
    },
    {
      "cell_type": "markdown",
      "metadata": {
        "id": "-BGQt3y38OMo"
      },
      "source": [
        "## Time to slice and dice"
      ]
    },
    {
      "cell_type": "code",
      "execution_count": null,
      "metadata": {
        "colab": {
          "base_uri": "https://localhost:8080/"
        },
        "id": "J-dZTJjN9aIQ",
        "outputId": "60579a12-45c5-48f5-8d57-9cd4240831db"
      },
      "outputs": [
        {
          "output_type": "stream",
          "name": "stdout",
          "text": [
            "--2023-05-18 05:04:50--  https://archive.ics.uci.edu/ml/machine-learning-databases/00462/drugsCom_raw.zip\n",
            "Resolving archive.ics.uci.edu (archive.ics.uci.edu)... 128.195.10.252\n",
            "Connecting to archive.ics.uci.edu (archive.ics.uci.edu)|128.195.10.252|:443... connected.\n",
            "HTTP request sent, awaiting response... 200 OK\n",
            "Length: 42989872 (41M) [application/x-httpd-php]\n",
            "Saving to: ‘drugsCom_raw.zip’\n",
            "\n",
            "drugsCom_raw.zip    100%[===================>]  41.00M  12.1MB/s    in 3.5s    \n",
            "\n",
            "2023-05-18 05:04:54 (11.6 MB/s) - ‘drugsCom_raw.zip’ saved [42989872/42989872]\n",
            "\n",
            "Archive:  drugsCom_raw.zip\n",
            "  inflating: drugsComTest_raw.tsv    \n",
            "  inflating: drugsComTrain_raw.tsv   \n"
          ]
        }
      ],
      "source": [
        "!wget \"https://archive.ics.uci.edu/ml/machine-learning-databases/00462/drugsCom_raw.zip\"\n",
        "!unzip drugsCom_raw.zip"
      ]
    },
    {
      "cell_type": "code",
      "execution_count": null,
      "metadata": {
        "colab": {
          "base_uri": "https://localhost:8080/",
          "referenced_widgets": [
            "8c07228cff604de3a520ff789c37624b",
            "287dc53deb4a425fa82a7793249bd6d8",
            "56ef5d8835cf47209e167776aa15a1cf",
            "f0665d88706c4d53a0e7b79d8370ac1a",
            "db208853f6bf40d1a10c060471dc6778"
          ]
        },
        "id": "B5iqutFc9e4E",
        "outputId": "b802f05c-8537-4805-d5e5-4d1f4d09ee62"
      },
      "outputs": [
        {
          "output_type": "stream",
          "name": "stdout",
          "text": [
            "Downloading and preparing dataset csv/default to /root/.cache/huggingface/datasets/csv/default-ec41c87d452ec392/0.0.0/6954658bab30a358235fa864b05cf819af0e179325c740e4bc853bcc7ec513e1...\n"
          ]
        },
        {
          "output_type": "display_data",
          "data": {
            "text/plain": [
              "Downloading data files:   0%|          | 0/2 [00:00<?, ?it/s]"
            ],
            "application/vnd.jupyter.widget-view+json": {
              "version_major": 2,
              "version_minor": 0,
              "model_id": "8c07228cff604de3a520ff789c37624b"
            }
          },
          "metadata": {}
        },
        {
          "output_type": "display_data",
          "data": {
            "text/plain": [
              "Extracting data files:   0%|          | 0/2 [00:00<?, ?it/s]"
            ],
            "application/vnd.jupyter.widget-view+json": {
              "version_major": 2,
              "version_minor": 0,
              "model_id": "287dc53deb4a425fa82a7793249bd6d8"
            }
          },
          "metadata": {}
        },
        {
          "output_type": "display_data",
          "data": {
            "text/plain": [
              "Generating train split: 0 examples [00:00, ? examples/s]"
            ],
            "application/vnd.jupyter.widget-view+json": {
              "version_major": 2,
              "version_minor": 0,
              "model_id": "56ef5d8835cf47209e167776aa15a1cf"
            }
          },
          "metadata": {}
        },
        {
          "output_type": "display_data",
          "data": {
            "text/plain": [
              "Generating test split: 0 examples [00:00, ? examples/s]"
            ],
            "application/vnd.jupyter.widget-view+json": {
              "version_major": 2,
              "version_minor": 0,
              "model_id": "f0665d88706c4d53a0e7b79d8370ac1a"
            }
          },
          "metadata": {}
        },
        {
          "output_type": "stream",
          "name": "stdout",
          "text": [
            "Dataset csv downloaded and prepared to /root/.cache/huggingface/datasets/csv/default-ec41c87d452ec392/0.0.0/6954658bab30a358235fa864b05cf819af0e179325c740e4bc853bcc7ec513e1. Subsequent calls will reuse this data.\n"
          ]
        },
        {
          "output_type": "display_data",
          "data": {
            "text/plain": [
              "  0%|          | 0/2 [00:00<?, ?it/s]"
            ],
            "application/vnd.jupyter.widget-view+json": {
              "version_major": 2,
              "version_minor": 0,
              "model_id": "db208853f6bf40d1a10c060471dc6778"
            }
          },
          "metadata": {}
        }
      ],
      "source": [
        "from datasets import load_dataset\n",
        "\n",
        "data_files = {\"train\": \"drugsComTrain_raw.tsv\", \"test\": \"drugsComTest_raw.tsv\", }\n",
        "# \\t is the tab character in Python\n",
        "drug_dataset = load_dataset(\"csv\", data_files=data_files, delimiter=\"\\t\")"
      ]
    },
    {
      "cell_type": "code",
      "execution_count": null,
      "metadata": {
        "colab": {
          "base_uri": "https://localhost:8080/"
        },
        "id": "dTzOwC8g-ZN-",
        "outputId": "aa73b1df-f2f3-4307-accc-713ff1a4f63a"
      },
      "outputs": [
        {
          "output_type": "execute_result",
          "data": {
            "text/plain": [
              "{'Unnamed: 0': [87571, 178045, 80482],\n",
              " 'drugName': ['Naproxen', 'Duloxetine', 'Mobic'],\n",
              " 'condition': ['Gout, Acute', 'ibromyalgia', 'Inflammatory Conditions'],\n",
              " 'review': ['\"like the previous person mention, I&#039;m a strong believer of aleve, it works faster for my gout than the prescription meds I take. No more going to the doctor for refills.....Aleve works!\"',\n",
              "  '\"I have taken Cymbalta for about a year and a half for fibromyalgia pain. It is great\\r\\nas a pain reducer and an anti-depressant, however, the side effects outweighed \\r\\nany benefit I got from it. I had trouble with restlessness, being tired constantly,\\r\\ndizziness, dry mouth, numbness and tingling in my feet, and horrible sweating. I am\\r\\nbeing weaned off of it now. Went from 60 mg to 30mg and now to 15 mg. I will be\\r\\noff completely in about a week. The fibro pain is coming back, but I would rather deal with it than the side effects.\"',\n",
              "  '\"I have been taking Mobic for over a year with no side effects other than an elevated blood pressure.  I had severe knee and ankle pain which completely went away after taking Mobic.  I attempted to stop the medication however pain returned after a few days.\"'],\n",
              " 'rating': [9.0, 3.0, 10.0],\n",
              " 'date': ['September 2, 2015', 'November 7, 2011', 'June 5, 2013'],\n",
              " 'usefulCount': [36, 13, 128]}"
            ]
          },
          "metadata": {},
          "execution_count": 24
        }
      ],
      "source": [
        "drug_sample = drug_dataset[\"train\"].shuffle(seed=42).select(range(1000))\n",
        "# Peek at the first few examples\n",
        "drug_sample[:3]"
      ]
    },
    {
      "cell_type": "code",
      "execution_count": null,
      "metadata": {
        "id": "oVs0SE9C-2MY"
      },
      "outputs": [],
      "source": [
        "for split in drug_dataset.keys():\n",
        "  assert len(drug_dataset[split]) == len(drug_dataset[split].unique(\"Unnamed: 0\"))"
      ]
    },
    {
      "cell_type": "code",
      "execution_count": null,
      "metadata": {
        "colab": {
          "base_uri": "https://localhost:8080/"
        },
        "id": "Ed2OALtuAVeR",
        "outputId": "271e604d-56a0-418c-9382-6e1f1e6c2981"
      },
      "outputs": [
        {
          "output_type": "execute_result",
          "data": {
            "text/plain": [
              "DatasetDict({\n",
              "    train: Dataset({\n",
              "        features: ['patient_id', 'drugName', 'condition', 'review', 'rating', 'date', 'usefulCount'],\n",
              "        num_rows: 161297\n",
              "    })\n",
              "    test: Dataset({\n",
              "        features: ['patient_id', 'drugName', 'condition', 'review', 'rating', 'date', 'usefulCount'],\n",
              "        num_rows: 53766\n",
              "    })\n",
              "})"
            ]
          },
          "metadata": {},
          "execution_count": 26
        }
      ],
      "source": [
        "drug_dataset = drug_dataset.rename_column(\n",
        "    original_column_name=\"Unnamed: 0\", new_column_name=\"patient_id\"\n",
        ")\n",
        "drug_dataset"
      ]
    },
    {
      "cell_type": "code",
      "execution_count": null,
      "metadata": {
        "colab": {
          "base_uri": "https://localhost:8080/",
          "referenced_widgets": [
            "050bff32a8c744a795869ebc41ee18a9"
          ]
        },
        "id": "SusPdrliA3tG",
        "outputId": "f2680478-1973-477d-ebf3-4bf637c83c81"
      },
      "outputs": [
        {
          "output_type": "display_data",
          "data": {
            "text/plain": [
              "Map:   0%|          | 0/161297 [00:00<?, ? examples/s]"
            ],
            "application/vnd.jupyter.widget-view+json": {
              "version_major": 2,
              "version_minor": 0,
              "model_id": "050bff32a8c744a795869ebc41ee18a9"
            }
          },
          "metadata": {}
        },
        {
          "output_type": "error",
          "ename": "AttributeError",
          "evalue": "ignored",
          "traceback": [
            "\u001b[0;31m---------------------------------------------------------------------------\u001b[0m",
            "\u001b[0;31mAttributeError\u001b[0m                            Traceback (most recent call last)",
            "\u001b[0;32m<ipython-input-27-bbfd233ad121>\u001b[0m in \u001b[0;36m<cell line: 5>\u001b[0;34m()\u001b[0m\n\u001b[1;32m      3\u001b[0m \u001b[0;34m\u001b[0m\u001b[0m\n\u001b[1;32m      4\u001b[0m \u001b[0;34m\u001b[0m\u001b[0m\n\u001b[0;32m----> 5\u001b[0;31m \u001b[0mdrug_dataset\u001b[0m\u001b[0;34m.\u001b[0m\u001b[0mmap\u001b[0m\u001b[0;34m(\u001b[0m\u001b[0mlowercase_condition\u001b[0m\u001b[0;34m)\u001b[0m\u001b[0;34m\u001b[0m\u001b[0;34m\u001b[0m\u001b[0m\n\u001b[0m",
            "\u001b[0;32m/usr/local/lib/python3.10/dist-packages/datasets/dataset_dict.py\u001b[0m in \u001b[0;36mmap\u001b[0;34m(self, function, with_indices, with_rank, input_columns, batched, batch_size, drop_last_batch, remove_columns, keep_in_memory, load_from_cache_file, cache_file_names, writer_batch_size, features, disable_nullable, fn_kwargs, num_proc, desc)\u001b[0m\n\u001b[1;32m    849\u001b[0m             \u001b[0mcache_file_names\u001b[0m \u001b[0;34m=\u001b[0m \u001b[0;34m{\u001b[0m\u001b[0mk\u001b[0m\u001b[0;34m:\u001b[0m \u001b[0;32mNone\u001b[0m \u001b[0;32mfor\u001b[0m \u001b[0mk\u001b[0m \u001b[0;32min\u001b[0m \u001b[0mself\u001b[0m\u001b[0;34m}\u001b[0m\u001b[0;34m\u001b[0m\u001b[0;34m\u001b[0m\u001b[0m\n\u001b[1;32m    850\u001b[0m         return DatasetDict(\n\u001b[0;32m--> 851\u001b[0;31m             {\n\u001b[0m\u001b[1;32m    852\u001b[0m                 k: dataset.map(\n\u001b[1;32m    853\u001b[0m                     \u001b[0mfunction\u001b[0m\u001b[0;34m=\u001b[0m\u001b[0mfunction\u001b[0m\u001b[0;34m,\u001b[0m\u001b[0;34m\u001b[0m\u001b[0;34m\u001b[0m\u001b[0m\n",
            "\u001b[0;32m/usr/local/lib/python3.10/dist-packages/datasets/dataset_dict.py\u001b[0m in \u001b[0;36m<dictcomp>\u001b[0;34m(.0)\u001b[0m\n\u001b[1;32m    850\u001b[0m         return DatasetDict(\n\u001b[1;32m    851\u001b[0m             {\n\u001b[0;32m--> 852\u001b[0;31m                 k: dataset.map(\n\u001b[0m\u001b[1;32m    853\u001b[0m                     \u001b[0mfunction\u001b[0m\u001b[0;34m=\u001b[0m\u001b[0mfunction\u001b[0m\u001b[0;34m,\u001b[0m\u001b[0;34m\u001b[0m\u001b[0;34m\u001b[0m\u001b[0m\n\u001b[1;32m    854\u001b[0m                     \u001b[0mwith_indices\u001b[0m\u001b[0;34m=\u001b[0m\u001b[0mwith_indices\u001b[0m\u001b[0;34m,\u001b[0m\u001b[0;34m\u001b[0m\u001b[0;34m\u001b[0m\u001b[0m\n",
            "\u001b[0;32m/usr/local/lib/python3.10/dist-packages/datasets/arrow_dataset.py\u001b[0m in \u001b[0;36mwrapper\u001b[0;34m(*args, **kwargs)\u001b[0m\n\u001b[1;32m    576\u001b[0m             \u001b[0mself\u001b[0m\u001b[0;34m:\u001b[0m \u001b[0;34m\"Dataset\"\u001b[0m \u001b[0;34m=\u001b[0m \u001b[0mkwargs\u001b[0m\u001b[0;34m.\u001b[0m\u001b[0mpop\u001b[0m\u001b[0;34m(\u001b[0m\u001b[0;34m\"self\"\u001b[0m\u001b[0;34m)\u001b[0m\u001b[0;34m\u001b[0m\u001b[0;34m\u001b[0m\u001b[0m\n\u001b[1;32m    577\u001b[0m         \u001b[0;31m# apply actual function\u001b[0m\u001b[0;34m\u001b[0m\u001b[0;34m\u001b[0m\u001b[0m\n\u001b[0;32m--> 578\u001b[0;31m         \u001b[0mout\u001b[0m\u001b[0;34m:\u001b[0m \u001b[0mUnion\u001b[0m\u001b[0;34m[\u001b[0m\u001b[0;34m\"Dataset\"\u001b[0m\u001b[0;34m,\u001b[0m \u001b[0;34m\"DatasetDict\"\u001b[0m\u001b[0;34m]\u001b[0m \u001b[0;34m=\u001b[0m \u001b[0mfunc\u001b[0m\u001b[0;34m(\u001b[0m\u001b[0mself\u001b[0m\u001b[0;34m,\u001b[0m \u001b[0;34m*\u001b[0m\u001b[0margs\u001b[0m\u001b[0;34m,\u001b[0m \u001b[0;34m**\u001b[0m\u001b[0mkwargs\u001b[0m\u001b[0;34m)\u001b[0m\u001b[0;34m\u001b[0m\u001b[0;34m\u001b[0m\u001b[0m\n\u001b[0m\u001b[1;32m    579\u001b[0m         \u001b[0mdatasets\u001b[0m\u001b[0;34m:\u001b[0m \u001b[0mList\u001b[0m\u001b[0;34m[\u001b[0m\u001b[0;34m\"Dataset\"\u001b[0m\u001b[0;34m]\u001b[0m \u001b[0;34m=\u001b[0m \u001b[0mlist\u001b[0m\u001b[0;34m(\u001b[0m\u001b[0mout\u001b[0m\u001b[0;34m.\u001b[0m\u001b[0mvalues\u001b[0m\u001b[0;34m(\u001b[0m\u001b[0;34m)\u001b[0m\u001b[0;34m)\u001b[0m \u001b[0;32mif\u001b[0m \u001b[0misinstance\u001b[0m\u001b[0;34m(\u001b[0m\u001b[0mout\u001b[0m\u001b[0;34m,\u001b[0m \u001b[0mdict\u001b[0m\u001b[0;34m)\u001b[0m \u001b[0;32melse\u001b[0m \u001b[0;34m[\u001b[0m\u001b[0mout\u001b[0m\u001b[0;34m]\u001b[0m\u001b[0;34m\u001b[0m\u001b[0;34m\u001b[0m\u001b[0m\n\u001b[1;32m    580\u001b[0m         \u001b[0;32mfor\u001b[0m \u001b[0mdataset\u001b[0m \u001b[0;32min\u001b[0m \u001b[0mdatasets\u001b[0m\u001b[0;34m:\u001b[0m\u001b[0;34m\u001b[0m\u001b[0;34m\u001b[0m\u001b[0m\n",
            "\u001b[0;32m/usr/local/lib/python3.10/dist-packages/datasets/arrow_dataset.py\u001b[0m in \u001b[0;36mwrapper\u001b[0;34m(*args, **kwargs)\u001b[0m\n\u001b[1;32m    541\u001b[0m         }\n\u001b[1;32m    542\u001b[0m         \u001b[0;31m# apply actual function\u001b[0m\u001b[0;34m\u001b[0m\u001b[0;34m\u001b[0m\u001b[0m\n\u001b[0;32m--> 543\u001b[0;31m         \u001b[0mout\u001b[0m\u001b[0;34m:\u001b[0m \u001b[0mUnion\u001b[0m\u001b[0;34m[\u001b[0m\u001b[0;34m\"Dataset\"\u001b[0m\u001b[0;34m,\u001b[0m \u001b[0;34m\"DatasetDict\"\u001b[0m\u001b[0;34m]\u001b[0m \u001b[0;34m=\u001b[0m \u001b[0mfunc\u001b[0m\u001b[0;34m(\u001b[0m\u001b[0mself\u001b[0m\u001b[0;34m,\u001b[0m \u001b[0;34m*\u001b[0m\u001b[0margs\u001b[0m\u001b[0;34m,\u001b[0m \u001b[0;34m**\u001b[0m\u001b[0mkwargs\u001b[0m\u001b[0;34m)\u001b[0m\u001b[0;34m\u001b[0m\u001b[0;34m\u001b[0m\u001b[0m\n\u001b[0m\u001b[1;32m    544\u001b[0m         \u001b[0mdatasets\u001b[0m\u001b[0;34m:\u001b[0m \u001b[0mList\u001b[0m\u001b[0;34m[\u001b[0m\u001b[0;34m\"Dataset\"\u001b[0m\u001b[0;34m]\u001b[0m \u001b[0;34m=\u001b[0m \u001b[0mlist\u001b[0m\u001b[0;34m(\u001b[0m\u001b[0mout\u001b[0m\u001b[0;34m.\u001b[0m\u001b[0mvalues\u001b[0m\u001b[0;34m(\u001b[0m\u001b[0;34m)\u001b[0m\u001b[0;34m)\u001b[0m \u001b[0;32mif\u001b[0m \u001b[0misinstance\u001b[0m\u001b[0;34m(\u001b[0m\u001b[0mout\u001b[0m\u001b[0;34m,\u001b[0m \u001b[0mdict\u001b[0m\u001b[0;34m)\u001b[0m \u001b[0;32melse\u001b[0m \u001b[0;34m[\u001b[0m\u001b[0mout\u001b[0m\u001b[0;34m]\u001b[0m\u001b[0;34m\u001b[0m\u001b[0;34m\u001b[0m\u001b[0m\n\u001b[1;32m    545\u001b[0m         \u001b[0;31m# re-apply format to the output\u001b[0m\u001b[0;34m\u001b[0m\u001b[0;34m\u001b[0m\u001b[0m\n",
            "\u001b[0;32m/usr/local/lib/python3.10/dist-packages/datasets/arrow_dataset.py\u001b[0m in \u001b[0;36mmap\u001b[0;34m(self, function, with_indices, with_rank, input_columns, batched, batch_size, drop_last_batch, remove_columns, keep_in_memory, load_from_cache_file, cache_file_name, writer_batch_size, features, disable_nullable, fn_kwargs, num_proc, suffix_template, new_fingerprint, desc)\u001b[0m\n\u001b[1;32m   3071\u001b[0m                     \u001b[0mdesc\u001b[0m\u001b[0;34m=\u001b[0m\u001b[0mdesc\u001b[0m \u001b[0;32mor\u001b[0m \u001b[0;34m\"Map\"\u001b[0m\u001b[0;34m,\u001b[0m\u001b[0;34m\u001b[0m\u001b[0;34m\u001b[0m\u001b[0m\n\u001b[1;32m   3072\u001b[0m                 ) as pbar:\n\u001b[0;32m-> 3073\u001b[0;31m                     \u001b[0;32mfor\u001b[0m \u001b[0mrank\u001b[0m\u001b[0;34m,\u001b[0m \u001b[0mdone\u001b[0m\u001b[0;34m,\u001b[0m \u001b[0mcontent\u001b[0m \u001b[0;32min\u001b[0m \u001b[0mDataset\u001b[0m\u001b[0;34m.\u001b[0m\u001b[0m_map_single\u001b[0m\u001b[0;34m(\u001b[0m\u001b[0;34m**\u001b[0m\u001b[0mdataset_kwargs\u001b[0m\u001b[0;34m)\u001b[0m\u001b[0;34m:\u001b[0m\u001b[0;34m\u001b[0m\u001b[0;34m\u001b[0m\u001b[0m\n\u001b[0m\u001b[1;32m   3074\u001b[0m                         \u001b[0;32mif\u001b[0m \u001b[0mdone\u001b[0m\u001b[0;34m:\u001b[0m\u001b[0;34m\u001b[0m\u001b[0;34m\u001b[0m\u001b[0m\n\u001b[1;32m   3075\u001b[0m                             \u001b[0mshards_done\u001b[0m \u001b[0;34m+=\u001b[0m \u001b[0;36m1\u001b[0m\u001b[0;34m\u001b[0m\u001b[0;34m\u001b[0m\u001b[0m\n",
            "\u001b[0;32m/usr/local/lib/python3.10/dist-packages/datasets/arrow_dataset.py\u001b[0m in \u001b[0;36m_map_single\u001b[0;34m(shard, function, with_indices, with_rank, input_columns, batched, batch_size, drop_last_batch, remove_columns, keep_in_memory, cache_file_name, writer_batch_size, features, disable_nullable, fn_kwargs, new_fingerprint, rank, offset)\u001b[0m\n\u001b[1;32m   3425\u001b[0m                     \u001b[0m_time\u001b[0m \u001b[0;34m=\u001b[0m \u001b[0mtime\u001b[0m\u001b[0;34m.\u001b[0m\u001b[0mtime\u001b[0m\u001b[0;34m(\u001b[0m\u001b[0;34m)\u001b[0m\u001b[0;34m\u001b[0m\u001b[0;34m\u001b[0m\u001b[0m\n\u001b[1;32m   3426\u001b[0m                     \u001b[0;32mfor\u001b[0m \u001b[0mi\u001b[0m\u001b[0;34m,\u001b[0m \u001b[0mexample\u001b[0m \u001b[0;32min\u001b[0m \u001b[0mshard_iterable\u001b[0m\u001b[0;34m:\u001b[0m\u001b[0;34m\u001b[0m\u001b[0;34m\u001b[0m\u001b[0m\n\u001b[0;32m-> 3427\u001b[0;31m                         \u001b[0mexample\u001b[0m \u001b[0;34m=\u001b[0m \u001b[0mapply_function_on_filtered_inputs\u001b[0m\u001b[0;34m(\u001b[0m\u001b[0mexample\u001b[0m\u001b[0;34m,\u001b[0m \u001b[0mi\u001b[0m\u001b[0;34m,\u001b[0m \u001b[0moffset\u001b[0m\u001b[0;34m=\u001b[0m\u001b[0moffset\u001b[0m\u001b[0;34m)\u001b[0m\u001b[0;34m\u001b[0m\u001b[0;34m\u001b[0m\u001b[0m\n\u001b[0m\u001b[1;32m   3428\u001b[0m                         \u001b[0;32mif\u001b[0m \u001b[0mupdate_data\u001b[0m\u001b[0;34m:\u001b[0m\u001b[0;34m\u001b[0m\u001b[0;34m\u001b[0m\u001b[0m\n\u001b[1;32m   3429\u001b[0m                             \u001b[0;32mif\u001b[0m \u001b[0mi\u001b[0m \u001b[0;34m==\u001b[0m \u001b[0;36m0\u001b[0m\u001b[0;34m:\u001b[0m\u001b[0;34m\u001b[0m\u001b[0;34m\u001b[0m\u001b[0m\n",
            "\u001b[0;32m/usr/local/lib/python3.10/dist-packages/datasets/arrow_dataset.py\u001b[0m in \u001b[0;36mapply_function_on_filtered_inputs\u001b[0;34m(pa_inputs, indices, check_same_num_examples, offset)\u001b[0m\n\u001b[1;32m   3328\u001b[0m             \u001b[0;32mif\u001b[0m \u001b[0mwith_rank\u001b[0m\u001b[0;34m:\u001b[0m\u001b[0;34m\u001b[0m\u001b[0;34m\u001b[0m\u001b[0m\n\u001b[1;32m   3329\u001b[0m                 \u001b[0madditional_args\u001b[0m \u001b[0;34m+=\u001b[0m \u001b[0;34m(\u001b[0m\u001b[0mrank\u001b[0m\u001b[0;34m,\u001b[0m\u001b[0;34m)\u001b[0m\u001b[0;34m\u001b[0m\u001b[0;34m\u001b[0m\u001b[0m\n\u001b[0;32m-> 3330\u001b[0;31m             \u001b[0mprocessed_inputs\u001b[0m \u001b[0;34m=\u001b[0m \u001b[0mfunction\u001b[0m\u001b[0;34m(\u001b[0m\u001b[0;34m*\u001b[0m\u001b[0mfn_args\u001b[0m\u001b[0;34m,\u001b[0m \u001b[0;34m*\u001b[0m\u001b[0madditional_args\u001b[0m\u001b[0;34m,\u001b[0m \u001b[0;34m**\u001b[0m\u001b[0mfn_kwargs\u001b[0m\u001b[0;34m)\u001b[0m\u001b[0;34m\u001b[0m\u001b[0;34m\u001b[0m\u001b[0m\n\u001b[0m\u001b[1;32m   3331\u001b[0m             \u001b[0;32mif\u001b[0m \u001b[0misinstance\u001b[0m\u001b[0;34m(\u001b[0m\u001b[0mprocessed_inputs\u001b[0m\u001b[0;34m,\u001b[0m \u001b[0mLazyDict\u001b[0m\u001b[0;34m)\u001b[0m\u001b[0;34m:\u001b[0m\u001b[0;34m\u001b[0m\u001b[0;34m\u001b[0m\u001b[0m\n\u001b[1;32m   3332\u001b[0m                 processed_inputs = {\n",
            "\u001b[0;32m<ipython-input-27-bbfd233ad121>\u001b[0m in \u001b[0;36mlowercase_condition\u001b[0;34m(example)\u001b[0m\n\u001b[1;32m      1\u001b[0m \u001b[0;32mdef\u001b[0m \u001b[0mlowercase_condition\u001b[0m\u001b[0;34m(\u001b[0m\u001b[0mexample\u001b[0m\u001b[0;34m)\u001b[0m\u001b[0;34m:\u001b[0m\u001b[0;34m\u001b[0m\u001b[0;34m\u001b[0m\u001b[0m\n\u001b[0;32m----> 2\u001b[0;31m     \u001b[0;32mreturn\u001b[0m \u001b[0;34m{\u001b[0m\u001b[0;34m\"condition\"\u001b[0m\u001b[0;34m:\u001b[0m \u001b[0mexample\u001b[0m\u001b[0;34m[\u001b[0m\u001b[0;34m\"condition\"\u001b[0m\u001b[0;34m]\u001b[0m\u001b[0;34m.\u001b[0m\u001b[0mlower\u001b[0m\u001b[0;34m(\u001b[0m\u001b[0;34m)\u001b[0m\u001b[0;34m}\u001b[0m\u001b[0;34m\u001b[0m\u001b[0;34m\u001b[0m\u001b[0m\n\u001b[0m\u001b[1;32m      3\u001b[0m \u001b[0;34m\u001b[0m\u001b[0m\n\u001b[1;32m      4\u001b[0m \u001b[0;34m\u001b[0m\u001b[0m\n\u001b[1;32m      5\u001b[0m \u001b[0mdrug_dataset\u001b[0m\u001b[0;34m.\u001b[0m\u001b[0mmap\u001b[0m\u001b[0;34m(\u001b[0m\u001b[0mlowercase_condition\u001b[0m\u001b[0;34m)\u001b[0m\u001b[0;34m\u001b[0m\u001b[0;34m\u001b[0m\u001b[0m\n",
            "\u001b[0;31mAttributeError\u001b[0m: 'NoneType' object has no attribute 'lower'"
          ]
        }
      ],
      "source": [
        "def lowercase_condition(example):\n",
        "    return {\"condition\": example[\"condition\"].lower()}\n",
        "\n",
        "\n",
        "drug_dataset.map(lowercase_condition)"
      ]
    },
    {
      "cell_type": "code",
      "execution_count": null,
      "metadata": {
        "id": "1wIP-BSYB12j"
      },
      "outputs": [],
      "source": [
        "def filter_nones(x):\n",
        "  return x[\"condition\"] is not None"
      ]
    },
    {
      "cell_type": "code",
      "execution_count": null,
      "metadata": {
        "id": "4YyXm6-2CNsm"
      },
      "outputs": [],
      "source": [
        "(lambda x : x * x)(3)"
      ]
    },
    {
      "cell_type": "code",
      "execution_count": null,
      "metadata": {
        "id": "ODlQj2ouGE0N"
      },
      "outputs": [],
      "source": [
        "(lambda base, height: 0.5 * base * height)(4, 8)"
      ]
    },
    {
      "cell_type": "code",
      "execution_count": null,
      "metadata": {
        "id": "mrvoPUZiHGly"
      },
      "outputs": [],
      "source": [
        "drug_dataset = drug_dataset.filter(lambda x : x[\"condition\"] is not None)"
      ]
    },
    {
      "cell_type": "code",
      "execution_count": null,
      "metadata": {
        "id": "E5yzF6FMGQUR"
      },
      "outputs": [],
      "source": [
        "drug_dataset = drug_dataset.map(lowercase_condition)\n",
        "# Check that lowercasing worked\n",
        "drug_dataset[\"train\"][\"condition\"][:3]"
      ]
    },
    {
      "cell_type": "code",
      "execution_count": null,
      "metadata": {
        "id": "T4dFz3urHmiS"
      },
      "outputs": [],
      "source": [
        "def compute_review_length(example):\n",
        "  return {\"review_length\": len(example[\"review\"].split())}"
      ]
    },
    {
      "cell_type": "code",
      "execution_count": null,
      "metadata": {
        "id": "pITYSKoUH2kp"
      },
      "outputs": [],
      "source": [
        "drug_dataset = drug_dataset.map(compute_review_length)\n",
        "# Inspect the first training example\n",
        "drug_dataset[\"train\"][0]"
      ]
    },
    {
      "cell_type": "code",
      "execution_count": null,
      "metadata": {
        "id": "cw7bsOd9JndN"
      },
      "outputs": [],
      "source": [
        "drug_dataset[\"train\"].sort(\"review_length\")[:3]"
      ]
    },
    {
      "cell_type": "code",
      "execution_count": null,
      "metadata": {
        "id": "RK8zDrQsJx_v"
      },
      "outputs": [],
      "source": [
        "drug_dataset = drug_dataset.filter(lambda x: x[\"review_length\"] > 30)\n",
        "print(drug_dataset.num_rows)"
      ]
    },
    {
      "cell_type": "code",
      "execution_count": null,
      "metadata": {
        "id": "DjdfmlLSKOoR"
      },
      "outputs": [],
      "source": [
        "import html\n",
        "\n",
        "text = \"I&#039;m a transformer called BERT\"\n",
        "html.unescape(text)"
      ]
    },
    {
      "cell_type": "code",
      "execution_count": null,
      "metadata": {
        "id": "cCPRWi1EL0TT"
      },
      "outputs": [],
      "source": [
        "drug_dataset = drug_dataset.map(lambda x: {\"review\": html.unescape(x[\"review\"])})"
      ]
    },
    {
      "cell_type": "code",
      "execution_count": null,
      "metadata": {
        "id": "0qNkZpBCMDth"
      },
      "outputs": [],
      "source": [
        "new_drug_dataset = drug_dataset.map(\n",
        "    lambda x: {\"review\": [html.unescape(o) for o in x[\"review\"]]}, batched=True\n",
        ")"
      ]
    },
    {
      "cell_type": "code",
      "execution_count": null,
      "metadata": {
        "id": "Za6_QAH7Me5y"
      },
      "outputs": [],
      "source": [
        "from transformers import AutoTokenizer\n",
        "\n",
        "tokenizer = AutoTokenizer.from_pretrained(\"bert-base-cased\")\n",
        "\n",
        "def tokenize_function(example):\n",
        "  return tokenizer(example[\"review\"], truncation=True)"
      ]
    },
    {
      "cell_type": "code",
      "execution_count": null,
      "metadata": {
        "id": "32bHcZgpNJAR"
      },
      "outputs": [],
      "source": [
        "%time tokenized_dataset = drug_dataset.map(tokenize_function, batched=True)"
      ]
    },
    {
      "cell_type": "code",
      "execution_count": null,
      "metadata": {
        "id": "glNNmDR2OdSG"
      },
      "outputs": [],
      "source": [
        "slow_tokenizer = AutoTokenizer.from_pretrained(\"bert-base-cased\", use_fast=False)\n",
        "\n",
        "def slow_tokenize_function(examples):\n",
        "  return slow_tokenizer(examples[\"review\"], truncation=True)\n",
        "\n",
        "tokenized_dataset = drug_dataset.map(slow_tokenize_function, batched=True, num_proc=8)"
      ]
    },
    {
      "cell_type": "code",
      "execution_count": null,
      "metadata": {
        "id": "C4bVG4cBPL_G"
      },
      "outputs": [],
      "source": [
        "def tokenize_and_split(examples):\n",
        "  return tokenizer(\n",
        "      examples[\"review\"],\n",
        "      truncation=True,\n",
        "      max_length=128,\n",
        "      return_overflowing_tokens=True,\n",
        "\n",
        "  )"
      ]
    },
    {
      "cell_type": "code",
      "execution_count": null,
      "metadata": {
        "id": "usl1N7mdSA-W"
      },
      "outputs": [],
      "source": [
        "result = tokenize_and_split(drug_dataset[\"train\"][0])\n",
        "[len(inp) for inp in result[\"input_ids\"]]"
      ]
    },
    {
      "cell_type": "code",
      "execution_count": null,
      "metadata": {
        "id": "lkl6HpybSjk3"
      },
      "outputs": [],
      "source": [
        "tokenized_dataset = drug_dataset.map(tokenize_and_split, batched=True,)"
      ]
    },
    {
      "cell_type": "code",
      "execution_count": null,
      "metadata": {
        "id": "VeiEDTx5TBQE"
      },
      "outputs": [],
      "source": [
        "tokenized_dataset = drug_dataset.map(\n",
        "    tokenize_and_split, batched=True, remove_columns=drug_dataset[\"train\"].column_names\n",
        ")"
      ]
    },
    {
      "cell_type": "code",
      "execution_count": null,
      "metadata": {
        "id": "as409RFhYXBA"
      },
      "outputs": [],
      "source": [
        "len(tokenized_dataset[\"train\"]), len(drug_dataset[\"train\"])"
      ]
    },
    {
      "cell_type": "code",
      "execution_count": null,
      "metadata": {
        "id": "TRSoJfqRbX7L"
      },
      "outputs": [],
      "source": [
        "def tokenize_and_split(examples):\n",
        "    result = tokenizer(\n",
        "        examples[\"review\"],\n",
        "        truncation=True,\n",
        "        max_length=128,\n",
        "        return_overflowing_tokens=True,\n",
        "    )\n",
        "    # Extract mapping between new and old indices\n",
        "    sample_map = result.pop(\"overflow_to_sample_mapping\")\n",
        "    for key, values in examples.items():\n",
        "        result[key] = [values[i] for i in sample_map]\n",
        "    return result"
      ]
    },
    {
      "cell_type": "code",
      "execution_count": null,
      "metadata": {
        "id": "AxRJPbgIcOWS"
      },
      "outputs": [],
      "source": [
        "tokenized_dataset = drug_dataset.map(tokenize_and_split, batched=True)\n",
        "tokenized_dataset"
      ]
    },
    {
      "cell_type": "code",
      "execution_count": null,
      "metadata": {
        "id": "i0A2ajgwdV5W"
      },
      "outputs": [],
      "source": [
        "drug_dataset.set_format(\"pandas\")"
      ]
    },
    {
      "cell_type": "code",
      "execution_count": null,
      "metadata": {
        "id": "XY2pjbXefJUG"
      },
      "outputs": [],
      "source": [
        "drug_dataset[\"train\"][:3]"
      ]
    },
    {
      "cell_type": "code",
      "execution_count": null,
      "metadata": {
        "id": "RLigJLbIfNvl"
      },
      "outputs": [],
      "source": [
        "train_df = drug_dataset[\"train\"][:]"
      ]
    },
    {
      "cell_type": "code",
      "execution_count": null,
      "metadata": {
        "id": "QZukRqV_fUip"
      },
      "outputs": [],
      "source": [
        "frequencies = (\n",
        "    train_df[\"condition\"]\n",
        "    .value_counts()\n",
        "    .to_frame()\n",
        "    .reset_index()\n",
        "    .rename(columns={\"index\": \"condition\", \"condition\": \"frequenciy\"})\n",
        ")\n",
        "frequencies.head()"
      ]
    },
    {
      "cell_type": "code",
      "execution_count": null,
      "metadata": {
        "id": "gFx2RCurfvTK"
      },
      "outputs": [],
      "source": [
        "from datasets import Dataset\n",
        "\n",
        "freq_dataset = Dataset.from_pandas(frequencies)\n",
        "freq_dataset"
      ]
    },
    {
      "cell_type": "code",
      "execution_count": null,
      "metadata": {
        "id": "AQclm8IVgQ2W"
      },
      "outputs": [],
      "source": [
        "drug_dataset.reset_format()"
      ]
    },
    {
      "cell_type": "code",
      "execution_count": null,
      "metadata": {
        "id": "O24bGfgggiOi"
      },
      "outputs": [],
      "source": [
        "drug_dataset_clean = drug_dataset[\"train\"].train_test_split(train_size=0.8, seed=42)\n",
        "# Rename the default \"test\" split to \"validation\"\n",
        "drug_dataset_clean[\"validation\"] = drug_dataset_clean.pop(\"test\")\n",
        "# Add the \"test\" set to our 'DatasetDict'\n",
        "drug_dataset_clean[\"test\"] = drug_dataset[\"test\"]\n",
        "drug_dataset_clean"
      ]
    },
    {
      "cell_type": "code",
      "execution_count": null,
      "metadata": {
        "id": "7VmO0ue8hli3"
      },
      "outputs": [],
      "source": [
        "drug_dataset_clean.save_to_disk(\"drug-reviews\")"
      ]
    },
    {
      "cell_type": "code",
      "execution_count": null,
      "metadata": {
        "id": "rNJKjgBzhvlU"
      },
      "outputs": [],
      "source": [
        "from datasets import load_from_disk\n",
        "\n",
        "drug_dataset_reloaded = load_from_disk(\"drug-reviews\")\n",
        "drug_dataset_reloaded"
      ]
    },
    {
      "cell_type": "code",
      "execution_count": null,
      "metadata": {
        "id": "VeDVKzBph2MG"
      },
      "outputs": [],
      "source": [
        "for split, dataset in drug_dataset_clean.items():\n",
        "  dataset.to_json(f\"drug-reviews-{split}.jsonl\")"
      ]
    },
    {
      "cell_type": "code",
      "execution_count": null,
      "metadata": {
        "id": "V2dNii-0jYTi"
      },
      "outputs": [],
      "source": [
        "!head -n 1 drug-reviews-train.jsonl"
      ]
    },
    {
      "cell_type": "code",
      "execution_count": null,
      "metadata": {
        "id": "ybjUIzvXjh69"
      },
      "outputs": [],
      "source": [
        "data_files = {\n",
        "    \"train\": \"drug-reviews-train.jsonl\",\n",
        "    \"validation\": \"drug-reviews-validation.jsonl\",\n",
        "    \"test\": \"drug-reviews-test.jsonl\",\n",
        "}\n",
        "drug_dataset_reloaded = load_dataset(\"json\", data_files=data_files)"
      ]
    },
    {
      "cell_type": "markdown",
      "metadata": {
        "id": "vlvngzihj_jA"
      },
      "source": [
        "## Big data? Datasets to the rescue"
      ]
    },
    {
      "cell_type": "code",
      "execution_count": null,
      "metadata": {
        "id": "5etw7-2Ok2sr"
      },
      "outputs": [],
      "source": [
        "!pip install zstandard"
      ]
    },
    {
      "cell_type": "code",
      "execution_count": null,
      "metadata": {
        "id": "Vqi9a_bvqSrL"
      },
      "outputs": [],
      "source": [
        "from datasets import load_dataset\n",
        "\n",
        "# This takes a few minutes to run, so go grab a tea or coffee while you wait :)\n",
        "data_files = \"https://the-eye.eu/public/AI/pile_preliminary_components/PUBMED_title_abstracts_2019_baseline.jsonl.zst\"\n",
        "pubmed_dataset = load_dataset(\"json\", data_files=data_files, split=\"train\")\n",
        "pubmed_dataset"
      ]
    },
    {
      "cell_type": "code",
      "execution_count": null,
      "metadata": {
        "id": "9h2QER9uqpFN"
      },
      "outputs": [],
      "source": [
        "pubmed_dataset[0]"
      ]
    },
    {
      "cell_type": "code",
      "execution_count": null,
      "metadata": {
        "id": "jCaqPNmzuhV8"
      },
      "outputs": [],
      "source": [
        "!pip install psutil"
      ]
    },
    {
      "cell_type": "code",
      "execution_count": null,
      "metadata": {
        "id": "DSSf2l8vupK1"
      },
      "outputs": [],
      "source": [
        "import psutil\n",
        "\n",
        "# Process.memory_info is expressed in bytes, so convert to megabytes\n",
        "print(f\"RAM used: {psutil.Process().memory_info().rss / (1024 * 1024):.2f} MB\")"
      ]
    },
    {
      "cell_type": "code",
      "execution_count": null,
      "metadata": {
        "id": "XP5_cpkZvOkn"
      },
      "outputs": [],
      "source": [
        "print(f\"Number of files in dataset : {pubmed_dataset.dataset_size}\")\n",
        "size_gb = pubmed_dataset.dataset_size / (1024**3)\n",
        "print(f\"Dataset size (cache file) : {size_gb:.2f} GB\")"
      ]
    },
    {
      "cell_type": "code",
      "execution_count": null,
      "metadata": {
        "id": "P9asXuK3wAIe"
      },
      "outputs": [],
      "source": [
        "import timeit\n",
        "\n",
        "code_snippet = \"\"\"batch_size = 1000\n",
        "\n",
        "for idx in range(0, len(pubmed_dataset), batch_size):\n",
        "    _ = pubmed_dataset[idx:idx + batch_size]\n",
        "\"\"\"\n",
        "\n",
        "time = timeit.timeit(stmt=code_snippet, number=1, globals=globals())\n",
        "print(\n",
        "    f\"Iterated over {len(pubmed_dataset)} examples (about {size_gb:.1f} GB) in \"\n",
        "    f\"{time:.1f}s, i.e. {size_gb/time:.3f} GB/s\"\n",
        ")"
      ]
    },
    {
      "cell_type": "markdown",
      "metadata": {
        "id": "ZJVtuFnWy5SS"
      },
      "source": [
        "Streaming datasets"
      ]
    },
    {
      "cell_type": "code",
      "execution_count": null,
      "metadata": {
        "id": "yl0UyYSZ0R1D"
      },
      "outputs": [],
      "source": [
        "pubmed_dataset_streamed = load_dataset(\n",
        "    \"json\", data_files=data_files, split=\"train\", streaming=True\n",
        ")"
      ]
    },
    {
      "cell_type": "code",
      "execution_count": null,
      "metadata": {
        "id": "2R1GlQLT0hpH"
      },
      "outputs": [],
      "source": [
        "next(iter(pubmed_dataset_streamed))"
      ]
    },
    {
      "cell_type": "code",
      "execution_count": null,
      "metadata": {
        "id": "7uOVnMHD1dko"
      },
      "outputs": [],
      "source": [
        "from transformers import AutoTokenizer\n",
        "\n",
        "tokenizer = AutoTokenizer.from_pretrained(\"distilbert-base-uncased\")\n",
        "tokenized_dataset = pubmed_dataset_streamed.map(lambda x: tokenizer(x[\"text\"]))\n",
        "next(iter(tokenized_dataset))"
      ]
    },
    {
      "cell_type": "code",
      "execution_count": null,
      "metadata": {
        "id": "alcAhlKT2Syu"
      },
      "outputs": [],
      "source": [
        "shuffled_dataset = pubmed_dataset_streamed.shuffle(buffer_size=10_000, seed=42)\n",
        "next(iter(shuffled_dataset))"
      ]
    },
    {
      "cell_type": "code",
      "execution_count": null,
      "metadata": {
        "id": "ZgONbGeF21QM"
      },
      "outputs": [],
      "source": [
        "dataset_head = pubmed_dataset_streamed.take(5)\n",
        "list(dataset_head)"
      ]
    },
    {
      "cell_type": "code",
      "execution_count": null,
      "metadata": {
        "id": "7MKy_hV64GsY"
      },
      "outputs": [],
      "source": [
        "# Skip the first 1,000 examples and include the rest in the training set\n",
        "train_dataset = shuffled_dataset.skip(1000)\n",
        "# Take the first 1,000 ex for the validation set\n",
        "validation_dataset = shuffled_dataset.take(1000)"
      ]
    },
    {
      "cell_type": "code",
      "execution_count": null,
      "metadata": {
        "id": "n3_kKMew5IZ0"
      },
      "outputs": [],
      "source": [
        "law_dataset_streamed = load_dataset(\n",
        "    \"json\",\n",
        "    data_files=\"https://the-eye.eu/public/AI/pile_preliminary_components/FreeLaw_Opinions.jsonl.zst\",\n",
        "    split=\"train\",\n",
        "    streaming=True,\n",
        ")\n",
        "next(iter(law_dataset_streamed))"
      ]
    },
    {
      "cell_type": "code",
      "execution_count": null,
      "metadata": {
        "id": "mfeGhgXQ7I7T"
      },
      "outputs": [],
      "source": [
        "law_dataset_streamed = load_dataset(\n",
        "    \"json\",\n",
        "    data_files=\"https://the-eye.eu/public/AI/pile_preliminary_components/FreeLaw_Opinions.jsonl.zst\",\n",
        "    split=\"train\",\n",
        "    streaming=True,\n",
        ")\n",
        "next(iter(law_dataset_streamed))"
      ]
    },
    {
      "cell_type": "code",
      "execution_count": null,
      "metadata": {
        "id": "lGb5C1RC7kQO"
      },
      "outputs": [],
      "source": [
        "from itertools import islice\n",
        "from datasets import interleave_datasets\n",
        "\n",
        "combined_dataset = interleave_datasets([pubmed_dataset_streamed, law_dataset_streamed])\n",
        "list(islice(combined_dataset, 2))"
      ]
    },
    {
      "cell_type": "code",
      "execution_count": null,
      "metadata": {
        "id": "h7ibng8I9sTN"
      },
      "outputs": [],
      "source": [
        "base_url = \"https://the-eye.eu/public/AI/pile/\"\n",
        "data_files = {\n",
        "    \"train\": [base_url + \"train/\" + f\"{idx:02d}.jsonl.zst\" for idx in range(30)],\n",
        "    \"validation\": base_url + \"val.jsonl.zst\",\n",
        "    \"test\": base_url + \"test.jsonl.zst\",\n",
        "}\n",
        "pile_dataset = load_dataset(\"json\", data_files=data_files, streaming=True)\n",
        "next(iter(pile_dataset[\"train\"]))"
      ]
    },
    {
      "cell_type": "markdown",
      "metadata": {
        "id": "wKRjkJ_xTnP9"
      },
      "source": [
        "## Creating your own dataset"
      ]
    },
    {
      "cell_type": "code",
      "execution_count": null,
      "metadata": {
        "id": "mCof92u2UN8r"
      },
      "outputs": [],
      "source": [
        "!pip install requests"
      ]
    },
    {
      "cell_type": "code",
      "execution_count": null,
      "metadata": {
        "id": "zeD-qcTlYFQD"
      },
      "outputs": [],
      "source": [
        "import requests\n",
        "\n",
        "url = \"https://api.github.com/repos/huggingface/datasets/issues?page=1&per_page=1\"\n",
        "response = requests.get(url)"
      ]
    },
    {
      "cell_type": "code",
      "execution_count": null,
      "metadata": {
        "id": "0vnt8HBNYg2s"
      },
      "outputs": [],
      "source": [
        "response.status_code"
      ]
    },
    {
      "cell_type": "code",
      "execution_count": null,
      "metadata": {
        "id": "LQ1uzWASYx9O"
      },
      "outputs": [],
      "source": [
        "response.json()"
      ]
    },
    {
      "cell_type": "markdown",
      "metadata": {
        "id": "f8xPerNLkb69"
      },
      "source": [
        "GitHub token was deleted."
      ]
    },
    {
      "cell_type": "code",
      "execution_count": null,
      "metadata": {
        "id": "_GyN0X_VkA8d"
      },
      "outputs": [],
      "source": [
        "import time\n",
        "import math\n",
        "from pathlib import Path\n",
        "import pandas as pd\n",
        "from tqdm.notebook import tqdm\n",
        "\n",
        "\n",
        "def fetch_issues(\n",
        "    owner=\"huggingface\",\n",
        "    repo=\"datasets\",\n",
        "    num_issues=10_000,\n",
        "    rate_limit=5_000,\n",
        "    issues_path=Path(\".\"),\n",
        "):\n",
        "    if not issues_path.is_dir():\n",
        "        issues_path.mkdir(exist_ok=True)\n",
        "\n",
        "    batch = []\n",
        "    all_issues = []\n",
        "    per_page = 100  # Number of issues to return per page\n",
        "    num_pages = math.ceil(num_issues / per_page)\n",
        "    base_url = \"https://api.github.com/repos\"\n",
        "\n",
        "    for page in tqdm(range(num_pages)):\n",
        "        # Query with state=all to get both open and closed issues\n",
        "        query = f\"issues?page={page}&per_page={per_page}&state=all\"\n",
        "        issues = requests.get(f\"{base_url}/{owner}/{repo}/{query}\", headers=headers)\n",
        "        batch.extend(issues.json())\n",
        "\n",
        "        if len(batch) > rate_limit and len(all_issues) < num_issues:\n",
        "            all_issues.extend(batch)\n",
        "            batch = []  # Flush batch for next time period\n",
        "            print(f\"Reached GitHub rate limit. Sleeping for one hour ...\")\n",
        "            time.sleep(60 * 60 + 1)\n",
        "\n",
        "    all_issues.extend(batch)\n",
        "    df = pd.DataFrame.from_records(all_issues)\n",
        "    df.to_json(f\"{issues_path}/{repo}-issues.jsonl\", orient=\"records\", lines=True)\n",
        "    print(\n",
        "        f\"Downloaded all the issues for {repo}! Dataset stored at {issues_path}/{repo}-issues.jsonl\"\n",
        "    )"
      ]
    },
    {
      "cell_type": "code",
      "execution_count": null,
      "metadata": {
        "id": "hXiCR0OCqNh2"
      },
      "outputs": [],
      "source": [
        "fetch_issues()"
      ]
    },
    {
      "cell_type": "code",
      "execution_count": null,
      "metadata": {
        "id": "CBYcYgjkq8w3"
      },
      "outputs": [],
      "source": [
        "issues_dataset = load_dataset(\"json\", data_files=\"datasets-issues.jxonl\", split=\"train\")\n",
        "issues_dataset"
      ]
    },
    {
      "cell_type": "markdown",
      "metadata": {
        "id": "f-2i3nGAtNZe"
      },
      "source": [
        "Cleaning up data"
      ]
    },
    {
      "cell_type": "code",
      "execution_count": null,
      "metadata": {
        "id": "3_NmTz7ktRK5"
      },
      "outputs": [],
      "source": [
        "sample = issues_dataset.shuffle(seed=666).select(range(3))\n",
        "\n",
        "# Print out the URL and pull request entries\n",
        "for url, pr in zip(sample[\"html_url\"], sample[\"pull_request\"]):\n",
        "  print(f\">> URL: {url}\")\n",
        "  print(f\">> Pull request: {pr}\\n\")"
      ]
    },
    {
      "cell_type": "code",
      "execution_count": null,
      "metadata": {
        "id": "gNgENx52t9K-"
      },
      "outputs": [],
      "source": [
        "issues_dataset = issues_dataset.map(\n",
        "    lambda x: {\"is_pull_request\": False if x[\"pull_request\"]is None else True}\n",
        ")"
      ]
    },
    {
      "cell_type": "markdown",
      "metadata": {
        "id": "2FCun-CmuZ6L"
      },
      "source": [
        "Augmenting the dataset"
      ]
    },
    {
      "cell_type": "code",
      "execution_count": null,
      "metadata": {
        "id": "JLF59FZhu7I6"
      },
      "outputs": [],
      "source": [
        "issue_number = 2792\n",
        "url = f\"https://api.github.com/repos/huggingface/datasets/issues/{issue_number}/comments\"\n",
        "response = requests.get(url, headers=headers)\n",
        "response.json()"
      ]
    },
    {
      "cell_type": "code",
      "execution_count": null,
      "metadata": {
        "id": "bYfbMtfXxiiY"
      },
      "outputs": [],
      "source": [
        "def get_comments(issue_number):\n",
        "  url = f\"https://api.github.com/repos/huggingface/datasets/issues/{issue_number}/comments\"\n",
        "  response = requests.get(url, headers=headers)\n",
        "  return [r[\"body\"] for r in response.json()]\n",
        "\n",
        "# Test our function works as expected\n",
        "get_comments(2792)"
      ]
    },
    {
      "cell_type": "code",
      "execution_count": null,
      "metadata": {
        "id": "3FqWQZgoyDKZ"
      },
      "outputs": [],
      "source": [
        "# Depending on you internet conn, this can take a few min\n",
        "issues_with_comments_dataset = issues_dataset.map(\n",
        "    lambda x: {\"comments\": get_comments(x[\"number\"])}\n",
        ")"
      ]
    },
    {
      "cell_type": "markdown",
      "metadata": {
        "id": "PlAjX7kKy0vQ"
      },
      "source": [
        "Uploading the dataset to the Hugging Face Hub"
      ]
    },
    {
      "cell_type": "code",
      "execution_count": null,
      "metadata": {
        "id": "eTxlHQnky7GB"
      },
      "outputs": [],
      "source": [
        "from huggingface_hub import notebook_login\n",
        "\n",
        "notebook_login()"
      ]
    },
    {
      "cell_type": "code",
      "execution_count": null,
      "metadata": {
        "id": "eMBmOJN2zbfp"
      },
      "outputs": [],
      "source": [
        "issues_with_comments_dataset.push_to_hub(\"hithub-issues\")"
      ]
    },
    {
      "cell_type": "code",
      "execution_count": null,
      "metadata": {
        "id": "TADCvkYmzjNQ"
      },
      "outputs": [],
      "source": [
        "remote_dataset = load_dataset(\"lewtun/github-issues\", split=\"train\")\n",
        "remote_dataset"
      ]
    },
    {
      "cell_type": "markdown",
      "metadata": {
        "id": "08e5MaX8z0z7"
      },
      "source": [
        "Creating a dataset card is on the Hugging Face Hub."
      ]
    },
    {
      "cell_type": "markdown",
      "source": [
        "## Semantic search with FAISS\n",
        "Loading and preparing the dataset"
      ],
      "metadata": {
        "id": "CJYIv-CD-uiz"
      }
    },
    {
      "cell_type": "code",
      "source": [
        "!pip install faiss-gpu"
      ],
      "metadata": {
        "colab": {
          "base_uri": "https://localhost:8080/"
        },
        "id": "BPIZXhLN-0Qo",
        "outputId": "bbfb8f18-ff03-4875-c5e9-32cb7c9bbbcb"
      },
      "execution_count": null,
      "outputs": [
        {
          "output_type": "stream",
          "name": "stdout",
          "text": [
            "Looking in indexes: https://pypi.org/simple, https://us-python.pkg.dev/colab-wheels/public/simple/\n",
            "Collecting faiss-gpu\n",
            "  Downloading faiss_gpu-1.7.2-cp310-cp310-manylinux_2_17_x86_64.manylinux2014_x86_64.whl (85.5 MB)\n",
            "\u001b[2K     \u001b[90m━━━━━━━━━━━━━━━━━━━━━━━━━━━━━━━━━━━━━━━━\u001b[0m \u001b[32m85.5/85.5 MB\u001b[0m \u001b[31m5.6 MB/s\u001b[0m eta \u001b[36m0:00:00\u001b[0m\n",
            "\u001b[?25hInstalling collected packages: faiss-gpu\n",
            "Successfully installed faiss-gpu-1.7.2\n"
          ]
        }
      ]
    },
    {
      "cell_type": "code",
      "source": [
        "from datasets import load_dataset\n",
        "\n",
        "issues_dataset = load_dataset(\"lewtun/github-issues\", split=\"train\")\n",
        "issues_dataset"
      ],
      "metadata": {
        "colab": {
          "base_uri": "https://localhost:8080/",
          "height": 529,
          "referenced_widgets": [
            "c06956738325428486ef5b42c47e6129",
            "3f7c0933fa21421fb29e0b20728af7bc",
            "8e2ebc3fae3b44f7a1f0c10ec5e944de",
            "85019bc3c407455c99748b2a978730ac",
            "344381ce7a684f3aaf86feb28a79c984",
            "ac68bcd0e4bd4767bf6bc5d6d2d22a78",
            "82219fadcd2941159dc45c56630c0443",
            "1c474708e18a42cf878b5a6713b0a710",
            "12b0a80215074031bcebf6190f6d1e1f",
            "702d0c64775a4876a5eb780d67537ef0",
            "0c335af86c2a4ccba90d975d1935930e",
            "c8ae3f0cde7a4e9d92f87863b30eb8a8",
            "1c847fed11284a5789e1fbce7954dbd1",
            "3e81316a84774b35aa4a988a1567009f",
            "1110fb99b07748d8b528653efc4e8686",
            "4ef82492c5e44663bb2cce162b376e04",
            "2394d9e45845403ead2197c293d4c18f",
            "59d050bf02e44a25ba99991d1d5c2397",
            "61f3663f1068438791ed29d193477b4c",
            "b2349b8ae99747c99b7d1e182d287765",
            "e6e019b967d94fa1acf2b46df4f25c41",
            "867014038753453189a31078adc6d316",
            "f551c9824adc4f15804142b24a86bbbb",
            "b6ef66d1b69546509d1ab07cc4d7b756",
            "dd24545cf7784904887b63877740bbee",
            "3cff53664b2f45f4ad6b0ec493413dbd",
            "a643fc0412184b77bcc2a77665db004e",
            "dc7300f0ae4b476dab4a48c5aa406e97",
            "af0da090847e4056b73b43a5575906db",
            "eadff2399dcd490ab84ec66f3487ca36",
            "7b71ecaf28df45c68660567fdb26a2f0",
            "b7daf2f924ac447e8752162f804c0589",
            "dcc3ec172efe4cb284bb32c1a8c32311",
            "ba92b007ce5e447898b39d99ab82a41f",
            "7a068fe9bdff486390c0d17c57b2da59",
            "d580329407874193b6c53162bcb53c17",
            "fd3c331724ba4e059820efe819e2a9d6",
            "e9afad0e24bb44638fc46c3144a9bc5e",
            "4afaa86d343642aea4873c3d1d2f475a",
            "cc369b24780640fea8e98e0e47f02c8d",
            "b6d8b4cea25c45e2bcefd8acedafa262",
            "306dced1df6342718af19a337a7bd193",
            "3b9bcf4fa3424b71b0122aad9cf335fe",
            "49f012d2487a4034bee6db219cbfb104",
            "edbfb6f29b17492fa7289474adb602fc",
            "0b0fd1c403b24323b761e750cb812657",
            "8b2343c227fd49bca89dd82f849e1221",
            "12681e306cdd4c3bbc4dadf2a2db196e",
            "9d8bf48bce444033a59cfff6b1784970",
            "5bc3bbdcc9014826bb8fa92a2be61329",
            "892ddd6fc20745409bbf4ead04e84ab5",
            "82885dbab263417599aa783d470b6194",
            "826d1dc3218148d4be1f191277987881",
            "2b4bf98c98b34a1082debb76442025cc",
            "98f78855fa674f6a8c73dc7eb1e0ba32"
          ]
        },
        "id": "6gP-jW80_SWu",
        "outputId": "322351c3-3912-41a5-d878-bc6babea852e"
      },
      "execution_count": null,
      "outputs": [
        {
          "output_type": "display_data",
          "data": {
            "text/plain": [
              "Downloading readme:   0%|          | 0.00/10.5k [00:00<?, ?B/s]"
            ],
            "application/vnd.jupyter.widget-view+json": {
              "version_major": 2,
              "version_minor": 0,
              "model_id": "c06956738325428486ef5b42c47e6129"
            }
          },
          "metadata": {}
        },
        {
          "output_type": "stream",
          "name": "stdout",
          "text": [
            "Downloading and preparing dataset json/lewtun--github-issues to /root/.cache/huggingface/datasets/lewtun___json/lewtun--github-issues-cff5093ecc410ea2/0.0.0/e347ab1c932092252e717ff3f949105a4dd28b27e842dd53157d2f72e276c2e4...\n"
          ]
        },
        {
          "output_type": "display_data",
          "data": {
            "text/plain": [
              "Downloading data files:   0%|          | 0/1 [00:00<?, ?it/s]"
            ],
            "application/vnd.jupyter.widget-view+json": {
              "version_major": 2,
              "version_minor": 0,
              "model_id": "c8ae3f0cde7a4e9d92f87863b30eb8a8"
            }
          },
          "metadata": {}
        },
        {
          "output_type": "display_data",
          "data": {
            "text/plain": [
              "Downloading data:   0%|          | 0.00/12.2M [00:00<?, ?B/s]"
            ],
            "application/vnd.jupyter.widget-view+json": {
              "version_major": 2,
              "version_minor": 0,
              "model_id": "f551c9824adc4f15804142b24a86bbbb"
            }
          },
          "metadata": {}
        },
        {
          "output_type": "display_data",
          "data": {
            "text/plain": [
              "Extracting data files:   0%|          | 0/1 [00:00<?, ?it/s]"
            ],
            "application/vnd.jupyter.widget-view+json": {
              "version_major": 2,
              "version_minor": 0,
              "model_id": "ba92b007ce5e447898b39d99ab82a41f"
            }
          },
          "metadata": {}
        },
        {
          "output_type": "display_data",
          "data": {
            "text/plain": [
              "Generating train split: 0 examples [00:00, ? examples/s]"
            ],
            "application/vnd.jupyter.widget-view+json": {
              "version_major": 2,
              "version_minor": 0,
              "model_id": "edbfb6f29b17492fa7289474adb602fc"
            }
          },
          "metadata": {}
        },
        {
          "output_type": "stream",
          "name": "stdout",
          "text": [
            "Dataset json downloaded and prepared to /root/.cache/huggingface/datasets/lewtun___json/lewtun--github-issues-cff5093ecc410ea2/0.0.0/e347ab1c932092252e717ff3f949105a4dd28b27e842dd53157d2f72e276c2e4. Subsequent calls will reuse this data.\n"
          ]
        },
        {
          "output_type": "execute_result",
          "data": {
            "text/plain": [
              "Dataset({\n",
              "    features: ['url', 'repository_url', 'labels_url', 'comments_url', 'events_url', 'html_url', 'id', 'node_id', 'number', 'title', 'user', 'labels', 'state', 'locked', 'assignee', 'assignees', 'milestone', 'comments', 'created_at', 'updated_at', 'closed_at', 'author_association', 'active_lock_reason', 'pull_request', 'body', 'timeline_url', 'performed_via_github_app', 'is_pull_request'],\n",
              "    num_rows: 3019\n",
              "})"
            ]
          },
          "metadata": {},
          "execution_count": 4
        }
      ]
    },
    {
      "cell_type": "code",
      "source": [
        "issues_dataset = issues_dataset.filter(\n",
        "    lambda x: (x[\"is_pull_request\"] == False and len(x[\"comments\"]) > 0)\n",
        ")\n",
        "issues_dataset"
      ],
      "metadata": {
        "id": "Gem1sZ6s_eDf",
        "colab": {
          "base_uri": "https://localhost:8080/",
          "height": 233,
          "referenced_widgets": [
            "1cc9d431c436410f9d4808c4c6fa075b",
            "504d4f35d5dc4c3186272b1b0d078a7f",
            "1a5aadcfb94349abb736bf373b494db0",
            "af9173b2698d472397b1e787578c527e",
            "f1205f87fbfc449795c314ed1520ae51",
            "95a1155292534a6d84944e66280bcb2b",
            "d5d624fb450340a79409cf11123f9c7a",
            "c22a3edb87be4de3a6399e07e8cf4059",
            "1b36bddba382422cb97e5566a672f80f",
            "db6ad23156ab43ffa7e7f237f981aef6",
            "bb1dd3c28bac4ef8bdb5b25387821232"
          ]
        },
        "outputId": "d8c57cda-2048-41b3-df4f-28f5fa51a7c3"
      },
      "execution_count": null,
      "outputs": [
        {
          "output_type": "display_data",
          "data": {
            "text/plain": [
              "Filter:   0%|          | 0/3019 [00:00<?, ? examples/s]"
            ],
            "application/vnd.jupyter.widget-view+json": {
              "version_major": 2,
              "version_minor": 0,
              "model_id": "1cc9d431c436410f9d4808c4c6fa075b"
            }
          },
          "metadata": {}
        },
        {
          "output_type": "execute_result",
          "data": {
            "text/plain": [
              "Dataset({\n",
              "    features: ['url', 'repository_url', 'labels_url', 'comments_url', 'events_url', 'html_url', 'id', 'node_id', 'number', 'title', 'user', 'labels', 'state', 'locked', 'assignee', 'assignees', 'milestone', 'comments', 'created_at', 'updated_at', 'closed_at', 'author_association', 'active_lock_reason', 'pull_request', 'body', 'timeline_url', 'performed_via_github_app', 'is_pull_request'],\n",
              "    num_rows: 808\n",
              "})"
            ]
          },
          "metadata": {},
          "execution_count": 5
        }
      ]
    },
    {
      "cell_type": "code",
      "source": [
        "columns = issues_dataset.column_names\n",
        "columns_to_keep = [\"title\", \"body\", \"html_url\", \"comments\"]\n",
        "columns_to_remove = set(columns_to_keep).symmetric_difference(columns)\n",
        "issues_dataset = issues_dataset.remove_columns(columns_to_remove)\n",
        "issues_dataset"
      ],
      "metadata": {
        "id": "dwVRNodwAY-R",
        "colab": {
          "base_uri": "https://localhost:8080/"
        },
        "outputId": "01f8269a-6ef5-4e68-f3cf-88fee0c0a360"
      },
      "execution_count": null,
      "outputs": [
        {
          "output_type": "execute_result",
          "data": {
            "text/plain": [
              "Dataset({\n",
              "    features: ['html_url', 'title', 'comments', 'body'],\n",
              "    num_rows: 808\n",
              "})"
            ]
          },
          "metadata": {},
          "execution_count": 6
        }
      ]
    },
    {
      "cell_type": "code",
      "source": [
        "issues_dataset.set_format(\"pandas\")\n",
        "df = issues_dataset[:]"
      ],
      "metadata": {
        "id": "UMTXROd3Ccnx"
      },
      "execution_count": null,
      "outputs": []
    },
    {
      "cell_type": "code",
      "source": [
        "df[\"comments\"][0].tolist()"
      ],
      "metadata": {
        "id": "6yK-M-nPDwHS",
        "colab": {
          "base_uri": "https://localhost:8080/"
        },
        "outputId": "33482a27-0564-4323-d8d3-6e3ad37843b2"
      },
      "execution_count": null,
      "outputs": [
        {
          "output_type": "execute_result",
          "data": {
            "text/plain": [
              "['Cool, I think we can do both :)',\n",
              " '@lhoestq now the 2 are implemented.\\r\\n\\r\\nPlease note that for the the second protection, finally I have chosen to protect the master branch only from **merge commits** (see update comment above), so no need to disable/re-enable the protection on each release (direct commits, different from merge commits, can be pushed to the remote master branch; and eventually reverted without messing up the repo history).']"
            ]
          },
          "metadata": {},
          "execution_count": 8
        }
      ]
    },
    {
      "cell_type": "code",
      "source": [
        "comments_df = df.explode(\"comments\", ignore_index=True)\n",
        "comments_df.head(4)"
      ],
      "metadata": {
        "id": "U9Wk5s_cEQcq",
        "colab": {
          "base_uri": "https://localhost:8080/",
          "height": 441
        },
        "outputId": "478ffaab-4b64-4952-fbc5-ed91db7b089e"
      },
      "execution_count": null,
      "outputs": [
        {
          "output_type": "execute_result",
          "data": {
            "text/plain": [
              "                                            html_url  \\\n",
              "0  https://github.com/huggingface/datasets/issues...   \n",
              "1  https://github.com/huggingface/datasets/issues...   \n",
              "2  https://github.com/huggingface/datasets/issues...   \n",
              "3  https://github.com/huggingface/datasets/issues...   \n",
              "\n",
              "                                               title  \\\n",
              "0                              Protect master branch   \n",
              "1                              Protect master branch   \n",
              "2  Backwards compatibility broken for cached data...   \n",
              "3  Backwards compatibility broken for cached data...   \n",
              "\n",
              "                                            comments  \\\n",
              "0                    Cool, I think we can do both :)   \n",
              "1  @lhoestq now the 2 are implemented.\\r\\n\\r\\nPle...   \n",
              "2  Hi ! I guess the caching mechanism should have...   \n",
              "3  If it's easy enough to implement, then yes ple...   \n",
              "\n",
              "                                                body  \n",
              "0  After accidental merge commit (91c55355b634d0d...  \n",
              "1  After accidental merge commit (91c55355b634d0d...  \n",
              "2  ## Describe the bug\\r\\nAfter upgrading to data...  \n",
              "3  ## Describe the bug\\r\\nAfter upgrading to data...  "
            ],
            "text/html": [
              "\n",
              "  <div id=\"df-5b9188c4-7a47-48cb-ac57-d9d70e186049\">\n",
              "    <div class=\"colab-df-container\">\n",
              "      <div>\n",
              "<style scoped>\n",
              "    .dataframe tbody tr th:only-of-type {\n",
              "        vertical-align: middle;\n",
              "    }\n",
              "\n",
              "    .dataframe tbody tr th {\n",
              "        vertical-align: top;\n",
              "    }\n",
              "\n",
              "    .dataframe thead th {\n",
              "        text-align: right;\n",
              "    }\n",
              "</style>\n",
              "<table border=\"1\" class=\"dataframe\">\n",
              "  <thead>\n",
              "    <tr style=\"text-align: right;\">\n",
              "      <th></th>\n",
              "      <th>html_url</th>\n",
              "      <th>title</th>\n",
              "      <th>comments</th>\n",
              "      <th>body</th>\n",
              "    </tr>\n",
              "  </thead>\n",
              "  <tbody>\n",
              "    <tr>\n",
              "      <th>0</th>\n",
              "      <td>https://github.com/huggingface/datasets/issues...</td>\n",
              "      <td>Protect master branch</td>\n",
              "      <td>Cool, I think we can do both :)</td>\n",
              "      <td>After accidental merge commit (91c55355b634d0d...</td>\n",
              "    </tr>\n",
              "    <tr>\n",
              "      <th>1</th>\n",
              "      <td>https://github.com/huggingface/datasets/issues...</td>\n",
              "      <td>Protect master branch</td>\n",
              "      <td>@lhoestq now the 2 are implemented.\\r\\n\\r\\nPle...</td>\n",
              "      <td>After accidental merge commit (91c55355b634d0d...</td>\n",
              "    </tr>\n",
              "    <tr>\n",
              "      <th>2</th>\n",
              "      <td>https://github.com/huggingface/datasets/issues...</td>\n",
              "      <td>Backwards compatibility broken for cached data...</td>\n",
              "      <td>Hi ! I guess the caching mechanism should have...</td>\n",
              "      <td>## Describe the bug\\r\\nAfter upgrading to data...</td>\n",
              "    </tr>\n",
              "    <tr>\n",
              "      <th>3</th>\n",
              "      <td>https://github.com/huggingface/datasets/issues...</td>\n",
              "      <td>Backwards compatibility broken for cached data...</td>\n",
              "      <td>If it's easy enough to implement, then yes ple...</td>\n",
              "      <td>## Describe the bug\\r\\nAfter upgrading to data...</td>\n",
              "    </tr>\n",
              "  </tbody>\n",
              "</table>\n",
              "</div>\n",
              "      <button class=\"colab-df-convert\" onclick=\"convertToInteractive('df-5b9188c4-7a47-48cb-ac57-d9d70e186049')\"\n",
              "              title=\"Convert this dataframe to an interactive table.\"\n",
              "              style=\"display:none;\">\n",
              "        \n",
              "  <svg xmlns=\"http://www.w3.org/2000/svg\" height=\"24px\"viewBox=\"0 0 24 24\"\n",
              "       width=\"24px\">\n",
              "    <path d=\"M0 0h24v24H0V0z\" fill=\"none\"/>\n",
              "    <path d=\"M18.56 5.44l.94 2.06.94-2.06 2.06-.94-2.06-.94-.94-2.06-.94 2.06-2.06.94zm-11 1L8.5 8.5l.94-2.06 2.06-.94-2.06-.94L8.5 2.5l-.94 2.06-2.06.94zm10 10l.94 2.06.94-2.06 2.06-.94-2.06-.94-.94-2.06-.94 2.06-2.06.94z\"/><path d=\"M17.41 7.96l-1.37-1.37c-.4-.4-.92-.59-1.43-.59-.52 0-1.04.2-1.43.59L10.3 9.45l-7.72 7.72c-.78.78-.78 2.05 0 2.83L4 21.41c.39.39.9.59 1.41.59.51 0 1.02-.2 1.41-.59l7.78-7.78 2.81-2.81c.8-.78.8-2.07 0-2.86zM5.41 20L4 18.59l7.72-7.72 1.47 1.35L5.41 20z\"/>\n",
              "  </svg>\n",
              "      </button>\n",
              "      \n",
              "  <style>\n",
              "    .colab-df-container {\n",
              "      display:flex;\n",
              "      flex-wrap:wrap;\n",
              "      gap: 12px;\n",
              "    }\n",
              "\n",
              "    .colab-df-convert {\n",
              "      background-color: #E8F0FE;\n",
              "      border: none;\n",
              "      border-radius: 50%;\n",
              "      cursor: pointer;\n",
              "      display: none;\n",
              "      fill: #1967D2;\n",
              "      height: 32px;\n",
              "      padding: 0 0 0 0;\n",
              "      width: 32px;\n",
              "    }\n",
              "\n",
              "    .colab-df-convert:hover {\n",
              "      background-color: #E2EBFA;\n",
              "      box-shadow: 0px 1px 2px rgba(60, 64, 67, 0.3), 0px 1px 3px 1px rgba(60, 64, 67, 0.15);\n",
              "      fill: #174EA6;\n",
              "    }\n",
              "\n",
              "    [theme=dark] .colab-df-convert {\n",
              "      background-color: #3B4455;\n",
              "      fill: #D2E3FC;\n",
              "    }\n",
              "\n",
              "    [theme=dark] .colab-df-convert:hover {\n",
              "      background-color: #434B5C;\n",
              "      box-shadow: 0px 1px 3px 1px rgba(0, 0, 0, 0.15);\n",
              "      filter: drop-shadow(0px 1px 2px rgba(0, 0, 0, 0.3));\n",
              "      fill: #FFFFFF;\n",
              "    }\n",
              "  </style>\n",
              "\n",
              "      <script>\n",
              "        const buttonEl =\n",
              "          document.querySelector('#df-5b9188c4-7a47-48cb-ac57-d9d70e186049 button.colab-df-convert');\n",
              "        buttonEl.style.display =\n",
              "          google.colab.kernel.accessAllowed ? 'block' : 'none';\n",
              "\n",
              "        async function convertToInteractive(key) {\n",
              "          const element = document.querySelector('#df-5b9188c4-7a47-48cb-ac57-d9d70e186049');\n",
              "          const dataTable =\n",
              "            await google.colab.kernel.invokeFunction('convertToInteractive',\n",
              "                                                     [key], {});\n",
              "          if (!dataTable) return;\n",
              "\n",
              "          const docLinkHtml = 'Like what you see? Visit the ' +\n",
              "            '<a target=\"_blank\" href=https://colab.research.google.com/notebooks/data_table.ipynb>data table notebook</a>'\n",
              "            + ' to learn more about interactive tables.';\n",
              "          element.innerHTML = '';\n",
              "          dataTable['output_type'] = 'display_data';\n",
              "          await google.colab.output.renderOutput(dataTable, element);\n",
              "          const docLink = document.createElement('div');\n",
              "          docLink.innerHTML = docLinkHtml;\n",
              "          element.appendChild(docLink);\n",
              "        }\n",
              "      </script>\n",
              "    </div>\n",
              "  </div>\n",
              "  "
            ]
          },
          "metadata": {},
          "execution_count": 9
        }
      ]
    },
    {
      "cell_type": "code",
      "source": [
        "from datasets import Dataset\n",
        "\n",
        "comments_dataset = Dataset.from_pandas(comments_df)\n",
        "comments_dataset"
      ],
      "metadata": {
        "id": "uXt-dyScFM7I",
        "colab": {
          "base_uri": "https://localhost:8080/"
        },
        "outputId": "e3ce1c4e-0971-4145-f904-22c69a73a0c6"
      },
      "execution_count": null,
      "outputs": [
        {
          "output_type": "execute_result",
          "data": {
            "text/plain": [
              "Dataset({\n",
              "    features: ['html_url', 'title', 'comments', 'body'],\n",
              "    num_rows: 2964\n",
              "})"
            ]
          },
          "metadata": {},
          "execution_count": 10
        }
      ]
    },
    {
      "cell_type": "code",
      "source": [
        "comments_dataset = comments_dataset.map(\n",
        "    lambda x: {\"comment_length\": len(x[\"comments\"].split())}\n",
        ")"
      ],
      "metadata": {
        "id": "2F8kA4K-GAFu",
        "colab": {
          "base_uri": "https://localhost:8080/",
          "height": 17,
          "referenced_widgets": [
            "a376c44ed2824854abb842f8e4cbd4db",
            "fdfa3ecc74c642f5adefae32ccf18816",
            "bd545233167f483c903430555e0f4df2",
            "36a6915a6a59492db0f399a4121c13f1",
            "d8714aed971c47a693857fdbd4a845a2",
            "96eb6547734a4aaa982e832a4a7b13fb",
            "c321dad974874f3da53e9980b1c27557",
            "9be95c39852b4847ba2691272bd79458",
            "631a285f4bb749efbf61809ec4651ea2",
            "75bbd6b4500a401895cefcbb82f7980f",
            "d95a574737b446ae805006e9e53dd628"
          ]
        },
        "outputId": "2354949b-28cb-4807-caec-45cebb3d4d77"
      },
      "execution_count": null,
      "outputs": [
        {
          "output_type": "display_data",
          "data": {
            "text/plain": [
              "Map:   0%|          | 0/2964 [00:00<?, ? examples/s]"
            ],
            "application/vnd.jupyter.widget-view+json": {
              "version_major": 2,
              "version_minor": 0,
              "model_id": "a376c44ed2824854abb842f8e4cbd4db"
            }
          },
          "metadata": {}
        }
      ]
    },
    {
      "cell_type": "code",
      "source": [
        "comments_dataset = comments_dataset.filter(lambda x: x[\"comment_length\"] > 15)\n",
        "comments_dataset"
      ],
      "metadata": {
        "id": "MAGiAXXRHZhX",
        "colab": {
          "base_uri": "https://localhost:8080/",
          "height": 107,
          "referenced_widgets": [
            "828c5a8d67d842b6ab45247359053ff0",
            "a7fe3d1770aa4a298b469cedd58a2ecd",
            "cf20c572fd44403487f6f1b83fb0a55c",
            "bde700bec7404beda3aa9be60f2957c2",
            "8f75ec5525c64ef3bc1ba64246359f2e",
            "51623326675a4d228bee078b9317ae75",
            "3cc12957a05f48c1a11f6552f3e2db75",
            "2bba310233ab4209901ad3593b3a2299",
            "caa21ea21b1a43d7894c9ce9d3df1c25",
            "cca6b2dd7bba4571b66011a1e3cb7dab",
            "0ea15cc1427c428f90aa3f256e0709f4"
          ]
        },
        "outputId": "838cec1f-8e08-468b-ce9d-7df7dcab019f"
      },
      "execution_count": null,
      "outputs": [
        {
          "output_type": "display_data",
          "data": {
            "text/plain": [
              "Filter:   0%|          | 0/2964 [00:00<?, ? examples/s]"
            ],
            "application/vnd.jupyter.widget-view+json": {
              "version_major": 2,
              "version_minor": 0,
              "model_id": "828c5a8d67d842b6ab45247359053ff0"
            }
          },
          "metadata": {}
        },
        {
          "output_type": "execute_result",
          "data": {
            "text/plain": [
              "Dataset({\n",
              "    features: ['html_url', 'title', 'comments', 'body', 'comment_length'],\n",
              "    num_rows: 2175\n",
              "})"
            ]
          },
          "metadata": {},
          "execution_count": 12
        }
      ]
    },
    {
      "cell_type": "code",
      "source": [
        "def concatenate_text(examples):\n",
        "  return {\n",
        "      \"text\": examples[\"title\"]\n",
        "      + \"\\n\"\n",
        "      + examples[\"body\"]\n",
        "      + \"\\n\"\n",
        "      + examples[\"comments\"]\n",
        "  }\n",
        "\n",
        "\n",
        "\n",
        "\n",
        "comments_dataset = comments_dataset.map(concatenate_text)"
      ],
      "metadata": {
        "id": "N_WI-hDZJpjo",
        "colab": {
          "base_uri": "https://localhost:8080/",
          "height": 17,
          "referenced_widgets": [
            "7ab84c178a8a4241ab58d32290860859",
            "780f0af5daf74a6e8eaa3cc5be5d9bc7",
            "55051e1957b044ab85264db94f0aa4ef",
            "963765034a664088855d9714a276c551",
            "47a2bc8ddd3c42e185bad550c0c466a5",
            "8801a3e7843f4b389dff1e9299fcea9f",
            "50a6636de5e44d0dbc359fee1035c787",
            "c0b8d0eff5c04ed3bdcd25bd376c71f0",
            "f1dda3f20bc643dcbc6c23f8b3b63521",
            "08459b3947b94a1c81690f2148a11e20",
            "bfb37518b2a34626b1e5c7b96984e92d"
          ]
        },
        "outputId": "2f3f8b31-add9-405e-8095-94e1c5a63b01"
      },
      "execution_count": null,
      "outputs": [
        {
          "output_type": "display_data",
          "data": {
            "text/plain": [
              "Map:   0%|          | 0/2175 [00:00<?, ? examples/s]"
            ],
            "application/vnd.jupyter.widget-view+json": {
              "version_major": 2,
              "version_minor": 0,
              "model_id": "7ab84c178a8a4241ab58d32290860859"
            }
          },
          "metadata": {}
        }
      ]
    },
    {
      "cell_type": "markdown",
      "source": [
        "Creating text embeddings"
      ],
      "metadata": {
        "id": "EkdZzCnHKaL_"
      }
    },
    {
      "cell_type": "code",
      "source": [
        "from transformers import AutoTokenizer, AutoModel\n",
        "\n",
        "model_ckpt = \"sentence-transformers/multi-qa-mpnet-base-dot-v1\"\n",
        "tokenizer = AutoTokenizer.from_pretrained(model_ckpt)\n",
        "model = AutoModel.from_pretrained(model_ckpt)"
      ],
      "metadata": {
        "id": "feslHEHoLlTC",
        "colab": {
          "base_uri": "https://localhost:8080/",
          "height": 545,
          "referenced_widgets": [
            "20f665826947476699b78068c9c5cc68",
            "298ed6dd1e234923884784396f836227",
            "7232dc8901324044b2fb1a426d84cba9",
            "4e4ed9a191fc483d9c6fa8c515c1bc78",
            "c10cfb270db1421faa0c239a2ca2fe85",
            "798999bbcc624ee1bd10eb9996c4b74f",
            "4d3177fe7885442c861b92cf3084a8d7",
            "80c0ad742d4e4c2d868d65ddcd836318",
            "0f5a8bd0309f4ce590239d963f24c4a8",
            "fb18c54a8f5b4088becac5be906e3ce8",
            "7303ae2afdbe4a279824c94af5ffc14e",
            "02ad3906d14146e289378cb39c7bdfc3",
            "b46cbc7806d14d738631621ca73890e5",
            "53ec3fcae03d46c6893af62a129b7278",
            "eba65d6c02b04d8786df0bb3b063337e",
            "9f3577b5c71a42818fdd5ac0fc474b90",
            "5094ae0eb19943d4857536d5ed2d9d66",
            "421334b379c34f0e97ec9a427c554840",
            "42ef1b666a96456bbf9340e36b46a923",
            "cdddc78f06714c8f9b977facc17832ff",
            "e6fe41e1408848c9b6819bf165a1ca6f",
            "07c269b6b621430a903b3a72bb6e25af",
            "c4a2930497724925b11ccee0edd0e672",
            "a12f28f9f90f40f4a4f03d613b44a63e",
            "1697ded231894b73ad750a68b5ef738b",
            "5f6b7b85eeb24314996df9b30f26cad7",
            "be5dce174e30496fbb2643acb80c127f",
            "85e57ab5262443a5a15776b658687cb2",
            "6ccf7f6762b748ce8fbf318f1291b847",
            "de76325662594dcf8d9d278a61557cd8",
            "9c0b76f3bb1b4ce7be2ea51193a7abb3",
            "5322a48fafb3430ea4943a684f37a8e5",
            "4cee1bc286f3469baf606945a5b53d42",
            "2cf99a47401e49ccba6ab505fc1dbb5b",
            "e2e68b55f0494ed0a3bf847268e03874",
            "bd0394c492a940eb8828a5b9d67e6920",
            "cf16e0ee3edb48baaffa4c5935ea0be1",
            "b4aed9d154cf465bb1ff7b63c7ecad70",
            "59bef8e1510347a2aa91739eec212d4a",
            "1cbee260bb3c4b6f8ac1fccb5b127cd0",
            "acdf5e7187ff41439eab39e49898d80c",
            "c5f52803100b46d4921dbb863bdedab4",
            "9154a9c79bb54a89aa18781ee4b49153",
            "16cce047753749b6bd98d6272fb5b085",
            "5ffe0b14ff4f4c35bcea40af30c875de",
            "21d2ec8b16364febaf7777ae9e018100",
            "a13aeabaeeb1422189c9573b1a3354b7",
            "05d4a3ad9a594baea69833226bb047fc",
            "dafeadbb613f429b95b7338601d00471",
            "bb4e46d47815463eae8998e2f6cba045",
            "63515fdde96a470cbd5465c74ba6510d",
            "c98e937f282e400a9e4348422aaaa600",
            "9e8e7f7acefd4ecb89bc4c7b2820973f",
            "bd04f3623cd64a6a9dd797c84997ecd3",
            "265f9558fcef4cb8b9272ad3061a007b",
            "416f66eaea8f40caa97ccd32bb7086f0",
            "da9e87bdcf2346e49801ea5683472be2",
            "6aaef39f77f448a5b5d3ab4147f01c92",
            "9f97a59b30d34390bdcebc419524a968",
            "0497e660c9cf4356aa8220f0799a2e06",
            "d379160919414dfba2ae34337155533b",
            "f919e6ac2c1847b987dba47040475c8a",
            "3ec0a63426474a56888e577a5031d4a1",
            "fe9895d6b556410885f5a5817597b833",
            "627e7d20df694b7693ea82a83e7345f9",
            "4d087f371a9a4ef1bb89104aeb9dd481"
          ]
        },
        "outputId": "ad19f773-5c6e-421a-955c-ae705af56d7f"
      },
      "execution_count": null,
      "outputs": [
        {
          "output_type": "display_data",
          "data": {
            "text/plain": [
              "Downloading (…)okenizer_config.json:   0%|          | 0.00/363 [00:00<?, ?B/s]"
            ],
            "application/vnd.jupyter.widget-view+json": {
              "version_major": 2,
              "version_minor": 0,
              "model_id": "20f665826947476699b78068c9c5cc68"
            }
          },
          "metadata": {}
        },
        {
          "output_type": "display_data",
          "data": {
            "text/plain": [
              "Downloading (…)solve/main/vocab.txt:   0%|          | 0.00/232k [00:00<?, ?B/s]"
            ],
            "application/vnd.jupyter.widget-view+json": {
              "version_major": 2,
              "version_minor": 0,
              "model_id": "02ad3906d14146e289378cb39c7bdfc3"
            }
          },
          "metadata": {}
        },
        {
          "output_type": "display_data",
          "data": {
            "text/plain": [
              "Downloading (…)/main/tokenizer.json:   0%|          | 0.00/466k [00:00<?, ?B/s]"
            ],
            "application/vnd.jupyter.widget-view+json": {
              "version_major": 2,
              "version_minor": 0,
              "model_id": "c4a2930497724925b11ccee0edd0e672"
            }
          },
          "metadata": {}
        },
        {
          "output_type": "display_data",
          "data": {
            "text/plain": [
              "Downloading (…)cial_tokens_map.json:   0%|          | 0.00/239 [00:00<?, ?B/s]"
            ],
            "application/vnd.jupyter.widget-view+json": {
              "version_major": 2,
              "version_minor": 0,
              "model_id": "2cf99a47401e49ccba6ab505fc1dbb5b"
            }
          },
          "metadata": {}
        },
        {
          "output_type": "display_data",
          "data": {
            "text/plain": [
              "Downloading (…)lve/main/config.json:   0%|          | 0.00/571 [00:00<?, ?B/s]"
            ],
            "application/vnd.jupyter.widget-view+json": {
              "version_major": 2,
              "version_minor": 0,
              "model_id": "5ffe0b14ff4f4c35bcea40af30c875de"
            }
          },
          "metadata": {}
        },
        {
          "output_type": "display_data",
          "data": {
            "text/plain": [
              "Downloading pytorch_model.bin:   0%|          | 0.00/438M [00:00<?, ?B/s]"
            ],
            "application/vnd.jupyter.widget-view+json": {
              "version_major": 2,
              "version_minor": 0,
              "model_id": "416f66eaea8f40caa97ccd32bb7086f0"
            }
          },
          "metadata": {}
        }
      ]
    },
    {
      "cell_type": "code",
      "source": [
        "import torch\n",
        "\n",
        "device = torch.device(\"cuda\")\n",
        "model.to(device)"
      ],
      "metadata": {
        "id": "AFeWXFB1MxT1",
        "colab": {
          "base_uri": "https://localhost:8080/"
        },
        "outputId": "76808459-689f-437d-f4a7-b350a6d7465c"
      },
      "execution_count": null,
      "outputs": [
        {
          "output_type": "execute_result",
          "data": {
            "text/plain": [
              "MPNetModel(\n",
              "  (embeddings): MPNetEmbeddings(\n",
              "    (word_embeddings): Embedding(30527, 768, padding_idx=1)\n",
              "    (position_embeddings): Embedding(514, 768, padding_idx=1)\n",
              "    (LayerNorm): LayerNorm((768,), eps=1e-05, elementwise_affine=True)\n",
              "    (dropout): Dropout(p=0.1, inplace=False)\n",
              "  )\n",
              "  (encoder): MPNetEncoder(\n",
              "    (layer): ModuleList(\n",
              "      (0-11): 12 x MPNetLayer(\n",
              "        (attention): MPNetAttention(\n",
              "          (attn): MPNetSelfAttention(\n",
              "            (q): Linear(in_features=768, out_features=768, bias=True)\n",
              "            (k): Linear(in_features=768, out_features=768, bias=True)\n",
              "            (v): Linear(in_features=768, out_features=768, bias=True)\n",
              "            (o): Linear(in_features=768, out_features=768, bias=True)\n",
              "            (dropout): Dropout(p=0.1, inplace=False)\n",
              "          )\n",
              "          (LayerNorm): LayerNorm((768,), eps=1e-05, elementwise_affine=True)\n",
              "          (dropout): Dropout(p=0.1, inplace=False)\n",
              "        )\n",
              "        (intermediate): MPNetIntermediate(\n",
              "          (dense): Linear(in_features=768, out_features=3072, bias=True)\n",
              "          (intermediate_act_fn): GELUActivation()\n",
              "        )\n",
              "        (output): MPNetOutput(\n",
              "          (dense): Linear(in_features=3072, out_features=768, bias=True)\n",
              "          (LayerNorm): LayerNorm((768,), eps=1e-05, elementwise_affine=True)\n",
              "          (dropout): Dropout(p=0.1, inplace=False)\n",
              "        )\n",
              "      )\n",
              "    )\n",
              "    (relative_attention_bias): Embedding(32, 12)\n",
              "  )\n",
              "  (pooler): MPNetPooler(\n",
              "    (dense): Linear(in_features=768, out_features=768, bias=True)\n",
              "    (activation): Tanh()\n",
              "  )\n",
              ")"
            ]
          },
          "metadata": {},
          "execution_count": 15
        }
      ]
    },
    {
      "cell_type": "code",
      "source": [
        "def cls_pooling(model_output):\n",
        "    return model_output.last_hidden_state[:, 0]"
      ],
      "metadata": {
        "id": "PGP8oqi3NVZR"
      },
      "execution_count": null,
      "outputs": []
    },
    {
      "cell_type": "code",
      "source": [
        "def get_embeddings(text_list):\n",
        "    encoded_input = tokenizer(\n",
        "        text_list, padding=True, truncation=True, return_tensors=\"pt\"\n",
        "    )\n",
        "    encoded_input = {k: v.to(device) for k, v in encoded_input.items()}\n",
        "    model_output = model(**encoded_input)\n",
        "    return cls_pooling(model_output)"
      ],
      "metadata": {
        "id": "ZepwFpsZOoEa"
      },
      "execution_count": null,
      "outputs": []
    },
    {
      "cell_type": "code",
      "source": [
        "embedding = get_embeddings(comments_dataset[\"text\"][0])\n",
        "embedding.shape"
      ],
      "metadata": {
        "id": "Yl5mNUWtPHWW",
        "colab": {
          "base_uri": "https://localhost:8080/"
        },
        "outputId": "b206aa13-f911-430b-848a-78f4a2cde631"
      },
      "execution_count": null,
      "outputs": [
        {
          "output_type": "execute_result",
          "data": {
            "text/plain": [
              "torch.Size([1, 768])"
            ]
          },
          "metadata": {},
          "execution_count": 28
        }
      ]
    },
    {
      "cell_type": "code",
      "source": [
        "embeddings_dataset = comments_dataset.map(\n",
        "    lambda x: {\"embeddings\": get_embeddings(x[\"text\"]).detach().cpu().numpy()[0]}\n",
        ")"
      ],
      "metadata": {
        "colab": {
          "base_uri": "https://localhost:8080/",
          "height": 17,
          "referenced_widgets": [
            "fb23723de6bd40ef843a3dd9319b14a7",
            "b704fd8999b543308b3eaba83ff548d7",
            "4edb30256d9144d3a4c9d0de649d3208",
            "a8e7ab96deba4a25b23799f3713573c7",
            "26b6a6335dea4527b8df676f9690dd26",
            "2874356fc4124b3db3e7ec8f1bff0804",
            "7612064ac7da4d2096bd301600cb3a02",
            "3ceb94705a1e413db938444d10da13b3",
            "08ae9cfb8af3432b99322a572069a97f",
            "02fb1888745246e9a39158dc5e2bebf6",
            "ac2ce5ebeb334c778a3fac9c660c3e42"
          ]
        },
        "id": "epv8trLubxQW",
        "outputId": "bf931af9-5f49-43a8-90ec-bc706dc4d6ee"
      },
      "execution_count": null,
      "outputs": [
        {
          "output_type": "display_data",
          "data": {
            "text/plain": [
              "Map:   0%|          | 0/2175 [00:00<?, ? examples/s]"
            ],
            "application/vnd.jupyter.widget-view+json": {
              "version_major": 2,
              "version_minor": 0,
              "model_id": "fb23723de6bd40ef843a3dd9319b14a7"
            }
          },
          "metadata": {}
        }
      ]
    },
    {
      "cell_type": "markdown",
      "source": [
        "Using FAISS for efficient similarity search"
      ],
      "metadata": {
        "id": "1EXFq0ncdcYx"
      }
    },
    {
      "cell_type": "code",
      "source": [
        "embeddings_dataset.add_faiss_index(column=\"embeddings\")"
      ],
      "metadata": {
        "colab": {
          "base_uri": "https://localhost:8080/",
          "height": 167,
          "referenced_widgets": [
            "e98a15630a29400ea6992223db78ba49",
            "569a0eabd41e4acaaa61a10d93a667c6",
            "30fbdf43d6634760b346f5019e5c6757",
            "52f3274e9929409891547feea0638a2b",
            "d7daad1495b846a491cc747efe903a68",
            "cebecdfb3e5c412d86abf86d286a8a7d",
            "050236d8d1bd409fbaca5ad088a282cd",
            "7f1eb626c5654d2f92a10936bc36475d",
            "27f7765d072a48c6a874b5ccfb83f78f",
            "cc3e44d0788d4fc29087c0cb84ae8809",
            "41cf001c8939499191e0b106f1582036"
          ]
        },
        "id": "3ZQeMQRxeDur",
        "outputId": "14672eff-3417-437e-8320-68e1218a5d7e"
      },
      "execution_count": null,
      "outputs": [
        {
          "output_type": "display_data",
          "data": {
            "text/plain": [
              "  0%|          | 0/3 [00:00<?, ?it/s]"
            ],
            "application/vnd.jupyter.widget-view+json": {
              "version_major": 2,
              "version_minor": 0,
              "model_id": "e98a15630a29400ea6992223db78ba49"
            }
          },
          "metadata": {}
        },
        {
          "output_type": "execute_result",
          "data": {
            "text/plain": [
              "Dataset({\n",
              "    features: ['html_url', 'title', 'comments', 'body', 'comment_length', 'text', 'embeddings'],\n",
              "    num_rows: 2175\n",
              "})"
            ]
          },
          "metadata": {},
          "execution_count": 32
        }
      ]
    },
    {
      "cell_type": "code",
      "source": [
        "question = \"How can I load a dataset offline?\"\n",
        "question_embedding = get_embeddings([question]).cpu().detach().numpy()\n",
        "question_embedding.shape"
      ],
      "metadata": {
        "colab": {
          "base_uri": "https://localhost:8080/"
        },
        "id": "b1_oF1VveZVe",
        "outputId": "7c6c0596-8b5e-4bc5-cbb7-e1c98de8caa8"
      },
      "execution_count": null,
      "outputs": [
        {
          "output_type": "execute_result",
          "data": {
            "text/plain": [
              "(1, 768)"
            ]
          },
          "metadata": {},
          "execution_count": 34
        }
      ]
    },
    {
      "cell_type": "code",
      "source": [
        "scores, samples = embeddings_dataset.get_nearest_examples(\n",
        "    \"embeddings\", question_embedding, k=5\n",
        ")"
      ],
      "metadata": {
        "id": "IZXjxCDPfMJ5"
      },
      "execution_count": null,
      "outputs": []
    },
    {
      "cell_type": "code",
      "source": [
        "import pandas as pd\n",
        "\n",
        "samples_df = pd.DataFrame.from_dict(samples)\n",
        "samples_df[\"scores\"] = scores\n",
        "samples_df.sort_values(\"scores\", ascending=False, inplace=True)"
      ],
      "metadata": {
        "id": "GuGteriafnCK"
      },
      "execution_count": null,
      "outputs": []
    },
    {
      "cell_type": "code",
      "source": [
        "for _, row in samples_df.iterrows():\n",
        "  print(f\"COMMENT: {row.comments}\")\n",
        "  print(f\"SCORE: {row.scores}\")\n",
        "  print(f\"TITLE: {row.title}\")\n",
        "  print(f\"URL: {row.html_url}\")\n",
        "  print(\"=\" * 50)\n",
        "  print()"
      ],
      "metadata": {
        "colab": {
          "base_uri": "https://localhost:8080/"
        },
        "id": "q8wtrDZtf9lR",
        "outputId": "5d66e7ff-dbdc-415b-cc9d-bc63ceda4d26"
      },
      "execution_count": null,
      "outputs": [
        {
          "output_type": "stream",
          "name": "stdout",
          "text": [
            "COMMENT: Requiring online connection is a deal breaker in some cases unfortunately so it'd be great if offline mode is added similar to how `transformers` loads models offline fine.\r\n",
            "\r\n",
            "@mandubian's second bullet point suggests that there's a workaround allowing you to use your offline (custom?) dataset with `datasets`. Could you please elaborate on how that should look like?\n",
            "SCORE: 25.505048751831055\n",
            "TITLE: Discussion using datasets in offline mode\n",
            "URL: https://github.com/huggingface/datasets/issues/824\n",
            "==================================================\n",
            "\n",
            "COMMENT: The local dataset builders (csv, text , json and pandas) are now part of the `datasets` package since #1726 :)\r\n",
            "You can now use them offline\r\n",
            "```python\r\n",
            "datasets = load_dataset('text', data_files=data_files)\r\n",
            "```\r\n",
            "\r\n",
            "We'll do a new release soon\n",
            "SCORE: 24.555553436279297\n",
            "TITLE: Discussion using datasets in offline mode\n",
            "URL: https://github.com/huggingface/datasets/issues/824\n",
            "==================================================\n",
            "\n",
            "COMMENT: I opened a PR that allows to reload modules that have already been loaded once even if there's no internet.\r\n",
            "\r\n",
            "Let me know if you know other ways that can make the offline mode experience better. I'd be happy to add them :) \r\n",
            "\r\n",
            "I already note the \"freeze\" modules option, to prevent local modules updates. It would be a cool feature.\r\n",
            "\r\n",
            "----------\r\n",
            "\r\n",
            "> @mandubian's second bullet point suggests that there's a workaround allowing you to use your offline (custom?) dataset with `datasets`. Could you please elaborate on how that should look like?\r\n",
            "\r\n",
            "Indeed `load_dataset` allows to load remote dataset script (squad, glue, etc.) but also you own local ones.\r\n",
            "For example if you have a dataset script at `./my_dataset/my_dataset.py` then you can do\r\n",
            "```python\r\n",
            "load_dataset(\"./my_dataset\")\r\n",
            "```\r\n",
            "and the dataset script will generate your dataset once and for all.\r\n",
            "\r\n",
            "----------\r\n",
            "\r\n",
            "About I'm looking into having `csv`, `json`, `text`, `pandas` dataset builders already included in the `datasets` package, so that they are available offline by default, as opposed to the other datasets that require the script to be downloaded.\r\n",
            "cf #1724 \n",
            "SCORE: 24.148971557617188\n",
            "TITLE: Discussion using datasets in offline mode\n",
            "URL: https://github.com/huggingface/datasets/issues/824\n",
            "==================================================\n",
            "\n",
            "COMMENT: > here is my way to load a dataset offline, but it **requires** an online machine\n",
            "> \n",
            "> 1. (online machine)\n",
            "> \n",
            "> ```\n",
            "> \n",
            "> import datasets\n",
            "> \n",
            "> data = datasets.load_dataset(...)\n",
            "> \n",
            "> data.save_to_disk(/YOUR/DATASET/DIR)\n",
            "> \n",
            "> ```\n",
            "> \n",
            "> 2. copy the dir from online to the offline machine\n",
            "> \n",
            "> 3. (offline machine)\n",
            "> \n",
            "> ```\n",
            "> \n",
            "> import datasets\n",
            "> \n",
            "> data = datasets.load_from_disk(/SAVED/DATA/DIR)\n",
            "> \n",
            "> ```\n",
            "> \n",
            "> \n",
            "> \n",
            "> HTH.\n",
            "\n",
            "\n",
            "SCORE: 22.89399528503418\n",
            "TITLE: Discussion using datasets in offline mode\n",
            "URL: https://github.com/huggingface/datasets/issues/824\n",
            "==================================================\n",
            "\n",
            "COMMENT: here is my way to load a dataset offline, but it **requires** an online machine\r\n",
            "1. (online machine)\r\n",
            "```\r\n",
            "import datasets\r\n",
            "data = datasets.load_dataset(...)\r\n",
            "data.save_to_disk(/YOUR/DATASET/DIR)\r\n",
            "```\r\n",
            "2. copy the dir from online to the offline machine\r\n",
            "3. (offline machine)\r\n",
            "```\r\n",
            "import datasets\r\n",
            "data = datasets.load_from_disk(/SAVED/DATA/DIR)\r\n",
            "```\r\n",
            "\r\n",
            "HTH.\n",
            "SCORE: 22.406639099121094\n",
            "TITLE: Discussion using datasets in offline mode\n",
            "URL: https://github.com/huggingface/datasets/issues/824\n",
            "==================================================\n",
            "\n"
          ]
        }
      ]
    },
    {
      "cell_type": "markdown",
      "source": [
        "End"
      ],
      "metadata": {
        "id": "CeN2N4D7gsUa"
      }
    }
  ],
  "metadata": {
    "colab": {
      "provenance": [],
      "gpuType": "T4",
      "authorship_tag": "ABX9TyMG+ZxzH7PuxLfKmPxFKtPd",
      "include_colab_link": true
    },
    "kernelspec": {
      "display_name": "Python 3",
      "name": "python3"
    },
    "language_info": {
      "name": "python"
    },
    "widgets": {
      "application/vnd.jupyter.widget-state+json": {
        "c06956738325428486ef5b42c47e6129": {
          "model_module": "@jupyter-widgets/controls",
          "model_name": "HBoxModel",
          "model_module_version": "1.5.0",
          "state": {
            "_dom_classes": [],
            "_model_module": "@jupyter-widgets/controls",
            "_model_module_version": "1.5.0",
            "_model_name": "HBoxModel",
            "_view_count": null,
            "_view_module": "@jupyter-widgets/controls",
            "_view_module_version": "1.5.0",
            "_view_name": "HBoxView",
            "box_style": "",
            "children": [
              "IPY_MODEL_3f7c0933fa21421fb29e0b20728af7bc",
              "IPY_MODEL_8e2ebc3fae3b44f7a1f0c10ec5e944de",
              "IPY_MODEL_85019bc3c407455c99748b2a978730ac"
            ],
            "layout": "IPY_MODEL_344381ce7a684f3aaf86feb28a79c984"
          }
        },
        "3f7c0933fa21421fb29e0b20728af7bc": {
          "model_module": "@jupyter-widgets/controls",
          "model_name": "HTMLModel",
          "model_module_version": "1.5.0",
          "state": {
            "_dom_classes": [],
            "_model_module": "@jupyter-widgets/controls",
            "_model_module_version": "1.5.0",
            "_model_name": "HTMLModel",
            "_view_count": null,
            "_view_module": "@jupyter-widgets/controls",
            "_view_module_version": "1.5.0",
            "_view_name": "HTMLView",
            "description": "",
            "description_tooltip": null,
            "layout": "IPY_MODEL_ac68bcd0e4bd4767bf6bc5d6d2d22a78",
            "placeholder": "​",
            "style": "IPY_MODEL_82219fadcd2941159dc45c56630c0443",
            "value": "Downloading readme: 100%"
          }
        },
        "8e2ebc3fae3b44f7a1f0c10ec5e944de": {
          "model_module": "@jupyter-widgets/controls",
          "model_name": "FloatProgressModel",
          "model_module_version": "1.5.0",
          "state": {
            "_dom_classes": [],
            "_model_module": "@jupyter-widgets/controls",
            "_model_module_version": "1.5.0",
            "_model_name": "FloatProgressModel",
            "_view_count": null,
            "_view_module": "@jupyter-widgets/controls",
            "_view_module_version": "1.5.0",
            "_view_name": "ProgressView",
            "bar_style": "success",
            "description": "",
            "description_tooltip": null,
            "layout": "IPY_MODEL_1c474708e18a42cf878b5a6713b0a710",
            "max": 10502,
            "min": 0,
            "orientation": "horizontal",
            "style": "IPY_MODEL_12b0a80215074031bcebf6190f6d1e1f",
            "value": 10502
          }
        },
        "85019bc3c407455c99748b2a978730ac": {
          "model_module": "@jupyter-widgets/controls",
          "model_name": "HTMLModel",
          "model_module_version": "1.5.0",
          "state": {
            "_dom_classes": [],
            "_model_module": "@jupyter-widgets/controls",
            "_model_module_version": "1.5.0",
            "_model_name": "HTMLModel",
            "_view_count": null,
            "_view_module": "@jupyter-widgets/controls",
            "_view_module_version": "1.5.0",
            "_view_name": "HTMLView",
            "description": "",
            "description_tooltip": null,
            "layout": "IPY_MODEL_702d0c64775a4876a5eb780d67537ef0",
            "placeholder": "​",
            "style": "IPY_MODEL_0c335af86c2a4ccba90d975d1935930e",
            "value": " 10.5k/10.5k [00:00&lt;00:00, 411kB/s]"
          }
        },
        "344381ce7a684f3aaf86feb28a79c984": {
          "model_module": "@jupyter-widgets/base",
          "model_name": "LayoutModel",
          "model_module_version": "1.2.0",
          "state": {
            "_model_module": "@jupyter-widgets/base",
            "_model_module_version": "1.2.0",
            "_model_name": "LayoutModel",
            "_view_count": null,
            "_view_module": "@jupyter-widgets/base",
            "_view_module_version": "1.2.0",
            "_view_name": "LayoutView",
            "align_content": null,
            "align_items": null,
            "align_self": null,
            "border": null,
            "bottom": null,
            "display": null,
            "flex": null,
            "flex_flow": null,
            "grid_area": null,
            "grid_auto_columns": null,
            "grid_auto_flow": null,
            "grid_auto_rows": null,
            "grid_column": null,
            "grid_gap": null,
            "grid_row": null,
            "grid_template_areas": null,
            "grid_template_columns": null,
            "grid_template_rows": null,
            "height": null,
            "justify_content": null,
            "justify_items": null,
            "left": null,
            "margin": null,
            "max_height": null,
            "max_width": null,
            "min_height": null,
            "min_width": null,
            "object_fit": null,
            "object_position": null,
            "order": null,
            "overflow": null,
            "overflow_x": null,
            "overflow_y": null,
            "padding": null,
            "right": null,
            "top": null,
            "visibility": null,
            "width": null
          }
        },
        "ac68bcd0e4bd4767bf6bc5d6d2d22a78": {
          "model_module": "@jupyter-widgets/base",
          "model_name": "LayoutModel",
          "model_module_version": "1.2.0",
          "state": {
            "_model_module": "@jupyter-widgets/base",
            "_model_module_version": "1.2.0",
            "_model_name": "LayoutModel",
            "_view_count": null,
            "_view_module": "@jupyter-widgets/base",
            "_view_module_version": "1.2.0",
            "_view_name": "LayoutView",
            "align_content": null,
            "align_items": null,
            "align_self": null,
            "border": null,
            "bottom": null,
            "display": null,
            "flex": null,
            "flex_flow": null,
            "grid_area": null,
            "grid_auto_columns": null,
            "grid_auto_flow": null,
            "grid_auto_rows": null,
            "grid_column": null,
            "grid_gap": null,
            "grid_row": null,
            "grid_template_areas": null,
            "grid_template_columns": null,
            "grid_template_rows": null,
            "height": null,
            "justify_content": null,
            "justify_items": null,
            "left": null,
            "margin": null,
            "max_height": null,
            "max_width": null,
            "min_height": null,
            "min_width": null,
            "object_fit": null,
            "object_position": null,
            "order": null,
            "overflow": null,
            "overflow_x": null,
            "overflow_y": null,
            "padding": null,
            "right": null,
            "top": null,
            "visibility": null,
            "width": null
          }
        },
        "82219fadcd2941159dc45c56630c0443": {
          "model_module": "@jupyter-widgets/controls",
          "model_name": "DescriptionStyleModel",
          "model_module_version": "1.5.0",
          "state": {
            "_model_module": "@jupyter-widgets/controls",
            "_model_module_version": "1.5.0",
            "_model_name": "DescriptionStyleModel",
            "_view_count": null,
            "_view_module": "@jupyter-widgets/base",
            "_view_module_version": "1.2.0",
            "_view_name": "StyleView",
            "description_width": ""
          }
        },
        "1c474708e18a42cf878b5a6713b0a710": {
          "model_module": "@jupyter-widgets/base",
          "model_name": "LayoutModel",
          "model_module_version": "1.2.0",
          "state": {
            "_model_module": "@jupyter-widgets/base",
            "_model_module_version": "1.2.0",
            "_model_name": "LayoutModel",
            "_view_count": null,
            "_view_module": "@jupyter-widgets/base",
            "_view_module_version": "1.2.0",
            "_view_name": "LayoutView",
            "align_content": null,
            "align_items": null,
            "align_self": null,
            "border": null,
            "bottom": null,
            "display": null,
            "flex": null,
            "flex_flow": null,
            "grid_area": null,
            "grid_auto_columns": null,
            "grid_auto_flow": null,
            "grid_auto_rows": null,
            "grid_column": null,
            "grid_gap": null,
            "grid_row": null,
            "grid_template_areas": null,
            "grid_template_columns": null,
            "grid_template_rows": null,
            "height": null,
            "justify_content": null,
            "justify_items": null,
            "left": null,
            "margin": null,
            "max_height": null,
            "max_width": null,
            "min_height": null,
            "min_width": null,
            "object_fit": null,
            "object_position": null,
            "order": null,
            "overflow": null,
            "overflow_x": null,
            "overflow_y": null,
            "padding": null,
            "right": null,
            "top": null,
            "visibility": null,
            "width": null
          }
        },
        "12b0a80215074031bcebf6190f6d1e1f": {
          "model_module": "@jupyter-widgets/controls",
          "model_name": "ProgressStyleModel",
          "model_module_version": "1.5.0",
          "state": {
            "_model_module": "@jupyter-widgets/controls",
            "_model_module_version": "1.5.0",
            "_model_name": "ProgressStyleModel",
            "_view_count": null,
            "_view_module": "@jupyter-widgets/base",
            "_view_module_version": "1.2.0",
            "_view_name": "StyleView",
            "bar_color": null,
            "description_width": ""
          }
        },
        "702d0c64775a4876a5eb780d67537ef0": {
          "model_module": "@jupyter-widgets/base",
          "model_name": "LayoutModel",
          "model_module_version": "1.2.0",
          "state": {
            "_model_module": "@jupyter-widgets/base",
            "_model_module_version": "1.2.0",
            "_model_name": "LayoutModel",
            "_view_count": null,
            "_view_module": "@jupyter-widgets/base",
            "_view_module_version": "1.2.0",
            "_view_name": "LayoutView",
            "align_content": null,
            "align_items": null,
            "align_self": null,
            "border": null,
            "bottom": null,
            "display": null,
            "flex": null,
            "flex_flow": null,
            "grid_area": null,
            "grid_auto_columns": null,
            "grid_auto_flow": null,
            "grid_auto_rows": null,
            "grid_column": null,
            "grid_gap": null,
            "grid_row": null,
            "grid_template_areas": null,
            "grid_template_columns": null,
            "grid_template_rows": null,
            "height": null,
            "justify_content": null,
            "justify_items": null,
            "left": null,
            "margin": null,
            "max_height": null,
            "max_width": null,
            "min_height": null,
            "min_width": null,
            "object_fit": null,
            "object_position": null,
            "order": null,
            "overflow": null,
            "overflow_x": null,
            "overflow_y": null,
            "padding": null,
            "right": null,
            "top": null,
            "visibility": null,
            "width": null
          }
        },
        "0c335af86c2a4ccba90d975d1935930e": {
          "model_module": "@jupyter-widgets/controls",
          "model_name": "DescriptionStyleModel",
          "model_module_version": "1.5.0",
          "state": {
            "_model_module": "@jupyter-widgets/controls",
            "_model_module_version": "1.5.0",
            "_model_name": "DescriptionStyleModel",
            "_view_count": null,
            "_view_module": "@jupyter-widgets/base",
            "_view_module_version": "1.2.0",
            "_view_name": "StyleView",
            "description_width": ""
          }
        },
        "c8ae3f0cde7a4e9d92f87863b30eb8a8": {
          "model_module": "@jupyter-widgets/controls",
          "model_name": "HBoxModel",
          "model_module_version": "1.5.0",
          "state": {
            "_dom_classes": [],
            "_model_module": "@jupyter-widgets/controls",
            "_model_module_version": "1.5.0",
            "_model_name": "HBoxModel",
            "_view_count": null,
            "_view_module": "@jupyter-widgets/controls",
            "_view_module_version": "1.5.0",
            "_view_name": "HBoxView",
            "box_style": "",
            "children": [
              "IPY_MODEL_1c847fed11284a5789e1fbce7954dbd1",
              "IPY_MODEL_3e81316a84774b35aa4a988a1567009f",
              "IPY_MODEL_1110fb99b07748d8b528653efc4e8686"
            ],
            "layout": "IPY_MODEL_4ef82492c5e44663bb2cce162b376e04"
          }
        },
        "1c847fed11284a5789e1fbce7954dbd1": {
          "model_module": "@jupyter-widgets/controls",
          "model_name": "HTMLModel",
          "model_module_version": "1.5.0",
          "state": {
            "_dom_classes": [],
            "_model_module": "@jupyter-widgets/controls",
            "_model_module_version": "1.5.0",
            "_model_name": "HTMLModel",
            "_view_count": null,
            "_view_module": "@jupyter-widgets/controls",
            "_view_module_version": "1.5.0",
            "_view_name": "HTMLView",
            "description": "",
            "description_tooltip": null,
            "layout": "IPY_MODEL_2394d9e45845403ead2197c293d4c18f",
            "placeholder": "​",
            "style": "IPY_MODEL_59d050bf02e44a25ba99991d1d5c2397",
            "value": "Downloading data files: 100%"
          }
        },
        "3e81316a84774b35aa4a988a1567009f": {
          "model_module": "@jupyter-widgets/controls",
          "model_name": "FloatProgressModel",
          "model_module_version": "1.5.0",
          "state": {
            "_dom_classes": [],
            "_model_module": "@jupyter-widgets/controls",
            "_model_module_version": "1.5.0",
            "_model_name": "FloatProgressModel",
            "_view_count": null,
            "_view_module": "@jupyter-widgets/controls",
            "_view_module_version": "1.5.0",
            "_view_name": "ProgressView",
            "bar_style": "success",
            "description": "",
            "description_tooltip": null,
            "layout": "IPY_MODEL_61f3663f1068438791ed29d193477b4c",
            "max": 1,
            "min": 0,
            "orientation": "horizontal",
            "style": "IPY_MODEL_b2349b8ae99747c99b7d1e182d287765",
            "value": 1
          }
        },
        "1110fb99b07748d8b528653efc4e8686": {
          "model_module": "@jupyter-widgets/controls",
          "model_name": "HTMLModel",
          "model_module_version": "1.5.0",
          "state": {
            "_dom_classes": [],
            "_model_module": "@jupyter-widgets/controls",
            "_model_module_version": "1.5.0",
            "_model_name": "HTMLModel",
            "_view_count": null,
            "_view_module": "@jupyter-widgets/controls",
            "_view_module_version": "1.5.0",
            "_view_name": "HTMLView",
            "description": "",
            "description_tooltip": null,
            "layout": "IPY_MODEL_e6e019b967d94fa1acf2b46df4f25c41",
            "placeholder": "​",
            "style": "IPY_MODEL_867014038753453189a31078adc6d316",
            "value": " 1/1 [00:04&lt;00:00,  4.58s/it]"
          }
        },
        "4ef82492c5e44663bb2cce162b376e04": {
          "model_module": "@jupyter-widgets/base",
          "model_name": "LayoutModel",
          "model_module_version": "1.2.0",
          "state": {
            "_model_module": "@jupyter-widgets/base",
            "_model_module_version": "1.2.0",
            "_model_name": "LayoutModel",
            "_view_count": null,
            "_view_module": "@jupyter-widgets/base",
            "_view_module_version": "1.2.0",
            "_view_name": "LayoutView",
            "align_content": null,
            "align_items": null,
            "align_self": null,
            "border": null,
            "bottom": null,
            "display": null,
            "flex": null,
            "flex_flow": null,
            "grid_area": null,
            "grid_auto_columns": null,
            "grid_auto_flow": null,
            "grid_auto_rows": null,
            "grid_column": null,
            "grid_gap": null,
            "grid_row": null,
            "grid_template_areas": null,
            "grid_template_columns": null,
            "grid_template_rows": null,
            "height": null,
            "justify_content": null,
            "justify_items": null,
            "left": null,
            "margin": null,
            "max_height": null,
            "max_width": null,
            "min_height": null,
            "min_width": null,
            "object_fit": null,
            "object_position": null,
            "order": null,
            "overflow": null,
            "overflow_x": null,
            "overflow_y": null,
            "padding": null,
            "right": null,
            "top": null,
            "visibility": null,
            "width": null
          }
        },
        "2394d9e45845403ead2197c293d4c18f": {
          "model_module": "@jupyter-widgets/base",
          "model_name": "LayoutModel",
          "model_module_version": "1.2.0",
          "state": {
            "_model_module": "@jupyter-widgets/base",
            "_model_module_version": "1.2.0",
            "_model_name": "LayoutModel",
            "_view_count": null,
            "_view_module": "@jupyter-widgets/base",
            "_view_module_version": "1.2.0",
            "_view_name": "LayoutView",
            "align_content": null,
            "align_items": null,
            "align_self": null,
            "border": null,
            "bottom": null,
            "display": null,
            "flex": null,
            "flex_flow": null,
            "grid_area": null,
            "grid_auto_columns": null,
            "grid_auto_flow": null,
            "grid_auto_rows": null,
            "grid_column": null,
            "grid_gap": null,
            "grid_row": null,
            "grid_template_areas": null,
            "grid_template_columns": null,
            "grid_template_rows": null,
            "height": null,
            "justify_content": null,
            "justify_items": null,
            "left": null,
            "margin": null,
            "max_height": null,
            "max_width": null,
            "min_height": null,
            "min_width": null,
            "object_fit": null,
            "object_position": null,
            "order": null,
            "overflow": null,
            "overflow_x": null,
            "overflow_y": null,
            "padding": null,
            "right": null,
            "top": null,
            "visibility": null,
            "width": null
          }
        },
        "59d050bf02e44a25ba99991d1d5c2397": {
          "model_module": "@jupyter-widgets/controls",
          "model_name": "DescriptionStyleModel",
          "model_module_version": "1.5.0",
          "state": {
            "_model_module": "@jupyter-widgets/controls",
            "_model_module_version": "1.5.0",
            "_model_name": "DescriptionStyleModel",
            "_view_count": null,
            "_view_module": "@jupyter-widgets/base",
            "_view_module_version": "1.2.0",
            "_view_name": "StyleView",
            "description_width": ""
          }
        },
        "61f3663f1068438791ed29d193477b4c": {
          "model_module": "@jupyter-widgets/base",
          "model_name": "LayoutModel",
          "model_module_version": "1.2.0",
          "state": {
            "_model_module": "@jupyter-widgets/base",
            "_model_module_version": "1.2.0",
            "_model_name": "LayoutModel",
            "_view_count": null,
            "_view_module": "@jupyter-widgets/base",
            "_view_module_version": "1.2.0",
            "_view_name": "LayoutView",
            "align_content": null,
            "align_items": null,
            "align_self": null,
            "border": null,
            "bottom": null,
            "display": null,
            "flex": null,
            "flex_flow": null,
            "grid_area": null,
            "grid_auto_columns": null,
            "grid_auto_flow": null,
            "grid_auto_rows": null,
            "grid_column": null,
            "grid_gap": null,
            "grid_row": null,
            "grid_template_areas": null,
            "grid_template_columns": null,
            "grid_template_rows": null,
            "height": null,
            "justify_content": null,
            "justify_items": null,
            "left": null,
            "margin": null,
            "max_height": null,
            "max_width": null,
            "min_height": null,
            "min_width": null,
            "object_fit": null,
            "object_position": null,
            "order": null,
            "overflow": null,
            "overflow_x": null,
            "overflow_y": null,
            "padding": null,
            "right": null,
            "top": null,
            "visibility": null,
            "width": null
          }
        },
        "b2349b8ae99747c99b7d1e182d287765": {
          "model_module": "@jupyter-widgets/controls",
          "model_name": "ProgressStyleModel",
          "model_module_version": "1.5.0",
          "state": {
            "_model_module": "@jupyter-widgets/controls",
            "_model_module_version": "1.5.0",
            "_model_name": "ProgressStyleModel",
            "_view_count": null,
            "_view_module": "@jupyter-widgets/base",
            "_view_module_version": "1.2.0",
            "_view_name": "StyleView",
            "bar_color": null,
            "description_width": ""
          }
        },
        "e6e019b967d94fa1acf2b46df4f25c41": {
          "model_module": "@jupyter-widgets/base",
          "model_name": "LayoutModel",
          "model_module_version": "1.2.0",
          "state": {
            "_model_module": "@jupyter-widgets/base",
            "_model_module_version": "1.2.0",
            "_model_name": "LayoutModel",
            "_view_count": null,
            "_view_module": "@jupyter-widgets/base",
            "_view_module_version": "1.2.0",
            "_view_name": "LayoutView",
            "align_content": null,
            "align_items": null,
            "align_self": null,
            "border": null,
            "bottom": null,
            "display": null,
            "flex": null,
            "flex_flow": null,
            "grid_area": null,
            "grid_auto_columns": null,
            "grid_auto_flow": null,
            "grid_auto_rows": null,
            "grid_column": null,
            "grid_gap": null,
            "grid_row": null,
            "grid_template_areas": null,
            "grid_template_columns": null,
            "grid_template_rows": null,
            "height": null,
            "justify_content": null,
            "justify_items": null,
            "left": null,
            "margin": null,
            "max_height": null,
            "max_width": null,
            "min_height": null,
            "min_width": null,
            "object_fit": null,
            "object_position": null,
            "order": null,
            "overflow": null,
            "overflow_x": null,
            "overflow_y": null,
            "padding": null,
            "right": null,
            "top": null,
            "visibility": null,
            "width": null
          }
        },
        "867014038753453189a31078adc6d316": {
          "model_module": "@jupyter-widgets/controls",
          "model_name": "DescriptionStyleModel",
          "model_module_version": "1.5.0",
          "state": {
            "_model_module": "@jupyter-widgets/controls",
            "_model_module_version": "1.5.0",
            "_model_name": "DescriptionStyleModel",
            "_view_count": null,
            "_view_module": "@jupyter-widgets/base",
            "_view_module_version": "1.2.0",
            "_view_name": "StyleView",
            "description_width": ""
          }
        },
        "f551c9824adc4f15804142b24a86bbbb": {
          "model_module": "@jupyter-widgets/controls",
          "model_name": "HBoxModel",
          "model_module_version": "1.5.0",
          "state": {
            "_dom_classes": [],
            "_model_module": "@jupyter-widgets/controls",
            "_model_module_version": "1.5.0",
            "_model_name": "HBoxModel",
            "_view_count": null,
            "_view_module": "@jupyter-widgets/controls",
            "_view_module_version": "1.5.0",
            "_view_name": "HBoxView",
            "box_style": "",
            "children": [
              "IPY_MODEL_b6ef66d1b69546509d1ab07cc4d7b756",
              "IPY_MODEL_dd24545cf7784904887b63877740bbee",
              "IPY_MODEL_3cff53664b2f45f4ad6b0ec493413dbd"
            ],
            "layout": "IPY_MODEL_a643fc0412184b77bcc2a77665db004e"
          }
        },
        "b6ef66d1b69546509d1ab07cc4d7b756": {
          "model_module": "@jupyter-widgets/controls",
          "model_name": "HTMLModel",
          "model_module_version": "1.5.0",
          "state": {
            "_dom_classes": [],
            "_model_module": "@jupyter-widgets/controls",
            "_model_module_version": "1.5.0",
            "_model_name": "HTMLModel",
            "_view_count": null,
            "_view_module": "@jupyter-widgets/controls",
            "_view_module_version": "1.5.0",
            "_view_name": "HTMLView",
            "description": "",
            "description_tooltip": null,
            "layout": "IPY_MODEL_dc7300f0ae4b476dab4a48c5aa406e97",
            "placeholder": "​",
            "style": "IPY_MODEL_af0da090847e4056b73b43a5575906db",
            "value": "Downloading data: 100%"
          }
        },
        "dd24545cf7784904887b63877740bbee": {
          "model_module": "@jupyter-widgets/controls",
          "model_name": "FloatProgressModel",
          "model_module_version": "1.5.0",
          "state": {
            "_dom_classes": [],
            "_model_module": "@jupyter-widgets/controls",
            "_model_module_version": "1.5.0",
            "_model_name": "FloatProgressModel",
            "_view_count": null,
            "_view_module": "@jupyter-widgets/controls",
            "_view_module_version": "1.5.0",
            "_view_name": "ProgressView",
            "bar_style": "success",
            "description": "",
            "description_tooltip": null,
            "layout": "IPY_MODEL_eadff2399dcd490ab84ec66f3487ca36",
            "max": 12243735,
            "min": 0,
            "orientation": "horizontal",
            "style": "IPY_MODEL_7b71ecaf28df45c68660567fdb26a2f0",
            "value": 12243735
          }
        },
        "3cff53664b2f45f4ad6b0ec493413dbd": {
          "model_module": "@jupyter-widgets/controls",
          "model_name": "HTMLModel",
          "model_module_version": "1.5.0",
          "state": {
            "_dom_classes": [],
            "_model_module": "@jupyter-widgets/controls",
            "_model_module_version": "1.5.0",
            "_model_name": "HTMLModel",
            "_view_count": null,
            "_view_module": "@jupyter-widgets/controls",
            "_view_module_version": "1.5.0",
            "_view_name": "HTMLView",
            "description": "",
            "description_tooltip": null,
            "layout": "IPY_MODEL_b7daf2f924ac447e8752162f804c0589",
            "placeholder": "​",
            "style": "IPY_MODEL_dcc3ec172efe4cb284bb32c1a8c32311",
            "value": " 12.2M/12.2M [00:02&lt;00:00, 11.2MB/s]"
          }
        },
        "a643fc0412184b77bcc2a77665db004e": {
          "model_module": "@jupyter-widgets/base",
          "model_name": "LayoutModel",
          "model_module_version": "1.2.0",
          "state": {
            "_model_module": "@jupyter-widgets/base",
            "_model_module_version": "1.2.0",
            "_model_name": "LayoutModel",
            "_view_count": null,
            "_view_module": "@jupyter-widgets/base",
            "_view_module_version": "1.2.0",
            "_view_name": "LayoutView",
            "align_content": null,
            "align_items": null,
            "align_self": null,
            "border": null,
            "bottom": null,
            "display": null,
            "flex": null,
            "flex_flow": null,
            "grid_area": null,
            "grid_auto_columns": null,
            "grid_auto_flow": null,
            "grid_auto_rows": null,
            "grid_column": null,
            "grid_gap": null,
            "grid_row": null,
            "grid_template_areas": null,
            "grid_template_columns": null,
            "grid_template_rows": null,
            "height": null,
            "justify_content": null,
            "justify_items": null,
            "left": null,
            "margin": null,
            "max_height": null,
            "max_width": null,
            "min_height": null,
            "min_width": null,
            "object_fit": null,
            "object_position": null,
            "order": null,
            "overflow": null,
            "overflow_x": null,
            "overflow_y": null,
            "padding": null,
            "right": null,
            "top": null,
            "visibility": null,
            "width": null
          }
        },
        "dc7300f0ae4b476dab4a48c5aa406e97": {
          "model_module": "@jupyter-widgets/base",
          "model_name": "LayoutModel",
          "model_module_version": "1.2.0",
          "state": {
            "_model_module": "@jupyter-widgets/base",
            "_model_module_version": "1.2.0",
            "_model_name": "LayoutModel",
            "_view_count": null,
            "_view_module": "@jupyter-widgets/base",
            "_view_module_version": "1.2.0",
            "_view_name": "LayoutView",
            "align_content": null,
            "align_items": null,
            "align_self": null,
            "border": null,
            "bottom": null,
            "display": null,
            "flex": null,
            "flex_flow": null,
            "grid_area": null,
            "grid_auto_columns": null,
            "grid_auto_flow": null,
            "grid_auto_rows": null,
            "grid_column": null,
            "grid_gap": null,
            "grid_row": null,
            "grid_template_areas": null,
            "grid_template_columns": null,
            "grid_template_rows": null,
            "height": null,
            "justify_content": null,
            "justify_items": null,
            "left": null,
            "margin": null,
            "max_height": null,
            "max_width": null,
            "min_height": null,
            "min_width": null,
            "object_fit": null,
            "object_position": null,
            "order": null,
            "overflow": null,
            "overflow_x": null,
            "overflow_y": null,
            "padding": null,
            "right": null,
            "top": null,
            "visibility": null,
            "width": null
          }
        },
        "af0da090847e4056b73b43a5575906db": {
          "model_module": "@jupyter-widgets/controls",
          "model_name": "DescriptionStyleModel",
          "model_module_version": "1.5.0",
          "state": {
            "_model_module": "@jupyter-widgets/controls",
            "_model_module_version": "1.5.0",
            "_model_name": "DescriptionStyleModel",
            "_view_count": null,
            "_view_module": "@jupyter-widgets/base",
            "_view_module_version": "1.2.0",
            "_view_name": "StyleView",
            "description_width": ""
          }
        },
        "eadff2399dcd490ab84ec66f3487ca36": {
          "model_module": "@jupyter-widgets/base",
          "model_name": "LayoutModel",
          "model_module_version": "1.2.0",
          "state": {
            "_model_module": "@jupyter-widgets/base",
            "_model_module_version": "1.2.0",
            "_model_name": "LayoutModel",
            "_view_count": null,
            "_view_module": "@jupyter-widgets/base",
            "_view_module_version": "1.2.0",
            "_view_name": "LayoutView",
            "align_content": null,
            "align_items": null,
            "align_self": null,
            "border": null,
            "bottom": null,
            "display": null,
            "flex": null,
            "flex_flow": null,
            "grid_area": null,
            "grid_auto_columns": null,
            "grid_auto_flow": null,
            "grid_auto_rows": null,
            "grid_column": null,
            "grid_gap": null,
            "grid_row": null,
            "grid_template_areas": null,
            "grid_template_columns": null,
            "grid_template_rows": null,
            "height": null,
            "justify_content": null,
            "justify_items": null,
            "left": null,
            "margin": null,
            "max_height": null,
            "max_width": null,
            "min_height": null,
            "min_width": null,
            "object_fit": null,
            "object_position": null,
            "order": null,
            "overflow": null,
            "overflow_x": null,
            "overflow_y": null,
            "padding": null,
            "right": null,
            "top": null,
            "visibility": null,
            "width": null
          }
        },
        "7b71ecaf28df45c68660567fdb26a2f0": {
          "model_module": "@jupyter-widgets/controls",
          "model_name": "ProgressStyleModel",
          "model_module_version": "1.5.0",
          "state": {
            "_model_module": "@jupyter-widgets/controls",
            "_model_module_version": "1.5.0",
            "_model_name": "ProgressStyleModel",
            "_view_count": null,
            "_view_module": "@jupyter-widgets/base",
            "_view_module_version": "1.2.0",
            "_view_name": "StyleView",
            "bar_color": null,
            "description_width": ""
          }
        },
        "b7daf2f924ac447e8752162f804c0589": {
          "model_module": "@jupyter-widgets/base",
          "model_name": "LayoutModel",
          "model_module_version": "1.2.0",
          "state": {
            "_model_module": "@jupyter-widgets/base",
            "_model_module_version": "1.2.0",
            "_model_name": "LayoutModel",
            "_view_count": null,
            "_view_module": "@jupyter-widgets/base",
            "_view_module_version": "1.2.0",
            "_view_name": "LayoutView",
            "align_content": null,
            "align_items": null,
            "align_self": null,
            "border": null,
            "bottom": null,
            "display": null,
            "flex": null,
            "flex_flow": null,
            "grid_area": null,
            "grid_auto_columns": null,
            "grid_auto_flow": null,
            "grid_auto_rows": null,
            "grid_column": null,
            "grid_gap": null,
            "grid_row": null,
            "grid_template_areas": null,
            "grid_template_columns": null,
            "grid_template_rows": null,
            "height": null,
            "justify_content": null,
            "justify_items": null,
            "left": null,
            "margin": null,
            "max_height": null,
            "max_width": null,
            "min_height": null,
            "min_width": null,
            "object_fit": null,
            "object_position": null,
            "order": null,
            "overflow": null,
            "overflow_x": null,
            "overflow_y": null,
            "padding": null,
            "right": null,
            "top": null,
            "visibility": null,
            "width": null
          }
        },
        "dcc3ec172efe4cb284bb32c1a8c32311": {
          "model_module": "@jupyter-widgets/controls",
          "model_name": "DescriptionStyleModel",
          "model_module_version": "1.5.0",
          "state": {
            "_model_module": "@jupyter-widgets/controls",
            "_model_module_version": "1.5.0",
            "_model_name": "DescriptionStyleModel",
            "_view_count": null,
            "_view_module": "@jupyter-widgets/base",
            "_view_module_version": "1.2.0",
            "_view_name": "StyleView",
            "description_width": ""
          }
        },
        "ba92b007ce5e447898b39d99ab82a41f": {
          "model_module": "@jupyter-widgets/controls",
          "model_name": "HBoxModel",
          "model_module_version": "1.5.0",
          "state": {
            "_dom_classes": [],
            "_model_module": "@jupyter-widgets/controls",
            "_model_module_version": "1.5.0",
            "_model_name": "HBoxModel",
            "_view_count": null,
            "_view_module": "@jupyter-widgets/controls",
            "_view_module_version": "1.5.0",
            "_view_name": "HBoxView",
            "box_style": "",
            "children": [
              "IPY_MODEL_7a068fe9bdff486390c0d17c57b2da59",
              "IPY_MODEL_d580329407874193b6c53162bcb53c17",
              "IPY_MODEL_fd3c331724ba4e059820efe819e2a9d6"
            ],
            "layout": "IPY_MODEL_e9afad0e24bb44638fc46c3144a9bc5e"
          }
        },
        "7a068fe9bdff486390c0d17c57b2da59": {
          "model_module": "@jupyter-widgets/controls",
          "model_name": "HTMLModel",
          "model_module_version": "1.5.0",
          "state": {
            "_dom_classes": [],
            "_model_module": "@jupyter-widgets/controls",
            "_model_module_version": "1.5.0",
            "_model_name": "HTMLModel",
            "_view_count": null,
            "_view_module": "@jupyter-widgets/controls",
            "_view_module_version": "1.5.0",
            "_view_name": "HTMLView",
            "description": "",
            "description_tooltip": null,
            "layout": "IPY_MODEL_4afaa86d343642aea4873c3d1d2f475a",
            "placeholder": "​",
            "style": "IPY_MODEL_cc369b24780640fea8e98e0e47f02c8d",
            "value": "Extracting data files: 100%"
          }
        },
        "d580329407874193b6c53162bcb53c17": {
          "model_module": "@jupyter-widgets/controls",
          "model_name": "FloatProgressModel",
          "model_module_version": "1.5.0",
          "state": {
            "_dom_classes": [],
            "_model_module": "@jupyter-widgets/controls",
            "_model_module_version": "1.5.0",
            "_model_name": "FloatProgressModel",
            "_view_count": null,
            "_view_module": "@jupyter-widgets/controls",
            "_view_module_version": "1.5.0",
            "_view_name": "ProgressView",
            "bar_style": "success",
            "description": "",
            "description_tooltip": null,
            "layout": "IPY_MODEL_b6d8b4cea25c45e2bcefd8acedafa262",
            "max": 1,
            "min": 0,
            "orientation": "horizontal",
            "style": "IPY_MODEL_306dced1df6342718af19a337a7bd193",
            "value": 1
          }
        },
        "fd3c331724ba4e059820efe819e2a9d6": {
          "model_module": "@jupyter-widgets/controls",
          "model_name": "HTMLModel",
          "model_module_version": "1.5.0",
          "state": {
            "_dom_classes": [],
            "_model_module": "@jupyter-widgets/controls",
            "_model_module_version": "1.5.0",
            "_model_name": "HTMLModel",
            "_view_count": null,
            "_view_module": "@jupyter-widgets/controls",
            "_view_module_version": "1.5.0",
            "_view_name": "HTMLView",
            "description": "",
            "description_tooltip": null,
            "layout": "IPY_MODEL_3b9bcf4fa3424b71b0122aad9cf335fe",
            "placeholder": "​",
            "style": "IPY_MODEL_49f012d2487a4034bee6db219cbfb104",
            "value": " 1/1 [00:00&lt;00:00, 17.69it/s]"
          }
        },
        "e9afad0e24bb44638fc46c3144a9bc5e": {
          "model_module": "@jupyter-widgets/base",
          "model_name": "LayoutModel",
          "model_module_version": "1.2.0",
          "state": {
            "_model_module": "@jupyter-widgets/base",
            "_model_module_version": "1.2.0",
            "_model_name": "LayoutModel",
            "_view_count": null,
            "_view_module": "@jupyter-widgets/base",
            "_view_module_version": "1.2.0",
            "_view_name": "LayoutView",
            "align_content": null,
            "align_items": null,
            "align_self": null,
            "border": null,
            "bottom": null,
            "display": null,
            "flex": null,
            "flex_flow": null,
            "grid_area": null,
            "grid_auto_columns": null,
            "grid_auto_flow": null,
            "grid_auto_rows": null,
            "grid_column": null,
            "grid_gap": null,
            "grid_row": null,
            "grid_template_areas": null,
            "grid_template_columns": null,
            "grid_template_rows": null,
            "height": null,
            "justify_content": null,
            "justify_items": null,
            "left": null,
            "margin": null,
            "max_height": null,
            "max_width": null,
            "min_height": null,
            "min_width": null,
            "object_fit": null,
            "object_position": null,
            "order": null,
            "overflow": null,
            "overflow_x": null,
            "overflow_y": null,
            "padding": null,
            "right": null,
            "top": null,
            "visibility": null,
            "width": null
          }
        },
        "4afaa86d343642aea4873c3d1d2f475a": {
          "model_module": "@jupyter-widgets/base",
          "model_name": "LayoutModel",
          "model_module_version": "1.2.0",
          "state": {
            "_model_module": "@jupyter-widgets/base",
            "_model_module_version": "1.2.0",
            "_model_name": "LayoutModel",
            "_view_count": null,
            "_view_module": "@jupyter-widgets/base",
            "_view_module_version": "1.2.0",
            "_view_name": "LayoutView",
            "align_content": null,
            "align_items": null,
            "align_self": null,
            "border": null,
            "bottom": null,
            "display": null,
            "flex": null,
            "flex_flow": null,
            "grid_area": null,
            "grid_auto_columns": null,
            "grid_auto_flow": null,
            "grid_auto_rows": null,
            "grid_column": null,
            "grid_gap": null,
            "grid_row": null,
            "grid_template_areas": null,
            "grid_template_columns": null,
            "grid_template_rows": null,
            "height": null,
            "justify_content": null,
            "justify_items": null,
            "left": null,
            "margin": null,
            "max_height": null,
            "max_width": null,
            "min_height": null,
            "min_width": null,
            "object_fit": null,
            "object_position": null,
            "order": null,
            "overflow": null,
            "overflow_x": null,
            "overflow_y": null,
            "padding": null,
            "right": null,
            "top": null,
            "visibility": null,
            "width": null
          }
        },
        "cc369b24780640fea8e98e0e47f02c8d": {
          "model_module": "@jupyter-widgets/controls",
          "model_name": "DescriptionStyleModel",
          "model_module_version": "1.5.0",
          "state": {
            "_model_module": "@jupyter-widgets/controls",
            "_model_module_version": "1.5.0",
            "_model_name": "DescriptionStyleModel",
            "_view_count": null,
            "_view_module": "@jupyter-widgets/base",
            "_view_module_version": "1.2.0",
            "_view_name": "StyleView",
            "description_width": ""
          }
        },
        "b6d8b4cea25c45e2bcefd8acedafa262": {
          "model_module": "@jupyter-widgets/base",
          "model_name": "LayoutModel",
          "model_module_version": "1.2.0",
          "state": {
            "_model_module": "@jupyter-widgets/base",
            "_model_module_version": "1.2.0",
            "_model_name": "LayoutModel",
            "_view_count": null,
            "_view_module": "@jupyter-widgets/base",
            "_view_module_version": "1.2.0",
            "_view_name": "LayoutView",
            "align_content": null,
            "align_items": null,
            "align_self": null,
            "border": null,
            "bottom": null,
            "display": null,
            "flex": null,
            "flex_flow": null,
            "grid_area": null,
            "grid_auto_columns": null,
            "grid_auto_flow": null,
            "grid_auto_rows": null,
            "grid_column": null,
            "grid_gap": null,
            "grid_row": null,
            "grid_template_areas": null,
            "grid_template_columns": null,
            "grid_template_rows": null,
            "height": null,
            "justify_content": null,
            "justify_items": null,
            "left": null,
            "margin": null,
            "max_height": null,
            "max_width": null,
            "min_height": null,
            "min_width": null,
            "object_fit": null,
            "object_position": null,
            "order": null,
            "overflow": null,
            "overflow_x": null,
            "overflow_y": null,
            "padding": null,
            "right": null,
            "top": null,
            "visibility": null,
            "width": null
          }
        },
        "306dced1df6342718af19a337a7bd193": {
          "model_module": "@jupyter-widgets/controls",
          "model_name": "ProgressStyleModel",
          "model_module_version": "1.5.0",
          "state": {
            "_model_module": "@jupyter-widgets/controls",
            "_model_module_version": "1.5.0",
            "_model_name": "ProgressStyleModel",
            "_view_count": null,
            "_view_module": "@jupyter-widgets/base",
            "_view_module_version": "1.2.0",
            "_view_name": "StyleView",
            "bar_color": null,
            "description_width": ""
          }
        },
        "3b9bcf4fa3424b71b0122aad9cf335fe": {
          "model_module": "@jupyter-widgets/base",
          "model_name": "LayoutModel",
          "model_module_version": "1.2.0",
          "state": {
            "_model_module": "@jupyter-widgets/base",
            "_model_module_version": "1.2.0",
            "_model_name": "LayoutModel",
            "_view_count": null,
            "_view_module": "@jupyter-widgets/base",
            "_view_module_version": "1.2.0",
            "_view_name": "LayoutView",
            "align_content": null,
            "align_items": null,
            "align_self": null,
            "border": null,
            "bottom": null,
            "display": null,
            "flex": null,
            "flex_flow": null,
            "grid_area": null,
            "grid_auto_columns": null,
            "grid_auto_flow": null,
            "grid_auto_rows": null,
            "grid_column": null,
            "grid_gap": null,
            "grid_row": null,
            "grid_template_areas": null,
            "grid_template_columns": null,
            "grid_template_rows": null,
            "height": null,
            "justify_content": null,
            "justify_items": null,
            "left": null,
            "margin": null,
            "max_height": null,
            "max_width": null,
            "min_height": null,
            "min_width": null,
            "object_fit": null,
            "object_position": null,
            "order": null,
            "overflow": null,
            "overflow_x": null,
            "overflow_y": null,
            "padding": null,
            "right": null,
            "top": null,
            "visibility": null,
            "width": null
          }
        },
        "49f012d2487a4034bee6db219cbfb104": {
          "model_module": "@jupyter-widgets/controls",
          "model_name": "DescriptionStyleModel",
          "model_module_version": "1.5.0",
          "state": {
            "_model_module": "@jupyter-widgets/controls",
            "_model_module_version": "1.5.0",
            "_model_name": "DescriptionStyleModel",
            "_view_count": null,
            "_view_module": "@jupyter-widgets/base",
            "_view_module_version": "1.2.0",
            "_view_name": "StyleView",
            "description_width": ""
          }
        },
        "edbfb6f29b17492fa7289474adb602fc": {
          "model_module": "@jupyter-widgets/controls",
          "model_name": "HBoxModel",
          "model_module_version": "1.5.0",
          "state": {
            "_dom_classes": [],
            "_model_module": "@jupyter-widgets/controls",
            "_model_module_version": "1.5.0",
            "_model_name": "HBoxModel",
            "_view_count": null,
            "_view_module": "@jupyter-widgets/controls",
            "_view_module_version": "1.5.0",
            "_view_name": "HBoxView",
            "box_style": "",
            "children": [
              "IPY_MODEL_0b0fd1c403b24323b761e750cb812657",
              "IPY_MODEL_8b2343c227fd49bca89dd82f849e1221",
              "IPY_MODEL_12681e306cdd4c3bbc4dadf2a2db196e"
            ],
            "layout": "IPY_MODEL_9d8bf48bce444033a59cfff6b1784970"
          }
        },
        "0b0fd1c403b24323b761e750cb812657": {
          "model_module": "@jupyter-widgets/controls",
          "model_name": "HTMLModel",
          "model_module_version": "1.5.0",
          "state": {
            "_dom_classes": [],
            "_model_module": "@jupyter-widgets/controls",
            "_model_module_version": "1.5.0",
            "_model_name": "HTMLModel",
            "_view_count": null,
            "_view_module": "@jupyter-widgets/controls",
            "_view_module_version": "1.5.0",
            "_view_name": "HTMLView",
            "description": "",
            "description_tooltip": null,
            "layout": "IPY_MODEL_5bc3bbdcc9014826bb8fa92a2be61329",
            "placeholder": "​",
            "style": "IPY_MODEL_892ddd6fc20745409bbf4ead04e84ab5",
            "value": "Generating train split: "
          }
        },
        "8b2343c227fd49bca89dd82f849e1221": {
          "model_module": "@jupyter-widgets/controls",
          "model_name": "FloatProgressModel",
          "model_module_version": "1.5.0",
          "state": {
            "_dom_classes": [],
            "_model_module": "@jupyter-widgets/controls",
            "_model_module_version": "1.5.0",
            "_model_name": "FloatProgressModel",
            "_view_count": null,
            "_view_module": "@jupyter-widgets/controls",
            "_view_module_version": "1.5.0",
            "_view_name": "ProgressView",
            "bar_style": "info",
            "description": "",
            "description_tooltip": null,
            "layout": "IPY_MODEL_82885dbab263417599aa783d470b6194",
            "max": 1,
            "min": 0,
            "orientation": "horizontal",
            "style": "IPY_MODEL_826d1dc3218148d4be1f191277987881",
            "value": 1
          }
        },
        "12681e306cdd4c3bbc4dadf2a2db196e": {
          "model_module": "@jupyter-widgets/controls",
          "model_name": "HTMLModel",
          "model_module_version": "1.5.0",
          "state": {
            "_dom_classes": [],
            "_model_module": "@jupyter-widgets/controls",
            "_model_module_version": "1.5.0",
            "_model_name": "HTMLModel",
            "_view_count": null,
            "_view_module": "@jupyter-widgets/controls",
            "_view_module_version": "1.5.0",
            "_view_name": "HTMLView",
            "description": "",
            "description_tooltip": null,
            "layout": "IPY_MODEL_2b4bf98c98b34a1082debb76442025cc",
            "placeholder": "​",
            "style": "IPY_MODEL_98f78855fa674f6a8c73dc7eb1e0ba32",
            "value": " 2611/0 [00:00&lt;00:00, 5474.46 examples/s]"
          }
        },
        "9d8bf48bce444033a59cfff6b1784970": {
          "model_module": "@jupyter-widgets/base",
          "model_name": "LayoutModel",
          "model_module_version": "1.2.0",
          "state": {
            "_model_module": "@jupyter-widgets/base",
            "_model_module_version": "1.2.0",
            "_model_name": "LayoutModel",
            "_view_count": null,
            "_view_module": "@jupyter-widgets/base",
            "_view_module_version": "1.2.0",
            "_view_name": "LayoutView",
            "align_content": null,
            "align_items": null,
            "align_self": null,
            "border": null,
            "bottom": null,
            "display": null,
            "flex": null,
            "flex_flow": null,
            "grid_area": null,
            "grid_auto_columns": null,
            "grid_auto_flow": null,
            "grid_auto_rows": null,
            "grid_column": null,
            "grid_gap": null,
            "grid_row": null,
            "grid_template_areas": null,
            "grid_template_columns": null,
            "grid_template_rows": null,
            "height": null,
            "justify_content": null,
            "justify_items": null,
            "left": null,
            "margin": null,
            "max_height": null,
            "max_width": null,
            "min_height": null,
            "min_width": null,
            "object_fit": null,
            "object_position": null,
            "order": null,
            "overflow": null,
            "overflow_x": null,
            "overflow_y": null,
            "padding": null,
            "right": null,
            "top": null,
            "visibility": "hidden",
            "width": null
          }
        },
        "5bc3bbdcc9014826bb8fa92a2be61329": {
          "model_module": "@jupyter-widgets/base",
          "model_name": "LayoutModel",
          "model_module_version": "1.2.0",
          "state": {
            "_model_module": "@jupyter-widgets/base",
            "_model_module_version": "1.2.0",
            "_model_name": "LayoutModel",
            "_view_count": null,
            "_view_module": "@jupyter-widgets/base",
            "_view_module_version": "1.2.0",
            "_view_name": "LayoutView",
            "align_content": null,
            "align_items": null,
            "align_self": null,
            "border": null,
            "bottom": null,
            "display": null,
            "flex": null,
            "flex_flow": null,
            "grid_area": null,
            "grid_auto_columns": null,
            "grid_auto_flow": null,
            "grid_auto_rows": null,
            "grid_column": null,
            "grid_gap": null,
            "grid_row": null,
            "grid_template_areas": null,
            "grid_template_columns": null,
            "grid_template_rows": null,
            "height": null,
            "justify_content": null,
            "justify_items": null,
            "left": null,
            "margin": null,
            "max_height": null,
            "max_width": null,
            "min_height": null,
            "min_width": null,
            "object_fit": null,
            "object_position": null,
            "order": null,
            "overflow": null,
            "overflow_x": null,
            "overflow_y": null,
            "padding": null,
            "right": null,
            "top": null,
            "visibility": null,
            "width": null
          }
        },
        "892ddd6fc20745409bbf4ead04e84ab5": {
          "model_module": "@jupyter-widgets/controls",
          "model_name": "DescriptionStyleModel",
          "model_module_version": "1.5.0",
          "state": {
            "_model_module": "@jupyter-widgets/controls",
            "_model_module_version": "1.5.0",
            "_model_name": "DescriptionStyleModel",
            "_view_count": null,
            "_view_module": "@jupyter-widgets/base",
            "_view_module_version": "1.2.0",
            "_view_name": "StyleView",
            "description_width": ""
          }
        },
        "82885dbab263417599aa783d470b6194": {
          "model_module": "@jupyter-widgets/base",
          "model_name": "LayoutModel",
          "model_module_version": "1.2.0",
          "state": {
            "_model_module": "@jupyter-widgets/base",
            "_model_module_version": "1.2.0",
            "_model_name": "LayoutModel",
            "_view_count": null,
            "_view_module": "@jupyter-widgets/base",
            "_view_module_version": "1.2.0",
            "_view_name": "LayoutView",
            "align_content": null,
            "align_items": null,
            "align_self": null,
            "border": null,
            "bottom": null,
            "display": null,
            "flex": null,
            "flex_flow": null,
            "grid_area": null,
            "grid_auto_columns": null,
            "grid_auto_flow": null,
            "grid_auto_rows": null,
            "grid_column": null,
            "grid_gap": null,
            "grid_row": null,
            "grid_template_areas": null,
            "grid_template_columns": null,
            "grid_template_rows": null,
            "height": null,
            "justify_content": null,
            "justify_items": null,
            "left": null,
            "margin": null,
            "max_height": null,
            "max_width": null,
            "min_height": null,
            "min_width": null,
            "object_fit": null,
            "object_position": null,
            "order": null,
            "overflow": null,
            "overflow_x": null,
            "overflow_y": null,
            "padding": null,
            "right": null,
            "top": null,
            "visibility": null,
            "width": "20px"
          }
        },
        "826d1dc3218148d4be1f191277987881": {
          "model_module": "@jupyter-widgets/controls",
          "model_name": "ProgressStyleModel",
          "model_module_version": "1.5.0",
          "state": {
            "_model_module": "@jupyter-widgets/controls",
            "_model_module_version": "1.5.0",
            "_model_name": "ProgressStyleModel",
            "_view_count": null,
            "_view_module": "@jupyter-widgets/base",
            "_view_module_version": "1.2.0",
            "_view_name": "StyleView",
            "bar_color": null,
            "description_width": ""
          }
        },
        "2b4bf98c98b34a1082debb76442025cc": {
          "model_module": "@jupyter-widgets/base",
          "model_name": "LayoutModel",
          "model_module_version": "1.2.0",
          "state": {
            "_model_module": "@jupyter-widgets/base",
            "_model_module_version": "1.2.0",
            "_model_name": "LayoutModel",
            "_view_count": null,
            "_view_module": "@jupyter-widgets/base",
            "_view_module_version": "1.2.0",
            "_view_name": "LayoutView",
            "align_content": null,
            "align_items": null,
            "align_self": null,
            "border": null,
            "bottom": null,
            "display": null,
            "flex": null,
            "flex_flow": null,
            "grid_area": null,
            "grid_auto_columns": null,
            "grid_auto_flow": null,
            "grid_auto_rows": null,
            "grid_column": null,
            "grid_gap": null,
            "grid_row": null,
            "grid_template_areas": null,
            "grid_template_columns": null,
            "grid_template_rows": null,
            "height": null,
            "justify_content": null,
            "justify_items": null,
            "left": null,
            "margin": null,
            "max_height": null,
            "max_width": null,
            "min_height": null,
            "min_width": null,
            "object_fit": null,
            "object_position": null,
            "order": null,
            "overflow": null,
            "overflow_x": null,
            "overflow_y": null,
            "padding": null,
            "right": null,
            "top": null,
            "visibility": null,
            "width": null
          }
        },
        "98f78855fa674f6a8c73dc7eb1e0ba32": {
          "model_module": "@jupyter-widgets/controls",
          "model_name": "DescriptionStyleModel",
          "model_module_version": "1.5.0",
          "state": {
            "_model_module": "@jupyter-widgets/controls",
            "_model_module_version": "1.5.0",
            "_model_name": "DescriptionStyleModel",
            "_view_count": null,
            "_view_module": "@jupyter-widgets/base",
            "_view_module_version": "1.2.0",
            "_view_name": "StyleView",
            "description_width": ""
          }
        },
        "1cc9d431c436410f9d4808c4c6fa075b": {
          "model_module": "@jupyter-widgets/controls",
          "model_name": "HBoxModel",
          "model_module_version": "1.5.0",
          "state": {
            "_dom_classes": [],
            "_model_module": "@jupyter-widgets/controls",
            "_model_module_version": "1.5.0",
            "_model_name": "HBoxModel",
            "_view_count": null,
            "_view_module": "@jupyter-widgets/controls",
            "_view_module_version": "1.5.0",
            "_view_name": "HBoxView",
            "box_style": "",
            "children": [
              "IPY_MODEL_504d4f35d5dc4c3186272b1b0d078a7f",
              "IPY_MODEL_1a5aadcfb94349abb736bf373b494db0",
              "IPY_MODEL_af9173b2698d472397b1e787578c527e"
            ],
            "layout": "IPY_MODEL_f1205f87fbfc449795c314ed1520ae51"
          }
        },
        "504d4f35d5dc4c3186272b1b0d078a7f": {
          "model_module": "@jupyter-widgets/controls",
          "model_name": "HTMLModel",
          "model_module_version": "1.5.0",
          "state": {
            "_dom_classes": [],
            "_model_module": "@jupyter-widgets/controls",
            "_model_module_version": "1.5.0",
            "_model_name": "HTMLModel",
            "_view_count": null,
            "_view_module": "@jupyter-widgets/controls",
            "_view_module_version": "1.5.0",
            "_view_name": "HTMLView",
            "description": "",
            "description_tooltip": null,
            "layout": "IPY_MODEL_95a1155292534a6d84944e66280bcb2b",
            "placeholder": "​",
            "style": "IPY_MODEL_d5d624fb450340a79409cf11123f9c7a",
            "value": "Filter:  99%"
          }
        },
        "1a5aadcfb94349abb736bf373b494db0": {
          "model_module": "@jupyter-widgets/controls",
          "model_name": "FloatProgressModel",
          "model_module_version": "1.5.0",
          "state": {
            "_dom_classes": [],
            "_model_module": "@jupyter-widgets/controls",
            "_model_module_version": "1.5.0",
            "_model_name": "FloatProgressModel",
            "_view_count": null,
            "_view_module": "@jupyter-widgets/controls",
            "_view_module_version": "1.5.0",
            "_view_name": "ProgressView",
            "bar_style": "",
            "description": "",
            "description_tooltip": null,
            "layout": "IPY_MODEL_c22a3edb87be4de3a6399e07e8cf4059",
            "max": 3019,
            "min": 0,
            "orientation": "horizontal",
            "style": "IPY_MODEL_1b36bddba382422cb97e5566a672f80f",
            "value": 3019
          }
        },
        "af9173b2698d472397b1e787578c527e": {
          "model_module": "@jupyter-widgets/controls",
          "model_name": "HTMLModel",
          "model_module_version": "1.5.0",
          "state": {
            "_dom_classes": [],
            "_model_module": "@jupyter-widgets/controls",
            "_model_module_version": "1.5.0",
            "_model_name": "HTMLModel",
            "_view_count": null,
            "_view_module": "@jupyter-widgets/controls",
            "_view_module_version": "1.5.0",
            "_view_name": "HTMLView",
            "description": "",
            "description_tooltip": null,
            "layout": "IPY_MODEL_db6ad23156ab43ffa7e7f237f981aef6",
            "placeholder": "​",
            "style": "IPY_MODEL_bb1dd3c28bac4ef8bdb5b25387821232",
            "value": " 3000/3019 [00:00&lt;00:00, 3339.31 examples/s]"
          }
        },
        "f1205f87fbfc449795c314ed1520ae51": {
          "model_module": "@jupyter-widgets/base",
          "model_name": "LayoutModel",
          "model_module_version": "1.2.0",
          "state": {
            "_model_module": "@jupyter-widgets/base",
            "_model_module_version": "1.2.0",
            "_model_name": "LayoutModel",
            "_view_count": null,
            "_view_module": "@jupyter-widgets/base",
            "_view_module_version": "1.2.0",
            "_view_name": "LayoutView",
            "align_content": null,
            "align_items": null,
            "align_self": null,
            "border": null,
            "bottom": null,
            "display": null,
            "flex": null,
            "flex_flow": null,
            "grid_area": null,
            "grid_auto_columns": null,
            "grid_auto_flow": null,
            "grid_auto_rows": null,
            "grid_column": null,
            "grid_gap": null,
            "grid_row": null,
            "grid_template_areas": null,
            "grid_template_columns": null,
            "grid_template_rows": null,
            "height": null,
            "justify_content": null,
            "justify_items": null,
            "left": null,
            "margin": null,
            "max_height": null,
            "max_width": null,
            "min_height": null,
            "min_width": null,
            "object_fit": null,
            "object_position": null,
            "order": null,
            "overflow": null,
            "overflow_x": null,
            "overflow_y": null,
            "padding": null,
            "right": null,
            "top": null,
            "visibility": "hidden",
            "width": null
          }
        },
        "95a1155292534a6d84944e66280bcb2b": {
          "model_module": "@jupyter-widgets/base",
          "model_name": "LayoutModel",
          "model_module_version": "1.2.0",
          "state": {
            "_model_module": "@jupyter-widgets/base",
            "_model_module_version": "1.2.0",
            "_model_name": "LayoutModel",
            "_view_count": null,
            "_view_module": "@jupyter-widgets/base",
            "_view_module_version": "1.2.0",
            "_view_name": "LayoutView",
            "align_content": null,
            "align_items": null,
            "align_self": null,
            "border": null,
            "bottom": null,
            "display": null,
            "flex": null,
            "flex_flow": null,
            "grid_area": null,
            "grid_auto_columns": null,
            "grid_auto_flow": null,
            "grid_auto_rows": null,
            "grid_column": null,
            "grid_gap": null,
            "grid_row": null,
            "grid_template_areas": null,
            "grid_template_columns": null,
            "grid_template_rows": null,
            "height": null,
            "justify_content": null,
            "justify_items": null,
            "left": null,
            "margin": null,
            "max_height": null,
            "max_width": null,
            "min_height": null,
            "min_width": null,
            "object_fit": null,
            "object_position": null,
            "order": null,
            "overflow": null,
            "overflow_x": null,
            "overflow_y": null,
            "padding": null,
            "right": null,
            "top": null,
            "visibility": null,
            "width": null
          }
        },
        "d5d624fb450340a79409cf11123f9c7a": {
          "model_module": "@jupyter-widgets/controls",
          "model_name": "DescriptionStyleModel",
          "model_module_version": "1.5.0",
          "state": {
            "_model_module": "@jupyter-widgets/controls",
            "_model_module_version": "1.5.0",
            "_model_name": "DescriptionStyleModel",
            "_view_count": null,
            "_view_module": "@jupyter-widgets/base",
            "_view_module_version": "1.2.0",
            "_view_name": "StyleView",
            "description_width": ""
          }
        },
        "c22a3edb87be4de3a6399e07e8cf4059": {
          "model_module": "@jupyter-widgets/base",
          "model_name": "LayoutModel",
          "model_module_version": "1.2.0",
          "state": {
            "_model_module": "@jupyter-widgets/base",
            "_model_module_version": "1.2.0",
            "_model_name": "LayoutModel",
            "_view_count": null,
            "_view_module": "@jupyter-widgets/base",
            "_view_module_version": "1.2.0",
            "_view_name": "LayoutView",
            "align_content": null,
            "align_items": null,
            "align_self": null,
            "border": null,
            "bottom": null,
            "display": null,
            "flex": null,
            "flex_flow": null,
            "grid_area": null,
            "grid_auto_columns": null,
            "grid_auto_flow": null,
            "grid_auto_rows": null,
            "grid_column": null,
            "grid_gap": null,
            "grid_row": null,
            "grid_template_areas": null,
            "grid_template_columns": null,
            "grid_template_rows": null,
            "height": null,
            "justify_content": null,
            "justify_items": null,
            "left": null,
            "margin": null,
            "max_height": null,
            "max_width": null,
            "min_height": null,
            "min_width": null,
            "object_fit": null,
            "object_position": null,
            "order": null,
            "overflow": null,
            "overflow_x": null,
            "overflow_y": null,
            "padding": null,
            "right": null,
            "top": null,
            "visibility": null,
            "width": null
          }
        },
        "1b36bddba382422cb97e5566a672f80f": {
          "model_module": "@jupyter-widgets/controls",
          "model_name": "ProgressStyleModel",
          "model_module_version": "1.5.0",
          "state": {
            "_model_module": "@jupyter-widgets/controls",
            "_model_module_version": "1.5.0",
            "_model_name": "ProgressStyleModel",
            "_view_count": null,
            "_view_module": "@jupyter-widgets/base",
            "_view_module_version": "1.2.0",
            "_view_name": "StyleView",
            "bar_color": null,
            "description_width": ""
          }
        },
        "db6ad23156ab43ffa7e7f237f981aef6": {
          "model_module": "@jupyter-widgets/base",
          "model_name": "LayoutModel",
          "model_module_version": "1.2.0",
          "state": {
            "_model_module": "@jupyter-widgets/base",
            "_model_module_version": "1.2.0",
            "_model_name": "LayoutModel",
            "_view_count": null,
            "_view_module": "@jupyter-widgets/base",
            "_view_module_version": "1.2.0",
            "_view_name": "LayoutView",
            "align_content": null,
            "align_items": null,
            "align_self": null,
            "border": null,
            "bottom": null,
            "display": null,
            "flex": null,
            "flex_flow": null,
            "grid_area": null,
            "grid_auto_columns": null,
            "grid_auto_flow": null,
            "grid_auto_rows": null,
            "grid_column": null,
            "grid_gap": null,
            "grid_row": null,
            "grid_template_areas": null,
            "grid_template_columns": null,
            "grid_template_rows": null,
            "height": null,
            "justify_content": null,
            "justify_items": null,
            "left": null,
            "margin": null,
            "max_height": null,
            "max_width": null,
            "min_height": null,
            "min_width": null,
            "object_fit": null,
            "object_position": null,
            "order": null,
            "overflow": null,
            "overflow_x": null,
            "overflow_y": null,
            "padding": null,
            "right": null,
            "top": null,
            "visibility": null,
            "width": null
          }
        },
        "bb1dd3c28bac4ef8bdb5b25387821232": {
          "model_module": "@jupyter-widgets/controls",
          "model_name": "DescriptionStyleModel",
          "model_module_version": "1.5.0",
          "state": {
            "_model_module": "@jupyter-widgets/controls",
            "_model_module_version": "1.5.0",
            "_model_name": "DescriptionStyleModel",
            "_view_count": null,
            "_view_module": "@jupyter-widgets/base",
            "_view_module_version": "1.2.0",
            "_view_name": "StyleView",
            "description_width": ""
          }
        },
        "a376c44ed2824854abb842f8e4cbd4db": {
          "model_module": "@jupyter-widgets/controls",
          "model_name": "HBoxModel",
          "model_module_version": "1.5.0",
          "state": {
            "_dom_classes": [],
            "_model_module": "@jupyter-widgets/controls",
            "_model_module_version": "1.5.0",
            "_model_name": "HBoxModel",
            "_view_count": null,
            "_view_module": "@jupyter-widgets/controls",
            "_view_module_version": "1.5.0",
            "_view_name": "HBoxView",
            "box_style": "",
            "children": [
              "IPY_MODEL_fdfa3ecc74c642f5adefae32ccf18816",
              "IPY_MODEL_bd545233167f483c903430555e0f4df2",
              "IPY_MODEL_36a6915a6a59492db0f399a4121c13f1"
            ],
            "layout": "IPY_MODEL_d8714aed971c47a693857fdbd4a845a2"
          }
        },
        "fdfa3ecc74c642f5adefae32ccf18816": {
          "model_module": "@jupyter-widgets/controls",
          "model_name": "HTMLModel",
          "model_module_version": "1.5.0",
          "state": {
            "_dom_classes": [],
            "_model_module": "@jupyter-widgets/controls",
            "_model_module_version": "1.5.0",
            "_model_name": "HTMLModel",
            "_view_count": null,
            "_view_module": "@jupyter-widgets/controls",
            "_view_module_version": "1.5.0",
            "_view_name": "HTMLView",
            "description": "",
            "description_tooltip": null,
            "layout": "IPY_MODEL_96eb6547734a4aaa982e832a4a7b13fb",
            "placeholder": "​",
            "style": "IPY_MODEL_c321dad974874f3da53e9980b1c27557",
            "value": "Map: 100%"
          }
        },
        "bd545233167f483c903430555e0f4df2": {
          "model_module": "@jupyter-widgets/controls",
          "model_name": "FloatProgressModel",
          "model_module_version": "1.5.0",
          "state": {
            "_dom_classes": [],
            "_model_module": "@jupyter-widgets/controls",
            "_model_module_version": "1.5.0",
            "_model_name": "FloatProgressModel",
            "_view_count": null,
            "_view_module": "@jupyter-widgets/controls",
            "_view_module_version": "1.5.0",
            "_view_name": "ProgressView",
            "bar_style": "",
            "description": "",
            "description_tooltip": null,
            "layout": "IPY_MODEL_9be95c39852b4847ba2691272bd79458",
            "max": 2964,
            "min": 0,
            "orientation": "horizontal",
            "style": "IPY_MODEL_631a285f4bb749efbf61809ec4651ea2",
            "value": 2964
          }
        },
        "36a6915a6a59492db0f399a4121c13f1": {
          "model_module": "@jupyter-widgets/controls",
          "model_name": "HTMLModel",
          "model_module_version": "1.5.0",
          "state": {
            "_dom_classes": [],
            "_model_module": "@jupyter-widgets/controls",
            "_model_module_version": "1.5.0",
            "_model_name": "HTMLModel",
            "_view_count": null,
            "_view_module": "@jupyter-widgets/controls",
            "_view_module_version": "1.5.0",
            "_view_name": "HTMLView",
            "description": "",
            "description_tooltip": null,
            "layout": "IPY_MODEL_75bbd6b4500a401895cefcbb82f7980f",
            "placeholder": "​",
            "style": "IPY_MODEL_d95a574737b446ae805006e9e53dd628",
            "value": " 2964/2964 [00:00&lt;00:00, 13233.89 examples/s]"
          }
        },
        "d8714aed971c47a693857fdbd4a845a2": {
          "model_module": "@jupyter-widgets/base",
          "model_name": "LayoutModel",
          "model_module_version": "1.2.0",
          "state": {
            "_model_module": "@jupyter-widgets/base",
            "_model_module_version": "1.2.0",
            "_model_name": "LayoutModel",
            "_view_count": null,
            "_view_module": "@jupyter-widgets/base",
            "_view_module_version": "1.2.0",
            "_view_name": "LayoutView",
            "align_content": null,
            "align_items": null,
            "align_self": null,
            "border": null,
            "bottom": null,
            "display": null,
            "flex": null,
            "flex_flow": null,
            "grid_area": null,
            "grid_auto_columns": null,
            "grid_auto_flow": null,
            "grid_auto_rows": null,
            "grid_column": null,
            "grid_gap": null,
            "grid_row": null,
            "grid_template_areas": null,
            "grid_template_columns": null,
            "grid_template_rows": null,
            "height": null,
            "justify_content": null,
            "justify_items": null,
            "left": null,
            "margin": null,
            "max_height": null,
            "max_width": null,
            "min_height": null,
            "min_width": null,
            "object_fit": null,
            "object_position": null,
            "order": null,
            "overflow": null,
            "overflow_x": null,
            "overflow_y": null,
            "padding": null,
            "right": null,
            "top": null,
            "visibility": "hidden",
            "width": null
          }
        },
        "96eb6547734a4aaa982e832a4a7b13fb": {
          "model_module": "@jupyter-widgets/base",
          "model_name": "LayoutModel",
          "model_module_version": "1.2.0",
          "state": {
            "_model_module": "@jupyter-widgets/base",
            "_model_module_version": "1.2.0",
            "_model_name": "LayoutModel",
            "_view_count": null,
            "_view_module": "@jupyter-widgets/base",
            "_view_module_version": "1.2.0",
            "_view_name": "LayoutView",
            "align_content": null,
            "align_items": null,
            "align_self": null,
            "border": null,
            "bottom": null,
            "display": null,
            "flex": null,
            "flex_flow": null,
            "grid_area": null,
            "grid_auto_columns": null,
            "grid_auto_flow": null,
            "grid_auto_rows": null,
            "grid_column": null,
            "grid_gap": null,
            "grid_row": null,
            "grid_template_areas": null,
            "grid_template_columns": null,
            "grid_template_rows": null,
            "height": null,
            "justify_content": null,
            "justify_items": null,
            "left": null,
            "margin": null,
            "max_height": null,
            "max_width": null,
            "min_height": null,
            "min_width": null,
            "object_fit": null,
            "object_position": null,
            "order": null,
            "overflow": null,
            "overflow_x": null,
            "overflow_y": null,
            "padding": null,
            "right": null,
            "top": null,
            "visibility": null,
            "width": null
          }
        },
        "c321dad974874f3da53e9980b1c27557": {
          "model_module": "@jupyter-widgets/controls",
          "model_name": "DescriptionStyleModel",
          "model_module_version": "1.5.0",
          "state": {
            "_model_module": "@jupyter-widgets/controls",
            "_model_module_version": "1.5.0",
            "_model_name": "DescriptionStyleModel",
            "_view_count": null,
            "_view_module": "@jupyter-widgets/base",
            "_view_module_version": "1.2.0",
            "_view_name": "StyleView",
            "description_width": ""
          }
        },
        "9be95c39852b4847ba2691272bd79458": {
          "model_module": "@jupyter-widgets/base",
          "model_name": "LayoutModel",
          "model_module_version": "1.2.0",
          "state": {
            "_model_module": "@jupyter-widgets/base",
            "_model_module_version": "1.2.0",
            "_model_name": "LayoutModel",
            "_view_count": null,
            "_view_module": "@jupyter-widgets/base",
            "_view_module_version": "1.2.0",
            "_view_name": "LayoutView",
            "align_content": null,
            "align_items": null,
            "align_self": null,
            "border": null,
            "bottom": null,
            "display": null,
            "flex": null,
            "flex_flow": null,
            "grid_area": null,
            "grid_auto_columns": null,
            "grid_auto_flow": null,
            "grid_auto_rows": null,
            "grid_column": null,
            "grid_gap": null,
            "grid_row": null,
            "grid_template_areas": null,
            "grid_template_columns": null,
            "grid_template_rows": null,
            "height": null,
            "justify_content": null,
            "justify_items": null,
            "left": null,
            "margin": null,
            "max_height": null,
            "max_width": null,
            "min_height": null,
            "min_width": null,
            "object_fit": null,
            "object_position": null,
            "order": null,
            "overflow": null,
            "overflow_x": null,
            "overflow_y": null,
            "padding": null,
            "right": null,
            "top": null,
            "visibility": null,
            "width": null
          }
        },
        "631a285f4bb749efbf61809ec4651ea2": {
          "model_module": "@jupyter-widgets/controls",
          "model_name": "ProgressStyleModel",
          "model_module_version": "1.5.0",
          "state": {
            "_model_module": "@jupyter-widgets/controls",
            "_model_module_version": "1.5.0",
            "_model_name": "ProgressStyleModel",
            "_view_count": null,
            "_view_module": "@jupyter-widgets/base",
            "_view_module_version": "1.2.0",
            "_view_name": "StyleView",
            "bar_color": null,
            "description_width": ""
          }
        },
        "75bbd6b4500a401895cefcbb82f7980f": {
          "model_module": "@jupyter-widgets/base",
          "model_name": "LayoutModel",
          "model_module_version": "1.2.0",
          "state": {
            "_model_module": "@jupyter-widgets/base",
            "_model_module_version": "1.2.0",
            "_model_name": "LayoutModel",
            "_view_count": null,
            "_view_module": "@jupyter-widgets/base",
            "_view_module_version": "1.2.0",
            "_view_name": "LayoutView",
            "align_content": null,
            "align_items": null,
            "align_self": null,
            "border": null,
            "bottom": null,
            "display": null,
            "flex": null,
            "flex_flow": null,
            "grid_area": null,
            "grid_auto_columns": null,
            "grid_auto_flow": null,
            "grid_auto_rows": null,
            "grid_column": null,
            "grid_gap": null,
            "grid_row": null,
            "grid_template_areas": null,
            "grid_template_columns": null,
            "grid_template_rows": null,
            "height": null,
            "justify_content": null,
            "justify_items": null,
            "left": null,
            "margin": null,
            "max_height": null,
            "max_width": null,
            "min_height": null,
            "min_width": null,
            "object_fit": null,
            "object_position": null,
            "order": null,
            "overflow": null,
            "overflow_x": null,
            "overflow_y": null,
            "padding": null,
            "right": null,
            "top": null,
            "visibility": null,
            "width": null
          }
        },
        "d95a574737b446ae805006e9e53dd628": {
          "model_module": "@jupyter-widgets/controls",
          "model_name": "DescriptionStyleModel",
          "model_module_version": "1.5.0",
          "state": {
            "_model_module": "@jupyter-widgets/controls",
            "_model_module_version": "1.5.0",
            "_model_name": "DescriptionStyleModel",
            "_view_count": null,
            "_view_module": "@jupyter-widgets/base",
            "_view_module_version": "1.2.0",
            "_view_name": "StyleView",
            "description_width": ""
          }
        },
        "828c5a8d67d842b6ab45247359053ff0": {
          "model_module": "@jupyter-widgets/controls",
          "model_name": "HBoxModel",
          "model_module_version": "1.5.0",
          "state": {
            "_dom_classes": [],
            "_model_module": "@jupyter-widgets/controls",
            "_model_module_version": "1.5.0",
            "_model_name": "HBoxModel",
            "_view_count": null,
            "_view_module": "@jupyter-widgets/controls",
            "_view_module_version": "1.5.0",
            "_view_name": "HBoxView",
            "box_style": "",
            "children": [
              "IPY_MODEL_a7fe3d1770aa4a298b469cedd58a2ecd",
              "IPY_MODEL_cf20c572fd44403487f6f1b83fb0a55c",
              "IPY_MODEL_bde700bec7404beda3aa9be60f2957c2"
            ],
            "layout": "IPY_MODEL_8f75ec5525c64ef3bc1ba64246359f2e"
          }
        },
        "a7fe3d1770aa4a298b469cedd58a2ecd": {
          "model_module": "@jupyter-widgets/controls",
          "model_name": "HTMLModel",
          "model_module_version": "1.5.0",
          "state": {
            "_dom_classes": [],
            "_model_module": "@jupyter-widgets/controls",
            "_model_module_version": "1.5.0",
            "_model_name": "HTMLModel",
            "_view_count": null,
            "_view_module": "@jupyter-widgets/controls",
            "_view_module_version": "1.5.0",
            "_view_name": "HTMLView",
            "description": "",
            "description_tooltip": null,
            "layout": "IPY_MODEL_51623326675a4d228bee078b9317ae75",
            "placeholder": "​",
            "style": "IPY_MODEL_3cc12957a05f48c1a11f6552f3e2db75",
            "value": "Filter:   0%"
          }
        },
        "cf20c572fd44403487f6f1b83fb0a55c": {
          "model_module": "@jupyter-widgets/controls",
          "model_name": "FloatProgressModel",
          "model_module_version": "1.5.0",
          "state": {
            "_dom_classes": [],
            "_model_module": "@jupyter-widgets/controls",
            "_model_module_version": "1.5.0",
            "_model_name": "FloatProgressModel",
            "_view_count": null,
            "_view_module": "@jupyter-widgets/controls",
            "_view_module_version": "1.5.0",
            "_view_name": "ProgressView",
            "bar_style": "",
            "description": "",
            "description_tooltip": null,
            "layout": "IPY_MODEL_2bba310233ab4209901ad3593b3a2299",
            "max": 2964,
            "min": 0,
            "orientation": "horizontal",
            "style": "IPY_MODEL_caa21ea21b1a43d7894c9ce9d3df1c25",
            "value": 2964
          }
        },
        "bde700bec7404beda3aa9be60f2957c2": {
          "model_module": "@jupyter-widgets/controls",
          "model_name": "HTMLModel",
          "model_module_version": "1.5.0",
          "state": {
            "_dom_classes": [],
            "_model_module": "@jupyter-widgets/controls",
            "_model_module_version": "1.5.0",
            "_model_name": "HTMLModel",
            "_view_count": null,
            "_view_module": "@jupyter-widgets/controls",
            "_view_module_version": "1.5.0",
            "_view_name": "HTMLView",
            "description": "",
            "description_tooltip": null,
            "layout": "IPY_MODEL_cca6b2dd7bba4571b66011a1e3cb7dab",
            "placeholder": "​",
            "style": "IPY_MODEL_0ea15cc1427c428f90aa3f256e0709f4",
            "value": " 0/2964 [00:00&lt;?, ? examples/s]"
          }
        },
        "8f75ec5525c64ef3bc1ba64246359f2e": {
          "model_module": "@jupyter-widgets/base",
          "model_name": "LayoutModel",
          "model_module_version": "1.2.0",
          "state": {
            "_model_module": "@jupyter-widgets/base",
            "_model_module_version": "1.2.0",
            "_model_name": "LayoutModel",
            "_view_count": null,
            "_view_module": "@jupyter-widgets/base",
            "_view_module_version": "1.2.0",
            "_view_name": "LayoutView",
            "align_content": null,
            "align_items": null,
            "align_self": null,
            "border": null,
            "bottom": null,
            "display": null,
            "flex": null,
            "flex_flow": null,
            "grid_area": null,
            "grid_auto_columns": null,
            "grid_auto_flow": null,
            "grid_auto_rows": null,
            "grid_column": null,
            "grid_gap": null,
            "grid_row": null,
            "grid_template_areas": null,
            "grid_template_columns": null,
            "grid_template_rows": null,
            "height": null,
            "justify_content": null,
            "justify_items": null,
            "left": null,
            "margin": null,
            "max_height": null,
            "max_width": null,
            "min_height": null,
            "min_width": null,
            "object_fit": null,
            "object_position": null,
            "order": null,
            "overflow": null,
            "overflow_x": null,
            "overflow_y": null,
            "padding": null,
            "right": null,
            "top": null,
            "visibility": "hidden",
            "width": null
          }
        },
        "51623326675a4d228bee078b9317ae75": {
          "model_module": "@jupyter-widgets/base",
          "model_name": "LayoutModel",
          "model_module_version": "1.2.0",
          "state": {
            "_model_module": "@jupyter-widgets/base",
            "_model_module_version": "1.2.0",
            "_model_name": "LayoutModel",
            "_view_count": null,
            "_view_module": "@jupyter-widgets/base",
            "_view_module_version": "1.2.0",
            "_view_name": "LayoutView",
            "align_content": null,
            "align_items": null,
            "align_self": null,
            "border": null,
            "bottom": null,
            "display": null,
            "flex": null,
            "flex_flow": null,
            "grid_area": null,
            "grid_auto_columns": null,
            "grid_auto_flow": null,
            "grid_auto_rows": null,
            "grid_column": null,
            "grid_gap": null,
            "grid_row": null,
            "grid_template_areas": null,
            "grid_template_columns": null,
            "grid_template_rows": null,
            "height": null,
            "justify_content": null,
            "justify_items": null,
            "left": null,
            "margin": null,
            "max_height": null,
            "max_width": null,
            "min_height": null,
            "min_width": null,
            "object_fit": null,
            "object_position": null,
            "order": null,
            "overflow": null,
            "overflow_x": null,
            "overflow_y": null,
            "padding": null,
            "right": null,
            "top": null,
            "visibility": null,
            "width": null
          }
        },
        "3cc12957a05f48c1a11f6552f3e2db75": {
          "model_module": "@jupyter-widgets/controls",
          "model_name": "DescriptionStyleModel",
          "model_module_version": "1.5.0",
          "state": {
            "_model_module": "@jupyter-widgets/controls",
            "_model_module_version": "1.5.0",
            "_model_name": "DescriptionStyleModel",
            "_view_count": null,
            "_view_module": "@jupyter-widgets/base",
            "_view_module_version": "1.2.0",
            "_view_name": "StyleView",
            "description_width": ""
          }
        },
        "2bba310233ab4209901ad3593b3a2299": {
          "model_module": "@jupyter-widgets/base",
          "model_name": "LayoutModel",
          "model_module_version": "1.2.0",
          "state": {
            "_model_module": "@jupyter-widgets/base",
            "_model_module_version": "1.2.0",
            "_model_name": "LayoutModel",
            "_view_count": null,
            "_view_module": "@jupyter-widgets/base",
            "_view_module_version": "1.2.0",
            "_view_name": "LayoutView",
            "align_content": null,
            "align_items": null,
            "align_self": null,
            "border": null,
            "bottom": null,
            "display": null,
            "flex": null,
            "flex_flow": null,
            "grid_area": null,
            "grid_auto_columns": null,
            "grid_auto_flow": null,
            "grid_auto_rows": null,
            "grid_column": null,
            "grid_gap": null,
            "grid_row": null,
            "grid_template_areas": null,
            "grid_template_columns": null,
            "grid_template_rows": null,
            "height": null,
            "justify_content": null,
            "justify_items": null,
            "left": null,
            "margin": null,
            "max_height": null,
            "max_width": null,
            "min_height": null,
            "min_width": null,
            "object_fit": null,
            "object_position": null,
            "order": null,
            "overflow": null,
            "overflow_x": null,
            "overflow_y": null,
            "padding": null,
            "right": null,
            "top": null,
            "visibility": null,
            "width": null
          }
        },
        "caa21ea21b1a43d7894c9ce9d3df1c25": {
          "model_module": "@jupyter-widgets/controls",
          "model_name": "ProgressStyleModel",
          "model_module_version": "1.5.0",
          "state": {
            "_model_module": "@jupyter-widgets/controls",
            "_model_module_version": "1.5.0",
            "_model_name": "ProgressStyleModel",
            "_view_count": null,
            "_view_module": "@jupyter-widgets/base",
            "_view_module_version": "1.2.0",
            "_view_name": "StyleView",
            "bar_color": null,
            "description_width": ""
          }
        },
        "cca6b2dd7bba4571b66011a1e3cb7dab": {
          "model_module": "@jupyter-widgets/base",
          "model_name": "LayoutModel",
          "model_module_version": "1.2.0",
          "state": {
            "_model_module": "@jupyter-widgets/base",
            "_model_module_version": "1.2.0",
            "_model_name": "LayoutModel",
            "_view_count": null,
            "_view_module": "@jupyter-widgets/base",
            "_view_module_version": "1.2.0",
            "_view_name": "LayoutView",
            "align_content": null,
            "align_items": null,
            "align_self": null,
            "border": null,
            "bottom": null,
            "display": null,
            "flex": null,
            "flex_flow": null,
            "grid_area": null,
            "grid_auto_columns": null,
            "grid_auto_flow": null,
            "grid_auto_rows": null,
            "grid_column": null,
            "grid_gap": null,
            "grid_row": null,
            "grid_template_areas": null,
            "grid_template_columns": null,
            "grid_template_rows": null,
            "height": null,
            "justify_content": null,
            "justify_items": null,
            "left": null,
            "margin": null,
            "max_height": null,
            "max_width": null,
            "min_height": null,
            "min_width": null,
            "object_fit": null,
            "object_position": null,
            "order": null,
            "overflow": null,
            "overflow_x": null,
            "overflow_y": null,
            "padding": null,
            "right": null,
            "top": null,
            "visibility": null,
            "width": null
          }
        },
        "0ea15cc1427c428f90aa3f256e0709f4": {
          "model_module": "@jupyter-widgets/controls",
          "model_name": "DescriptionStyleModel",
          "model_module_version": "1.5.0",
          "state": {
            "_model_module": "@jupyter-widgets/controls",
            "_model_module_version": "1.5.0",
            "_model_name": "DescriptionStyleModel",
            "_view_count": null,
            "_view_module": "@jupyter-widgets/base",
            "_view_module_version": "1.2.0",
            "_view_name": "StyleView",
            "description_width": ""
          }
        },
        "7ab84c178a8a4241ab58d32290860859": {
          "model_module": "@jupyter-widgets/controls",
          "model_name": "HBoxModel",
          "model_module_version": "1.5.0",
          "state": {
            "_dom_classes": [],
            "_model_module": "@jupyter-widgets/controls",
            "_model_module_version": "1.5.0",
            "_model_name": "HBoxModel",
            "_view_count": null,
            "_view_module": "@jupyter-widgets/controls",
            "_view_module_version": "1.5.0",
            "_view_name": "HBoxView",
            "box_style": "",
            "children": [
              "IPY_MODEL_780f0af5daf74a6e8eaa3cc5be5d9bc7",
              "IPY_MODEL_55051e1957b044ab85264db94f0aa4ef",
              "IPY_MODEL_963765034a664088855d9714a276c551"
            ],
            "layout": "IPY_MODEL_47a2bc8ddd3c42e185bad550c0c466a5"
          }
        },
        "780f0af5daf74a6e8eaa3cc5be5d9bc7": {
          "model_module": "@jupyter-widgets/controls",
          "model_name": "HTMLModel",
          "model_module_version": "1.5.0",
          "state": {
            "_dom_classes": [],
            "_model_module": "@jupyter-widgets/controls",
            "_model_module_version": "1.5.0",
            "_model_name": "HTMLModel",
            "_view_count": null,
            "_view_module": "@jupyter-widgets/controls",
            "_view_module_version": "1.5.0",
            "_view_name": "HTMLView",
            "description": "",
            "description_tooltip": null,
            "layout": "IPY_MODEL_8801a3e7843f4b389dff1e9299fcea9f",
            "placeholder": "​",
            "style": "IPY_MODEL_50a6636de5e44d0dbc359fee1035c787",
            "value": "Map:  92%"
          }
        },
        "55051e1957b044ab85264db94f0aa4ef": {
          "model_module": "@jupyter-widgets/controls",
          "model_name": "FloatProgressModel",
          "model_module_version": "1.5.0",
          "state": {
            "_dom_classes": [],
            "_model_module": "@jupyter-widgets/controls",
            "_model_module_version": "1.5.0",
            "_model_name": "FloatProgressModel",
            "_view_count": null,
            "_view_module": "@jupyter-widgets/controls",
            "_view_module_version": "1.5.0",
            "_view_name": "ProgressView",
            "bar_style": "",
            "description": "",
            "description_tooltip": null,
            "layout": "IPY_MODEL_c0b8d0eff5c04ed3bdcd25bd376c71f0",
            "max": 2175,
            "min": 0,
            "orientation": "horizontal",
            "style": "IPY_MODEL_f1dda3f20bc643dcbc6c23f8b3b63521",
            "value": 2175
          }
        },
        "963765034a664088855d9714a276c551": {
          "model_module": "@jupyter-widgets/controls",
          "model_name": "HTMLModel",
          "model_module_version": "1.5.0",
          "state": {
            "_dom_classes": [],
            "_model_module": "@jupyter-widgets/controls",
            "_model_module_version": "1.5.0",
            "_model_name": "HTMLModel",
            "_view_count": null,
            "_view_module": "@jupyter-widgets/controls",
            "_view_module_version": "1.5.0",
            "_view_name": "HTMLView",
            "description": "",
            "description_tooltip": null,
            "layout": "IPY_MODEL_08459b3947b94a1c81690f2148a11e20",
            "placeholder": "​",
            "style": "IPY_MODEL_bfb37518b2a34626b1e5c7b96984e92d",
            "value": " 2000/2175 [00:00&lt;00:00, 3898.99 examples/s]"
          }
        },
        "47a2bc8ddd3c42e185bad550c0c466a5": {
          "model_module": "@jupyter-widgets/base",
          "model_name": "LayoutModel",
          "model_module_version": "1.2.0",
          "state": {
            "_model_module": "@jupyter-widgets/base",
            "_model_module_version": "1.2.0",
            "_model_name": "LayoutModel",
            "_view_count": null,
            "_view_module": "@jupyter-widgets/base",
            "_view_module_version": "1.2.0",
            "_view_name": "LayoutView",
            "align_content": null,
            "align_items": null,
            "align_self": null,
            "border": null,
            "bottom": null,
            "display": null,
            "flex": null,
            "flex_flow": null,
            "grid_area": null,
            "grid_auto_columns": null,
            "grid_auto_flow": null,
            "grid_auto_rows": null,
            "grid_column": null,
            "grid_gap": null,
            "grid_row": null,
            "grid_template_areas": null,
            "grid_template_columns": null,
            "grid_template_rows": null,
            "height": null,
            "justify_content": null,
            "justify_items": null,
            "left": null,
            "margin": null,
            "max_height": null,
            "max_width": null,
            "min_height": null,
            "min_width": null,
            "object_fit": null,
            "object_position": null,
            "order": null,
            "overflow": null,
            "overflow_x": null,
            "overflow_y": null,
            "padding": null,
            "right": null,
            "top": null,
            "visibility": "hidden",
            "width": null
          }
        },
        "8801a3e7843f4b389dff1e9299fcea9f": {
          "model_module": "@jupyter-widgets/base",
          "model_name": "LayoutModel",
          "model_module_version": "1.2.0",
          "state": {
            "_model_module": "@jupyter-widgets/base",
            "_model_module_version": "1.2.0",
            "_model_name": "LayoutModel",
            "_view_count": null,
            "_view_module": "@jupyter-widgets/base",
            "_view_module_version": "1.2.0",
            "_view_name": "LayoutView",
            "align_content": null,
            "align_items": null,
            "align_self": null,
            "border": null,
            "bottom": null,
            "display": null,
            "flex": null,
            "flex_flow": null,
            "grid_area": null,
            "grid_auto_columns": null,
            "grid_auto_flow": null,
            "grid_auto_rows": null,
            "grid_column": null,
            "grid_gap": null,
            "grid_row": null,
            "grid_template_areas": null,
            "grid_template_columns": null,
            "grid_template_rows": null,
            "height": null,
            "justify_content": null,
            "justify_items": null,
            "left": null,
            "margin": null,
            "max_height": null,
            "max_width": null,
            "min_height": null,
            "min_width": null,
            "object_fit": null,
            "object_position": null,
            "order": null,
            "overflow": null,
            "overflow_x": null,
            "overflow_y": null,
            "padding": null,
            "right": null,
            "top": null,
            "visibility": null,
            "width": null
          }
        },
        "50a6636de5e44d0dbc359fee1035c787": {
          "model_module": "@jupyter-widgets/controls",
          "model_name": "DescriptionStyleModel",
          "model_module_version": "1.5.0",
          "state": {
            "_model_module": "@jupyter-widgets/controls",
            "_model_module_version": "1.5.0",
            "_model_name": "DescriptionStyleModel",
            "_view_count": null,
            "_view_module": "@jupyter-widgets/base",
            "_view_module_version": "1.2.0",
            "_view_name": "StyleView",
            "description_width": ""
          }
        },
        "c0b8d0eff5c04ed3bdcd25bd376c71f0": {
          "model_module": "@jupyter-widgets/base",
          "model_name": "LayoutModel",
          "model_module_version": "1.2.0",
          "state": {
            "_model_module": "@jupyter-widgets/base",
            "_model_module_version": "1.2.0",
            "_model_name": "LayoutModel",
            "_view_count": null,
            "_view_module": "@jupyter-widgets/base",
            "_view_module_version": "1.2.0",
            "_view_name": "LayoutView",
            "align_content": null,
            "align_items": null,
            "align_self": null,
            "border": null,
            "bottom": null,
            "display": null,
            "flex": null,
            "flex_flow": null,
            "grid_area": null,
            "grid_auto_columns": null,
            "grid_auto_flow": null,
            "grid_auto_rows": null,
            "grid_column": null,
            "grid_gap": null,
            "grid_row": null,
            "grid_template_areas": null,
            "grid_template_columns": null,
            "grid_template_rows": null,
            "height": null,
            "justify_content": null,
            "justify_items": null,
            "left": null,
            "margin": null,
            "max_height": null,
            "max_width": null,
            "min_height": null,
            "min_width": null,
            "object_fit": null,
            "object_position": null,
            "order": null,
            "overflow": null,
            "overflow_x": null,
            "overflow_y": null,
            "padding": null,
            "right": null,
            "top": null,
            "visibility": null,
            "width": null
          }
        },
        "f1dda3f20bc643dcbc6c23f8b3b63521": {
          "model_module": "@jupyter-widgets/controls",
          "model_name": "ProgressStyleModel",
          "model_module_version": "1.5.0",
          "state": {
            "_model_module": "@jupyter-widgets/controls",
            "_model_module_version": "1.5.0",
            "_model_name": "ProgressStyleModel",
            "_view_count": null,
            "_view_module": "@jupyter-widgets/base",
            "_view_module_version": "1.2.0",
            "_view_name": "StyleView",
            "bar_color": null,
            "description_width": ""
          }
        },
        "08459b3947b94a1c81690f2148a11e20": {
          "model_module": "@jupyter-widgets/base",
          "model_name": "LayoutModel",
          "model_module_version": "1.2.0",
          "state": {
            "_model_module": "@jupyter-widgets/base",
            "_model_module_version": "1.2.0",
            "_model_name": "LayoutModel",
            "_view_count": null,
            "_view_module": "@jupyter-widgets/base",
            "_view_module_version": "1.2.0",
            "_view_name": "LayoutView",
            "align_content": null,
            "align_items": null,
            "align_self": null,
            "border": null,
            "bottom": null,
            "display": null,
            "flex": null,
            "flex_flow": null,
            "grid_area": null,
            "grid_auto_columns": null,
            "grid_auto_flow": null,
            "grid_auto_rows": null,
            "grid_column": null,
            "grid_gap": null,
            "grid_row": null,
            "grid_template_areas": null,
            "grid_template_columns": null,
            "grid_template_rows": null,
            "height": null,
            "justify_content": null,
            "justify_items": null,
            "left": null,
            "margin": null,
            "max_height": null,
            "max_width": null,
            "min_height": null,
            "min_width": null,
            "object_fit": null,
            "object_position": null,
            "order": null,
            "overflow": null,
            "overflow_x": null,
            "overflow_y": null,
            "padding": null,
            "right": null,
            "top": null,
            "visibility": null,
            "width": null
          }
        },
        "bfb37518b2a34626b1e5c7b96984e92d": {
          "model_module": "@jupyter-widgets/controls",
          "model_name": "DescriptionStyleModel",
          "model_module_version": "1.5.0",
          "state": {
            "_model_module": "@jupyter-widgets/controls",
            "_model_module_version": "1.5.0",
            "_model_name": "DescriptionStyleModel",
            "_view_count": null,
            "_view_module": "@jupyter-widgets/base",
            "_view_module_version": "1.2.0",
            "_view_name": "StyleView",
            "description_width": ""
          }
        },
        "20f665826947476699b78068c9c5cc68": {
          "model_module": "@jupyter-widgets/controls",
          "model_name": "HBoxModel",
          "model_module_version": "1.5.0",
          "state": {
            "_dom_classes": [],
            "_model_module": "@jupyter-widgets/controls",
            "_model_module_version": "1.5.0",
            "_model_name": "HBoxModel",
            "_view_count": null,
            "_view_module": "@jupyter-widgets/controls",
            "_view_module_version": "1.5.0",
            "_view_name": "HBoxView",
            "box_style": "",
            "children": [
              "IPY_MODEL_298ed6dd1e234923884784396f836227",
              "IPY_MODEL_7232dc8901324044b2fb1a426d84cba9",
              "IPY_MODEL_4e4ed9a191fc483d9c6fa8c515c1bc78"
            ],
            "layout": "IPY_MODEL_c10cfb270db1421faa0c239a2ca2fe85"
          }
        },
        "298ed6dd1e234923884784396f836227": {
          "model_module": "@jupyter-widgets/controls",
          "model_name": "HTMLModel",
          "model_module_version": "1.5.0",
          "state": {
            "_dom_classes": [],
            "_model_module": "@jupyter-widgets/controls",
            "_model_module_version": "1.5.0",
            "_model_name": "HTMLModel",
            "_view_count": null,
            "_view_module": "@jupyter-widgets/controls",
            "_view_module_version": "1.5.0",
            "_view_name": "HTMLView",
            "description": "",
            "description_tooltip": null,
            "layout": "IPY_MODEL_798999bbcc624ee1bd10eb9996c4b74f",
            "placeholder": "​",
            "style": "IPY_MODEL_4d3177fe7885442c861b92cf3084a8d7",
            "value": "Downloading (…)okenizer_config.json: 100%"
          }
        },
        "7232dc8901324044b2fb1a426d84cba9": {
          "model_module": "@jupyter-widgets/controls",
          "model_name": "FloatProgressModel",
          "model_module_version": "1.5.0",
          "state": {
            "_dom_classes": [],
            "_model_module": "@jupyter-widgets/controls",
            "_model_module_version": "1.5.0",
            "_model_name": "FloatProgressModel",
            "_view_count": null,
            "_view_module": "@jupyter-widgets/controls",
            "_view_module_version": "1.5.0",
            "_view_name": "ProgressView",
            "bar_style": "success",
            "description": "",
            "description_tooltip": null,
            "layout": "IPY_MODEL_80c0ad742d4e4c2d868d65ddcd836318",
            "max": 363,
            "min": 0,
            "orientation": "horizontal",
            "style": "IPY_MODEL_0f5a8bd0309f4ce590239d963f24c4a8",
            "value": 363
          }
        },
        "4e4ed9a191fc483d9c6fa8c515c1bc78": {
          "model_module": "@jupyter-widgets/controls",
          "model_name": "HTMLModel",
          "model_module_version": "1.5.0",
          "state": {
            "_dom_classes": [],
            "_model_module": "@jupyter-widgets/controls",
            "_model_module_version": "1.5.0",
            "_model_name": "HTMLModel",
            "_view_count": null,
            "_view_module": "@jupyter-widgets/controls",
            "_view_module_version": "1.5.0",
            "_view_name": "HTMLView",
            "description": "",
            "description_tooltip": null,
            "layout": "IPY_MODEL_fb18c54a8f5b4088becac5be906e3ce8",
            "placeholder": "​",
            "style": "IPY_MODEL_7303ae2afdbe4a279824c94af5ffc14e",
            "value": " 363/363 [00:00&lt;00:00, 23.7kB/s]"
          }
        },
        "c10cfb270db1421faa0c239a2ca2fe85": {
          "model_module": "@jupyter-widgets/base",
          "model_name": "LayoutModel",
          "model_module_version": "1.2.0",
          "state": {
            "_model_module": "@jupyter-widgets/base",
            "_model_module_version": "1.2.0",
            "_model_name": "LayoutModel",
            "_view_count": null,
            "_view_module": "@jupyter-widgets/base",
            "_view_module_version": "1.2.0",
            "_view_name": "LayoutView",
            "align_content": null,
            "align_items": null,
            "align_self": null,
            "border": null,
            "bottom": null,
            "display": null,
            "flex": null,
            "flex_flow": null,
            "grid_area": null,
            "grid_auto_columns": null,
            "grid_auto_flow": null,
            "grid_auto_rows": null,
            "grid_column": null,
            "grid_gap": null,
            "grid_row": null,
            "grid_template_areas": null,
            "grid_template_columns": null,
            "grid_template_rows": null,
            "height": null,
            "justify_content": null,
            "justify_items": null,
            "left": null,
            "margin": null,
            "max_height": null,
            "max_width": null,
            "min_height": null,
            "min_width": null,
            "object_fit": null,
            "object_position": null,
            "order": null,
            "overflow": null,
            "overflow_x": null,
            "overflow_y": null,
            "padding": null,
            "right": null,
            "top": null,
            "visibility": null,
            "width": null
          }
        },
        "798999bbcc624ee1bd10eb9996c4b74f": {
          "model_module": "@jupyter-widgets/base",
          "model_name": "LayoutModel",
          "model_module_version": "1.2.0",
          "state": {
            "_model_module": "@jupyter-widgets/base",
            "_model_module_version": "1.2.0",
            "_model_name": "LayoutModel",
            "_view_count": null,
            "_view_module": "@jupyter-widgets/base",
            "_view_module_version": "1.2.0",
            "_view_name": "LayoutView",
            "align_content": null,
            "align_items": null,
            "align_self": null,
            "border": null,
            "bottom": null,
            "display": null,
            "flex": null,
            "flex_flow": null,
            "grid_area": null,
            "grid_auto_columns": null,
            "grid_auto_flow": null,
            "grid_auto_rows": null,
            "grid_column": null,
            "grid_gap": null,
            "grid_row": null,
            "grid_template_areas": null,
            "grid_template_columns": null,
            "grid_template_rows": null,
            "height": null,
            "justify_content": null,
            "justify_items": null,
            "left": null,
            "margin": null,
            "max_height": null,
            "max_width": null,
            "min_height": null,
            "min_width": null,
            "object_fit": null,
            "object_position": null,
            "order": null,
            "overflow": null,
            "overflow_x": null,
            "overflow_y": null,
            "padding": null,
            "right": null,
            "top": null,
            "visibility": null,
            "width": null
          }
        },
        "4d3177fe7885442c861b92cf3084a8d7": {
          "model_module": "@jupyter-widgets/controls",
          "model_name": "DescriptionStyleModel",
          "model_module_version": "1.5.0",
          "state": {
            "_model_module": "@jupyter-widgets/controls",
            "_model_module_version": "1.5.0",
            "_model_name": "DescriptionStyleModel",
            "_view_count": null,
            "_view_module": "@jupyter-widgets/base",
            "_view_module_version": "1.2.0",
            "_view_name": "StyleView",
            "description_width": ""
          }
        },
        "80c0ad742d4e4c2d868d65ddcd836318": {
          "model_module": "@jupyter-widgets/base",
          "model_name": "LayoutModel",
          "model_module_version": "1.2.0",
          "state": {
            "_model_module": "@jupyter-widgets/base",
            "_model_module_version": "1.2.0",
            "_model_name": "LayoutModel",
            "_view_count": null,
            "_view_module": "@jupyter-widgets/base",
            "_view_module_version": "1.2.0",
            "_view_name": "LayoutView",
            "align_content": null,
            "align_items": null,
            "align_self": null,
            "border": null,
            "bottom": null,
            "display": null,
            "flex": null,
            "flex_flow": null,
            "grid_area": null,
            "grid_auto_columns": null,
            "grid_auto_flow": null,
            "grid_auto_rows": null,
            "grid_column": null,
            "grid_gap": null,
            "grid_row": null,
            "grid_template_areas": null,
            "grid_template_columns": null,
            "grid_template_rows": null,
            "height": null,
            "justify_content": null,
            "justify_items": null,
            "left": null,
            "margin": null,
            "max_height": null,
            "max_width": null,
            "min_height": null,
            "min_width": null,
            "object_fit": null,
            "object_position": null,
            "order": null,
            "overflow": null,
            "overflow_x": null,
            "overflow_y": null,
            "padding": null,
            "right": null,
            "top": null,
            "visibility": null,
            "width": null
          }
        },
        "0f5a8bd0309f4ce590239d963f24c4a8": {
          "model_module": "@jupyter-widgets/controls",
          "model_name": "ProgressStyleModel",
          "model_module_version": "1.5.0",
          "state": {
            "_model_module": "@jupyter-widgets/controls",
            "_model_module_version": "1.5.0",
            "_model_name": "ProgressStyleModel",
            "_view_count": null,
            "_view_module": "@jupyter-widgets/base",
            "_view_module_version": "1.2.0",
            "_view_name": "StyleView",
            "bar_color": null,
            "description_width": ""
          }
        },
        "fb18c54a8f5b4088becac5be906e3ce8": {
          "model_module": "@jupyter-widgets/base",
          "model_name": "LayoutModel",
          "model_module_version": "1.2.0",
          "state": {
            "_model_module": "@jupyter-widgets/base",
            "_model_module_version": "1.2.0",
            "_model_name": "LayoutModel",
            "_view_count": null,
            "_view_module": "@jupyter-widgets/base",
            "_view_module_version": "1.2.0",
            "_view_name": "LayoutView",
            "align_content": null,
            "align_items": null,
            "align_self": null,
            "border": null,
            "bottom": null,
            "display": null,
            "flex": null,
            "flex_flow": null,
            "grid_area": null,
            "grid_auto_columns": null,
            "grid_auto_flow": null,
            "grid_auto_rows": null,
            "grid_column": null,
            "grid_gap": null,
            "grid_row": null,
            "grid_template_areas": null,
            "grid_template_columns": null,
            "grid_template_rows": null,
            "height": null,
            "justify_content": null,
            "justify_items": null,
            "left": null,
            "margin": null,
            "max_height": null,
            "max_width": null,
            "min_height": null,
            "min_width": null,
            "object_fit": null,
            "object_position": null,
            "order": null,
            "overflow": null,
            "overflow_x": null,
            "overflow_y": null,
            "padding": null,
            "right": null,
            "top": null,
            "visibility": null,
            "width": null
          }
        },
        "7303ae2afdbe4a279824c94af5ffc14e": {
          "model_module": "@jupyter-widgets/controls",
          "model_name": "DescriptionStyleModel",
          "model_module_version": "1.5.0",
          "state": {
            "_model_module": "@jupyter-widgets/controls",
            "_model_module_version": "1.5.0",
            "_model_name": "DescriptionStyleModel",
            "_view_count": null,
            "_view_module": "@jupyter-widgets/base",
            "_view_module_version": "1.2.0",
            "_view_name": "StyleView",
            "description_width": ""
          }
        },
        "02ad3906d14146e289378cb39c7bdfc3": {
          "model_module": "@jupyter-widgets/controls",
          "model_name": "HBoxModel",
          "model_module_version": "1.5.0",
          "state": {
            "_dom_classes": [],
            "_model_module": "@jupyter-widgets/controls",
            "_model_module_version": "1.5.0",
            "_model_name": "HBoxModel",
            "_view_count": null,
            "_view_module": "@jupyter-widgets/controls",
            "_view_module_version": "1.5.0",
            "_view_name": "HBoxView",
            "box_style": "",
            "children": [
              "IPY_MODEL_b46cbc7806d14d738631621ca73890e5",
              "IPY_MODEL_53ec3fcae03d46c6893af62a129b7278",
              "IPY_MODEL_eba65d6c02b04d8786df0bb3b063337e"
            ],
            "layout": "IPY_MODEL_9f3577b5c71a42818fdd5ac0fc474b90"
          }
        },
        "b46cbc7806d14d738631621ca73890e5": {
          "model_module": "@jupyter-widgets/controls",
          "model_name": "HTMLModel",
          "model_module_version": "1.5.0",
          "state": {
            "_dom_classes": [],
            "_model_module": "@jupyter-widgets/controls",
            "_model_module_version": "1.5.0",
            "_model_name": "HTMLModel",
            "_view_count": null,
            "_view_module": "@jupyter-widgets/controls",
            "_view_module_version": "1.5.0",
            "_view_name": "HTMLView",
            "description": "",
            "description_tooltip": null,
            "layout": "IPY_MODEL_5094ae0eb19943d4857536d5ed2d9d66",
            "placeholder": "​",
            "style": "IPY_MODEL_421334b379c34f0e97ec9a427c554840",
            "value": "Downloading (…)solve/main/vocab.txt: 100%"
          }
        },
        "53ec3fcae03d46c6893af62a129b7278": {
          "model_module": "@jupyter-widgets/controls",
          "model_name": "FloatProgressModel",
          "model_module_version": "1.5.0",
          "state": {
            "_dom_classes": [],
            "_model_module": "@jupyter-widgets/controls",
            "_model_module_version": "1.5.0",
            "_model_name": "FloatProgressModel",
            "_view_count": null,
            "_view_module": "@jupyter-widgets/controls",
            "_view_module_version": "1.5.0",
            "_view_name": "ProgressView",
            "bar_style": "success",
            "description": "",
            "description_tooltip": null,
            "layout": "IPY_MODEL_42ef1b666a96456bbf9340e36b46a923",
            "max": 231536,
            "min": 0,
            "orientation": "horizontal",
            "style": "IPY_MODEL_cdddc78f06714c8f9b977facc17832ff",
            "value": 231536
          }
        },
        "eba65d6c02b04d8786df0bb3b063337e": {
          "model_module": "@jupyter-widgets/controls",
          "model_name": "HTMLModel",
          "model_module_version": "1.5.0",
          "state": {
            "_dom_classes": [],
            "_model_module": "@jupyter-widgets/controls",
            "_model_module_version": "1.5.0",
            "_model_name": "HTMLModel",
            "_view_count": null,
            "_view_module": "@jupyter-widgets/controls",
            "_view_module_version": "1.5.0",
            "_view_name": "HTMLView",
            "description": "",
            "description_tooltip": null,
            "layout": "IPY_MODEL_e6fe41e1408848c9b6819bf165a1ca6f",
            "placeholder": "​",
            "style": "IPY_MODEL_07c269b6b621430a903b3a72bb6e25af",
            "value": " 232k/232k [00:00&lt;00:00, 532kB/s]"
          }
        },
        "9f3577b5c71a42818fdd5ac0fc474b90": {
          "model_module": "@jupyter-widgets/base",
          "model_name": "LayoutModel",
          "model_module_version": "1.2.0",
          "state": {
            "_model_module": "@jupyter-widgets/base",
            "_model_module_version": "1.2.0",
            "_model_name": "LayoutModel",
            "_view_count": null,
            "_view_module": "@jupyter-widgets/base",
            "_view_module_version": "1.2.0",
            "_view_name": "LayoutView",
            "align_content": null,
            "align_items": null,
            "align_self": null,
            "border": null,
            "bottom": null,
            "display": null,
            "flex": null,
            "flex_flow": null,
            "grid_area": null,
            "grid_auto_columns": null,
            "grid_auto_flow": null,
            "grid_auto_rows": null,
            "grid_column": null,
            "grid_gap": null,
            "grid_row": null,
            "grid_template_areas": null,
            "grid_template_columns": null,
            "grid_template_rows": null,
            "height": null,
            "justify_content": null,
            "justify_items": null,
            "left": null,
            "margin": null,
            "max_height": null,
            "max_width": null,
            "min_height": null,
            "min_width": null,
            "object_fit": null,
            "object_position": null,
            "order": null,
            "overflow": null,
            "overflow_x": null,
            "overflow_y": null,
            "padding": null,
            "right": null,
            "top": null,
            "visibility": null,
            "width": null
          }
        },
        "5094ae0eb19943d4857536d5ed2d9d66": {
          "model_module": "@jupyter-widgets/base",
          "model_name": "LayoutModel",
          "model_module_version": "1.2.0",
          "state": {
            "_model_module": "@jupyter-widgets/base",
            "_model_module_version": "1.2.0",
            "_model_name": "LayoutModel",
            "_view_count": null,
            "_view_module": "@jupyter-widgets/base",
            "_view_module_version": "1.2.0",
            "_view_name": "LayoutView",
            "align_content": null,
            "align_items": null,
            "align_self": null,
            "border": null,
            "bottom": null,
            "display": null,
            "flex": null,
            "flex_flow": null,
            "grid_area": null,
            "grid_auto_columns": null,
            "grid_auto_flow": null,
            "grid_auto_rows": null,
            "grid_column": null,
            "grid_gap": null,
            "grid_row": null,
            "grid_template_areas": null,
            "grid_template_columns": null,
            "grid_template_rows": null,
            "height": null,
            "justify_content": null,
            "justify_items": null,
            "left": null,
            "margin": null,
            "max_height": null,
            "max_width": null,
            "min_height": null,
            "min_width": null,
            "object_fit": null,
            "object_position": null,
            "order": null,
            "overflow": null,
            "overflow_x": null,
            "overflow_y": null,
            "padding": null,
            "right": null,
            "top": null,
            "visibility": null,
            "width": null
          }
        },
        "421334b379c34f0e97ec9a427c554840": {
          "model_module": "@jupyter-widgets/controls",
          "model_name": "DescriptionStyleModel",
          "model_module_version": "1.5.0",
          "state": {
            "_model_module": "@jupyter-widgets/controls",
            "_model_module_version": "1.5.0",
            "_model_name": "DescriptionStyleModel",
            "_view_count": null,
            "_view_module": "@jupyter-widgets/base",
            "_view_module_version": "1.2.0",
            "_view_name": "StyleView",
            "description_width": ""
          }
        },
        "42ef1b666a96456bbf9340e36b46a923": {
          "model_module": "@jupyter-widgets/base",
          "model_name": "LayoutModel",
          "model_module_version": "1.2.0",
          "state": {
            "_model_module": "@jupyter-widgets/base",
            "_model_module_version": "1.2.0",
            "_model_name": "LayoutModel",
            "_view_count": null,
            "_view_module": "@jupyter-widgets/base",
            "_view_module_version": "1.2.0",
            "_view_name": "LayoutView",
            "align_content": null,
            "align_items": null,
            "align_self": null,
            "border": null,
            "bottom": null,
            "display": null,
            "flex": null,
            "flex_flow": null,
            "grid_area": null,
            "grid_auto_columns": null,
            "grid_auto_flow": null,
            "grid_auto_rows": null,
            "grid_column": null,
            "grid_gap": null,
            "grid_row": null,
            "grid_template_areas": null,
            "grid_template_columns": null,
            "grid_template_rows": null,
            "height": null,
            "justify_content": null,
            "justify_items": null,
            "left": null,
            "margin": null,
            "max_height": null,
            "max_width": null,
            "min_height": null,
            "min_width": null,
            "object_fit": null,
            "object_position": null,
            "order": null,
            "overflow": null,
            "overflow_x": null,
            "overflow_y": null,
            "padding": null,
            "right": null,
            "top": null,
            "visibility": null,
            "width": null
          }
        },
        "cdddc78f06714c8f9b977facc17832ff": {
          "model_module": "@jupyter-widgets/controls",
          "model_name": "ProgressStyleModel",
          "model_module_version": "1.5.0",
          "state": {
            "_model_module": "@jupyter-widgets/controls",
            "_model_module_version": "1.5.0",
            "_model_name": "ProgressStyleModel",
            "_view_count": null,
            "_view_module": "@jupyter-widgets/base",
            "_view_module_version": "1.2.0",
            "_view_name": "StyleView",
            "bar_color": null,
            "description_width": ""
          }
        },
        "e6fe41e1408848c9b6819bf165a1ca6f": {
          "model_module": "@jupyter-widgets/base",
          "model_name": "LayoutModel",
          "model_module_version": "1.2.0",
          "state": {
            "_model_module": "@jupyter-widgets/base",
            "_model_module_version": "1.2.0",
            "_model_name": "LayoutModel",
            "_view_count": null,
            "_view_module": "@jupyter-widgets/base",
            "_view_module_version": "1.2.0",
            "_view_name": "LayoutView",
            "align_content": null,
            "align_items": null,
            "align_self": null,
            "border": null,
            "bottom": null,
            "display": null,
            "flex": null,
            "flex_flow": null,
            "grid_area": null,
            "grid_auto_columns": null,
            "grid_auto_flow": null,
            "grid_auto_rows": null,
            "grid_column": null,
            "grid_gap": null,
            "grid_row": null,
            "grid_template_areas": null,
            "grid_template_columns": null,
            "grid_template_rows": null,
            "height": null,
            "justify_content": null,
            "justify_items": null,
            "left": null,
            "margin": null,
            "max_height": null,
            "max_width": null,
            "min_height": null,
            "min_width": null,
            "object_fit": null,
            "object_position": null,
            "order": null,
            "overflow": null,
            "overflow_x": null,
            "overflow_y": null,
            "padding": null,
            "right": null,
            "top": null,
            "visibility": null,
            "width": null
          }
        },
        "07c269b6b621430a903b3a72bb6e25af": {
          "model_module": "@jupyter-widgets/controls",
          "model_name": "DescriptionStyleModel",
          "model_module_version": "1.5.0",
          "state": {
            "_model_module": "@jupyter-widgets/controls",
            "_model_module_version": "1.5.0",
            "_model_name": "DescriptionStyleModel",
            "_view_count": null,
            "_view_module": "@jupyter-widgets/base",
            "_view_module_version": "1.2.0",
            "_view_name": "StyleView",
            "description_width": ""
          }
        },
        "c4a2930497724925b11ccee0edd0e672": {
          "model_module": "@jupyter-widgets/controls",
          "model_name": "HBoxModel",
          "model_module_version": "1.5.0",
          "state": {
            "_dom_classes": [],
            "_model_module": "@jupyter-widgets/controls",
            "_model_module_version": "1.5.0",
            "_model_name": "HBoxModel",
            "_view_count": null,
            "_view_module": "@jupyter-widgets/controls",
            "_view_module_version": "1.5.0",
            "_view_name": "HBoxView",
            "box_style": "",
            "children": [
              "IPY_MODEL_a12f28f9f90f40f4a4f03d613b44a63e",
              "IPY_MODEL_1697ded231894b73ad750a68b5ef738b",
              "IPY_MODEL_5f6b7b85eeb24314996df9b30f26cad7"
            ],
            "layout": "IPY_MODEL_be5dce174e30496fbb2643acb80c127f"
          }
        },
        "a12f28f9f90f40f4a4f03d613b44a63e": {
          "model_module": "@jupyter-widgets/controls",
          "model_name": "HTMLModel",
          "model_module_version": "1.5.0",
          "state": {
            "_dom_classes": [],
            "_model_module": "@jupyter-widgets/controls",
            "_model_module_version": "1.5.0",
            "_model_name": "HTMLModel",
            "_view_count": null,
            "_view_module": "@jupyter-widgets/controls",
            "_view_module_version": "1.5.0",
            "_view_name": "HTMLView",
            "description": "",
            "description_tooltip": null,
            "layout": "IPY_MODEL_85e57ab5262443a5a15776b658687cb2",
            "placeholder": "​",
            "style": "IPY_MODEL_6ccf7f6762b748ce8fbf318f1291b847",
            "value": "Downloading (…)/main/tokenizer.json: 100%"
          }
        },
        "1697ded231894b73ad750a68b5ef738b": {
          "model_module": "@jupyter-widgets/controls",
          "model_name": "FloatProgressModel",
          "model_module_version": "1.5.0",
          "state": {
            "_dom_classes": [],
            "_model_module": "@jupyter-widgets/controls",
            "_model_module_version": "1.5.0",
            "_model_name": "FloatProgressModel",
            "_view_count": null,
            "_view_module": "@jupyter-widgets/controls",
            "_view_module_version": "1.5.0",
            "_view_name": "ProgressView",
            "bar_style": "success",
            "description": "",
            "description_tooltip": null,
            "layout": "IPY_MODEL_de76325662594dcf8d9d278a61557cd8",
            "max": 466021,
            "min": 0,
            "orientation": "horizontal",
            "style": "IPY_MODEL_9c0b76f3bb1b4ce7be2ea51193a7abb3",
            "value": 466021
          }
        },
        "5f6b7b85eeb24314996df9b30f26cad7": {
          "model_module": "@jupyter-widgets/controls",
          "model_name": "HTMLModel",
          "model_module_version": "1.5.0",
          "state": {
            "_dom_classes": [],
            "_model_module": "@jupyter-widgets/controls",
            "_model_module_version": "1.5.0",
            "_model_name": "HTMLModel",
            "_view_count": null,
            "_view_module": "@jupyter-widgets/controls",
            "_view_module_version": "1.5.0",
            "_view_name": "HTMLView",
            "description": "",
            "description_tooltip": null,
            "layout": "IPY_MODEL_5322a48fafb3430ea4943a684f37a8e5",
            "placeholder": "​",
            "style": "IPY_MODEL_4cee1bc286f3469baf606945a5b53d42",
            "value": " 466k/466k [00:00&lt;00:00, 736kB/s]"
          }
        },
        "be5dce174e30496fbb2643acb80c127f": {
          "model_module": "@jupyter-widgets/base",
          "model_name": "LayoutModel",
          "model_module_version": "1.2.0",
          "state": {
            "_model_module": "@jupyter-widgets/base",
            "_model_module_version": "1.2.0",
            "_model_name": "LayoutModel",
            "_view_count": null,
            "_view_module": "@jupyter-widgets/base",
            "_view_module_version": "1.2.0",
            "_view_name": "LayoutView",
            "align_content": null,
            "align_items": null,
            "align_self": null,
            "border": null,
            "bottom": null,
            "display": null,
            "flex": null,
            "flex_flow": null,
            "grid_area": null,
            "grid_auto_columns": null,
            "grid_auto_flow": null,
            "grid_auto_rows": null,
            "grid_column": null,
            "grid_gap": null,
            "grid_row": null,
            "grid_template_areas": null,
            "grid_template_columns": null,
            "grid_template_rows": null,
            "height": null,
            "justify_content": null,
            "justify_items": null,
            "left": null,
            "margin": null,
            "max_height": null,
            "max_width": null,
            "min_height": null,
            "min_width": null,
            "object_fit": null,
            "object_position": null,
            "order": null,
            "overflow": null,
            "overflow_x": null,
            "overflow_y": null,
            "padding": null,
            "right": null,
            "top": null,
            "visibility": null,
            "width": null
          }
        },
        "85e57ab5262443a5a15776b658687cb2": {
          "model_module": "@jupyter-widgets/base",
          "model_name": "LayoutModel",
          "model_module_version": "1.2.0",
          "state": {
            "_model_module": "@jupyter-widgets/base",
            "_model_module_version": "1.2.0",
            "_model_name": "LayoutModel",
            "_view_count": null,
            "_view_module": "@jupyter-widgets/base",
            "_view_module_version": "1.2.0",
            "_view_name": "LayoutView",
            "align_content": null,
            "align_items": null,
            "align_self": null,
            "border": null,
            "bottom": null,
            "display": null,
            "flex": null,
            "flex_flow": null,
            "grid_area": null,
            "grid_auto_columns": null,
            "grid_auto_flow": null,
            "grid_auto_rows": null,
            "grid_column": null,
            "grid_gap": null,
            "grid_row": null,
            "grid_template_areas": null,
            "grid_template_columns": null,
            "grid_template_rows": null,
            "height": null,
            "justify_content": null,
            "justify_items": null,
            "left": null,
            "margin": null,
            "max_height": null,
            "max_width": null,
            "min_height": null,
            "min_width": null,
            "object_fit": null,
            "object_position": null,
            "order": null,
            "overflow": null,
            "overflow_x": null,
            "overflow_y": null,
            "padding": null,
            "right": null,
            "top": null,
            "visibility": null,
            "width": null
          }
        },
        "6ccf7f6762b748ce8fbf318f1291b847": {
          "model_module": "@jupyter-widgets/controls",
          "model_name": "DescriptionStyleModel",
          "model_module_version": "1.5.0",
          "state": {
            "_model_module": "@jupyter-widgets/controls",
            "_model_module_version": "1.5.0",
            "_model_name": "DescriptionStyleModel",
            "_view_count": null,
            "_view_module": "@jupyter-widgets/base",
            "_view_module_version": "1.2.0",
            "_view_name": "StyleView",
            "description_width": ""
          }
        },
        "de76325662594dcf8d9d278a61557cd8": {
          "model_module": "@jupyter-widgets/base",
          "model_name": "LayoutModel",
          "model_module_version": "1.2.0",
          "state": {
            "_model_module": "@jupyter-widgets/base",
            "_model_module_version": "1.2.0",
            "_model_name": "LayoutModel",
            "_view_count": null,
            "_view_module": "@jupyter-widgets/base",
            "_view_module_version": "1.2.0",
            "_view_name": "LayoutView",
            "align_content": null,
            "align_items": null,
            "align_self": null,
            "border": null,
            "bottom": null,
            "display": null,
            "flex": null,
            "flex_flow": null,
            "grid_area": null,
            "grid_auto_columns": null,
            "grid_auto_flow": null,
            "grid_auto_rows": null,
            "grid_column": null,
            "grid_gap": null,
            "grid_row": null,
            "grid_template_areas": null,
            "grid_template_columns": null,
            "grid_template_rows": null,
            "height": null,
            "justify_content": null,
            "justify_items": null,
            "left": null,
            "margin": null,
            "max_height": null,
            "max_width": null,
            "min_height": null,
            "min_width": null,
            "object_fit": null,
            "object_position": null,
            "order": null,
            "overflow": null,
            "overflow_x": null,
            "overflow_y": null,
            "padding": null,
            "right": null,
            "top": null,
            "visibility": null,
            "width": null
          }
        },
        "9c0b76f3bb1b4ce7be2ea51193a7abb3": {
          "model_module": "@jupyter-widgets/controls",
          "model_name": "ProgressStyleModel",
          "model_module_version": "1.5.0",
          "state": {
            "_model_module": "@jupyter-widgets/controls",
            "_model_module_version": "1.5.0",
            "_model_name": "ProgressStyleModel",
            "_view_count": null,
            "_view_module": "@jupyter-widgets/base",
            "_view_module_version": "1.2.0",
            "_view_name": "StyleView",
            "bar_color": null,
            "description_width": ""
          }
        },
        "5322a48fafb3430ea4943a684f37a8e5": {
          "model_module": "@jupyter-widgets/base",
          "model_name": "LayoutModel",
          "model_module_version": "1.2.0",
          "state": {
            "_model_module": "@jupyter-widgets/base",
            "_model_module_version": "1.2.0",
            "_model_name": "LayoutModel",
            "_view_count": null,
            "_view_module": "@jupyter-widgets/base",
            "_view_module_version": "1.2.0",
            "_view_name": "LayoutView",
            "align_content": null,
            "align_items": null,
            "align_self": null,
            "border": null,
            "bottom": null,
            "display": null,
            "flex": null,
            "flex_flow": null,
            "grid_area": null,
            "grid_auto_columns": null,
            "grid_auto_flow": null,
            "grid_auto_rows": null,
            "grid_column": null,
            "grid_gap": null,
            "grid_row": null,
            "grid_template_areas": null,
            "grid_template_columns": null,
            "grid_template_rows": null,
            "height": null,
            "justify_content": null,
            "justify_items": null,
            "left": null,
            "margin": null,
            "max_height": null,
            "max_width": null,
            "min_height": null,
            "min_width": null,
            "object_fit": null,
            "object_position": null,
            "order": null,
            "overflow": null,
            "overflow_x": null,
            "overflow_y": null,
            "padding": null,
            "right": null,
            "top": null,
            "visibility": null,
            "width": null
          }
        },
        "4cee1bc286f3469baf606945a5b53d42": {
          "model_module": "@jupyter-widgets/controls",
          "model_name": "DescriptionStyleModel",
          "model_module_version": "1.5.0",
          "state": {
            "_model_module": "@jupyter-widgets/controls",
            "_model_module_version": "1.5.0",
            "_model_name": "DescriptionStyleModel",
            "_view_count": null,
            "_view_module": "@jupyter-widgets/base",
            "_view_module_version": "1.2.0",
            "_view_name": "StyleView",
            "description_width": ""
          }
        },
        "2cf99a47401e49ccba6ab505fc1dbb5b": {
          "model_module": "@jupyter-widgets/controls",
          "model_name": "HBoxModel",
          "model_module_version": "1.5.0",
          "state": {
            "_dom_classes": [],
            "_model_module": "@jupyter-widgets/controls",
            "_model_module_version": "1.5.0",
            "_model_name": "HBoxModel",
            "_view_count": null,
            "_view_module": "@jupyter-widgets/controls",
            "_view_module_version": "1.5.0",
            "_view_name": "HBoxView",
            "box_style": "",
            "children": [
              "IPY_MODEL_e2e68b55f0494ed0a3bf847268e03874",
              "IPY_MODEL_bd0394c492a940eb8828a5b9d67e6920",
              "IPY_MODEL_cf16e0ee3edb48baaffa4c5935ea0be1"
            ],
            "layout": "IPY_MODEL_b4aed9d154cf465bb1ff7b63c7ecad70"
          }
        },
        "e2e68b55f0494ed0a3bf847268e03874": {
          "model_module": "@jupyter-widgets/controls",
          "model_name": "HTMLModel",
          "model_module_version": "1.5.0",
          "state": {
            "_dom_classes": [],
            "_model_module": "@jupyter-widgets/controls",
            "_model_module_version": "1.5.0",
            "_model_name": "HTMLModel",
            "_view_count": null,
            "_view_module": "@jupyter-widgets/controls",
            "_view_module_version": "1.5.0",
            "_view_name": "HTMLView",
            "description": "",
            "description_tooltip": null,
            "layout": "IPY_MODEL_59bef8e1510347a2aa91739eec212d4a",
            "placeholder": "​",
            "style": "IPY_MODEL_1cbee260bb3c4b6f8ac1fccb5b127cd0",
            "value": "Downloading (…)cial_tokens_map.json: 100%"
          }
        },
        "bd0394c492a940eb8828a5b9d67e6920": {
          "model_module": "@jupyter-widgets/controls",
          "model_name": "FloatProgressModel",
          "model_module_version": "1.5.0",
          "state": {
            "_dom_classes": [],
            "_model_module": "@jupyter-widgets/controls",
            "_model_module_version": "1.5.0",
            "_model_name": "FloatProgressModel",
            "_view_count": null,
            "_view_module": "@jupyter-widgets/controls",
            "_view_module_version": "1.5.0",
            "_view_name": "ProgressView",
            "bar_style": "success",
            "description": "",
            "description_tooltip": null,
            "layout": "IPY_MODEL_acdf5e7187ff41439eab39e49898d80c",
            "max": 239,
            "min": 0,
            "orientation": "horizontal",
            "style": "IPY_MODEL_c5f52803100b46d4921dbb863bdedab4",
            "value": 239
          }
        },
        "cf16e0ee3edb48baaffa4c5935ea0be1": {
          "model_module": "@jupyter-widgets/controls",
          "model_name": "HTMLModel",
          "model_module_version": "1.5.0",
          "state": {
            "_dom_classes": [],
            "_model_module": "@jupyter-widgets/controls",
            "_model_module_version": "1.5.0",
            "_model_name": "HTMLModel",
            "_view_count": null,
            "_view_module": "@jupyter-widgets/controls",
            "_view_module_version": "1.5.0",
            "_view_name": "HTMLView",
            "description": "",
            "description_tooltip": null,
            "layout": "IPY_MODEL_9154a9c79bb54a89aa18781ee4b49153",
            "placeholder": "​",
            "style": "IPY_MODEL_16cce047753749b6bd98d6272fb5b085",
            "value": " 239/239 [00:00&lt;00:00, 17.0kB/s]"
          }
        },
        "b4aed9d154cf465bb1ff7b63c7ecad70": {
          "model_module": "@jupyter-widgets/base",
          "model_name": "LayoutModel",
          "model_module_version": "1.2.0",
          "state": {
            "_model_module": "@jupyter-widgets/base",
            "_model_module_version": "1.2.0",
            "_model_name": "LayoutModel",
            "_view_count": null,
            "_view_module": "@jupyter-widgets/base",
            "_view_module_version": "1.2.0",
            "_view_name": "LayoutView",
            "align_content": null,
            "align_items": null,
            "align_self": null,
            "border": null,
            "bottom": null,
            "display": null,
            "flex": null,
            "flex_flow": null,
            "grid_area": null,
            "grid_auto_columns": null,
            "grid_auto_flow": null,
            "grid_auto_rows": null,
            "grid_column": null,
            "grid_gap": null,
            "grid_row": null,
            "grid_template_areas": null,
            "grid_template_columns": null,
            "grid_template_rows": null,
            "height": null,
            "justify_content": null,
            "justify_items": null,
            "left": null,
            "margin": null,
            "max_height": null,
            "max_width": null,
            "min_height": null,
            "min_width": null,
            "object_fit": null,
            "object_position": null,
            "order": null,
            "overflow": null,
            "overflow_x": null,
            "overflow_y": null,
            "padding": null,
            "right": null,
            "top": null,
            "visibility": null,
            "width": null
          }
        },
        "59bef8e1510347a2aa91739eec212d4a": {
          "model_module": "@jupyter-widgets/base",
          "model_name": "LayoutModel",
          "model_module_version": "1.2.0",
          "state": {
            "_model_module": "@jupyter-widgets/base",
            "_model_module_version": "1.2.0",
            "_model_name": "LayoutModel",
            "_view_count": null,
            "_view_module": "@jupyter-widgets/base",
            "_view_module_version": "1.2.0",
            "_view_name": "LayoutView",
            "align_content": null,
            "align_items": null,
            "align_self": null,
            "border": null,
            "bottom": null,
            "display": null,
            "flex": null,
            "flex_flow": null,
            "grid_area": null,
            "grid_auto_columns": null,
            "grid_auto_flow": null,
            "grid_auto_rows": null,
            "grid_column": null,
            "grid_gap": null,
            "grid_row": null,
            "grid_template_areas": null,
            "grid_template_columns": null,
            "grid_template_rows": null,
            "height": null,
            "justify_content": null,
            "justify_items": null,
            "left": null,
            "margin": null,
            "max_height": null,
            "max_width": null,
            "min_height": null,
            "min_width": null,
            "object_fit": null,
            "object_position": null,
            "order": null,
            "overflow": null,
            "overflow_x": null,
            "overflow_y": null,
            "padding": null,
            "right": null,
            "top": null,
            "visibility": null,
            "width": null
          }
        },
        "1cbee260bb3c4b6f8ac1fccb5b127cd0": {
          "model_module": "@jupyter-widgets/controls",
          "model_name": "DescriptionStyleModel",
          "model_module_version": "1.5.0",
          "state": {
            "_model_module": "@jupyter-widgets/controls",
            "_model_module_version": "1.5.0",
            "_model_name": "DescriptionStyleModel",
            "_view_count": null,
            "_view_module": "@jupyter-widgets/base",
            "_view_module_version": "1.2.0",
            "_view_name": "StyleView",
            "description_width": ""
          }
        },
        "acdf5e7187ff41439eab39e49898d80c": {
          "model_module": "@jupyter-widgets/base",
          "model_name": "LayoutModel",
          "model_module_version": "1.2.0",
          "state": {
            "_model_module": "@jupyter-widgets/base",
            "_model_module_version": "1.2.0",
            "_model_name": "LayoutModel",
            "_view_count": null,
            "_view_module": "@jupyter-widgets/base",
            "_view_module_version": "1.2.0",
            "_view_name": "LayoutView",
            "align_content": null,
            "align_items": null,
            "align_self": null,
            "border": null,
            "bottom": null,
            "display": null,
            "flex": null,
            "flex_flow": null,
            "grid_area": null,
            "grid_auto_columns": null,
            "grid_auto_flow": null,
            "grid_auto_rows": null,
            "grid_column": null,
            "grid_gap": null,
            "grid_row": null,
            "grid_template_areas": null,
            "grid_template_columns": null,
            "grid_template_rows": null,
            "height": null,
            "justify_content": null,
            "justify_items": null,
            "left": null,
            "margin": null,
            "max_height": null,
            "max_width": null,
            "min_height": null,
            "min_width": null,
            "object_fit": null,
            "object_position": null,
            "order": null,
            "overflow": null,
            "overflow_x": null,
            "overflow_y": null,
            "padding": null,
            "right": null,
            "top": null,
            "visibility": null,
            "width": null
          }
        },
        "c5f52803100b46d4921dbb863bdedab4": {
          "model_module": "@jupyter-widgets/controls",
          "model_name": "ProgressStyleModel",
          "model_module_version": "1.5.0",
          "state": {
            "_model_module": "@jupyter-widgets/controls",
            "_model_module_version": "1.5.0",
            "_model_name": "ProgressStyleModel",
            "_view_count": null,
            "_view_module": "@jupyter-widgets/base",
            "_view_module_version": "1.2.0",
            "_view_name": "StyleView",
            "bar_color": null,
            "description_width": ""
          }
        },
        "9154a9c79bb54a89aa18781ee4b49153": {
          "model_module": "@jupyter-widgets/base",
          "model_name": "LayoutModel",
          "model_module_version": "1.2.0",
          "state": {
            "_model_module": "@jupyter-widgets/base",
            "_model_module_version": "1.2.0",
            "_model_name": "LayoutModel",
            "_view_count": null,
            "_view_module": "@jupyter-widgets/base",
            "_view_module_version": "1.2.0",
            "_view_name": "LayoutView",
            "align_content": null,
            "align_items": null,
            "align_self": null,
            "border": null,
            "bottom": null,
            "display": null,
            "flex": null,
            "flex_flow": null,
            "grid_area": null,
            "grid_auto_columns": null,
            "grid_auto_flow": null,
            "grid_auto_rows": null,
            "grid_column": null,
            "grid_gap": null,
            "grid_row": null,
            "grid_template_areas": null,
            "grid_template_columns": null,
            "grid_template_rows": null,
            "height": null,
            "justify_content": null,
            "justify_items": null,
            "left": null,
            "margin": null,
            "max_height": null,
            "max_width": null,
            "min_height": null,
            "min_width": null,
            "object_fit": null,
            "object_position": null,
            "order": null,
            "overflow": null,
            "overflow_x": null,
            "overflow_y": null,
            "padding": null,
            "right": null,
            "top": null,
            "visibility": null,
            "width": null
          }
        },
        "16cce047753749b6bd98d6272fb5b085": {
          "model_module": "@jupyter-widgets/controls",
          "model_name": "DescriptionStyleModel",
          "model_module_version": "1.5.0",
          "state": {
            "_model_module": "@jupyter-widgets/controls",
            "_model_module_version": "1.5.0",
            "_model_name": "DescriptionStyleModel",
            "_view_count": null,
            "_view_module": "@jupyter-widgets/base",
            "_view_module_version": "1.2.0",
            "_view_name": "StyleView",
            "description_width": ""
          }
        },
        "5ffe0b14ff4f4c35bcea40af30c875de": {
          "model_module": "@jupyter-widgets/controls",
          "model_name": "HBoxModel",
          "model_module_version": "1.5.0",
          "state": {
            "_dom_classes": [],
            "_model_module": "@jupyter-widgets/controls",
            "_model_module_version": "1.5.0",
            "_model_name": "HBoxModel",
            "_view_count": null,
            "_view_module": "@jupyter-widgets/controls",
            "_view_module_version": "1.5.0",
            "_view_name": "HBoxView",
            "box_style": "",
            "children": [
              "IPY_MODEL_21d2ec8b16364febaf7777ae9e018100",
              "IPY_MODEL_a13aeabaeeb1422189c9573b1a3354b7",
              "IPY_MODEL_05d4a3ad9a594baea69833226bb047fc"
            ],
            "layout": "IPY_MODEL_dafeadbb613f429b95b7338601d00471"
          }
        },
        "21d2ec8b16364febaf7777ae9e018100": {
          "model_module": "@jupyter-widgets/controls",
          "model_name": "HTMLModel",
          "model_module_version": "1.5.0",
          "state": {
            "_dom_classes": [],
            "_model_module": "@jupyter-widgets/controls",
            "_model_module_version": "1.5.0",
            "_model_name": "HTMLModel",
            "_view_count": null,
            "_view_module": "@jupyter-widgets/controls",
            "_view_module_version": "1.5.0",
            "_view_name": "HTMLView",
            "description": "",
            "description_tooltip": null,
            "layout": "IPY_MODEL_bb4e46d47815463eae8998e2f6cba045",
            "placeholder": "​",
            "style": "IPY_MODEL_63515fdde96a470cbd5465c74ba6510d",
            "value": "Downloading (…)lve/main/config.json: 100%"
          }
        },
        "a13aeabaeeb1422189c9573b1a3354b7": {
          "model_module": "@jupyter-widgets/controls",
          "model_name": "FloatProgressModel",
          "model_module_version": "1.5.0",
          "state": {
            "_dom_classes": [],
            "_model_module": "@jupyter-widgets/controls",
            "_model_module_version": "1.5.0",
            "_model_name": "FloatProgressModel",
            "_view_count": null,
            "_view_module": "@jupyter-widgets/controls",
            "_view_module_version": "1.5.0",
            "_view_name": "ProgressView",
            "bar_style": "success",
            "description": "",
            "description_tooltip": null,
            "layout": "IPY_MODEL_c98e937f282e400a9e4348422aaaa600",
            "max": 571,
            "min": 0,
            "orientation": "horizontal",
            "style": "IPY_MODEL_9e8e7f7acefd4ecb89bc4c7b2820973f",
            "value": 571
          }
        },
        "05d4a3ad9a594baea69833226bb047fc": {
          "model_module": "@jupyter-widgets/controls",
          "model_name": "HTMLModel",
          "model_module_version": "1.5.0",
          "state": {
            "_dom_classes": [],
            "_model_module": "@jupyter-widgets/controls",
            "_model_module_version": "1.5.0",
            "_model_name": "HTMLModel",
            "_view_count": null,
            "_view_module": "@jupyter-widgets/controls",
            "_view_module_version": "1.5.0",
            "_view_name": "HTMLView",
            "description": "",
            "description_tooltip": null,
            "layout": "IPY_MODEL_bd04f3623cd64a6a9dd797c84997ecd3",
            "placeholder": "​",
            "style": "IPY_MODEL_265f9558fcef4cb8b9272ad3061a007b",
            "value": " 571/571 [00:00&lt;00:00, 26.2kB/s]"
          }
        },
        "dafeadbb613f429b95b7338601d00471": {
          "model_module": "@jupyter-widgets/base",
          "model_name": "LayoutModel",
          "model_module_version": "1.2.0",
          "state": {
            "_model_module": "@jupyter-widgets/base",
            "_model_module_version": "1.2.0",
            "_model_name": "LayoutModel",
            "_view_count": null,
            "_view_module": "@jupyter-widgets/base",
            "_view_module_version": "1.2.0",
            "_view_name": "LayoutView",
            "align_content": null,
            "align_items": null,
            "align_self": null,
            "border": null,
            "bottom": null,
            "display": null,
            "flex": null,
            "flex_flow": null,
            "grid_area": null,
            "grid_auto_columns": null,
            "grid_auto_flow": null,
            "grid_auto_rows": null,
            "grid_column": null,
            "grid_gap": null,
            "grid_row": null,
            "grid_template_areas": null,
            "grid_template_columns": null,
            "grid_template_rows": null,
            "height": null,
            "justify_content": null,
            "justify_items": null,
            "left": null,
            "margin": null,
            "max_height": null,
            "max_width": null,
            "min_height": null,
            "min_width": null,
            "object_fit": null,
            "object_position": null,
            "order": null,
            "overflow": null,
            "overflow_x": null,
            "overflow_y": null,
            "padding": null,
            "right": null,
            "top": null,
            "visibility": null,
            "width": null
          }
        },
        "bb4e46d47815463eae8998e2f6cba045": {
          "model_module": "@jupyter-widgets/base",
          "model_name": "LayoutModel",
          "model_module_version": "1.2.0",
          "state": {
            "_model_module": "@jupyter-widgets/base",
            "_model_module_version": "1.2.0",
            "_model_name": "LayoutModel",
            "_view_count": null,
            "_view_module": "@jupyter-widgets/base",
            "_view_module_version": "1.2.0",
            "_view_name": "LayoutView",
            "align_content": null,
            "align_items": null,
            "align_self": null,
            "border": null,
            "bottom": null,
            "display": null,
            "flex": null,
            "flex_flow": null,
            "grid_area": null,
            "grid_auto_columns": null,
            "grid_auto_flow": null,
            "grid_auto_rows": null,
            "grid_column": null,
            "grid_gap": null,
            "grid_row": null,
            "grid_template_areas": null,
            "grid_template_columns": null,
            "grid_template_rows": null,
            "height": null,
            "justify_content": null,
            "justify_items": null,
            "left": null,
            "margin": null,
            "max_height": null,
            "max_width": null,
            "min_height": null,
            "min_width": null,
            "object_fit": null,
            "object_position": null,
            "order": null,
            "overflow": null,
            "overflow_x": null,
            "overflow_y": null,
            "padding": null,
            "right": null,
            "top": null,
            "visibility": null,
            "width": null
          }
        },
        "63515fdde96a470cbd5465c74ba6510d": {
          "model_module": "@jupyter-widgets/controls",
          "model_name": "DescriptionStyleModel",
          "model_module_version": "1.5.0",
          "state": {
            "_model_module": "@jupyter-widgets/controls",
            "_model_module_version": "1.5.0",
            "_model_name": "DescriptionStyleModel",
            "_view_count": null,
            "_view_module": "@jupyter-widgets/base",
            "_view_module_version": "1.2.0",
            "_view_name": "StyleView",
            "description_width": ""
          }
        },
        "c98e937f282e400a9e4348422aaaa600": {
          "model_module": "@jupyter-widgets/base",
          "model_name": "LayoutModel",
          "model_module_version": "1.2.0",
          "state": {
            "_model_module": "@jupyter-widgets/base",
            "_model_module_version": "1.2.0",
            "_model_name": "LayoutModel",
            "_view_count": null,
            "_view_module": "@jupyter-widgets/base",
            "_view_module_version": "1.2.0",
            "_view_name": "LayoutView",
            "align_content": null,
            "align_items": null,
            "align_self": null,
            "border": null,
            "bottom": null,
            "display": null,
            "flex": null,
            "flex_flow": null,
            "grid_area": null,
            "grid_auto_columns": null,
            "grid_auto_flow": null,
            "grid_auto_rows": null,
            "grid_column": null,
            "grid_gap": null,
            "grid_row": null,
            "grid_template_areas": null,
            "grid_template_columns": null,
            "grid_template_rows": null,
            "height": null,
            "justify_content": null,
            "justify_items": null,
            "left": null,
            "margin": null,
            "max_height": null,
            "max_width": null,
            "min_height": null,
            "min_width": null,
            "object_fit": null,
            "object_position": null,
            "order": null,
            "overflow": null,
            "overflow_x": null,
            "overflow_y": null,
            "padding": null,
            "right": null,
            "top": null,
            "visibility": null,
            "width": null
          }
        },
        "9e8e7f7acefd4ecb89bc4c7b2820973f": {
          "model_module": "@jupyter-widgets/controls",
          "model_name": "ProgressStyleModel",
          "model_module_version": "1.5.0",
          "state": {
            "_model_module": "@jupyter-widgets/controls",
            "_model_module_version": "1.5.0",
            "_model_name": "ProgressStyleModel",
            "_view_count": null,
            "_view_module": "@jupyter-widgets/base",
            "_view_module_version": "1.2.0",
            "_view_name": "StyleView",
            "bar_color": null,
            "description_width": ""
          }
        },
        "bd04f3623cd64a6a9dd797c84997ecd3": {
          "model_module": "@jupyter-widgets/base",
          "model_name": "LayoutModel",
          "model_module_version": "1.2.0",
          "state": {
            "_model_module": "@jupyter-widgets/base",
            "_model_module_version": "1.2.0",
            "_model_name": "LayoutModel",
            "_view_count": null,
            "_view_module": "@jupyter-widgets/base",
            "_view_module_version": "1.2.0",
            "_view_name": "LayoutView",
            "align_content": null,
            "align_items": null,
            "align_self": null,
            "border": null,
            "bottom": null,
            "display": null,
            "flex": null,
            "flex_flow": null,
            "grid_area": null,
            "grid_auto_columns": null,
            "grid_auto_flow": null,
            "grid_auto_rows": null,
            "grid_column": null,
            "grid_gap": null,
            "grid_row": null,
            "grid_template_areas": null,
            "grid_template_columns": null,
            "grid_template_rows": null,
            "height": null,
            "justify_content": null,
            "justify_items": null,
            "left": null,
            "margin": null,
            "max_height": null,
            "max_width": null,
            "min_height": null,
            "min_width": null,
            "object_fit": null,
            "object_position": null,
            "order": null,
            "overflow": null,
            "overflow_x": null,
            "overflow_y": null,
            "padding": null,
            "right": null,
            "top": null,
            "visibility": null,
            "width": null
          }
        },
        "265f9558fcef4cb8b9272ad3061a007b": {
          "model_module": "@jupyter-widgets/controls",
          "model_name": "DescriptionStyleModel",
          "model_module_version": "1.5.0",
          "state": {
            "_model_module": "@jupyter-widgets/controls",
            "_model_module_version": "1.5.0",
            "_model_name": "DescriptionStyleModel",
            "_view_count": null,
            "_view_module": "@jupyter-widgets/base",
            "_view_module_version": "1.2.0",
            "_view_name": "StyleView",
            "description_width": ""
          }
        },
        "416f66eaea8f40caa97ccd32bb7086f0": {
          "model_module": "@jupyter-widgets/controls",
          "model_name": "HBoxModel",
          "model_module_version": "1.5.0",
          "state": {
            "_dom_classes": [],
            "_model_module": "@jupyter-widgets/controls",
            "_model_module_version": "1.5.0",
            "_model_name": "HBoxModel",
            "_view_count": null,
            "_view_module": "@jupyter-widgets/controls",
            "_view_module_version": "1.5.0",
            "_view_name": "HBoxView",
            "box_style": "",
            "children": [
              "IPY_MODEL_da9e87bdcf2346e49801ea5683472be2",
              "IPY_MODEL_6aaef39f77f448a5b5d3ab4147f01c92",
              "IPY_MODEL_9f97a59b30d34390bdcebc419524a968"
            ],
            "layout": "IPY_MODEL_0497e660c9cf4356aa8220f0799a2e06"
          }
        },
        "da9e87bdcf2346e49801ea5683472be2": {
          "model_module": "@jupyter-widgets/controls",
          "model_name": "HTMLModel",
          "model_module_version": "1.5.0",
          "state": {
            "_dom_classes": [],
            "_model_module": "@jupyter-widgets/controls",
            "_model_module_version": "1.5.0",
            "_model_name": "HTMLModel",
            "_view_count": null,
            "_view_module": "@jupyter-widgets/controls",
            "_view_module_version": "1.5.0",
            "_view_name": "HTMLView",
            "description": "",
            "description_tooltip": null,
            "layout": "IPY_MODEL_d379160919414dfba2ae34337155533b",
            "placeholder": "​",
            "style": "IPY_MODEL_f919e6ac2c1847b987dba47040475c8a",
            "value": "Downloading pytorch_model.bin: 100%"
          }
        },
        "6aaef39f77f448a5b5d3ab4147f01c92": {
          "model_module": "@jupyter-widgets/controls",
          "model_name": "FloatProgressModel",
          "model_module_version": "1.5.0",
          "state": {
            "_dom_classes": [],
            "_model_module": "@jupyter-widgets/controls",
            "_model_module_version": "1.5.0",
            "_model_name": "FloatProgressModel",
            "_view_count": null,
            "_view_module": "@jupyter-widgets/controls",
            "_view_module_version": "1.5.0",
            "_view_name": "ProgressView",
            "bar_style": "success",
            "description": "",
            "description_tooltip": null,
            "layout": "IPY_MODEL_3ec0a63426474a56888e577a5031d4a1",
            "max": 438011953,
            "min": 0,
            "orientation": "horizontal",
            "style": "IPY_MODEL_fe9895d6b556410885f5a5817597b833",
            "value": 438011953
          }
        },
        "9f97a59b30d34390bdcebc419524a968": {
          "model_module": "@jupyter-widgets/controls",
          "model_name": "HTMLModel",
          "model_module_version": "1.5.0",
          "state": {
            "_dom_classes": [],
            "_model_module": "@jupyter-widgets/controls",
            "_model_module_version": "1.5.0",
            "_model_name": "HTMLModel",
            "_view_count": null,
            "_view_module": "@jupyter-widgets/controls",
            "_view_module_version": "1.5.0",
            "_view_name": "HTMLView",
            "description": "",
            "description_tooltip": null,
            "layout": "IPY_MODEL_627e7d20df694b7693ea82a83e7345f9",
            "placeholder": "​",
            "style": "IPY_MODEL_4d087f371a9a4ef1bb89104aeb9dd481",
            "value": " 438M/438M [00:02&lt;00:00, 134MB/s]"
          }
        },
        "0497e660c9cf4356aa8220f0799a2e06": {
          "model_module": "@jupyter-widgets/base",
          "model_name": "LayoutModel",
          "model_module_version": "1.2.0",
          "state": {
            "_model_module": "@jupyter-widgets/base",
            "_model_module_version": "1.2.0",
            "_model_name": "LayoutModel",
            "_view_count": null,
            "_view_module": "@jupyter-widgets/base",
            "_view_module_version": "1.2.0",
            "_view_name": "LayoutView",
            "align_content": null,
            "align_items": null,
            "align_self": null,
            "border": null,
            "bottom": null,
            "display": null,
            "flex": null,
            "flex_flow": null,
            "grid_area": null,
            "grid_auto_columns": null,
            "grid_auto_flow": null,
            "grid_auto_rows": null,
            "grid_column": null,
            "grid_gap": null,
            "grid_row": null,
            "grid_template_areas": null,
            "grid_template_columns": null,
            "grid_template_rows": null,
            "height": null,
            "justify_content": null,
            "justify_items": null,
            "left": null,
            "margin": null,
            "max_height": null,
            "max_width": null,
            "min_height": null,
            "min_width": null,
            "object_fit": null,
            "object_position": null,
            "order": null,
            "overflow": null,
            "overflow_x": null,
            "overflow_y": null,
            "padding": null,
            "right": null,
            "top": null,
            "visibility": null,
            "width": null
          }
        },
        "d379160919414dfba2ae34337155533b": {
          "model_module": "@jupyter-widgets/base",
          "model_name": "LayoutModel",
          "model_module_version": "1.2.0",
          "state": {
            "_model_module": "@jupyter-widgets/base",
            "_model_module_version": "1.2.0",
            "_model_name": "LayoutModel",
            "_view_count": null,
            "_view_module": "@jupyter-widgets/base",
            "_view_module_version": "1.2.0",
            "_view_name": "LayoutView",
            "align_content": null,
            "align_items": null,
            "align_self": null,
            "border": null,
            "bottom": null,
            "display": null,
            "flex": null,
            "flex_flow": null,
            "grid_area": null,
            "grid_auto_columns": null,
            "grid_auto_flow": null,
            "grid_auto_rows": null,
            "grid_column": null,
            "grid_gap": null,
            "grid_row": null,
            "grid_template_areas": null,
            "grid_template_columns": null,
            "grid_template_rows": null,
            "height": null,
            "justify_content": null,
            "justify_items": null,
            "left": null,
            "margin": null,
            "max_height": null,
            "max_width": null,
            "min_height": null,
            "min_width": null,
            "object_fit": null,
            "object_position": null,
            "order": null,
            "overflow": null,
            "overflow_x": null,
            "overflow_y": null,
            "padding": null,
            "right": null,
            "top": null,
            "visibility": null,
            "width": null
          }
        },
        "f919e6ac2c1847b987dba47040475c8a": {
          "model_module": "@jupyter-widgets/controls",
          "model_name": "DescriptionStyleModel",
          "model_module_version": "1.5.0",
          "state": {
            "_model_module": "@jupyter-widgets/controls",
            "_model_module_version": "1.5.0",
            "_model_name": "DescriptionStyleModel",
            "_view_count": null,
            "_view_module": "@jupyter-widgets/base",
            "_view_module_version": "1.2.0",
            "_view_name": "StyleView",
            "description_width": ""
          }
        },
        "3ec0a63426474a56888e577a5031d4a1": {
          "model_module": "@jupyter-widgets/base",
          "model_name": "LayoutModel",
          "model_module_version": "1.2.0",
          "state": {
            "_model_module": "@jupyter-widgets/base",
            "_model_module_version": "1.2.0",
            "_model_name": "LayoutModel",
            "_view_count": null,
            "_view_module": "@jupyter-widgets/base",
            "_view_module_version": "1.2.0",
            "_view_name": "LayoutView",
            "align_content": null,
            "align_items": null,
            "align_self": null,
            "border": null,
            "bottom": null,
            "display": null,
            "flex": null,
            "flex_flow": null,
            "grid_area": null,
            "grid_auto_columns": null,
            "grid_auto_flow": null,
            "grid_auto_rows": null,
            "grid_column": null,
            "grid_gap": null,
            "grid_row": null,
            "grid_template_areas": null,
            "grid_template_columns": null,
            "grid_template_rows": null,
            "height": null,
            "justify_content": null,
            "justify_items": null,
            "left": null,
            "margin": null,
            "max_height": null,
            "max_width": null,
            "min_height": null,
            "min_width": null,
            "object_fit": null,
            "object_position": null,
            "order": null,
            "overflow": null,
            "overflow_x": null,
            "overflow_y": null,
            "padding": null,
            "right": null,
            "top": null,
            "visibility": null,
            "width": null
          }
        },
        "fe9895d6b556410885f5a5817597b833": {
          "model_module": "@jupyter-widgets/controls",
          "model_name": "ProgressStyleModel",
          "model_module_version": "1.5.0",
          "state": {
            "_model_module": "@jupyter-widgets/controls",
            "_model_module_version": "1.5.0",
            "_model_name": "ProgressStyleModel",
            "_view_count": null,
            "_view_module": "@jupyter-widgets/base",
            "_view_module_version": "1.2.0",
            "_view_name": "StyleView",
            "bar_color": null,
            "description_width": ""
          }
        },
        "627e7d20df694b7693ea82a83e7345f9": {
          "model_module": "@jupyter-widgets/base",
          "model_name": "LayoutModel",
          "model_module_version": "1.2.0",
          "state": {
            "_model_module": "@jupyter-widgets/base",
            "_model_module_version": "1.2.0",
            "_model_name": "LayoutModel",
            "_view_count": null,
            "_view_module": "@jupyter-widgets/base",
            "_view_module_version": "1.2.0",
            "_view_name": "LayoutView",
            "align_content": null,
            "align_items": null,
            "align_self": null,
            "border": null,
            "bottom": null,
            "display": null,
            "flex": null,
            "flex_flow": null,
            "grid_area": null,
            "grid_auto_columns": null,
            "grid_auto_flow": null,
            "grid_auto_rows": null,
            "grid_column": null,
            "grid_gap": null,
            "grid_row": null,
            "grid_template_areas": null,
            "grid_template_columns": null,
            "grid_template_rows": null,
            "height": null,
            "justify_content": null,
            "justify_items": null,
            "left": null,
            "margin": null,
            "max_height": null,
            "max_width": null,
            "min_height": null,
            "min_width": null,
            "object_fit": null,
            "object_position": null,
            "order": null,
            "overflow": null,
            "overflow_x": null,
            "overflow_y": null,
            "padding": null,
            "right": null,
            "top": null,
            "visibility": null,
            "width": null
          }
        },
        "4d087f371a9a4ef1bb89104aeb9dd481": {
          "model_module": "@jupyter-widgets/controls",
          "model_name": "DescriptionStyleModel",
          "model_module_version": "1.5.0",
          "state": {
            "_model_module": "@jupyter-widgets/controls",
            "_model_module_version": "1.5.0",
            "_model_name": "DescriptionStyleModel",
            "_view_count": null,
            "_view_module": "@jupyter-widgets/base",
            "_view_module_version": "1.2.0",
            "_view_name": "StyleView",
            "description_width": ""
          }
        },
        "fb23723de6bd40ef843a3dd9319b14a7": {
          "model_module": "@jupyter-widgets/controls",
          "model_name": "HBoxModel",
          "model_module_version": "1.5.0",
          "state": {
            "_dom_classes": [],
            "_model_module": "@jupyter-widgets/controls",
            "_model_module_version": "1.5.0",
            "_model_name": "HBoxModel",
            "_view_count": null,
            "_view_module": "@jupyter-widgets/controls",
            "_view_module_version": "1.5.0",
            "_view_name": "HBoxView",
            "box_style": "",
            "children": [
              "IPY_MODEL_b704fd8999b543308b3eaba83ff548d7",
              "IPY_MODEL_4edb30256d9144d3a4c9d0de649d3208",
              "IPY_MODEL_a8e7ab96deba4a25b23799f3713573c7"
            ],
            "layout": "IPY_MODEL_26b6a6335dea4527b8df676f9690dd26"
          }
        },
        "b704fd8999b543308b3eaba83ff548d7": {
          "model_module": "@jupyter-widgets/controls",
          "model_name": "HTMLModel",
          "model_module_version": "1.5.0",
          "state": {
            "_dom_classes": [],
            "_model_module": "@jupyter-widgets/controls",
            "_model_module_version": "1.5.0",
            "_model_name": "HTMLModel",
            "_view_count": null,
            "_view_module": "@jupyter-widgets/controls",
            "_view_module_version": "1.5.0",
            "_view_name": "HTMLView",
            "description": "",
            "description_tooltip": null,
            "layout": "IPY_MODEL_2874356fc4124b3db3e7ec8f1bff0804",
            "placeholder": "​",
            "style": "IPY_MODEL_7612064ac7da4d2096bd301600cb3a02",
            "value": "Map: 100%"
          }
        },
        "4edb30256d9144d3a4c9d0de649d3208": {
          "model_module": "@jupyter-widgets/controls",
          "model_name": "FloatProgressModel",
          "model_module_version": "1.5.0",
          "state": {
            "_dom_classes": [],
            "_model_module": "@jupyter-widgets/controls",
            "_model_module_version": "1.5.0",
            "_model_name": "FloatProgressModel",
            "_view_count": null,
            "_view_module": "@jupyter-widgets/controls",
            "_view_module_version": "1.5.0",
            "_view_name": "ProgressView",
            "bar_style": "",
            "description": "",
            "description_tooltip": null,
            "layout": "IPY_MODEL_3ceb94705a1e413db938444d10da13b3",
            "max": 2175,
            "min": 0,
            "orientation": "horizontal",
            "style": "IPY_MODEL_08ae9cfb8af3432b99322a572069a97f",
            "value": 2175
          }
        },
        "a8e7ab96deba4a25b23799f3713573c7": {
          "model_module": "@jupyter-widgets/controls",
          "model_name": "HTMLModel",
          "model_module_version": "1.5.0",
          "state": {
            "_dom_classes": [],
            "_model_module": "@jupyter-widgets/controls",
            "_model_module_version": "1.5.0",
            "_model_name": "HTMLModel",
            "_view_count": null,
            "_view_module": "@jupyter-widgets/controls",
            "_view_module_version": "1.5.0",
            "_view_name": "HTMLView",
            "description": "",
            "description_tooltip": null,
            "layout": "IPY_MODEL_02fb1888745246e9a39158dc5e2bebf6",
            "placeholder": "​",
            "style": "IPY_MODEL_ac2ce5ebeb334c778a3fac9c660c3e42",
            "value": " 2175/2175 [01:21&lt;00:00, 34.81 examples/s]"
          }
        },
        "26b6a6335dea4527b8df676f9690dd26": {
          "model_module": "@jupyter-widgets/base",
          "model_name": "LayoutModel",
          "model_module_version": "1.2.0",
          "state": {
            "_model_module": "@jupyter-widgets/base",
            "_model_module_version": "1.2.0",
            "_model_name": "LayoutModel",
            "_view_count": null,
            "_view_module": "@jupyter-widgets/base",
            "_view_module_version": "1.2.0",
            "_view_name": "LayoutView",
            "align_content": null,
            "align_items": null,
            "align_self": null,
            "border": null,
            "bottom": null,
            "display": null,
            "flex": null,
            "flex_flow": null,
            "grid_area": null,
            "grid_auto_columns": null,
            "grid_auto_flow": null,
            "grid_auto_rows": null,
            "grid_column": null,
            "grid_gap": null,
            "grid_row": null,
            "grid_template_areas": null,
            "grid_template_columns": null,
            "grid_template_rows": null,
            "height": null,
            "justify_content": null,
            "justify_items": null,
            "left": null,
            "margin": null,
            "max_height": null,
            "max_width": null,
            "min_height": null,
            "min_width": null,
            "object_fit": null,
            "object_position": null,
            "order": null,
            "overflow": null,
            "overflow_x": null,
            "overflow_y": null,
            "padding": null,
            "right": null,
            "top": null,
            "visibility": "hidden",
            "width": null
          }
        },
        "2874356fc4124b3db3e7ec8f1bff0804": {
          "model_module": "@jupyter-widgets/base",
          "model_name": "LayoutModel",
          "model_module_version": "1.2.0",
          "state": {
            "_model_module": "@jupyter-widgets/base",
            "_model_module_version": "1.2.0",
            "_model_name": "LayoutModel",
            "_view_count": null,
            "_view_module": "@jupyter-widgets/base",
            "_view_module_version": "1.2.0",
            "_view_name": "LayoutView",
            "align_content": null,
            "align_items": null,
            "align_self": null,
            "border": null,
            "bottom": null,
            "display": null,
            "flex": null,
            "flex_flow": null,
            "grid_area": null,
            "grid_auto_columns": null,
            "grid_auto_flow": null,
            "grid_auto_rows": null,
            "grid_column": null,
            "grid_gap": null,
            "grid_row": null,
            "grid_template_areas": null,
            "grid_template_columns": null,
            "grid_template_rows": null,
            "height": null,
            "justify_content": null,
            "justify_items": null,
            "left": null,
            "margin": null,
            "max_height": null,
            "max_width": null,
            "min_height": null,
            "min_width": null,
            "object_fit": null,
            "object_position": null,
            "order": null,
            "overflow": null,
            "overflow_x": null,
            "overflow_y": null,
            "padding": null,
            "right": null,
            "top": null,
            "visibility": null,
            "width": null
          }
        },
        "7612064ac7da4d2096bd301600cb3a02": {
          "model_module": "@jupyter-widgets/controls",
          "model_name": "DescriptionStyleModel",
          "model_module_version": "1.5.0",
          "state": {
            "_model_module": "@jupyter-widgets/controls",
            "_model_module_version": "1.5.0",
            "_model_name": "DescriptionStyleModel",
            "_view_count": null,
            "_view_module": "@jupyter-widgets/base",
            "_view_module_version": "1.2.0",
            "_view_name": "StyleView",
            "description_width": ""
          }
        },
        "3ceb94705a1e413db938444d10da13b3": {
          "model_module": "@jupyter-widgets/base",
          "model_name": "LayoutModel",
          "model_module_version": "1.2.0",
          "state": {
            "_model_module": "@jupyter-widgets/base",
            "_model_module_version": "1.2.0",
            "_model_name": "LayoutModel",
            "_view_count": null,
            "_view_module": "@jupyter-widgets/base",
            "_view_module_version": "1.2.0",
            "_view_name": "LayoutView",
            "align_content": null,
            "align_items": null,
            "align_self": null,
            "border": null,
            "bottom": null,
            "display": null,
            "flex": null,
            "flex_flow": null,
            "grid_area": null,
            "grid_auto_columns": null,
            "grid_auto_flow": null,
            "grid_auto_rows": null,
            "grid_column": null,
            "grid_gap": null,
            "grid_row": null,
            "grid_template_areas": null,
            "grid_template_columns": null,
            "grid_template_rows": null,
            "height": null,
            "justify_content": null,
            "justify_items": null,
            "left": null,
            "margin": null,
            "max_height": null,
            "max_width": null,
            "min_height": null,
            "min_width": null,
            "object_fit": null,
            "object_position": null,
            "order": null,
            "overflow": null,
            "overflow_x": null,
            "overflow_y": null,
            "padding": null,
            "right": null,
            "top": null,
            "visibility": null,
            "width": null
          }
        },
        "08ae9cfb8af3432b99322a572069a97f": {
          "model_module": "@jupyter-widgets/controls",
          "model_name": "ProgressStyleModel",
          "model_module_version": "1.5.0",
          "state": {
            "_model_module": "@jupyter-widgets/controls",
            "_model_module_version": "1.5.0",
            "_model_name": "ProgressStyleModel",
            "_view_count": null,
            "_view_module": "@jupyter-widgets/base",
            "_view_module_version": "1.2.0",
            "_view_name": "StyleView",
            "bar_color": null,
            "description_width": ""
          }
        },
        "02fb1888745246e9a39158dc5e2bebf6": {
          "model_module": "@jupyter-widgets/base",
          "model_name": "LayoutModel",
          "model_module_version": "1.2.0",
          "state": {
            "_model_module": "@jupyter-widgets/base",
            "_model_module_version": "1.2.0",
            "_model_name": "LayoutModel",
            "_view_count": null,
            "_view_module": "@jupyter-widgets/base",
            "_view_module_version": "1.2.0",
            "_view_name": "LayoutView",
            "align_content": null,
            "align_items": null,
            "align_self": null,
            "border": null,
            "bottom": null,
            "display": null,
            "flex": null,
            "flex_flow": null,
            "grid_area": null,
            "grid_auto_columns": null,
            "grid_auto_flow": null,
            "grid_auto_rows": null,
            "grid_column": null,
            "grid_gap": null,
            "grid_row": null,
            "grid_template_areas": null,
            "grid_template_columns": null,
            "grid_template_rows": null,
            "height": null,
            "justify_content": null,
            "justify_items": null,
            "left": null,
            "margin": null,
            "max_height": null,
            "max_width": null,
            "min_height": null,
            "min_width": null,
            "object_fit": null,
            "object_position": null,
            "order": null,
            "overflow": null,
            "overflow_x": null,
            "overflow_y": null,
            "padding": null,
            "right": null,
            "top": null,
            "visibility": null,
            "width": null
          }
        },
        "ac2ce5ebeb334c778a3fac9c660c3e42": {
          "model_module": "@jupyter-widgets/controls",
          "model_name": "DescriptionStyleModel",
          "model_module_version": "1.5.0",
          "state": {
            "_model_module": "@jupyter-widgets/controls",
            "_model_module_version": "1.5.0",
            "_model_name": "DescriptionStyleModel",
            "_view_count": null,
            "_view_module": "@jupyter-widgets/base",
            "_view_module_version": "1.2.0",
            "_view_name": "StyleView",
            "description_width": ""
          }
        },
        "e98a15630a29400ea6992223db78ba49": {
          "model_module": "@jupyter-widgets/controls",
          "model_name": "HBoxModel",
          "model_module_version": "1.5.0",
          "state": {
            "_dom_classes": [],
            "_model_module": "@jupyter-widgets/controls",
            "_model_module_version": "1.5.0",
            "_model_name": "HBoxModel",
            "_view_count": null,
            "_view_module": "@jupyter-widgets/controls",
            "_view_module_version": "1.5.0",
            "_view_name": "HBoxView",
            "box_style": "",
            "children": [
              "IPY_MODEL_569a0eabd41e4acaaa61a10d93a667c6",
              "IPY_MODEL_30fbdf43d6634760b346f5019e5c6757",
              "IPY_MODEL_52f3274e9929409891547feea0638a2b"
            ],
            "layout": "IPY_MODEL_d7daad1495b846a491cc747efe903a68"
          }
        },
        "569a0eabd41e4acaaa61a10d93a667c6": {
          "model_module": "@jupyter-widgets/controls",
          "model_name": "HTMLModel",
          "model_module_version": "1.5.0",
          "state": {
            "_dom_classes": [],
            "_model_module": "@jupyter-widgets/controls",
            "_model_module_version": "1.5.0",
            "_model_name": "HTMLModel",
            "_view_count": null,
            "_view_module": "@jupyter-widgets/controls",
            "_view_module_version": "1.5.0",
            "_view_name": "HTMLView",
            "description": "",
            "description_tooltip": null,
            "layout": "IPY_MODEL_cebecdfb3e5c412d86abf86d286a8a7d",
            "placeholder": "​",
            "style": "IPY_MODEL_050236d8d1bd409fbaca5ad088a282cd",
            "value": "100%"
          }
        },
        "30fbdf43d6634760b346f5019e5c6757": {
          "model_module": "@jupyter-widgets/controls",
          "model_name": "FloatProgressModel",
          "model_module_version": "1.5.0",
          "state": {
            "_dom_classes": [],
            "_model_module": "@jupyter-widgets/controls",
            "_model_module_version": "1.5.0",
            "_model_name": "FloatProgressModel",
            "_view_count": null,
            "_view_module": "@jupyter-widgets/controls",
            "_view_module_version": "1.5.0",
            "_view_name": "ProgressView",
            "bar_style": "success",
            "description": "",
            "description_tooltip": null,
            "layout": "IPY_MODEL_7f1eb626c5654d2f92a10936bc36475d",
            "max": 3,
            "min": 0,
            "orientation": "horizontal",
            "style": "IPY_MODEL_27f7765d072a48c6a874b5ccfb83f78f",
            "value": 3
          }
        },
        "52f3274e9929409891547feea0638a2b": {
          "model_module": "@jupyter-widgets/controls",
          "model_name": "HTMLModel",
          "model_module_version": "1.5.0",
          "state": {
            "_dom_classes": [],
            "_model_module": "@jupyter-widgets/controls",
            "_model_module_version": "1.5.0",
            "_model_name": "HTMLModel",
            "_view_count": null,
            "_view_module": "@jupyter-widgets/controls",
            "_view_module_version": "1.5.0",
            "_view_name": "HTMLView",
            "description": "",
            "description_tooltip": null,
            "layout": "IPY_MODEL_cc3e44d0788d4fc29087c0cb84ae8809",
            "placeholder": "​",
            "style": "IPY_MODEL_41cf001c8939499191e0b106f1582036",
            "value": " 3/3 [00:00&lt;00:00, 52.20it/s]"
          }
        },
        "d7daad1495b846a491cc747efe903a68": {
          "model_module": "@jupyter-widgets/base",
          "model_name": "LayoutModel",
          "model_module_version": "1.2.0",
          "state": {
            "_model_module": "@jupyter-widgets/base",
            "_model_module_version": "1.2.0",
            "_model_name": "LayoutModel",
            "_view_count": null,
            "_view_module": "@jupyter-widgets/base",
            "_view_module_version": "1.2.0",
            "_view_name": "LayoutView",
            "align_content": null,
            "align_items": null,
            "align_self": null,
            "border": null,
            "bottom": null,
            "display": null,
            "flex": null,
            "flex_flow": null,
            "grid_area": null,
            "grid_auto_columns": null,
            "grid_auto_flow": null,
            "grid_auto_rows": null,
            "grid_column": null,
            "grid_gap": null,
            "grid_row": null,
            "grid_template_areas": null,
            "grid_template_columns": null,
            "grid_template_rows": null,
            "height": null,
            "justify_content": null,
            "justify_items": null,
            "left": null,
            "margin": null,
            "max_height": null,
            "max_width": null,
            "min_height": null,
            "min_width": null,
            "object_fit": null,
            "object_position": null,
            "order": null,
            "overflow": null,
            "overflow_x": null,
            "overflow_y": null,
            "padding": null,
            "right": null,
            "top": null,
            "visibility": null,
            "width": null
          }
        },
        "cebecdfb3e5c412d86abf86d286a8a7d": {
          "model_module": "@jupyter-widgets/base",
          "model_name": "LayoutModel",
          "model_module_version": "1.2.0",
          "state": {
            "_model_module": "@jupyter-widgets/base",
            "_model_module_version": "1.2.0",
            "_model_name": "LayoutModel",
            "_view_count": null,
            "_view_module": "@jupyter-widgets/base",
            "_view_module_version": "1.2.0",
            "_view_name": "LayoutView",
            "align_content": null,
            "align_items": null,
            "align_self": null,
            "border": null,
            "bottom": null,
            "display": null,
            "flex": null,
            "flex_flow": null,
            "grid_area": null,
            "grid_auto_columns": null,
            "grid_auto_flow": null,
            "grid_auto_rows": null,
            "grid_column": null,
            "grid_gap": null,
            "grid_row": null,
            "grid_template_areas": null,
            "grid_template_columns": null,
            "grid_template_rows": null,
            "height": null,
            "justify_content": null,
            "justify_items": null,
            "left": null,
            "margin": null,
            "max_height": null,
            "max_width": null,
            "min_height": null,
            "min_width": null,
            "object_fit": null,
            "object_position": null,
            "order": null,
            "overflow": null,
            "overflow_x": null,
            "overflow_y": null,
            "padding": null,
            "right": null,
            "top": null,
            "visibility": null,
            "width": null
          }
        },
        "050236d8d1bd409fbaca5ad088a282cd": {
          "model_module": "@jupyter-widgets/controls",
          "model_name": "DescriptionStyleModel",
          "model_module_version": "1.5.0",
          "state": {
            "_model_module": "@jupyter-widgets/controls",
            "_model_module_version": "1.5.0",
            "_model_name": "DescriptionStyleModel",
            "_view_count": null,
            "_view_module": "@jupyter-widgets/base",
            "_view_module_version": "1.2.0",
            "_view_name": "StyleView",
            "description_width": ""
          }
        },
        "7f1eb626c5654d2f92a10936bc36475d": {
          "model_module": "@jupyter-widgets/base",
          "model_name": "LayoutModel",
          "model_module_version": "1.2.0",
          "state": {
            "_model_module": "@jupyter-widgets/base",
            "_model_module_version": "1.2.0",
            "_model_name": "LayoutModel",
            "_view_count": null,
            "_view_module": "@jupyter-widgets/base",
            "_view_module_version": "1.2.0",
            "_view_name": "LayoutView",
            "align_content": null,
            "align_items": null,
            "align_self": null,
            "border": null,
            "bottom": null,
            "display": null,
            "flex": null,
            "flex_flow": null,
            "grid_area": null,
            "grid_auto_columns": null,
            "grid_auto_flow": null,
            "grid_auto_rows": null,
            "grid_column": null,
            "grid_gap": null,
            "grid_row": null,
            "grid_template_areas": null,
            "grid_template_columns": null,
            "grid_template_rows": null,
            "height": null,
            "justify_content": null,
            "justify_items": null,
            "left": null,
            "margin": null,
            "max_height": null,
            "max_width": null,
            "min_height": null,
            "min_width": null,
            "object_fit": null,
            "object_position": null,
            "order": null,
            "overflow": null,
            "overflow_x": null,
            "overflow_y": null,
            "padding": null,
            "right": null,
            "top": null,
            "visibility": null,
            "width": null
          }
        },
        "27f7765d072a48c6a874b5ccfb83f78f": {
          "model_module": "@jupyter-widgets/controls",
          "model_name": "ProgressStyleModel",
          "model_module_version": "1.5.0",
          "state": {
            "_model_module": "@jupyter-widgets/controls",
            "_model_module_version": "1.5.0",
            "_model_name": "ProgressStyleModel",
            "_view_count": null,
            "_view_module": "@jupyter-widgets/base",
            "_view_module_version": "1.2.0",
            "_view_name": "StyleView",
            "bar_color": null,
            "description_width": ""
          }
        },
        "cc3e44d0788d4fc29087c0cb84ae8809": {
          "model_module": "@jupyter-widgets/base",
          "model_name": "LayoutModel",
          "model_module_version": "1.2.0",
          "state": {
            "_model_module": "@jupyter-widgets/base",
            "_model_module_version": "1.2.0",
            "_model_name": "LayoutModel",
            "_view_count": null,
            "_view_module": "@jupyter-widgets/base",
            "_view_module_version": "1.2.0",
            "_view_name": "LayoutView",
            "align_content": null,
            "align_items": null,
            "align_self": null,
            "border": null,
            "bottom": null,
            "display": null,
            "flex": null,
            "flex_flow": null,
            "grid_area": null,
            "grid_auto_columns": null,
            "grid_auto_flow": null,
            "grid_auto_rows": null,
            "grid_column": null,
            "grid_gap": null,
            "grid_row": null,
            "grid_template_areas": null,
            "grid_template_columns": null,
            "grid_template_rows": null,
            "height": null,
            "justify_content": null,
            "justify_items": null,
            "left": null,
            "margin": null,
            "max_height": null,
            "max_width": null,
            "min_height": null,
            "min_width": null,
            "object_fit": null,
            "object_position": null,
            "order": null,
            "overflow": null,
            "overflow_x": null,
            "overflow_y": null,
            "padding": null,
            "right": null,
            "top": null,
            "visibility": null,
            "width": null
          }
        },
        "41cf001c8939499191e0b106f1582036": {
          "model_module": "@jupyter-widgets/controls",
          "model_name": "DescriptionStyleModel",
          "model_module_version": "1.5.0",
          "state": {
            "_model_module": "@jupyter-widgets/controls",
            "_model_module_version": "1.5.0",
            "_model_name": "DescriptionStyleModel",
            "_view_count": null,
            "_view_module": "@jupyter-widgets/base",
            "_view_module_version": "1.2.0",
            "_view_name": "StyleView",
            "description_width": ""
          }
        }
      }
    },
    "accelerator": "GPU",
    "gpuClass": "standard"
  },
  "nbformat": 4,
  "nbformat_minor": 0
}